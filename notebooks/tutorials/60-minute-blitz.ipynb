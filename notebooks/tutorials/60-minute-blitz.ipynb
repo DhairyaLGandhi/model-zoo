{
 "cells": [
  {
   "cell_type": "code",
   "execution_count": 1,
   "metadata": {},
   "outputs": [
    {
     "name": "stdout",
     "output_type": "stream",
     "text": [
      "  Updating registry at `~/.julia/registries/General`\n",
      "  Updating git-repo `https://github.com/JuliaRegistries/General.git`\n",
      "\u001b[?25l\u001b[2K\u001b[?25h Installed Adapt ──────────── v0.4.0\n",
      " Installed Compat ─────────── v1.3.0\n",
      " Installed SpecialFunctions ─ v0.7.1\n",
      " Installed StaticArrays ───── v0.9.1\n",
      " Installed ForwardDiff ────── v0.10.0\n",
      " Installed Flux ───────────── v0.6.8\n",
      "  Building SpecialFunctions → `~/.julia/packages/SpecialFunctions/sXbz6/deps/build.log`\n"
     ]
    }
   ],
   "source": [
    "using Pkg; Pkg.activate(\".\"); Pkg.instantiate();"
   ]
  },
  {
   "cell_type": "markdown",
   "metadata": {},
   "source": [
    "Deep Learning with Flux: A 60 Minute Blitz\n",
    "====================="
   ]
  },
  {
   "cell_type": "markdown",
   "metadata": {},
   "source": [
    "This is a quick intro to [Flux](https://github.com/FluxML/Flux.jl) loosely\n",
    "based on [PyTorch's\n",
    "tutorial](https://pytorch.org/tutorials/beginner/deep_learning_60min_blitz.html).\n",
    "It introduces basic Julia programming, as well as Flux's automatic\n",
    "differentiation (AD), which we'll use to build machine learning models. We'll\n",
    "use this to build a very simple neural network."
   ]
  },
  {
   "cell_type": "markdown",
   "metadata": {},
   "source": [
    "Arrays\n",
    "-------"
   ]
  },
  {
   "cell_type": "markdown",
   "metadata": {},
   "source": [
    "The starting point for all of our models is the `Array` (sometimes referred to\n",
    "as a `Tensor` in other frameworks). This is really just a list of numbers,\n",
    "which might be arranged into a shape like a square. Let's write down an array\n",
    "with three elements."
   ]
  },
  {
   "cell_type": "code",
   "execution_count": 2,
   "metadata": {},
   "outputs": [
    {
     "data": {
      "text/plain": [
       "3-element Array{Int64,1}:\n",
       " 1\n",
       " 2\n",
       " 3"
      ]
     },
     "execution_count": 2,
     "metadata": {},
     "output_type": "execute_result"
    }
   ],
   "source": [
    "x = [1, 2, 3]"
   ]
  },
  {
   "cell_type": "markdown",
   "metadata": {},
   "source": [
    "Here's a matrix – a square array with four elements."
   ]
  },
  {
   "cell_type": "code",
   "execution_count": 3,
   "metadata": {},
   "outputs": [
    {
     "data": {
      "text/plain": [
       "2×2 Array{Int64,2}:\n",
       " 1  2\n",
       " 3  4"
      ]
     },
     "execution_count": 3,
     "metadata": {},
     "output_type": "execute_result"
    }
   ],
   "source": [
    "x = [1 2; 3 4]"
   ]
  },
  {
   "cell_type": "markdown",
   "metadata": {},
   "source": [
    "We often work with arrays of thousands of elements, and don't usually write\n",
    "them down by hand. Here's how we can create an array of 5×3 = 15 elements,\n",
    "each a random number from zero to one."
   ]
  },
  {
   "cell_type": "code",
   "execution_count": 4,
   "metadata": {},
   "outputs": [
    {
     "data": {
      "text/plain": [
       "5×3 Array{Float64,2}:\n",
       " 0.235191   0.199408  0.678128\n",
       " 0.541358   0.321405  0.771729\n",
       " 0.0140719  0.572822  0.212853\n",
       " 0.276631   0.367418  0.77131 \n",
       " 0.0242593  0.678996  0.740179"
      ]
     },
     "execution_count": 4,
     "metadata": {},
     "output_type": "execute_result"
    }
   ],
   "source": [
    "x = rand(5, 3)"
   ]
  },
  {
   "cell_type": "markdown",
   "metadata": {},
   "source": [
    "There's a few functions like this; try replacing `rand` with `ones`, `zeros`,\n",
    "or `randn` to see what they do."
   ]
  },
  {
   "cell_type": "markdown",
   "metadata": {},
   "source": [
    "By default, Julia works stores numbers is a high-precision format called\n",
    "`Float64`. In ML we often don't need all those digits, and can ask Julia to\n",
    "work with `Float32` instead. We can even ask for more digits using `BigFloat`."
   ]
  },
  {
   "cell_type": "code",
   "execution_count": 5,
   "metadata": {},
   "outputs": [
    {
     "data": {
      "text/plain": [
       "5×3 Array{BigFloat,2}:\n",
       " 9.14732e-01  5.01332e-01  5.96429e-01\n",
       " 2.09742e-01  4.91112e-01  9.07722e-01\n",
       " 9.17872e-01  4.13105e-01  3.88356e-01\n",
       " 3.84251e-01  7.75879e-01  7.67142e-02\n",
       " 9.47119e-01  4.00892e-01  3.18108e-01"
      ]
     },
     "execution_count": 5,
     "metadata": {},
     "output_type": "execute_result"
    }
   ],
   "source": [
    "x = rand(BigFloat, 5, 3)"
   ]
  },
  {
   "cell_type": "code",
   "execution_count": 6,
   "metadata": {},
   "outputs": [
    {
     "data": {
      "text/plain": [
       "5×3 Array{Float32,2}:\n",
       " 0.255267   0.3593    0.803596\n",
       " 0.941981   0.537916  0.668473\n",
       " 0.588489   0.873691  0.288548\n",
       " 0.782991   0.67958   0.858299\n",
       " 0.0474998  0.144007  0.464887"
      ]
     },
     "execution_count": 6,
     "metadata": {},
     "output_type": "execute_result"
    }
   ],
   "source": [
    "x = rand(Float32, 5, 3)"
   ]
  },
  {
   "cell_type": "markdown",
   "metadata": {},
   "source": [
    "We can ask the array how many elements it has."
   ]
  },
  {
   "cell_type": "code",
   "execution_count": 7,
   "metadata": {},
   "outputs": [
    {
     "data": {
      "text/plain": [
       "15"
      ]
     },
     "execution_count": 7,
     "metadata": {},
     "output_type": "execute_result"
    }
   ],
   "source": [
    "length(x)"
   ]
  },
  {
   "cell_type": "markdown",
   "metadata": {},
   "source": [
    "Or, more specifically, what size it has."
   ]
  },
  {
   "cell_type": "code",
   "execution_count": 8,
   "metadata": {},
   "outputs": [
    {
     "data": {
      "text/plain": [
       "(5, 3)"
      ]
     },
     "execution_count": 8,
     "metadata": {},
     "output_type": "execute_result"
    }
   ],
   "source": [
    "size(x)"
   ]
  },
  {
   "cell_type": "markdown",
   "metadata": {},
   "source": [
    "We sometimes want to see some elements of the array on their own."
   ]
  },
  {
   "cell_type": "code",
   "execution_count": 9,
   "metadata": {},
   "outputs": [
    {
     "data": {
      "text/plain": [
       "5×3 Array{Float32,2}:\n",
       " 0.255267   0.3593    0.803596\n",
       " 0.941981   0.537916  0.668473\n",
       " 0.588489   0.873691  0.288548\n",
       " 0.782991   0.67958   0.858299\n",
       " 0.0474998  0.144007  0.464887"
      ]
     },
     "execution_count": 9,
     "metadata": {},
     "output_type": "execute_result"
    }
   ],
   "source": [
    "x"
   ]
  },
  {
   "cell_type": "code",
   "execution_count": 10,
   "metadata": {},
   "outputs": [
    {
     "data": {
      "text/plain": [
       "0.66847277f0"
      ]
     },
     "execution_count": 10,
     "metadata": {},
     "output_type": "execute_result"
    }
   ],
   "source": [
    "x[2, 3]"
   ]
  },
  {
   "cell_type": "markdown",
   "metadata": {},
   "source": [
    "This means get the second row and the third column. We can also get every row\n",
    "of the third column."
   ]
  },
  {
   "cell_type": "code",
   "execution_count": 11,
   "metadata": {},
   "outputs": [
    {
     "data": {
      "text/plain": [
       "5-element Array{Float32,1}:\n",
       " 0.80359554\n",
       " 0.66847277\n",
       " 0.28854823\n",
       " 0.8582989 \n",
       " 0.46488714"
      ]
     },
     "execution_count": 11,
     "metadata": {},
     "output_type": "execute_result"
    }
   ],
   "source": [
    "x[:, 3]"
   ]
  },
  {
   "cell_type": "markdown",
   "metadata": {},
   "source": [
    "We can add arrays, and subtract them, which adds or subtracts each element of\n",
    "the array."
   ]
  },
  {
   "cell_type": "code",
   "execution_count": 12,
   "metadata": {},
   "outputs": [
    {
     "data": {
      "text/plain": [
       "5×3 Array{Float32,2}:\n",
       " 0.510534   0.718599  1.60719 \n",
       " 1.88396    1.07583   1.33695 \n",
       " 1.17698    1.74738   0.577096\n",
       " 1.56598    1.35916   1.7166  \n",
       " 0.0949996  0.288014  0.929774"
      ]
     },
     "execution_count": 12,
     "metadata": {},
     "output_type": "execute_result"
    }
   ],
   "source": [
    "x + x"
   ]
  },
  {
   "cell_type": "code",
   "execution_count": 13,
   "metadata": {},
   "outputs": [
    {
     "data": {
      "text/plain": [
       "5×3 Array{Float32,2}:\n",
       " 0.0  0.0  0.0\n",
       " 0.0  0.0  0.0\n",
       " 0.0  0.0  0.0\n",
       " 0.0  0.0  0.0\n",
       " 0.0  0.0  0.0"
      ]
     },
     "execution_count": 13,
     "metadata": {},
     "output_type": "execute_result"
    }
   ],
   "source": [
    "x - x"
   ]
  },
  {
   "cell_type": "markdown",
   "metadata": {},
   "source": [
    "Julia supports a feature called *broadcasting*, using the `.` syntax. This\n",
    "tiles small arrays (or single numbers) to fill bigger ones."
   ]
  },
  {
   "cell_type": "code",
   "execution_count": 14,
   "metadata": {},
   "outputs": [
    {
     "data": {
      "text/plain": [
       "5×3 Array{Float32,2}:\n",
       " 1.25527  1.3593   1.8036 \n",
       " 1.94198  1.53792  1.66847\n",
       " 1.58849  1.87369  1.28855\n",
       " 1.78299  1.67958  1.8583 \n",
       " 1.0475   1.14401  1.46489"
      ]
     },
     "execution_count": 14,
     "metadata": {},
     "output_type": "execute_result"
    }
   ],
   "source": [
    "x .+ 1"
   ]
  },
  {
   "cell_type": "markdown",
   "metadata": {},
   "source": [
    "We can see Julia tile the column vector `1:5` across all rows of the larger\n",
    "array."
   ]
  },
  {
   "cell_type": "code",
   "execution_count": 15,
   "metadata": {},
   "outputs": [
    {
     "data": {
      "text/plain": [
       "5×5 Array{Float64,2}:\n",
       " 1.0  1.0  1.0  1.0  1.0\n",
       " 2.0  2.0  2.0  2.0  2.0\n",
       " 3.0  3.0  3.0  3.0  3.0\n",
       " 4.0  4.0  4.0  4.0  4.0\n",
       " 5.0  5.0  5.0  5.0  5.0"
      ]
     },
     "execution_count": 15,
     "metadata": {},
     "output_type": "execute_result"
    }
   ],
   "source": [
    "zeros(5,5) .+ (1:5)"
   ]
  },
  {
   "cell_type": "markdown",
   "metadata": {},
   "source": [
    "The x' syntax is used to transpose a column `1:5` into an equivalent row, and\n",
    "Julia will tile that across columns."
   ]
  },
  {
   "cell_type": "code",
   "execution_count": 16,
   "metadata": {},
   "outputs": [
    {
     "data": {
      "text/plain": [
       "5×5 Array{Float64,2}:\n",
       " 1.0  2.0  3.0  4.0  5.0\n",
       " 1.0  2.0  3.0  4.0  5.0\n",
       " 1.0  2.0  3.0  4.0  5.0\n",
       " 1.0  2.0  3.0  4.0  5.0\n",
       " 1.0  2.0  3.0  4.0  5.0"
      ]
     },
     "execution_count": 16,
     "metadata": {},
     "output_type": "execute_result"
    }
   ],
   "source": [
    "zeros(5,5) .+ (1:5)'"
   ]
  },
  {
   "cell_type": "markdown",
   "metadata": {},
   "source": [
    "We can use this to make a times table."
   ]
  },
  {
   "cell_type": "code",
   "execution_count": 17,
   "metadata": {},
   "outputs": [
    {
     "data": {
      "text/plain": [
       "5×5 Array{Int64,2}:\n",
       " 1   2   3   4   5\n",
       " 2   4   6   8  10\n",
       " 3   6   9  12  15\n",
       " 4   8  12  16  20\n",
       " 5  10  15  20  25"
      ]
     },
     "execution_count": 17,
     "metadata": {},
     "output_type": "execute_result"
    }
   ],
   "source": [
    "(1:5) .* (1:5)'"
   ]
  },
  {
   "cell_type": "markdown",
   "metadata": {},
   "source": [
    "Finally, and importantly for machine learning, we can conveniently do things like\n",
    "matrix multiply."
   ]
  },
  {
   "cell_type": "code",
   "execution_count": 18,
   "metadata": {},
   "outputs": [
    {
     "data": {
      "text/plain": [
       "5-element Array{Float64,1}:\n",
       "  0.4412423496417188\n",
       "  0.7211509855721309\n",
       " -2.674496439299549 \n",
       "  1.5088700322596038\n",
       "  2.104635483288166 "
      ]
     },
     "execution_count": 18,
     "metadata": {},
     "output_type": "execute_result"
    }
   ],
   "source": [
    "W = randn(5, 10)\n",
    "x = rand(10)\n",
    "W * x"
   ]
  },
  {
   "cell_type": "markdown",
   "metadata": {},
   "source": [
    "Julia's arrays are very powerful, and you can learn more about what they can\n",
    "do [here](https://docs.julialang.org/en/v1/manual/arrays/)."
   ]
  },
  {
   "cell_type": "markdown",
   "metadata": {},
   "source": [
    "### CUDA Arrays"
   ]
  },
  {
   "cell_type": "markdown",
   "metadata": {},
   "source": [
    "CUDA functionality is provided separately by the [CuArrays\n",
    "package](https://github.com/JuliaGPU/CuArrays.jl). If you have a GPU and CUDA\n",
    "available, you can run `] add CuArrays` in a REPL or IJulia to get it."
   ]
  },
  {
   "cell_type": "markdown",
   "metadata": {},
   "source": [
    "Once CuArrays is loaded you can move any array to the GPU with the `cu`\n",
    "function, and it supports all of the above operations with the same syntax."
   ]
  },
  {
   "cell_type": "code",
   "execution_count": 19,
   "metadata": {},
   "outputs": [],
   "source": [
    "#using CuArrays\n",
    "# x = cu(rand(5, 3))"
   ]
  },
  {
   "cell_type": "markdown",
   "metadata": {},
   "source": [
    "Automatic Differentiation\n",
    "-------------------------"
   ]
  },
  {
   "cell_type": "markdown",
   "metadata": {},
   "source": [
    "You probably learned to take derivatives in school. We start with a simple\n",
    "mathematical function like"
   ]
  },
  {
   "cell_type": "code",
   "execution_count": 20,
   "metadata": {},
   "outputs": [
    {
     "data": {
      "text/plain": [
       "86"
      ]
     },
     "execution_count": 20,
     "metadata": {},
     "output_type": "execute_result"
    }
   ],
   "source": [
    "f(x) = 3x^2 + 2x + 1\n",
    "\n",
    "f(5)"
   ]
  },
  {
   "cell_type": "markdown",
   "metadata": {},
   "source": [
    "In simple cases it's pretty easy to work out the gradient by hand – here it's\n",
    "`6x+2`. But it's much easier to make Flux do the work for us!"
   ]
  },
  {
   "cell_type": "code",
   "execution_count": 21,
   "metadata": {},
   "outputs": [
    {
     "data": {
      "text/plain": [
       "32.0 (tracked)"
      ]
     },
     "execution_count": 21,
     "metadata": {},
     "output_type": "execute_result"
    }
   ],
   "source": [
    "using Flux.Tracker: derivative\n",
    "\n",
    "df(x) = derivative(f, x)\n",
    "\n",
    "df(5)"
   ]
  },
  {
   "cell_type": "markdown",
   "metadata": {},
   "source": [
    "You can try this with a few different inputs to make sure it's really the same\n",
    "as `6x+2`. We can even do this multiple times (but the second derivative is a\n",
    "fairly boring `6`)."
   ]
  },
  {
   "cell_type": "code",
   "execution_count": 22,
   "metadata": {},
   "outputs": [
    {
     "data": {
      "text/plain": [
       "6.0 (tracked)"
      ]
     },
     "execution_count": 22,
     "metadata": {},
     "output_type": "execute_result"
    }
   ],
   "source": [
    "ddf(x) = derivative(df, x)\n",
    "\n",
    "ddf(5)"
   ]
  },
  {
   "cell_type": "markdown",
   "metadata": {},
   "source": [
    "Flux's AD can handle any Julia code you throw at it, including loops,\n",
    "recursion and custom layers, so long as the mathematical functions you call\n",
    "are differentiable. For example, we can differentiate a Taylor approximation\n",
    "to the `sin` function."
   ]
  },
  {
   "cell_type": "code",
   "execution_count": 23,
   "metadata": {},
   "outputs": [
    {
     "data": {
      "text/plain": [
       "(0.4794255386041834, 0.8775825618898637 (tracked))"
      ]
     },
     "execution_count": 23,
     "metadata": {},
     "output_type": "execute_result"
    }
   ],
   "source": [
    "mysin(x) = sum((-1)^k*x^(1+2k)/factorial(1+2k) for k in 0:5)\n",
    "\n",
    "x = 0.5\n",
    "\n",
    "mysin(x), derivative(mysin, x)"
   ]
  },
  {
   "cell_type": "code",
   "execution_count": 24,
   "metadata": {},
   "outputs": [
    {
     "data": {
      "text/plain": [
       "(0.479425538604203, 0.8775825618903728)"
      ]
     },
     "execution_count": 24,
     "metadata": {},
     "output_type": "execute_result"
    }
   ],
   "source": [
    "sin(x), cos(x)"
   ]
  },
  {
   "cell_type": "markdown",
   "metadata": {},
   "source": [
    "You can see that the derivative we calculated is very close to `cos(x)`, as we\n",
    "expect."
   ]
  },
  {
   "cell_type": "markdown",
   "metadata": {},
   "source": [
    "This gets more interesting when we consider functions that take *arrays* as\n",
    "inputs, rather than just a single number. For example, here's a function that\n",
    "takes a matrix and two vectors (the definition itself is arbitrary)"
   ]
  },
  {
   "cell_type": "code",
   "execution_count": 25,
   "metadata": {},
   "outputs": [
    {
     "data": {
      "text/plain": [
       "(Flux.Tracker.TrackedReal{Float64}[0.791151 (tracked) 0.0901694 (tracked) … 0.0116059 (tracked) 0.612178 (tracked); 0.791151 (tracked) 0.0901694 (tracked) … 0.0116059 (tracked) 0.612178 (tracked); 0.791151 (tracked) 0.0901694 (tracked) … 0.0116059 (tracked) 0.612178 (tracked)], Flux.Tracker.TrackedReal{Float64}[1.0 (tracked), 1.0 (tracked), 1.0 (tracked)], Flux.Tracker.TrackedReal{Float64}[3.58823 (tracked), 0.656771 (tracked), 0.988093 (tracked), -0.317437 (tracked), 3.08113 (tracked)])"
      ]
     },
     "execution_count": 25,
     "metadata": {},
     "output_type": "execute_result"
    }
   ],
   "source": [
    "using Flux.Tracker: gradient\n",
    "\n",
    "myloss(W, b, x) = sum(W * x .+ b)\n",
    "\n",
    "W = randn(3, 5)\n",
    "b = zeros(3)\n",
    "x = rand(5)\n",
    "\n",
    "gradient(myloss, W, b, x)"
   ]
  },
  {
   "cell_type": "markdown",
   "metadata": {},
   "source": [
    "Now we get gradients for each of the inputs `W`, `b` and `x`, which will come\n",
    "in handy when we want to train models."
   ]
  },
  {
   "cell_type": "markdown",
   "metadata": {},
   "source": [
    "Because ML models can contain hundreds of parameters, Flux provides a slightly\n",
    "different way of writing `gradient`. We instead mark arrays with `param` to\n",
    "indicate that we want their derivatives."
   ]
  },
  {
   "cell_type": "code",
   "execution_count": 26,
   "metadata": {},
   "outputs": [
    {
     "data": {
      "text/plain": [
       "0.704990287538036 (tracked)"
      ]
     },
     "execution_count": 26,
     "metadata": {},
     "output_type": "execute_result"
    }
   ],
   "source": [
    "using Flux.Tracker: param, back!, grad\n",
    "\n",
    "W = param(randn(3, 5))\n",
    "b = param(zeros(3))\n",
    "x = rand(5)\n",
    "\n",
    "y = sum(W * x .+ b)"
   ]
  },
  {
   "cell_type": "markdown",
   "metadata": {},
   "source": [
    "Anything marked `param` becomes *tracked*, indicating that Flux keeping an eye\n",
    "on its gradient. We can now call"
   ]
  },
  {
   "cell_type": "code",
   "execution_count": 27,
   "metadata": {},
   "outputs": [
    {
     "data": {
      "text/plain": [
       "([0.498501 0.793961 … 0.968552 0.968621; 0.498501 0.793961 … 0.968552 0.968621; 0.498501 0.793961 … 0.968552 0.968621], [1.0, 1.0, 1.0])"
      ]
     },
     "execution_count": 27,
     "metadata": {},
     "output_type": "execute_result"
    }
   ],
   "source": [
    "back!(y) # Run backpropagation\n",
    "\n",
    "grad(W), grad(b)"
   ]
  },
  {
   "cell_type": "markdown",
   "metadata": {},
   "source": [
    "We can now grab the gradients of `W` and `b` directly from those parameters."
   ]
  },
  {
   "cell_type": "markdown",
   "metadata": {},
   "source": [
    "This comes in handy when working with *layers*. A layer is just a handy\n",
    "container for some parameters. For example, `Dense` does a linear transform\n",
    "for you."
   ]
  },
  {
   "cell_type": "code",
   "execution_count": 28,
   "metadata": {},
   "outputs": [
    {
     "data": {
      "text/plain": [
       "Tracked 5-element Array{Float64,1}:\n",
       "  0.2116432868503058  \n",
       "  0.5503366583782249  \n",
       "  0.4415243106995927  \n",
       "  0.40653200184721167 \n",
       " -0.016813293258632997"
      ]
     },
     "execution_count": 28,
     "metadata": {},
     "output_type": "execute_result"
    }
   ],
   "source": [
    "using Flux\n",
    "\n",
    "m = Dense(10, 5)\n",
    "\n",
    "x = rand(10)\n",
    "\n",
    "m(x)"
   ]
  },
  {
   "cell_type": "code",
   "execution_count": 29,
   "metadata": {},
   "outputs": [
    {
     "data": {
      "text/plain": [
       "true"
      ]
     },
     "execution_count": 29,
     "metadata": {},
     "output_type": "execute_result"
    }
   ],
   "source": [
    "m(x) == m.W * x .+ m.b"
   ]
  },
  {
   "cell_type": "markdown",
   "metadata": {},
   "source": [
    "We can easily get the parameters of any layer or model with params with\n",
    "`params`."
   ]
  },
  {
   "cell_type": "code",
   "execution_count": 30,
   "metadata": {},
   "outputs": [
    {
     "data": {
      "text/plain": [
       "2-element Array{Any,1}:\n",
       " Flux.Tracker.TrackedReal{Float64}[0.370221 (tracked) 0.242663 (tracked) … 0.478084 (tracked) 0.19404 (tracked); 0.583133 (tracked) -0.0196383 (tracked) … -0.421909 (tracked) -0.590144 (tracked); … ; 0.267234 (tracked) -0.436362 (tracked) … -0.212825 (tracked) -0.207647 (tracked); 0.526019 (tracked) 0.387505 (tracked) … -0.35565 (tracked) -0.345277 (tracked)]\n",
       " Flux.Tracker.TrackedReal{Float64}[0.0 (tracked), 0.0 (tracked), 0.0 (tracked), 0.0 (tracked), 0.0 (tracked)]                                                                                                                                                                                                                                                            "
      ]
     },
     "execution_count": 30,
     "metadata": {},
     "output_type": "execute_result"
    }
   ],
   "source": [
    "params(m)"
   ]
  },
  {
   "cell_type": "markdown",
   "metadata": {},
   "source": [
    "This makes it very easy to do backpropagation and get the gradient for all\n",
    "parameters in a network, even if it has many parameters."
   ]
  },
  {
   "cell_type": "code",
   "execution_count": 31,
   "metadata": {},
   "outputs": [
    {
     "data": {
      "text/plain": [
       "4-element Array{Array{Float64,N} where N,1}:\n",
       " [0.000558462 0.000254322 … 0.000641503 0.000918226; 0.0 0.0 … 0.0 0.0; … ; -0.000359224 -0.00016359 … -0.000412639 -0.000590638; 6.01219e-5 2.73794e-5 … 6.90617e-5 9.88526e-5]\n",
       " [0.00547642, 0.0, 0.0, -0.00352264, 0.000589571]                                                                                                                               \n",
       " [-0.00134023 0.0 … -0.00230052 -0.00559793; 0.00134023 0.0 … 0.00230052 0.00559793]                                                                                            \n",
       " [-0.00859058, 0.00859058]                                                                                                                                                      "
      ]
     },
     "execution_count": 31,
     "metadata": {},
     "output_type": "execute_result"
    }
   ],
   "source": [
    "m = Chain(Dense(10, 5, relu), Dense(5, 2), softmax)\n",
    "\n",
    "l = sum(Flux.crossentropy(m(x), [0.5, 0.5]))\n",
    "back!(l)\n",
    "\n",
    "grad.(params(m))"
   ]
  },
  {
   "cell_type": "markdown",
   "metadata": {},
   "source": [
    "You don't have to use layers, but they can be convient for many simple kinds\n",
    "of models."
   ]
  }
 ],
 "metadata": {
  "kernelspec": {
   "display_name": "Julia 1.0.0",
   "language": "julia",
   "name": "julia-1.0"
  },
  "language_info": {
   "file_extension": ".jl",
   "mimetype": "application/julia",
   "name": "julia",
   "version": "1.0.0"
  }
 },
 "nbformat": 4,
 "nbformat_minor": 3
}
