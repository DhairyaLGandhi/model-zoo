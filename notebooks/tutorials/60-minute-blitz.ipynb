{
 "cells": [
  {
   "outputs": [
    {
     "name": "stdout",
     "output_type": "stream",
     "text": [
      "    Status `~/temp/model-zoo/Project.toml`\n",
      "  [1520ce14]   AbstractTrees v0.2.1\n",
      "  [fbb218c0] ↑ BSON v0.2.3 ⇒ v0.2.4\n",
      "  [54eefc05]   Cascadia v0.4.0\n",
      "  [8f4d0f93]   Conda v1.3.0\n",
      "  [864edb3b] ↑ DataStructures v0.17.0 ⇒ v0.17.5\n",
      "  [31c24e10] ↑ Distributions v0.21.3 ⇒ v0.21.5\n",
      "  [587475ba]   Flux v0.9.0\n",
      "  [708ec375]   Gumbo v0.5.1\n",
      "  [b0807396]   Gym v1.1.3\n",
      "  [cd3eb016] ↑ HTTP v0.8.6 ⇒ v0.8.7\n",
      "  [6218d12a]   ImageMagick v0.7.5\n",
      "  [916415d5]   Images v0.18.0\n",
      "  [e5e0dc1b]   Juno v0.7.2\n",
      "  [ca7b5df7]   MFCC v0.3.1\n",
      "  [dbeba491] + Metalhead v0.4.0 #c4d1eba (https://github.com/FluxML/Metalhead.jl.git)\n",
      "  [91a5bcdd] ↑ Plots v0.26.3 ⇒ v0.27.0\n",
      "  [2913bbd2]   StatsBase v0.32.0\n",
      "  [98b73d46]   Trebuchet v0.1.0\n",
      "  [8149f6b0] ↑ WAV v1.0.2 ⇒ v1.0.3\n",
      "  [10745b16]   Statistics \n",
      "  [4ec0a83e]   Unicode \n"
     ]
    }
   ],
   "cell_type": "code",
   "source": [
    "using Pkg; Pkg.activate(\"/home/dhairyagandhi96/temp/model-zoo/script/..\"); Pkg.status();"
   ],
   "metadata": {},
   "execution_count": 1
  },
  {
   "outputs": [],
   "cell_type": "markdown",
   "source": [
    "Deep Learning with Flux: A 60 Minute Blitz\n",
    "====================="
   ],
   "metadata": {}
  },
  {
   "outputs": [],
   "cell_type": "markdown",
   "source": [
    "This is a quick intro to [Flux](https://github.com/FluxML/Flux.jl) loosely\n",
    "based on [PyTorch's\n",
    "tutorial](https://pytorch.org/tutorials/beginner/deep_learning_60min_blitz.html).\n",
    "It introduces basic Julia programming, as well as Flux's automatic\n",
    "differentiation (AD), which we'll use to build machine learning models. We'll\n",
    "use this to build a very simple neural network."
   ],
   "metadata": {}
  },
  {
   "outputs": [],
   "cell_type": "markdown",
   "source": [
    "Arrays\n",
    "-------"
   ],
   "metadata": {}
  },
  {
   "outputs": [],
   "cell_type": "markdown",
   "source": [
    "The starting point for all of our models is the `Array` (sometimes referred to\n",
    "as a `Tensor` in other frameworks). This is really just a list of numbers,\n",
    "which might be arranged into a shape like a square. Let's write down an array\n",
    "with three elements."
   ],
   "metadata": {}
  },
  {
   "outputs": [
    {
     "output_type": "execute_result",
     "data": {
      "text/plain": "3-element Array{Int64,1}:\n 1\n 2\n 3"
     },
     "metadata": {},
     "execution_count": 2
    }
   ],
   "cell_type": "code",
   "source": [
    "x = [1, 2, 3]"
   ],
   "metadata": {},
   "execution_count": 2
  },
  {
   "outputs": [],
   "cell_type": "markdown",
   "source": [
    "Here's a matrix – a square array with four elements."
   ],
   "metadata": {}
  },
  {
   "outputs": [
    {
     "output_type": "execute_result",
     "data": {
      "text/plain": "2×2 Array{Int64,2}:\n 1  2\n 3  4"
     },
     "metadata": {},
     "execution_count": 3
    }
   ],
   "cell_type": "code",
   "source": [
    "x = [1 2; 3 4]"
   ],
   "metadata": {},
   "execution_count": 3
  },
  {
   "outputs": [],
   "cell_type": "markdown",
   "source": [
    "We often work with arrays of thousands of elements, and don't usually write\n",
    "them down by hand. Here's how we can create an array of 5×3 = 15 elements,\n",
    "each a random number from zero to one."
   ],
   "metadata": {}
  },
  {
   "outputs": [
    {
     "output_type": "execute_result",
     "data": {
      "text/plain": "5×3 Array{Float64,2}:\n 0.314756   0.376296  0.547376\n 0.997692   0.428444  0.802106\n 0.873177   0.13091   0.937117\n 0.234788   0.68169   0.239593\n 0.0713249  0.530053  0.698805"
     },
     "metadata": {},
     "execution_count": 4
    }
   ],
   "cell_type": "code",
   "source": [
    "x = rand(5, 3)"
   ],
   "metadata": {},
   "execution_count": 4
  },
  {
   "outputs": [],
   "cell_type": "markdown",
   "source": [
    "There's a few functions like this; try replacing `rand` with `ones`, `zeros`,\n",
    "or `randn` to see what they do."
   ],
   "metadata": {}
  },
  {
   "outputs": [],
   "cell_type": "markdown",
   "source": [
    "By default, Julia works stores numbers is a high-precision format called\n",
    "`Float64`. In ML we often don't need all those digits, and can ask Julia to\n",
    "work with `Float32` instead. We can even ask for more digits using `BigFloat`."
   ],
   "metadata": {}
  },
  {
   "outputs": [
    {
     "output_type": "execute_result",
     "data": {
      "text/plain": "5×3 Array{BigFloat,2}:\n 0.866437  0.905824  0.127161\n 0.657515  0.475191  0.912335\n 0.292584  0.36587   0.464819\n 0.922609  0.681581  0.621058\n 0.705246  0.880376  0.897961"
     },
     "metadata": {},
     "execution_count": 5
    }
   ],
   "cell_type": "code",
   "source": [
    "x = rand(BigFloat, 5, 3)"
   ],
   "metadata": {},
   "execution_count": 5
  },
  {
   "outputs": [
    {
     "output_type": "execute_result",
     "data": {
      "text/plain": "5×3 Array{Float32,2}:\n 0.255317  0.556587  0.966125\n 0.563024  0.532851  0.217162\n 0.850266  0.157827  0.52388 \n 0.767827  0.816424  0.787822\n 0.952749  0.543761  0.270594"
     },
     "metadata": {},
     "execution_count": 6
    }
   ],
   "cell_type": "code",
   "source": [
    "x = rand(Float32, 5, 3)"
   ],
   "metadata": {},
   "execution_count": 6
  },
  {
   "outputs": [],
   "cell_type": "markdown",
   "source": [
    "We can ask the array how many elements it has."
   ],
   "metadata": {}
  },
  {
   "outputs": [
    {
     "output_type": "execute_result",
     "data": {
      "text/plain": "15"
     },
     "metadata": {},
     "execution_count": 7
    }
   ],
   "cell_type": "code",
   "source": [
    "length(x)"
   ],
   "metadata": {},
   "execution_count": 7
  },
  {
   "outputs": [],
   "cell_type": "markdown",
   "source": [
    "Or, more specifically, what size it has."
   ],
   "metadata": {}
  },
  {
   "outputs": [
    {
     "output_type": "execute_result",
     "data": {
      "text/plain": "(5, 3)"
     },
     "metadata": {},
     "execution_count": 8
    }
   ],
   "cell_type": "code",
   "source": [
    "size(x)"
   ],
   "metadata": {},
   "execution_count": 8
  },
  {
   "outputs": [],
   "cell_type": "markdown",
   "source": [
    "We sometimes want to see some elements of the array on their own."
   ],
   "metadata": {}
  },
  {
   "outputs": [
    {
     "output_type": "execute_result",
     "data": {
      "text/plain": "5×3 Array{Float32,2}:\n 0.255317  0.556587  0.966125\n 0.563024  0.532851  0.217162\n 0.850266  0.157827  0.52388 \n 0.767827  0.816424  0.787822\n 0.952749  0.543761  0.270594"
     },
     "metadata": {},
     "execution_count": 9
    }
   ],
   "cell_type": "code",
   "source": [
    "x"
   ],
   "metadata": {},
   "execution_count": 9
  },
  {
   "outputs": [
    {
     "output_type": "execute_result",
     "data": {
      "text/plain": "0.21716177f0"
     },
     "metadata": {},
     "execution_count": 10
    }
   ],
   "cell_type": "code",
   "source": [
    "x[2, 3]"
   ],
   "metadata": {},
   "execution_count": 10
  },
  {
   "outputs": [],
   "cell_type": "markdown",
   "source": [
    "This means get the second row and the third column. We can also get every row\n",
    "of the third column."
   ],
   "metadata": {}
  },
  {
   "outputs": [
    {
     "output_type": "execute_result",
     "data": {
      "text/plain": "5-element Array{Float32,1}:\n 0.96612453\n 0.21716177\n 0.5238805 \n 0.78782177\n 0.27059424"
     },
     "metadata": {},
     "execution_count": 11
    }
   ],
   "cell_type": "code",
   "source": [
    "x[:, 3]"
   ],
   "metadata": {},
   "execution_count": 11
  },
  {
   "outputs": [],
   "cell_type": "markdown",
   "source": [
    "We can add arrays, and subtract them, which adds or subtracts each element of\n",
    "the array."
   ],
   "metadata": {}
  },
  {
   "outputs": [
    {
     "output_type": "execute_result",
     "data": {
      "text/plain": "5×3 Array{Float32,2}:\n 0.510633  1.11317   1.93225 \n 1.12605   1.0657    0.434324\n 1.70053   0.315655  1.04776 \n 1.53565   1.63285   1.57564 \n 1.9055    1.08752   0.541188"
     },
     "metadata": {},
     "execution_count": 12
    }
   ],
   "cell_type": "code",
   "source": [
    "x + x"
   ],
   "metadata": {},
   "execution_count": 12
  },
  {
   "outputs": [
    {
     "output_type": "execute_result",
     "data": {
      "text/plain": "5×3 Array{Float32,2}:\n 0.0  0.0  0.0\n 0.0  0.0  0.0\n 0.0  0.0  0.0\n 0.0  0.0  0.0\n 0.0  0.0  0.0"
     },
     "metadata": {},
     "execution_count": 13
    }
   ],
   "cell_type": "code",
   "source": [
    "x - x"
   ],
   "metadata": {},
   "execution_count": 13
  },
  {
   "outputs": [],
   "cell_type": "markdown",
   "source": [
    "Julia supports a feature called *broadcasting*, using the `.` syntax. This\n",
    "tiles small arrays (or single numbers) to fill bigger ones."
   ],
   "metadata": {}
  },
  {
   "outputs": [
    {
     "output_type": "execute_result",
     "data": {
      "text/plain": "5×3 Array{Float32,2}:\n 1.25532  1.55659  1.96612\n 1.56302  1.53285  1.21716\n 1.85027  1.15783  1.52388\n 1.76783  1.81642  1.78782\n 1.95275  1.54376  1.27059"
     },
     "metadata": {},
     "execution_count": 14
    }
   ],
   "cell_type": "code",
   "source": [
    "x .+ 1"
   ],
   "metadata": {},
   "execution_count": 14
  },
  {
   "outputs": [],
   "cell_type": "markdown",
   "source": [
    "We can see Julia tile the column vector `1:5` across all rows of the larger\n",
    "array."
   ],
   "metadata": {}
  },
  {
   "outputs": [
    {
     "output_type": "execute_result",
     "data": {
      "text/plain": "5×5 Array{Float64,2}:\n 1.0  1.0  1.0  1.0  1.0\n 2.0  2.0  2.0  2.0  2.0\n 3.0  3.0  3.0  3.0  3.0\n 4.0  4.0  4.0  4.0  4.0\n 5.0  5.0  5.0  5.0  5.0"
     },
     "metadata": {},
     "execution_count": 15
    }
   ],
   "cell_type": "code",
   "source": [
    "zeros(5,5) .+ (1:5)"
   ],
   "metadata": {},
   "execution_count": 15
  },
  {
   "outputs": [],
   "cell_type": "markdown",
   "source": [
    "The x' syntax is used to transpose a column `1:5` into an equivalent row, and\n",
    "Julia will tile that across columns."
   ],
   "metadata": {}
  },
  {
   "outputs": [
    {
     "output_type": "execute_result",
     "data": {
      "text/plain": "5×5 Array{Float64,2}:\n 1.0  2.0  3.0  4.0  5.0\n 1.0  2.0  3.0  4.0  5.0\n 1.0  2.0  3.0  4.0  5.0\n 1.0  2.0  3.0  4.0  5.0\n 1.0  2.0  3.0  4.0  5.0"
     },
     "metadata": {},
     "execution_count": 16
    }
   ],
   "cell_type": "code",
   "source": [
    "zeros(5,5) .+ (1:5)'"
   ],
   "metadata": {},
   "execution_count": 16
  },
  {
   "outputs": [],
   "cell_type": "markdown",
   "source": [
    "We can use this to make a times table."
   ],
   "metadata": {}
  },
  {
   "outputs": [
    {
     "output_type": "execute_result",
     "data": {
      "text/plain": "5×5 Array{Int64,2}:\n 1   2   3   4   5\n 2   4   6   8  10\n 3   6   9  12  15\n 4   8  12  16  20\n 5  10  15  20  25"
     },
     "metadata": {},
     "execution_count": 17
    }
   ],
   "cell_type": "code",
   "source": [
    "(1:5) .* (1:5)'"
   ],
   "metadata": {},
   "execution_count": 17
  },
  {
   "outputs": [],
   "cell_type": "markdown",
   "source": [
    "Finally, and importantly for machine learning, we can conveniently do things like\n",
    "matrix multiply."
   ],
   "metadata": {}
  },
  {
   "outputs": [
    {
     "output_type": "execute_result",
     "data": {
      "text/plain": "5-element Array{Float64,1}:\n  0.05421135695837431\n  0.9946443858299661 \n  0.762084141982013  \n -0.41157924083676123\n  1.1820316570453544 "
     },
     "metadata": {},
     "execution_count": 18
    }
   ],
   "cell_type": "code",
   "source": [
    "W = randn(5, 10)\n",
    "x = rand(10)\n",
    "W * x"
   ],
   "metadata": {},
   "execution_count": 18
  },
  {
   "outputs": [],
   "cell_type": "markdown",
   "source": [
    "Julia's arrays are very powerful, and you can learn more about what they can\n",
    "do [here](https://docs.julialang.org/en/v1/manual/arrays/)."
   ],
   "metadata": {}
  },
  {
   "outputs": [],
   "cell_type": "markdown",
   "source": [
    "### CUDA Arrays"
   ],
   "metadata": {}
  },
  {
   "outputs": [],
   "cell_type": "markdown",
   "source": [
    "CUDA functionality is provided separately by the [CuArrays\n",
    "package](https://github.com/JuliaGPU/CuArrays.jl). If you have a GPU and CUDA\n",
    "available, you can run `] add CuArrays` in a REPL or IJulia to get it."
   ],
   "metadata": {}
  },
  {
   "outputs": [],
   "cell_type": "markdown",
   "source": [
    "Once CuArrays is loaded you can move any array to the GPU with the `cu`\n",
    "function, and it supports all of the above operations with the same syntax."
   ],
   "metadata": {}
  },
  {
   "outputs": [],
   "cell_type": "code",
   "source": [
    "# using CuArrays\n",
    "# x = cu(rand(5, 3))"
   ],
   "metadata": {},
   "execution_count": 19
  },
  {
   "outputs": [],
   "cell_type": "markdown",
   "source": [
    "Automatic Differentiation\n",
    "-------------------------"
   ],
   "metadata": {}
  },
  {
   "outputs": [],
   "cell_type": "markdown",
   "source": [
    "You probably learned to take derivatives in school. We start with a simple\n",
    "mathematical function like"
   ],
   "metadata": {}
  },
  {
   "outputs": [
    {
     "output_type": "execute_result",
     "data": {
      "text/plain": "86"
     },
     "metadata": {},
     "execution_count": 20
    }
   ],
   "cell_type": "code",
   "source": [
    "f(x) = 3x^2 + 2x + 1\n",
    "\n",
    "f(5)"
   ],
   "metadata": {},
   "execution_count": 20
  },
  {
   "outputs": [],
   "cell_type": "markdown",
   "source": [
    "In simple cases it's pretty easy to work out the gradient by hand – here it's\n",
    "`6x+2`. But it's much easier to make Flux do the work for us!"
   ],
   "metadata": {}
  },
  {
   "outputs": [
    {
     "output_type": "execute_result",
     "data": {
      "text/plain": "32.0 (tracked)"
     },
     "metadata": {},
     "execution_count": 21
    }
   ],
   "cell_type": "code",
   "source": [
    "using Flux.Tracker: gradient\n",
    "\n",
    "df(x) = gradient(f, x; nest =true)[1]\n",
    "\n",
    "df(5)"
   ],
   "metadata": {},
   "execution_count": 21
  },
  {
   "outputs": [],
   "cell_type": "markdown",
   "source": [
    "You can try this with a few different inputs to make sure it's really the same\n",
    "as `6x+2`. We can even do this multiple times (but the second derivative is a\n",
    "fairly boring `6`)."
   ],
   "metadata": {}
  },
  {
   "outputs": [
    {
     "output_type": "execute_result",
     "data": {
      "text/plain": "6.0 (tracked)"
     },
     "metadata": {},
     "execution_count": 22
    }
   ],
   "cell_type": "code",
   "source": [
    "ddf(x) = gradient(df, x)[1]\n",
    "\n",
    "ddf(5)"
   ],
   "metadata": {},
   "execution_count": 22
  },
  {
   "outputs": [],
   "cell_type": "markdown",
   "source": [
    "Flux's AD can handle any Julia code you throw at it, including loops,\n",
    "recursion and custom layers, so long as the mathematical functions you call\n",
    "are differentiable. For example, we can differentiate a Taylor approximation\n",
    "to the `sin` function."
   ],
   "metadata": {}
  },
  {
   "outputs": [
    {
     "output_type": "execute_result",
     "data": {
      "text/plain": "(0.4794255386041834, (0.8775825618898637 (tracked),))"
     },
     "metadata": {},
     "execution_count": 23
    }
   ],
   "cell_type": "code",
   "source": [
    "mysin(x) = sum((-1)^k*x^(1+2k)/factorial(1+2k) for k in 0:5)\n",
    "\n",
    "x = 0.5\n",
    "\n",
    "mysin(x), gradient(mysin, x)"
   ],
   "metadata": {},
   "execution_count": 23
  },
  {
   "outputs": [
    {
     "output_type": "execute_result",
     "data": {
      "text/plain": "(0.479425538604203, 0.8775825618903728)"
     },
     "metadata": {},
     "execution_count": 24
    }
   ],
   "cell_type": "code",
   "source": [
    "sin(x), cos(x)"
   ],
   "metadata": {},
   "execution_count": 24
  },
  {
   "outputs": [],
   "cell_type": "markdown",
   "source": [
    "You can see that the derivative we calculated is very close to `cos(x)`, as we\n",
    "expect."
   ],
   "metadata": {}
  },
  {
   "outputs": [],
   "cell_type": "markdown",
   "source": [
    "This gets more interesting when we consider functions that take *arrays* as\n",
    "inputs, rather than just a single number. For example, here's a function that\n",
    "takes a matrix and two vectors (the definition itself is arbitrary)"
   ],
   "metadata": {}
  },
  {
   "outputs": [
    {
     "output_type": "execute_result",
     "data": {
      "text/plain": "([0.769483 0.167485 … 0.783535 0.00521952; 0.769483 0.167485 … 0.783535 0.00521952; 0.769483 0.167485 … 0.783535 0.00521952] (tracked), [1.0, 1.0, 1.0] (tracked), [-5.07166, -0.830381, -1.40381, 0.858376, -1.54479] (tracked))"
     },
     "metadata": {},
     "execution_count": 25
    }
   ],
   "cell_type": "code",
   "source": [
    "using Flux.Tracker: gradient\n",
    "\n",
    "myloss(W, b, x) = sum(W * x .+ b)\n",
    "\n",
    "W = randn(3, 5)\n",
    "b = zeros(3)\n",
    "x = rand(5)\n",
    "\n",
    "gradient(myloss, W, b, x)"
   ],
   "metadata": {},
   "execution_count": 25
  },
  {
   "outputs": [],
   "cell_type": "markdown",
   "source": [
    "Now we get gradients for each of the inputs `W`, `b` and `x`, which will come\n",
    "in handy when we want to train models."
   ],
   "metadata": {}
  },
  {
   "outputs": [],
   "cell_type": "markdown",
   "source": [
    "Because ML models can contain hundreds of parameters, Flux provides a slightly\n",
    "different way of writing `gradient`. We instead mark arrays with `param` to\n",
    "indicate that we want their derivatives. `W` and `b` represent the weight and\n",
    "bias respectively."
   ],
   "metadata": {}
  },
  {
   "outputs": [
    {
     "output_type": "execute_result",
     "data": {
      "text/plain": "-2.4185315794871083 (tracked)"
     },
     "metadata": {},
     "execution_count": 26
    }
   ],
   "cell_type": "code",
   "source": [
    "using Flux.Tracker: param, back!, grad\n",
    "\n",
    "W = param(randn(3, 5))\n",
    "b = param(zeros(3))\n",
    "x = rand(5)\n",
    "\n",
    "y = sum(W * x .+ b)"
   ],
   "metadata": {},
   "execution_count": 26
  },
  {
   "outputs": [],
   "cell_type": "markdown",
   "source": [
    "Anything marked `param` becomes *tracked*, indicating that Flux keeping an eye\n",
    "on its gradient. We can now call"
   ],
   "metadata": {}
  },
  {
   "outputs": [
    {
     "output_type": "execute_result",
     "data": {
      "text/plain": "([0.175657 0.244909 … 0.461918 0.687567; 0.175657 0.244909 … 0.461918 0.687567; 0.175657 0.244909 … 0.461918 0.687567], [1.0, 1.0, 1.0])"
     },
     "metadata": {},
     "execution_count": 27
    }
   ],
   "cell_type": "code",
   "source": [
    "back!(y) # Run backpropagation\n",
    "\n",
    "grad(W), grad(b)"
   ],
   "metadata": {},
   "execution_count": 27
  },
  {
   "outputs": [],
   "cell_type": "markdown",
   "source": [
    "We can now grab the gradients of `W` and `b` directly from those parameters."
   ],
   "metadata": {}
  },
  {
   "outputs": [],
   "cell_type": "markdown",
   "source": [
    "This comes in handy when working with *layers*. A layer is just a handy\n",
    "container for some parameters. For example, `Dense` does a linear transform\n",
    "for you."
   ],
   "metadata": {}
  },
  {
   "outputs": [
    {
     "output_type": "execute_result",
     "data": {
      "text/plain": "Tracked 5-element Array{Float32,1}:\n -1.866909f0   \n  1.6068742f0  \n -0.47442514f0 \n -0.078281775f0\n  0.7389283f0  "
     },
     "metadata": {},
     "execution_count": 28
    }
   ],
   "cell_type": "code",
   "source": [
    "using Flux\n",
    "\n",
    "m = Dense(10, 5)\n",
    "\n",
    "x = rand(Float32, 10)\n",
    "\n",
    "m(x)"
   ],
   "metadata": {},
   "execution_count": 28
  },
  {
   "outputs": [
    {
     "output_type": "execute_result",
     "data": {
      "text/plain": "true"
     },
     "metadata": {},
     "execution_count": 29
    }
   ],
   "cell_type": "code",
   "source": [
    "m(x) == m.W * x .+ m.b"
   ],
   "metadata": {},
   "execution_count": 29
  },
  {
   "outputs": [],
   "cell_type": "markdown",
   "source": [
    "We can easily get the parameters of any layer or model with params with\n",
    "`params`."
   ],
   "metadata": {}
  },
  {
   "outputs": [
    {
     "output_type": "execute_result",
     "data": {
      "text/plain": "Params([Float32[0.105143 0.0920902 … 0.434813 -0.625653; 0.0682838 0.42479 … 0.114949 0.146191; … ; 0.428199 -0.577396 … -0.419586 -0.320503; -0.0234319 -0.287929 … -0.347612 0.0374402] (tracked), Float32[0.0, 0.0, 0.0, 0.0, 0.0] (tracked)])"
     },
     "metadata": {},
     "execution_count": 30
    }
   ],
   "cell_type": "code",
   "source": [
    "params(m)"
   ],
   "metadata": {},
   "execution_count": 30
  },
  {
   "outputs": [],
   "cell_type": "markdown",
   "source": [
    "This makes it very easy to do backpropagation and get the gradient for all\n",
    "parameters in a network, even if it has many parameters."
   ],
   "metadata": {}
  },
  {
   "outputs": [
    {
     "output_type": "execute_result",
     "data": {
      "text/plain": "4-element Array{Array{Float32,N} where N,1}:\n [-0.0287585 -0.0199122 … -0.00242918 -0.0425191; 0.00377813 0.00261594 … 0.000319132 0.00558591; … ; 0.0318442 0.0220487 … 0.00268982 0.0470812; 0.0 0.0 … 0.0 0.0]\n [-0.0483765, 0.00635542, 0.0, 0.0535671, 0.0]                                                                                                                      \n [-0.0347323 -0.013319 … -0.107115 0.0; 0.0347323 0.013319 … 0.107115 0.0]                                                                                          \n [-0.100709, 0.100709]                                                                                                                                              "
     },
     "metadata": {},
     "execution_count": 31
    }
   ],
   "cell_type": "code",
   "source": [
    "m = Chain(Dense(10, 5, relu), Dense(5, 2), softmax)\n",
    "\n",
    "l = sum(Flux.crossentropy(m(x), [0.5, 0.5]))\n",
    "back!(l)\n",
    "\n",
    "grad.(params(m))"
   ],
   "metadata": {},
   "execution_count": 31
  },
  {
   "outputs": [],
   "cell_type": "markdown",
   "source": [
    "You don't have to use layers, but they can be convient for many simple kinds\n",
    "of models and fast iteration."
   ],
   "metadata": {}
  },
  {
   "outputs": [],
   "cell_type": "markdown",
   "source": [
    "The next step is to update our weights and perform optimisation. As you might be\n",
    "familiar, *Gradient Descent* is a simple algorithm that takes the weights and steps\n",
    "using a learning rate and the gradients. `weights = weights - learning_rate * gradient`."
   ],
   "metadata": {}
  },
  {
   "outputs": [],
   "cell_type": "code",
   "source": [
    "using Flux.Tracker: update!\n",
    "\n",
    "η = 0.1\n",
    "for p in params(m)\n",
    "  update!(p, -η * grad(p))\n",
    "end"
   ],
   "metadata": {},
   "execution_count": 32
  },
  {
   "outputs": [],
   "cell_type": "markdown",
   "source": [
    "While this is a valid way of updating our weights, it can get more complicated as the\n",
    "algorithms we use get more involved."
   ],
   "metadata": {}
  },
  {
   "outputs": [],
   "cell_type": "markdown",
   "source": [
    "Flux comes with a bunch of pre-defined optimisers and makes writing our own really simple.\n",
    "We just give it the learning rate η"
   ],
   "metadata": {}
  },
  {
   "outputs": [
    {
     "output_type": "execute_result",
     "data": {
      "text/plain": "Flux.Optimise.Descent(0.01)"
     },
     "metadata": {},
     "execution_count": 33
    }
   ],
   "cell_type": "code",
   "source": [
    "opt = Descent(0.01)"
   ],
   "metadata": {},
   "execution_count": 33
  },
  {
   "outputs": [],
   "cell_type": "markdown",
   "source": [
    "`Training` a network reduces down to iterating on a dataset mulitple times, performing these\n",
    "steps in order. Just for a quick implementation, let’s train a network that learns to predict\n",
    "`0.5` for every input of 10 floats. `Flux` defines the `train!` function to do it for us."
   ],
   "metadata": {}
  },
  {
   "outputs": [],
   "cell_type": "code",
   "source": [
    "data, labels = rand(10, 100), fill(0.5, 2, 100)\n",
    "loss(x, y) = sum(Flux.crossentropy(m(x), y))\n",
    "Flux.train!(loss, params(m), [(data,labels)], opt)"
   ],
   "metadata": {},
   "execution_count": 34
  },
  {
   "outputs": [],
   "cell_type": "markdown",
   "source": [
    "You don't have to use `train!`. In cases where aribtrary logic might be better suited,\n",
    "you could open up this training loop like so:"
   ],
   "metadata": {}
  },
  {
   "outputs": [],
   "cell_type": "markdown",
   "source": [
    "```julia\n",
    "  for d in training_set # assuming d looks like (data, labels)\n",
    "    # our super logic\n",
    "    l = loss(d...)\n",
    "    Tracker.back!(l)\n",
    "    opt()\n",
    "  end\n",
    "```"
   ],
   "metadata": {}
  },
  {
   "outputs": [],
   "cell_type": "markdown",
   "source": [
    "Training a Classifier\n",
    "---------------------"
   ],
   "metadata": {}
  },
  {
   "outputs": [],
   "cell_type": "markdown",
   "source": [
    "Getting a real classifier to work might help cement the workflow a bit more.\n",
    "[CIFAR10](url) is a dataset of 50k tiny training images split into 10 classes."
   ],
   "metadata": {}
  },
  {
   "outputs": [],
   "cell_type": "markdown",
   "source": [
    "We will do the following steps in order:"
   ],
   "metadata": {}
  },
  {
   "outputs": [],
   "cell_type": "markdown",
   "source": [
    "* Load CIFAR10 training and test datasets\n",
    "* Define a Convolution Neural Network\n",
    "* Define a loss function\n",
    "* Train the network on the training data\n",
    "* Test the network on the test data"
   ],
   "metadata": {}
  },
  {
   "outputs": [],
   "cell_type": "markdown",
   "source": [
    "Loading the Dataset"
   ],
   "metadata": {}
  },
  {
   "outputs": [],
   "cell_type": "markdown",
   "source": [
    "[Metalhead.jl](https://github.com/FluxML/Metalhead.jl) is an excellent package\n",
    "that has a number of predefined and pretrained computer vision models.\n",
    "It also has a number of dataloaders that come in handy to load datasets."
   ],
   "metadata": {}
  },
  {
   "outputs": [],
   "cell_type": "code",
   "source": [
    "using Statistics"
   ],
   "metadata": {},
   "execution_count": 35
  },
  {
   "outputs": [],
   "cell_type": "markdown",
   "source": [
    "using CuArrays"
   ],
   "metadata": {}
  },
  {
   "outputs": [],
   "cell_type": "code",
   "source": [
    "using Flux, Flux.Tracker, Flux.Optimise\n",
    "using Metalhead, Images\n",
    "using Metalhead: trainimgs\n",
    "using Images.ImageCore\n",
    "using Flux: onehotbatch, onecold\n",
    "using Base.Iterators: partition"
   ],
   "metadata": {},
   "execution_count": 36
  },
  {
   "outputs": [],
   "cell_type": "markdown",
   "source": [
    "The image will give us an idea of what we are dealing with.\n",
    "![title](https://pytorch.org/tutorials/_images/cifar10.png)"
   ],
   "metadata": {}
  },
  {
   "outputs": [
    {
     "output_type": "execute_result",
     "data": {
      "text/plain": "10×50000 Flux.OneHotMatrix{Array{Flux.OneHotVector,1}}:\n false  false  false  false  false  …  false  false  false  false  false\n false  false  false  false   true     false  false  false   true   true\n false  false  false  false  false      true  false  false  false  false\n false  false  false  false  false     false  false  false  false  false\n false  false  false   true  false     false  false  false  false  false\n false  false  false  false  false  …  false  false  false  false  false\n  true  false  false  false  false     false   true  false  false  false\n false  false  false  false  false     false  false  false  false  false\n false  false  false  false  false     false  false  false  false  false\n false   true   true  false  false     false  false   true  false  false"
     },
     "metadata": {},
     "execution_count": 37
    }
   ],
   "cell_type": "code",
   "source": [
    "Metalhead.download(CIFAR10)\n",
    "X = trainimgs(CIFAR10)\n",
    "labels = onehotbatch([X[i].ground_truth.class for i in 1:50000],1:10)"
   ],
   "metadata": {},
   "execution_count": 37
  },
  {
   "outputs": [],
   "cell_type": "markdown",
   "source": [
    "Let's take a look at a random image from the dataset"
   ],
   "metadata": {}
  },
  {
   "outputs": [
    {
     "output_type": "execute_result",
     "data": {
      "text/plain": "10-element Array{Array{ColorTypes.RGB{FixedPointNumbers.Normed{UInt8,8}},2},1}:\n [RGB{N0f8}(1.0,1.0,1.0) RGB{N0f8}(0.996,0.996,0.996) … RGB{N0f8}(0.525,0.655,0.831) RGB{N0f8}(0.541,0.671,0.831); RGB{N0f8}(1.0,1.0,1.0) RGB{N0f8}(0.992,0.992,0.992) … RGB{N0f8}(0.533,0.663,0.82) RGB{N0f8}(0.545,0.675,0.835); … ; RGB{N0f8}(0.435,0.42,0.333) RGB{N0f8}(0.412,0.404,0.306) … RGB{N0f8}(0.443,0.388,0.376) RGB{N0f8}(0.416,0.365,0.345); RGB{N0f8}(0.439,0.416,0.357) RGB{N0f8}(0.416,0.4,0.337) … RGB{N0f8}(0.373,0.349,0.322) RGB{N0f8}(0.337,0.333,0.29)]                \n [RGB{N0f8}(0.604,0.463,0.439) RGB{N0f8}(0.557,0.435,0.424) … RGB{N0f8}(0.8,0.761,0.749) RGB{N0f8}(0.812,0.757,0.733); RGB{N0f8}(0.58,0.447,0.431) RGB{N0f8}(0.518,0.412,0.42) … RGB{N0f8}(0.435,0.373,0.345) RGB{N0f8}(0.427,0.365,0.333); … ; RGB{N0f8}(0.624,0.518,0.486) RGB{N0f8}(0.694,0.588,0.553) … RGB{N0f8}(0.584,0.431,0.388) RGB{N0f8}(0.604,0.447,0.412); RGB{N0f8}(0.624,0.518,0.478) RGB{N0f8}(0.651,0.545,0.518) … RGB{N0f8}(0.592,0.412,0.365) RGB{N0f8}(0.647,0.475,0.435)]   \n [RGB{N0f8}(1.0,1.0,0.992) RGB{N0f8}(0.996,1.0,0.992) … RGB{N0f8}(1.0,1.0,1.0) RGB{N0f8}(1.0,1.0,1.0); RGB{N0f8}(0.976,0.957,0.922) RGB{N0f8}(0.988,0.98,0.949) … RGB{N0f8}(0.996,0.996,0.996) RGB{N0f8}(0.996,0.996,0.996); … ; RGB{N0f8}(1.0,1.0,0.969) RGB{N0f8}(0.898,0.882,0.792) … RGB{N0f8}(0.008,0.0,0.0) RGB{N0f8}(0.0,0.0,0.0); RGB{N0f8}(1.0,1.0,0.98) RGB{N0f8}(0.804,0.776,0.718) … RGB{N0f8}(0.2,0.192,0.2) RGB{N0f8}(0.314,0.31,0.314)]                                          \n [RGB{N0f8}(0.565,0.608,0.784) RGB{N0f8}(0.541,0.592,0.792) … RGB{N0f8}(0.529,0.612,0.757) RGB{N0f8}(0.533,0.604,0.741); RGB{N0f8}(0.588,0.639,0.812) RGB{N0f8}(0.557,0.616,0.812) … RGB{N0f8}(0.541,0.62,0.773) RGB{N0f8}(0.557,0.62,0.765); … ; RGB{N0f8}(0.153,0.149,0.169) RGB{N0f8}(0.149,0.145,0.165) … RGB{N0f8}(0.545,0.635,0.827) RGB{N0f8}(0.549,0.627,0.812); RGB{N0f8}(0.153,0.149,0.169) RGB{N0f8}(0.153,0.149,0.169) … RGB{N0f8}(0.573,0.643,0.816) RGB{N0f8}(0.58,0.639,0.804)]  \n [RGB{N0f8}(0.839,0.843,0.851) RGB{N0f8}(0.831,0.835,0.843) … RGB{N0f8}(0.851,0.863,0.898) RGB{N0f8}(0.859,0.871,0.906); RGB{N0f8}(0.831,0.835,0.843) RGB{N0f8}(0.824,0.827,0.835) … RGB{N0f8}(0.863,0.875,0.91) RGB{N0f8}(0.871,0.882,0.918); … ; RGB{N0f8}(0.416,0.384,0.255) RGB{N0f8}(0.404,0.376,0.247) … RGB{N0f8}(0.369,0.333,0.161) RGB{N0f8}(0.369,0.329,0.157); RGB{N0f8}(0.345,0.329,0.133) RGB{N0f8}(0.337,0.322,0.125) … RGB{N0f8}(0.384,0.337,0.145) RGB{N0f8}(0.388,0.341,0.145)]\n [RGB{N0f8}(0.055,0.039,0.09) RGB{N0f8}(0.169,0.149,0.267) … RGB{N0f8}(0.494,0.392,0.518) RGB{N0f8}(0.384,0.29,0.353); RGB{N0f8}(0.082,0.063,0.129) RGB{N0f8}(0.196,0.176,0.306) … RGB{N0f8}(0.49,0.435,0.588) RGB{N0f8}(0.357,0.314,0.408); … ; RGB{N0f8}(0.58,0.4,0.333) RGB{N0f8}(0.612,0.427,0.369) … RGB{N0f8}(0.325,0.157,0.161) RGB{N0f8}(0.294,0.133,0.137); RGB{N0f8}(0.467,0.271,0.231) RGB{N0f8}(0.427,0.239,0.2) … RGB{N0f8}(0.29,0.141,0.145) RGB{N0f8}(0.251,0.114,0.114)]        \n [RGB{N0f8}(0.69,0.729,0.525) RGB{N0f8}(0.702,0.78,0.557) … RGB{N0f8}(0.675,0.678,0.596) RGB{N0f8}(0.667,0.702,0.565); RGB{N0f8}(0.635,0.714,0.447) RGB{N0f8}(0.659,0.741,0.557) … RGB{N0f8}(0.596,0.627,0.529) RGB{N0f8}(0.651,0.706,0.553); … ; RGB{N0f8}(0.475,0.459,0.4) RGB{N0f8}(0.725,0.69,0.635) … RGB{N0f8}(0.49,0.482,0.451) RGB{N0f8}(0.396,0.396,0.357); RGB{N0f8}(0.678,0.647,0.6) RGB{N0f8}(0.796,0.745,0.69) … RGB{N0f8}(0.49,0.51,0.439) RGB{N0f8}(0.435,0.451,0.373)]          \n [RGB{N0f8}(0.49,0.459,0.431) RGB{N0f8}(0.482,0.459,0.439) … RGB{N0f8}(0.698,0.647,0.529) RGB{N0f8}(0.686,0.631,0.51); RGB{N0f8}(0.251,0.294,0.29) RGB{N0f8}(0.243,0.294,0.294) … RGB{N0f8}(0.71,0.639,0.498) RGB{N0f8}(0.698,0.624,0.478); … ; RGB{N0f8}(0.42,0.427,0.392) RGB{N0f8}(0.525,0.529,0.471) … RGB{N0f8}(0.247,0.259,0.224) RGB{N0f8}(0.208,0.212,0.188); RGB{N0f8}(0.325,0.329,0.306) RGB{N0f8}(0.408,0.408,0.357) … RGB{N0f8}(0.224,0.235,0.216) RGB{N0f8}(0.176,0.188,0.173)]    \n [RGB{N0f8}(0.769,0.702,0.776) RGB{N0f8}(0.725,0.659,0.733) … RGB{N0f8}(0.655,0.608,0.682) RGB{N0f8}(0.639,0.584,0.659); RGB{N0f8}(0.757,0.69,0.769) RGB{N0f8}(0.737,0.675,0.749) … RGB{N0f8}(0.675,0.62,0.694) RGB{N0f8}(0.639,0.588,0.671); … ; RGB{N0f8}(0.376,0.247,0.239) RGB{N0f8}(0.463,0.298,0.224) … RGB{N0f8}(0.235,0.169,0.153) RGB{N0f8}(0.294,0.22,0.212); RGB{N0f8}(0.396,0.251,0.22) RGB{N0f8}(0.408,0.259,0.176) … RGB{N0f8}(0.341,0.251,0.196) RGB{N0f8}(0.388,0.29,0.247)]    \n [RGB{N0f8}(0.004,0.004,0.004) RGB{N0f8}(0.004,0.004,0.004) … RGB{N0f8}(0.004,0.004,0.004) RGB{N0f8}(0.004,0.004,0.004); RGB{N0f8}(0.012,0.008,0.008) RGB{N0f8}(0.012,0.012,0.012) … RGB{N0f8}(0.008,0.012,0.008) RGB{N0f8}(0.008,0.012,0.008); … ; RGB{N0f8}(0.016,0.024,0.02) RGB{N0f8}(0.031,0.039,0.035) … RGB{N0f8}(0.016,0.024,0.02) RGB{N0f8}(0.012,0.02,0.016); RGB{N0f8}(0.02,0.02,0.02) RGB{N0f8}(0.027,0.035,0.031) … RGB{N0f8}(0.016,0.024,0.02) RGB{N0f8}(0.012,0.02,0.016)]       ",
      "text/html": [
       "<table><tbody><tr><td style='text-align:center;vertical-align:middle; margin: 0.5em;border:1px #90999f solid;border-collapse:collapse'><img style='max-width: 100px; max-height:100px;display:inline' src=\"data:image/png;base64,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\"></td><td style='text-align:center;vertical-align:middle; margin: 0.5em;border:1px #90999f solid;border-collapse:collapse'><img style='max-width: 100px; max-height:100px;display:inline' src=\"data:image/png;base64,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\"></td><td style='text-align:center;vertical-align:middle; margin: 0.5em;border:1px #90999f solid;border-collapse:collapse'><img style='max-width: 100px; max-height:100px;display:inline' src=\"data:image/png;base64,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\"></td><td style='text-align:center;vertical-align:middle; margin: 0.5em;border:1px #90999f solid;border-collapse:collapse'><img style='max-width: 100px; max-height:100px;display:inline' src=\"data:image/png;base64,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\"></td><td style='text-align:center;vertical-align:middle; margin: 0.5em;border:1px #90999f solid;border-collapse:collapse'><img style='max-width: 100px; max-height:100px;display:inline' src=\"data:image/png;base64,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\"></td><td style='text-align:center;vertical-align:middle; margin: 0.5em;border:1px #90999f solid;border-collapse:collapse'><img style='max-width: 100px; max-height:100px;display:inline' src=\"data:image/png;base64,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\"></td><td style='text-align:center;vertical-align:middle; margin: 0.5em;border:1px #90999f solid;border-collapse:collapse'><img style='max-width: 100px; max-height:100px;display:inline' src=\"data:image/png;base64,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\"></td><td style='text-align:center;vertical-align:middle; margin: 0.5em;border:1px #90999f solid;border-collapse:collapse'><img style='max-width: 100px; max-height:100px;display:inline' src=\"data:image/png;base64,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\"></td><td style='text-align:center;vertical-align:middle; margin: 0.5em;border:1px #90999f solid;border-collapse:collapse'><img style='max-width: 100px; max-height:100px;display:inline' src=\"data:image/png;base64,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\"></td><td style='text-align:center;vertical-align:middle; margin: 0.5em;border:1px #90999f solid;border-collapse:collapse'><img style='max-width: 100px; max-height:100px;display:inline' src=\"data:image/png;base64,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\"></td></tr></tbody></table><div><small>(a vector displayed as a row to save space)</small></div>"
      ]
     },
     "metadata": {},
     "execution_count": 38
    }
   ],
   "cell_type": "code",
   "source": [
    "image(x) = x.img # handy for use later\n",
    "ground_truth(x) = x.ground_truth\n",
    "image.(X[rand(1:end, 10)])"
   ],
   "metadata": {},
   "execution_count": 38
  },
  {
   "outputs": [],
   "cell_type": "markdown",
   "source": [
    "The images are simply 32 X 32 matrices of numbers in 3 channels (R,G,B). We can now\n",
    "arrange them in batches of say, 1000 and keep a validation set to track our progress.\n",
    "This process is called minibatch learning, which is a popular method of training\n",
    "large neural networks. Rather that sending the entire dataset at once, we break it\n",
    "down into smaller chunks (called minibatches) that are typically chosen at random,\n",
    "and train only on them. It is shown to help with escaping\n",
    "[saddle points](https://en.wikipedia.org/wiki/Saddle_point)."
   ],
   "metadata": {}
  },
  {
   "outputs": [],
   "cell_type": "markdown",
   "source": [
    "Defining a `getarray` function would help in converting the matrices to `Float` type."
   ],
   "metadata": {}
  },
  {
   "outputs": [
    {
     "output_type": "execute_result",
     "data": {
      "text/plain": "50000-element Array{Array{Float32,3},1}:\n [0.231373 0.168627 … 0.596078 0.580392; 0.0627451 0.0 … 0.466667 0.478431; … ; 0.705882 0.678431 … 0.380392 0.32549; 0.694118 0.658824 … 0.592157 0.482353]\n\n[0.243137 0.180392 … 0.490196 0.486275; 0.0784314 0.0 … 0.32549 0.341176; … ; 0.545098 0.482353 … 0.243137 0.207843; 0.564706 0.505882 … 0.462745 0.360784]\n\n[0.247059 0.176471 … 0.4 0.403922; 0.0784314 0.0 … 0.196078 0.223529; … ; 0.376471 0.164706 … 0.133333 0.133333; 0.454902 0.368627 … 0.329412 0.282353]                    \n [0.603922 0.494118 … 0.341176 0.309804; 0.54902 0.568627 … 0.301961 0.278431; … ; 0.647059 0.611765 … 0.482353 0.513726; 0.639216 0.619608 … 0.560784 0.560784]\n\n[0.694118 0.537255 … 0.352941 0.317647; 0.627451 0.6 … 0.313726 0.286275; … ; 0.603922 0.596078 … 0.447059 0.47451; 0.580392 0.580392 … 0.52549 0.521569]\n\n[0.733333 0.533333 … 0.278431 0.27451; 0.662745 0.603922 … 0.243137 0.239216; … ; 0.501961 0.509804 … 0.470588 0.513726; 0.470588 0.478431 … 0.556863 0.564706]          \n [1.0 0.992157 … 0.992157 0.992157; 1.0 1.0 … 1.0 1.0; … ; 0.435294 0.407843 … 0.27451 0.305882; 0.415686 0.388235 … 0.309804 0.313726]\n\n[1.0 0.992157 … 0.992157 0.992157; 1.0 1.0 … 1.0 1.0; … ; 0.462745 0.435294 … 0.298039 0.329412; 0.443137 0.415686 … 0.333333 0.337255]\n\n[1.0 0.992157 … 0.992157 0.992157; 1.0 1.0 … 1.0 1.0; … ; 0.431373 0.407843 … 0.294118 0.321569; 0.411765 0.384314 … 0.32549 0.329412]                                                                              \n [0.109804 0.145098 … 0.317647 0.333333; 0.129412 0.133333 … 0.376471 0.333333; … ; 0.345098 0.352941 … 0.298039 0.321569; 0.380392 0.368627 … 0.247059 0.282353]\n\n[0.0980392 0.133333 … 0.282353 0.298039; 0.109804 0.117647 … 0.321569 0.282353; … ; 0.282353 0.290196 … 0.27451 0.298039; 0.305882 0.294118 … 0.219608 0.254902]\n\n[0.0392157 0.0745098 … 0.168627 0.184314; 0.0509804 0.054902 … 0.219608 0.176471; … ; 0.2 0.203922 … 0.192157 0.215686; 0.219608 0.207843 … 0.145098 0.180392]   \n [0.666667 0.658824 … 0.619608 0.615686; 0.658824 0.67451 … 0.611765 0.603922; … ; 0.266667 0.270588 … 0.278431 0.278431; 0.262745 0.266667 … 0.278431 0.286275]\n\n[0.705882 0.698039 … 0.698039 0.694118; 0.709804 0.72549 … 0.690196 0.682353; … ; 0.298039 0.301961 … 0.294118 0.294118; 0.294118 0.298039 … 0.294118 0.301961]\n\n[0.776471 0.768628 … 0.839216 0.831373; 0.776471 0.788235 … 0.827451 0.819608; … ; 0.301961 0.305882 … 0.305882 0.305882; 0.305882 0.309804 … 0.305882 0.313726]   \n [0.623529 0.588235 … 0.290196 0.298039; 0.556863 0.572549 … 0.478431 0.337255; … ; 0.964706 0.952941 … 0.698039 0.752941; 0.964706 0.952941 … 0.678431 0.713726]\n\n[0.4 0.356863 … 0.247059 0.227451; 0.294118 0.282353 … 0.435294 0.270588; … ; 0.521569 0.501961 … 0.219608 0.254902; 0.545098 0.521569 … 0.2 0.223529]\n\n[0.396078 0.372549 … 0.215686 0.215686; 0.266667 0.258824 … 0.364706 0.239216; … ; 0.290196 0.282353 … 0.0862745 0.105882; 0.321569 0.305882 … 0.0666667 0.0745098]        \n [0.643137 0.411765 … 0.423529 0.356863; 0.654902 0.454902 … 0.411765 0.34902; … ; 0.639216 0.6 … 0.384314 0.498039; 0.717647 0.690196 … 0.356863 0.478431]\n\n[0.807843 0.54902 … 0.576471 0.505882; 0.835294 0.627451 … 0.556863 0.498039; … ; 0.615686 0.643137 … 0.580392 0.698039; 0.6 0.713726 … 0.521569 0.666667]\n\n[0.329412 0.239216 … 0.270588 0.223529; 0.329412 0.192157 … 0.282353 0.223529; … ; 0.333333 0.321569 … 0.105882 0.188235; 0.4 0.454902 … 0.101961 0.172549]                  \n [0.109804 0.117647 … 0.203922 0.180392; 0.105882 0.105882 … 0.458824 0.45098; … ; 0.54902 0.568627 … 0.509804 0.478431; 0.52549 0.533333 … 0.407843 0.396078]\n\n[0.137255 0.133333 … 0.25098 0.227451; 0.117647 0.109804 … 0.54902 0.541176; … ; 0.690196 0.705882 … 0.666667 0.635294; 0.670588 0.670588 … 0.556863 0.54902]\n\n[0.152941 0.172549 … 0.207843 0.184314; 0.14902 0.160784 … 0.396078 0.392157; … ; 0.486275 0.505882 … 0.466667 0.435294; 0.482353 0.486275 … 0.388235 0.376471]        \n [0.52549 0.513726 … 0.498039 0.501961; 0.521569 0.505882 … 0.498039 0.501961; … ; 0.760784 0.741176 … 0.117647 0.117647; 0.756863 0.709804 … 0.12549 0.12549]\n\n[0.729412 0.721569 … 0.709804 0.713726; 0.741176 0.729412 … 0.717647 0.721569; … ; 0.866667 0.843137 … 0.376471 0.372549; 0.85098 0.815686 … 0.368627 0.368627]\n\n[0.87451 0.862745 … 0.870588 0.87451; 0.894118 0.878431 … 0.878431 0.882353; … ; 0.956863 0.937255 … 0.545098 0.54902; 0.929412 0.901961 … 0.537255 0.541176]        \n [0.490196 0.431373 … 0.784314 0.792157; 0.556863 0.572549 … 0.776471 0.8; … ; 0.407843 0.411765 … 0.537255 0.537255; 0.411765 0.423529 … 0.560784 0.564706]\n\n[0.490196 0.396078 … 0.803922 0.815686; 0.572549 0.564706 … 0.803922 0.827451; … ; 0.317647 0.329412 … 0.443137 0.439216; 0.32549 0.341176 … 0.454902 0.454902]\n\n[0.454902 0.356863 … 0.831373 0.839216; 0.556863 0.545098 … 0.819608 0.843137; … ; 0.156863 0.160784 … 0.313726 0.317647; 0.164706 0.176471 … 0.329412 0.337255]       \n ⋮                                                                                                                                                                                                                                                                                                                                                                                                                                                                                                    \n [0.737255 0.729412 … 0.717647 0.72549; 0.72549 0.721569 … 0.717647 0.721569; … ; 0.745098 0.717647 … 0.682353 0.678431; 0.737255 0.717647 … 0.619608 0.607843]\n\n[0.764706 0.756863 … 0.756863 0.760784; 0.752941 0.74902 … 0.752941 0.756863; … ; 0.764706 0.729412 … 0.717647 0.713726; 0.756863 0.733333 … 0.65098 0.647059]\n\n[0.788235 0.784314 … 0.776471 0.780392; 0.776471 0.772549 … 0.772549 0.776471; … ; 0.788235 0.74902 … 0.737255 0.737255; 0.780392 0.74902 … 0.670588 0.666667]       \n [0.607843 0.603922 … 0.603922 0.603922; 0.603922 0.6 … 0.596078 0.6; … ; 0.431373 0.431373 … 0.513726 0.521569; 0.513726 0.509804 … 0.529412 0.529412]\n\n[0.607843 0.603922 … 0.611765 0.611765; 0.603922 0.6 … 0.603922 0.607843; … ; 0.376471 0.376471 … 0.462745 0.466667; 0.439216 0.439216 … 0.462745 0.462745]\n\n[0.607843 0.603922 … 0.607843 0.607843; 0.603922 0.6 … 0.6 0.603922; … ; 0.243137 0.247059 … 0.282353 0.286275; 0.258824 0.258824 … 0.282353 0.282353]                          \n [0.886275 0.882353 … 0.47451 0.701961; 0.882353 0.886275 … 0.392157 0.521569; … ; 0.278431 0.156863 … 0.368627 0.356863; 0.262745 0.2 … 0.372549 0.364706]\n\n[0.839216 0.831373 … 0.537255 0.741176; 0.745098 0.74902 … 0.470588 0.584314; … ; 0.443137 0.231373 … 0.482353 0.486275; 0.431373 0.333333 … 0.494118 0.494118]\n\n[0.694118 0.694118 … 0.396078 0.67451; 0.580392 0.580392 … 0.32549 0.470588; … ; 0.439216 0.239216 … 0.454902 0.458824; 0.427451 0.333333 … 0.478431 0.466667]          \n [0.611765 0.607843 … 0.611765 0.607843; 0.619608 0.615686 … 0.615686 0.615686; … ; 0.627451 0.623529 … 0.611765 0.607843; 0.619608 0.615686 … 0.596078 0.596078]\n\n[0.623529 0.619608 … 0.631373 0.627451; 0.631373 0.627451 … 0.635294 0.635294; … ; 0.647059 0.643137 … 0.643137 0.639216; 0.639216 0.635294 … 0.627451 0.627451]\n\n[0.643137 0.639216 … 0.643137 0.639216; 0.65098 0.647059 … 0.647059 0.647059; … ; 0.658824 0.654902 … 0.65098 0.647059; 0.65098 0.647059 … 0.635294 0.635294]    \n [0.568627 0.592157 … 0.572549 0.556863; 0.6 0.611765 … 0.533333 0.505882; … ; 0.184314 0.180392 … 0.160784 0.160784; 0.192157 0.180392 … 0.141176 0.145098]\n\n[0.631373 0.65098 … 0.639216 0.619608; 0.662745 0.67451 … 0.596078 0.568627; … ; 0.188235 0.184314 … 0.168627 0.168627; 0.196078 0.184314 … 0.14902 0.152941]\n\n[0.760784 0.780392 … 0.764706 0.737255; 0.792157 0.803922 … 0.741176 0.701961; … ; 0.258824 0.254902 … 0.227451 0.227451; 0.270588 0.254902 … 0.207843 0.211765]         \n [1.0 0.996078 … 0.447059 0.462745; 0.996078 0.996078 … 0.427451 0.447059; … ; 0.94902 0.94902 … 0.992157 0.964706; 0.937255 0.94902 … 0.988235 0.992157]\n\n[0.960784 0.968628 … 0.262745 0.266667; 0.956863 0.968628 … 0.258824 0.266667; … ; 0.580392 0.580392 … 0.701961 0.666667; 0.584314 0.580392 … 0.709804 0.709804]\n\n[0.517647 0.52549 … 0.101961 0.105882; 0.513726 0.521569 … 0.105882 0.105882; … ; 0.25098 0.247059 … 0.313726 0.262745; 0.25098 0.247059 … 0.317647 0.298039]            \n [0.137255 0.156863 … 0.309804 0.34902; 0.223529 0.172549 … 0.552941 0.454902; … ; 0.239216 0.215686 … 0.0666667 0.027451; 0.172549 0.180392 … 0.0823529 0.0470588]\n\n[0.698039 0.690196 … 0.576471 0.580392; 0.713726 0.721569 … 0.694118 0.584314; … ; 0.266667 0.27451 … 0.137255 0.0901961; 0.219608 0.258824 … 0.168627 0.121569]\n\n[0.921569 0.937255 … 0.772549 0.741176; 0.917647 0.980392 … 0.807843 0.686275; … ; 0.294118 0.337255 … 0.207843 0.12549; 0.286275 0.345098 … 0.258824 0.196078]\n [0.741176 0.729412 … 0.67451 0.662745; 0.760784 0.74902 … 0.670588 0.654902; … ; 0.776471 0.741176 … 0.686275 0.686275; 0.776471 0.741176 … 0.768628 0.764706]\n\n[0.827451 0.815686 … 0.760784 0.760784; 0.823529 0.811765 … 0.74902 0.745098; … ; 0.745098 0.709804 … 0.662745 0.662745; 0.741176 0.709804 … 0.741176 0.745098]\n\n[0.941177 0.92549 … 0.870588 0.862745; 0.937255 0.92549 … 0.854902 0.847059; … ; 0.666667 0.623529 … 0.611765 0.603922; 0.678431 0.635294 … 0.670588 0.670588]      \n [0.898039 0.92549 … 0.866667 0.870588; 0.870588 0.937255 … 0.890196 0.823529; … ; 0.537255 0.509804 … 0.792157 0.831373; 0.478431 0.462745 … 0.643137 0.639216]\n\n[0.898039 0.929412 … 0.87451 0.87451; 0.866667 0.937255 … 0.894118 0.827451; … ; 0.517647 0.498039 … 0.788235 0.827451; 0.466667 0.454902 … 0.643137 0.639216]\n\n[0.937255 0.968628 … 0.917647 0.913726; 0.898039 0.976471 … 0.933333 0.862745; … ; 0.494118 0.470588 … 0.776471 0.811765; 0.447059 0.431373 … 0.635294 0.631373]    "
     },
     "metadata": {},
     "execution_count": 39
    }
   ],
   "cell_type": "code",
   "source": [
    "getarray(X) = float.(permutedims(channelview(X), (2, 3, 1)))\n",
    "imgs = [getarray(X[i].img) for i in 1:50000]"
   ],
   "metadata": {},
   "execution_count": 39
  },
  {
   "outputs": [],
   "cell_type": "markdown",
   "source": [
    "The first 49k images (in batches of 1000) will be our training set, and the rest is\n",
    "for validation. `partition` handily breaks down the set we give it in consecutive parts\n",
    "(1000 in this case). `cat` is a shorthand for concatenating multi-dimensional arrays along\n",
    "any dimension."
   ],
   "metadata": {}
  },
  {
   "outputs": [
    {
     "output_type": "execute_result",
     "data": {
      "text/plain": "10×1000 Flux.OneHotMatrix{CuArrays.CuArray{Flux.OneHotVector,1}}:\n false  false  false  false   true  …  false  false  false  false  false\n false  false  false  false  false     false  false  false   true   true\n false  false  false  false  false      true  false  false  false  false\n false  false  false  false  false     false  false  false  false  false\n false  false   true  false  false     false  false  false  false  false\n false  false  false  false  false  …  false  false  false  false  false\n false  false  false  false  false     false   true  false  false  false\n false  false  false  false  false     false  false  false  false  false\n  true  false  false  false  false     false  false  false  false  false\n false   true  false   true  false     false  false   true  false  false"
     },
     "metadata": {},
     "execution_count": 40
    }
   ],
   "cell_type": "code",
   "source": [
    "train = gpu.([(cat(imgs[i]..., dims = 4), labels[:,i]) for i in partition(1:49000, 1000)])\n",
    "valset = 49001:50000\n",
    "valX = cat(imgs[valset]..., dims = 4) |> gpu\n",
    "valY = labels[:, valset] |> gpu"
   ],
   "metadata": {},
   "execution_count": 40
  },
  {
   "outputs": [],
   "cell_type": "markdown",
   "source": [
    "## Defining the Classifier\n",
    "--------------------------\n",
    "Now we can define our Convolutional Neural Network (CNN)."
   ],
   "metadata": {}
  },
  {
   "outputs": [],
   "cell_type": "markdown",
   "source": [
    "A convolutional neural network is one which defines a kernel and slides it across a matrix\n",
    "to create an intermediate representation to extract features from. It creates higher order\n",
    "features as it goes into deeper layers, making it suitable for images, where the strucure of\n",
    "the subject is what will help us determine which class it belongs to."
   ],
   "metadata": {}
  },
  {
   "outputs": [
    {
     "name": "stdout",
     "output_type": "stream",
     "text": [
      "┌ Warning: Momentum(params) is deprecated; use Momentum(η::Float64) instead\n",
      "│   caller = top-level scope at none:0\n",
      "└ @ Core none:0\n"
     ]
    },
    {
     "output_type": "execute_result",
     "data": {
      "text/plain": "#24 (generic function with 1 method)"
     },
     "metadata": {},
     "execution_count": 41
    }
   ],
   "cell_type": "code",
   "source": [
    "m = Chain(\n",
    "  Conv((5,5), 3=>16, relu),\n",
    "  MaxPool((2,2)),\n",
    "  Conv((5,5), 16=>8, relu),\n",
    "  MaxPool((2,2)),\n",
    "  x -> reshape(x, :, size(x, 4)),\n",
    "  Dense(200, 120),\n",
    "  Dense(120, 84),\n",
    "  Dense(84, 10),\n",
    "  softmax) |> gpu\n",
    "# We will use a crossentropy loss and an Momentum optimiser here. Crossentropy will be a\n",
    "# good option when it comes to working with mulitple independent classes. Momentum gradually\n",
    "# lowers the learning rate as we proceed with the training. It helps maintain a bit of\n",
    "# adaptivity in our optimisation, preventing us from over shooting from our desired destination.\n",
    "using Flux: crossentropy, Momentum\n",
    "\n",
    "loss(x, y) = sum(crossentropy(m(x), y))\n",
    "opt = Momentum(params(m), 0.01)"
   ],
   "metadata": {},
   "execution_count": 41
  },
  {
   "outputs": [],
   "cell_type": "markdown",
   "source": [
    "We can start writing our train loop where we will keep track of some basic accuracy\n",
    "numbers about our model. We can define an `accuracy` function for it like so."
   ],
   "metadata": {}
  },
  {
   "outputs": [
    {
     "output_type": "execute_result",
     "data": {
      "text/plain": "accuracy (generic function with 1 method)"
     },
     "metadata": {},
     "execution_count": 42
    }
   ],
   "cell_type": "code",
   "source": [
    "accuracy(x, y) = mean(onecold(m(x), 1:10) .== onecold(y, 1:10))"
   ],
   "metadata": {},
   "execution_count": 42
  },
  {
   "outputs": [],
   "cell_type": "markdown",
   "source": [
    "## Training\n",
    "-----------"
   ],
   "metadata": {}
  },
  {
   "outputs": [],
   "cell_type": "markdown",
   "source": [
    "Training is where we do a bunch of the interesting operations we defined earlier,\n",
    "and see what our net is capable of. We will loop over the dataset 10 times and\n",
    "feed the inputs to the neural network and optimise."
   ],
   "metadata": {}
  },
  {
   "outputs": [
    {
     "name": "stdout",
     "output_type": "stream",
     "text": [
      "┌ Warning: `_update_params!` is deprecated, use `update!` instead.\n",
      "│   caller = ip:0x0\n",
      "└ @ Core :-1\n",
      "accuracy(valX, valY) = 0.124\n",
      "accuracy(valX, valY) = 0.092\n",
      "accuracy(valX, valY) = 0.136\n",
      "accuracy(valX, valY) = 0.125\n",
      "accuracy(valX, valY) = 0.137\n",
      "accuracy(valX, valY) = 0.135\n",
      "accuracy(valX, valY) = 0.134\n",
      "accuracy(valX, valY) = 0.127\n",
      "accuracy(valX, valY) = 0.134\n",
      "accuracy(valX, valY) = 0.136\n",
      "accuracy(valX, valY) = 0.126\n",
      "accuracy(valX, valY) = 0.104\n",
      "accuracy(valX, valY) = 0.102\n",
      "accuracy(valX, valY) = 0.099\n",
      "accuracy(valX, valY) = 0.1\n",
      "accuracy(valX, valY) = 0.096\n",
      "accuracy(valX, valY) = 0.097\n",
      "accuracy(valX, valY) = 0.095\n",
      "accuracy(valX, valY) = 0.097\n",
      "accuracy(valX, valY) = 0.099\n",
      "accuracy(valX, valY) = 0.101\n",
      "accuracy(valX, valY) = 0.104\n",
      "accuracy(valX, valY) = 0.103\n",
      "accuracy(valX, valY) = 0.104\n",
      "accuracy(valX, valY) = 0.106\n",
      "accuracy(valX, valY) = 0.104\n",
      "accuracy(valX, valY) = 0.102\n",
      "accuracy(valX, valY) = 0.101\n",
      "accuracy(valX, valY) = 0.104\n",
      "accuracy(valX, valY) = 0.111\n",
      "accuracy(valX, valY) = 0.122\n",
      "accuracy(valX, valY) = 0.127\n",
      "accuracy(valX, valY) = 0.134\n",
      "accuracy(valX, valY) = 0.135\n",
      "accuracy(valX, valY) = 0.138\n",
      "accuracy(valX, valY) = 0.139\n",
      "accuracy(valX, valY) = 0.139\n",
      "accuracy(valX, valY) = 0.14\n",
      "accuracy(valX, valY) = 0.14\n",
      "accuracy(valX, valY) = 0.143\n",
      "accuracy(valX, valY) = 0.148\n",
      "accuracy(valX, valY) = 0.149\n",
      "accuracy(valX, valY) = 0.154\n",
      "accuracy(valX, valY) = 0.157\n",
      "accuracy(valX, valY) = 0.16\n",
      "accuracy(valX, valY) = 0.165\n",
      "accuracy(valX, valY) = 0.164\n",
      "accuracy(valX, valY) = 0.162\n",
      "accuracy(valX, valY) = 0.165\n",
      "accuracy(valX, valY) = 0.174\n",
      "accuracy(valX, valY) = 0.172\n",
      "accuracy(valX, valY) = 0.163\n",
      "accuracy(valX, valY) = 0.16\n",
      "accuracy(valX, valY) = 0.16\n",
      "accuracy(valX, valY) = 0.163\n",
      "accuracy(valX, valY) = 0.166\n",
      "accuracy(valX, valY) = 0.168\n",
      "accuracy(valX, valY) = 0.172\n",
      "accuracy(valX, valY) = 0.172\n",
      "accuracy(valX, valY) = 0.178\n",
      "accuracy(valX, valY) = 0.178\n",
      "accuracy(valX, valY) = 0.172\n",
      "accuracy(valX, valY) = 0.173\n",
      "accuracy(valX, valY) = 0.178\n",
      "accuracy(valX, valY) = 0.175\n",
      "accuracy(valX, valY) = 0.173\n",
      "accuracy(valX, valY) = 0.174\n",
      "accuracy(valX, valY) = 0.172\n",
      "accuracy(valX, valY) = 0.171\n",
      "accuracy(valX, valY) = 0.178\n",
      "accuracy(valX, valY) = 0.181\n",
      "accuracy(valX, valY) = 0.179\n",
      "accuracy(valX, valY) = 0.182\n",
      "accuracy(valX, valY) = 0.194\n",
      "accuracy(valX, valY) = 0.197\n",
      "accuracy(valX, valY) = 0.204\n",
      "accuracy(valX, valY) = 0.206\n",
      "accuracy(valX, valY) = 0.208\n",
      "accuracy(valX, valY) = 0.215\n",
      "accuracy(valX, valY) = 0.217\n",
      "accuracy(valX, valY) = 0.216\n",
      "accuracy(valX, valY) = 0.219\n",
      "accuracy(valX, valY) = 0.213\n",
      "accuracy(valX, valY) = 0.213\n",
      "accuracy(valX, valY) = 0.22\n",
      "accuracy(valX, valY) = 0.223\n",
      "accuracy(valX, valY) = 0.223\n",
      "accuracy(valX, valY) = 0.231\n",
      "accuracy(valX, valY) = 0.232\n",
      "accuracy(valX, valY) = 0.236\n",
      "accuracy(valX, valY) = 0.241\n",
      "accuracy(valX, valY) = 0.244\n",
      "accuracy(valX, valY) = 0.248\n",
      "accuracy(valX, valY) = 0.249\n",
      "accuracy(valX, valY) = 0.25\n",
      "accuracy(valX, valY) = 0.25\n",
      "accuracy(valX, valY) = 0.252\n",
      "accuracy(valX, valY) = 0.243\n",
      "accuracy(valX, valY) = 0.244\n",
      "accuracy(valX, valY) = 0.241\n",
      "accuracy(valX, valY) = 0.243\n",
      "accuracy(valX, valY) = 0.246\n",
      "accuracy(valX, valY) = 0.245\n",
      "accuracy(valX, valY) = 0.25\n",
      "accuracy(valX, valY) = 0.258\n",
      "accuracy(valX, valY) = 0.258\n",
      "accuracy(valX, valY) = 0.264\n",
      "accuracy(valX, valY) = 0.275\n",
      "accuracy(valX, valY) = 0.272\n",
      "accuracy(valX, valY) = 0.273\n",
      "accuracy(valX, valY) = 0.268\n",
      "accuracy(valX, valY) = 0.27\n",
      "accuracy(valX, valY) = 0.269\n",
      "accuracy(valX, valY) = 0.272\n",
      "accuracy(valX, valY) = 0.271\n",
      "accuracy(valX, valY) = 0.266\n",
      "accuracy(valX, valY) = 0.271\n",
      "accuracy(valX, valY) = 0.27\n",
      "accuracy(valX, valY) = 0.269\n",
      "accuracy(valX, valY) = 0.27\n",
      "accuracy(valX, valY) = 0.273\n",
      "accuracy(valX, valY) = 0.275\n",
      "accuracy(valX, valY) = 0.276\n",
      "accuracy(valX, valY) = 0.275\n",
      "accuracy(valX, valY) = 0.276\n",
      "accuracy(valX, valY) = 0.276\n",
      "accuracy(valX, valY) = 0.276\n",
      "accuracy(valX, valY) = 0.281\n",
      "accuracy(valX, valY) = 0.277\n",
      "accuracy(valX, valY) = 0.284\n",
      "accuracy(valX, valY) = 0.279\n",
      "accuracy(valX, valY) = 0.279\n",
      "accuracy(valX, valY) = 0.278\n",
      "accuracy(valX, valY) = 0.279\n",
      "accuracy(valX, valY) = 0.282\n",
      "accuracy(valX, valY) = 0.282\n",
      "accuracy(valX, valY) = 0.286\n",
      "accuracy(valX, valY) = 0.29\n",
      "accuracy(valX, valY) = 0.289\n",
      "accuracy(valX, valY) = 0.289\n",
      "accuracy(valX, valY) = 0.288\n",
      "accuracy(valX, valY) = 0.284\n",
      "accuracy(valX, valY) = 0.294\n",
      "accuracy(valX, valY) = 0.292\n",
      "accuracy(valX, valY) = 0.296\n",
      "accuracy(valX, valY) = 0.289\n",
      "accuracy(valX, valY) = 0.289\n",
      "accuracy(valX, valY) = 0.287\n",
      "accuracy(valX, valY) = 0.289\n",
      "accuracy(valX, valY) = 0.292\n",
      "accuracy(valX, valY) = 0.296\n",
      "accuracy(valX, valY) = 0.296\n",
      "accuracy(valX, valY) = 0.303\n",
      "accuracy(valX, valY) = 0.308\n",
      "accuracy(valX, valY) = 0.311\n",
      "accuracy(valX, valY) = 0.298\n",
      "accuracy(valX, valY) = 0.294\n",
      "accuracy(valX, valY) = 0.294\n",
      "accuracy(valX, valY) = 0.299\n",
      "accuracy(valX, valY) = 0.307\n",
      "accuracy(valX, valY) = 0.295\n",
      "accuracy(valX, valY) = 0.298\n",
      "accuracy(valX, valY) = 0.304\n",
      "accuracy(valX, valY) = 0.309\n",
      "accuracy(valX, valY) = 0.302\n",
      "accuracy(valX, valY) = 0.303\n",
      "accuracy(valX, valY) = 0.315\n",
      "accuracy(valX, valY) = 0.306\n",
      "accuracy(valX, valY) = 0.306\n",
      "accuracy(valX, valY) = 0.311\n",
      "accuracy(valX, valY) = 0.316\n",
      "accuracy(valX, valY) = 0.318\n",
      "accuracy(valX, valY) = 0.311\n",
      "accuracy(valX, valY) = 0.313\n",
      "accuracy(valX, valY) = 0.312\n",
      "accuracy(valX, valY) = 0.317\n",
      "accuracy(valX, valY) = 0.319\n",
      "accuracy(valX, valY) = 0.326\n",
      "accuracy(valX, valY) = 0.327\n",
      "accuracy(valX, valY) = 0.319\n",
      "accuracy(valX, valY) = 0.332\n",
      "accuracy(valX, valY) = 0.329\n",
      "accuracy(valX, valY) = 0.328\n",
      "accuracy(valX, valY) = 0.332\n",
      "accuracy(valX, valY) = 0.322\n",
      "accuracy(valX, valY) = 0.323\n",
      "accuracy(valX, valY) = 0.332\n",
      "accuracy(valX, valY) = 0.337\n",
      "accuracy(valX, valY) = 0.334\n",
      "accuracy(valX, valY) = 0.338\n",
      "accuracy(valX, valY) = 0.335\n",
      "accuracy(valX, valY) = 0.329\n",
      "accuracy(valX, valY) = 0.327\n",
      "accuracy(valX, valY) = 0.326\n",
      "accuracy(valX, valY) = 0.341\n",
      "accuracy(valX, valY) = 0.344\n",
      "accuracy(valX, valY) = 0.339\n",
      "accuracy(valX, valY) = 0.334\n",
      "accuracy(valX, valY) = 0.339\n",
      "accuracy(valX, valY) = 0.35\n",
      "accuracy(valX, valY) = 0.344\n",
      "accuracy(valX, valY) = 0.342\n",
      "accuracy(valX, valY) = 0.344\n",
      "accuracy(valX, valY) = 0.334\n",
      "accuracy(valX, valY) = 0.283\n",
      "accuracy(valX, valY) = 0.344\n",
      "accuracy(valX, valY) = 0.31\n",
      "accuracy(valX, valY) = 0.268\n",
      "accuracy(valX, valY) = 0.299\n",
      "accuracy(valX, valY) = 0.286\n",
      "accuracy(valX, valY) = 0.337\n",
      "accuracy(valX, valY) = 0.316\n",
      "accuracy(valX, valY) = 0.347\n",
      "accuracy(valX, valY) = 0.32\n",
      "accuracy(valX, valY) = 0.343\n",
      "accuracy(valX, valY) = 0.344\n",
      "accuracy(valX, valY) = 0.353\n",
      "accuracy(valX, valY) = 0.349\n",
      "accuracy(valX, valY) = 0.362\n",
      "accuracy(valX, valY) = 0.365\n",
      "accuracy(valX, valY) = 0.354\n",
      "accuracy(valX, valY) = 0.36\n",
      "accuracy(valX, valY) = 0.356\n",
      "accuracy(valX, valY) = 0.357\n",
      "accuracy(valX, valY) = 0.357\n",
      "accuracy(valX, valY) = 0.346\n",
      "accuracy(valX, valY) = 0.355\n",
      "accuracy(valX, valY) = 0.361\n",
      "accuracy(valX, valY) = 0.372\n",
      "accuracy(valX, valY) = 0.352\n",
      "accuracy(valX, valY) = 0.376\n",
      "accuracy(valX, valY) = 0.383\n",
      "accuracy(valX, valY) = 0.373\n",
      "accuracy(valX, valY) = 0.384\n",
      "accuracy(valX, valY) = 0.376\n",
      "accuracy(valX, valY) = 0.364\n",
      "accuracy(valX, valY) = 0.36\n",
      "accuracy(valX, valY) = 0.365\n",
      "accuracy(valX, valY) = 0.361\n",
      "accuracy(valX, valY) = 0.378\n",
      "accuracy(valX, valY) = 0.375\n",
      "accuracy(valX, valY) = 0.362\n",
      "accuracy(valX, valY) = 0.378\n",
      "accuracy(valX, valY) = 0.377\n",
      "accuracy(valX, valY) = 0.36\n",
      "accuracy(valX, valY) = 0.365\n",
      "accuracy(valX, valY) = 0.367\n",
      "accuracy(valX, valY) = 0.374\n",
      "accuracy(valX, valY) = 0.379\n",
      "accuracy(valX, valY) = 0.385\n",
      "accuracy(valX, valY) = 0.377\n",
      "accuracy(valX, valY) = 0.377\n",
      "accuracy(valX, valY) = 0.387\n",
      "accuracy(valX, valY) = 0.378\n",
      "accuracy(valX, valY) = 0.352\n",
      "accuracy(valX, valY) = 0.372\n",
      "accuracy(valX, valY) = 0.381\n",
      "accuracy(valX, valY) = 0.387\n",
      "accuracy(valX, valY) = 0.394\n",
      "accuracy(valX, valY) = 0.395\n",
      "accuracy(valX, valY) = 0.39\n",
      "accuracy(valX, valY) = 0.38\n",
      "accuracy(valX, valY) = 0.388\n",
      "accuracy(valX, valY) = 0.385\n",
      "accuracy(valX, valY) = 0.38\n",
      "accuracy(valX, valY) = 0.391\n",
      "accuracy(valX, valY) = 0.381\n",
      "accuracy(valX, valY) = 0.379\n",
      "accuracy(valX, valY) = 0.376\n",
      "accuracy(valX, valY) = 0.38\n",
      "accuracy(valX, valY) = 0.388\n",
      "accuracy(valX, valY) = 0.392\n",
      "accuracy(valX, valY) = 0.384\n",
      "accuracy(valX, valY) = 0.397\n",
      "accuracy(valX, valY) = 0.39\n",
      "accuracy(valX, valY) = 0.368\n",
      "accuracy(valX, valY) = 0.393\n",
      "accuracy(valX, valY) = 0.363\n",
      "accuracy(valX, valY) = 0.346\n",
      "accuracy(valX, valY) = 0.385\n",
      "accuracy(valX, valY) = 0.379\n",
      "accuracy(valX, valY) = 0.378\n",
      "accuracy(valX, valY) = 0.39\n",
      "accuracy(valX, valY) = 0.388\n",
      "accuracy(valX, valY) = 0.379\n",
      "accuracy(valX, valY) = 0.383\n",
      "accuracy(valX, valY) = 0.369\n",
      "accuracy(valX, valY) = 0.386\n",
      "accuracy(valX, valY) = 0.368\n",
      "accuracy(valX, valY) = 0.397\n",
      "accuracy(valX, valY) = 0.385\n",
      "accuracy(valX, valY) = 0.387\n",
      "accuracy(valX, valY) = 0.394\n",
      "accuracy(valX, valY) = 0.373\n",
      "accuracy(valX, valY) = 0.377\n",
      "accuracy(valX, valY) = 0.388\n",
      "accuracy(valX, valY) = 0.399\n",
      "accuracy(valX, valY) = 0.391\n",
      "accuracy(valX, valY) = 0.406\n",
      "accuracy(valX, valY) = 0.394\n",
      "accuracy(valX, valY) = 0.394\n",
      "accuracy(valX, valY) = 0.408\n",
      "accuracy(valX, valY) = 0.398\n",
      "accuracy(valX, valY) = 0.38\n",
      "accuracy(valX, valY) = 0.392\n",
      "accuracy(valX, valY) = 0.392\n",
      "accuracy(valX, valY) = 0.403\n",
      "accuracy(valX, valY) = 0.402\n",
      "accuracy(valX, valY) = 0.399\n",
      "accuracy(valX, valY) = 0.393\n",
      "accuracy(valX, valY) = 0.384\n",
      "accuracy(valX, valY) = 0.396\n",
      "accuracy(valX, valY) = 0.377\n",
      "accuracy(valX, valY) = 0.408\n",
      "accuracy(valX, valY) = 0.399\n",
      "accuracy(valX, valY) = 0.4\n",
      "accuracy(valX, valY) = 0.394\n",
      "accuracy(valX, valY) = 0.39\n",
      "accuracy(valX, valY) = 0.405\n",
      "accuracy(valX, valY) = 0.403\n",
      "accuracy(valX, valY) = 0.404\n",
      "accuracy(valX, valY) = 0.396\n",
      "accuracy(valX, valY) = 0.41\n",
      "accuracy(valX, valY) = 0.403\n",
      "accuracy(valX, valY) = 0.374\n",
      "accuracy(valX, valY) = 0.383\n",
      "accuracy(valX, valY) = 0.38\n",
      "accuracy(valX, valY) = 0.344\n",
      "accuracy(valX, valY) = 0.376\n",
      "accuracy(valX, valY) = 0.404\n",
      "accuracy(valX, valY) = 0.357\n",
      "accuracy(valX, valY) = 0.386\n",
      "accuracy(valX, valY) = 0.393\n",
      "accuracy(valX, valY) = 0.351\n",
      "accuracy(valX, valY) = 0.388\n",
      "accuracy(valX, valY) = 0.369\n",
      "accuracy(valX, valY) = 0.376\n",
      "accuracy(valX, valY) = 0.388\n",
      "accuracy(valX, valY) = 0.383\n",
      "accuracy(valX, valY) = 0.394\n",
      "accuracy(valX, valY) = 0.365\n",
      "accuracy(valX, valY) = 0.383\n",
      "accuracy(valX, valY) = 0.385\n",
      "accuracy(valX, valY) = 0.386\n",
      "accuracy(valX, valY) = 0.4\n",
      "accuracy(valX, valY) = 0.408\n",
      "accuracy(valX, valY) = 0.398\n",
      "accuracy(valX, valY) = 0.393\n",
      "accuracy(valX, valY) = 0.4\n",
      "accuracy(valX, valY) = 0.409\n",
      "accuracy(valX, valY) = 0.383\n",
      "accuracy(valX, valY) = 0.398\n",
      "accuracy(valX, valY) = 0.396\n",
      "accuracy(valX, valY) = 0.37\n",
      "accuracy(valX, valY) = 0.389\n",
      "accuracy(valX, valY) = 0.408\n",
      "accuracy(valX, valY) = 0.357\n",
      "accuracy(valX, valY) = 0.403\n",
      "accuracy(valX, valY) = 0.37\n",
      "accuracy(valX, valY) = 0.364\n",
      "accuracy(valX, valY) = 0.399\n",
      "accuracy(valX, valY) = 0.408\n",
      "accuracy(valX, valY) = 0.41\n",
      "accuracy(valX, valY) = 0.399\n",
      "accuracy(valX, valY) = 0.411\n",
      "accuracy(valX, valY) = 0.399\n",
      "accuracy(valX, valY) = 0.399\n",
      "accuracy(valX, valY) = 0.41\n",
      "accuracy(valX, valY) = 0.411\n",
      "accuracy(valX, valY) = 0.41\n",
      "accuracy(valX, valY) = 0.413\n",
      "accuracy(valX, valY) = 0.399\n",
      "accuracy(valX, valY) = 0.4\n",
      "accuracy(valX, valY) = 0.396\n",
      "accuracy(valX, valY) = 0.388\n",
      "accuracy(valX, valY) = 0.398\n",
      "accuracy(valX, valY) = 0.377\n",
      "accuracy(valX, valY) = 0.404\n",
      "accuracy(valX, valY) = 0.415\n",
      "accuracy(valX, valY) = 0.392\n",
      "accuracy(valX, valY) = 0.412\n",
      "accuracy(valX, valY) = 0.393\n",
      "accuracy(valX, valY) = 0.381\n",
      "accuracy(valX, valY) = 0.402\n",
      "accuracy(valX, valY) = 0.406\n",
      "accuracy(valX, valY) = 0.39\n",
      "accuracy(valX, valY) = 0.406\n",
      "accuracy(valX, valY) = 0.403\n",
      "accuracy(valX, valY) = 0.392\n",
      "accuracy(valX, valY) = 0.401\n",
      "accuracy(valX, valY) = 0.405\n",
      "accuracy(valX, valY) = 0.386\n",
      "accuracy(valX, valY) = 0.415\n",
      "accuracy(valX, valY) = 0.408\n",
      "accuracy(valX, valY) = 0.404\n",
      "accuracy(valX, valY) = 0.397\n",
      "accuracy(valX, valY) = 0.409\n",
      "accuracy(valX, valY) = 0.402\n",
      "accuracy(valX, valY) = 0.417\n",
      "accuracy(valX, valY) = 0.411\n",
      "accuracy(valX, valY) = 0.417\n",
      "accuracy(valX, valY) = 0.393\n",
      "accuracy(valX, valY) = 0.399\n",
      "accuracy(valX, valY) = 0.406\n",
      "accuracy(valX, valY) = 0.41\n",
      "accuracy(valX, valY) = 0.397\n",
      "accuracy(valX, valY) = 0.404\n",
      "accuracy(valX, valY) = 0.369\n",
      "accuracy(valX, valY) = 0.372\n",
      "accuracy(valX, valY) = 0.398\n",
      "accuracy(valX, valY) = 0.356\n",
      "accuracy(valX, valY) = 0.404\n",
      "accuracy(valX, valY) = 0.412\n",
      "accuracy(valX, valY) = 0.403\n",
      "accuracy(valX, valY) = 0.411\n",
      "accuracy(valX, valY) = 0.415\n",
      "accuracy(valX, valY) = 0.409\n",
      "accuracy(valX, valY) = 0.402\n",
      "accuracy(valX, valY) = 0.415\n",
      "accuracy(valX, valY) = 0.399\n",
      "accuracy(valX, valY) = 0.391\n",
      "accuracy(valX, valY) = 0.406\n",
      "accuracy(valX, valY) = 0.387\n",
      "accuracy(valX, valY) = 0.404\n",
      "accuracy(valX, valY) = 0.377\n",
      "accuracy(valX, valY) = 0.366\n",
      "accuracy(valX, valY) = 0.398\n",
      "accuracy(valX, valY) = 0.398\n",
      "accuracy(valX, valY) = 0.396\n",
      "accuracy(valX, valY) = 0.395\n",
      "accuracy(valX, valY) = 0.385\n",
      "accuracy(valX, valY) = 0.402\n",
      "accuracy(valX, valY) = 0.397\n",
      "accuracy(valX, valY) = 0.42\n",
      "accuracy(valX, valY) = 0.423\n",
      "accuracy(valX, valY) = 0.402\n",
      "accuracy(valX, valY) = 0.404\n",
      "accuracy(valX, valY) = 0.405\n",
      "accuracy(valX, valY) = 0.395\n",
      "accuracy(valX, valY) = 0.406\n",
      "accuracy(valX, valY) = 0.405\n",
      "accuracy(valX, valY) = 0.415\n",
      "accuracy(valX, valY) = 0.411\n",
      "accuracy(valX, valY) = 0.416\n",
      "accuracy(valX, valY) = 0.417\n",
      "accuracy(valX, valY) = 0.407\n",
      "accuracy(valX, valY) = 0.413\n",
      "accuracy(valX, valY) = 0.413\n",
      "accuracy(valX, valY) = 0.418\n",
      "accuracy(valX, valY) = 0.42\n",
      "accuracy(valX, valY) = 0.392\n",
      "accuracy(valX, valY) = 0.396\n",
      "accuracy(valX, valY) = 0.412\n",
      "accuracy(valX, valY) = 0.419\n",
      "accuracy(valX, valY) = 0.409\n",
      "accuracy(valX, valY) = 0.406\n",
      "accuracy(valX, valY) = 0.371\n",
      "accuracy(valX, valY) = 0.379\n",
      "accuracy(valX, valY) = 0.412\n",
      "accuracy(valX, valY) = 0.365\n",
      "accuracy(valX, valY) = 0.416\n",
      "accuracy(valX, valY) = 0.407\n",
      "accuracy(valX, valY) = 0.405\n",
      "accuracy(valX, valY) = 0.418\n",
      "accuracy(valX, valY) = 0.425\n",
      "accuracy(valX, valY) = 0.402\n",
      "accuracy(valX, valY) = 0.424\n",
      "accuracy(valX, valY) = 0.414\n",
      "accuracy(valX, valY) = 0.405\n",
      "accuracy(valX, valY) = 0.407\n",
      "accuracy(valX, valY) = 0.417\n",
      "accuracy(valX, valY) = 0.397\n",
      "accuracy(valX, valY) = 0.404\n",
      "accuracy(valX, valY) = 0.381\n",
      "accuracy(valX, valY) = 0.358\n",
      "accuracy(valX, valY) = 0.403\n",
      "accuracy(valX, valY) = 0.416\n",
      "accuracy(valX, valY) = 0.382\n",
      "accuracy(valX, valY) = 0.407\n",
      "accuracy(valX, valY) = 0.39\n",
      "accuracy(valX, valY) = 0.378\n",
      "accuracy(valX, valY) = 0.411\n",
      "accuracy(valX, valY) = 0.405\n",
      "accuracy(valX, valY) = 0.383\n",
      "accuracy(valX, valY) = 0.421\n",
      "accuracy(valX, valY) = 0.393\n",
      "accuracy(valX, valY) = 0.398\n",
      "accuracy(valX, valY) = 0.406\n",
      "accuracy(valX, valY) = 0.411\n",
      "accuracy(valX, valY) = 0.402\n"
     ]
    }
   ],
   "cell_type": "code",
   "source": [
    "epochs = 10\n",
    "\n",
    "for epoch = 1:epochs\n",
    "  for d in train\n",
    "    l = loss(d...)\n",
    "    back!(l)\n",
    "    opt()\n",
    "    @show accuracy(valX, valY)\n",
    "  end\n",
    "end"
   ],
   "metadata": {},
   "execution_count": 43
  },
  {
   "outputs": [],
   "cell_type": "markdown",
   "source": [
    "Seeing our training routine unfold gives us an idea of how the network learnt the\n",
    "This is not bad for a small hand-written network, trained for a limited time."
   ],
   "metadata": {}
  },
  {
   "outputs": [],
   "cell_type": "markdown",
   "source": [
    "Training on a GPU\n",
    "-----------------"
   ],
   "metadata": {}
  },
  {
   "outputs": [],
   "cell_type": "markdown",
   "source": [
    "The `gpu` functions you see sprinkled through this bit of the code tell Flux to move\n",
    "these entities to an available GPU, and subsequently train on it. No extra faffing\n",
    "about required! The same bit of code would work on any hardware with some small\n",
    "annotations like you saw here."
   ],
   "metadata": {}
  },
  {
   "outputs": [],
   "cell_type": "markdown",
   "source": [
    "## Testing the Network\n",
    "----------------------"
   ],
   "metadata": {}
  },
  {
   "outputs": [],
   "cell_type": "markdown",
   "source": [
    "We have trained the network for 100 passes over the training dataset. But we need to\n",
    "check if the network has learnt anything at all."
   ],
   "metadata": {}
  },
  {
   "outputs": [],
   "cell_type": "markdown",
   "source": [
    "We will check this by predicting the class label that the neural network outputs, and\n",
    "checking it against the ground-truth. If the prediction is correct, we add the sample\n",
    "to the list of correct predictions. This will be done on a yet unseen section of data."
   ],
   "metadata": {}
  },
  {
   "outputs": [],
   "cell_type": "markdown",
   "source": [
    "Okay, first step. Let us perform the exact same preprocessing on this set, as we did\n",
    "on our training set."
   ],
   "metadata": {}
  },
  {
   "outputs": [
    {
     "output_type": "execute_result",
     "data": {
      "text/plain": "10-element Array{Tuple{CuArrays.CuArray{Float32,4},Flux.OneHotMatrix{CuArrays.CuArray{Flux.OneHotVector,1}}},1}:\n ([0.619608 0.623529 … 0.494118 0.454902; 0.596078 0.592157 … 0.490196 0.466667; … ; 0.239216 0.192157 … 0.113725 0.0784314; 0.211765 0.219608 … 0.133333 0.0823529]\n\n[0.439216 0.435294 … 0.356863 0.333333; 0.439216 0.431373 … 0.356863 0.345098; … ; 0.454902 0.4 … 0.321569 0.25098; 0.419608 0.411765 … 0.329412 0.262745]\n\n[0.192157 0.184314 … 0.141176 0.129412; 0.2 0.156863 … 0.12549 0.133333; … ; 0.658824 0.580392 … 0.494118 0.419608; 0.627451 0.584314 … 0.505882 0.431373]\n\n[0.921569 0.905882 … 0.913726 0.909804; 0.933333 0.921569 … 0.92549 0.921569; … ; 0.321569 0.180392 … 0.72549 0.733333; 0.333333 0.243137 … 0.705882 0.729412]\n\n[0.921569 0.905882 … 0.913726 0.909804; 0.933333 0.921569 … 0.92549 0.921569; … ; 0.376471 0.223529 … 0.784314 0.792157; 0.396078 0.294118 … 0.764706 0.784314]\n\n[0.921569 0.905882 … 0.913726 0.909804; 0.933333 0.921569 … 0.92549 0.921569; … ; 0.321569 0.141176 … 0.768628 0.784314; 0.32549 0.188235 … 0.74902 0.780392]\n\n[0.619608 0.619608 … 0.929412 0.933333; 0.666667 0.67451 … 0.964706 0.964706; … ; 0.0901961 0.105882 … 0.0156863 0.0196078; 0.109804 0.117647 … 0.0156863 0.027451]\n\n[0.745098 0.733333 … 0.937255 0.945098; 0.784314 0.780392 … 0.964706 0.968628; … ; 0.133333 0.14902 … 0.0235294 0.027451; 0.160784 0.168627 … 0.0196078 0.0313726]\n\n[0.870588 0.854902 … 0.952941 0.964706; 0.898039 0.886275 … 0.980392 0.984314; … ; 0.152941 0.168627 … 0.0117647 0.0117647; 0.184314 0.196078 … 0.0117647 0.027451]\n\n...\n\n[0.403922 0.486275 … 0.0392157 0.0588235; 0.635294 0.478431 … 0.0705882 0.0431373; … ; 0.490196 0.482353 … 0.203922 0.341176; 0.47451 0.466667 … 0.207843 0.262745]\n\n[0.486275 0.584314 … 0.0588235 0.0745098; 0.686275 0.537255 … 0.0862745 0.0470588; … ; 0.482353 0.478431 … 0.152941 0.219608; 0.466667 0.458824 … 0.188235 0.164706]\n\n[0.396078 0.470588 … 0.0352941 0.0509804; 0.580392 0.419608 … 0.0627451 0.0313726; … ; 0.52549 0.517647 … 0.137255 0.168627; 0.513726 0.505882 … 0.196078 0.145098]\n\n[0.301961 0.282353 … 0.219608 0.219608; 0.290196 0.278431 … 0.223529 0.211765; … ; 0.27451 0.301961 … 0.152941 0.12549; 0.188235 0.223529 … 0.0941177 0.137255]\n\n[0.447059 0.435294 … 0.227451 0.227451; 0.419608 0.364706 … 0.235294 0.227451; … ; 0.34902 0.34902 … 0.152941 0.152941; 0.286275 0.278431 … 0.105882 0.172549]\n\n[0.129412 0.0980392 … 0.164706 0.156863; 0.133333 0.121569 … 0.176471 0.152941; … ; 0.101961 0.12549 … 0.137255 0.109804; 0.0470588 0.0823529 … 0.0862745 0.117647]\n\n[0.686275 0.690196 … 0.745098 0.737255; 0.694118 0.701961 … 0.752941 0.74902; … ; 0.454902 0.431373 … 0.305882 0.392157; 0.443137 0.415686 … 0.278431 0.364706]\n\n[0.705882 0.709804 … 0.8 0.792157; 0.713726 0.721569 … 0.807843 0.803922; … ; 0.45098 0.435294 … 0.364706 0.458824; 0.439216 0.419608 … 0.333333 0.431373]\n\n[0.682353 0.686275 … 0.811765 0.803922; 0.690196 0.698039 … 0.819608 0.815686; … ; 0.482353 0.47451 … 0.443137 0.54902; 0.466667 0.458824 … 0.403922 0.513726], [false false … false false; false false … false false; … ; false true … false true; false false … false false])              \n ([0.0705882 0.0784314 … 0.294118 0.403922; 0.301961 0.184314 … 0.384314 0.356863; … ; 0.4 0.4 … 0.137255 0.133333; 0.396078 0.4 … 0.137255 0.145098]\n\n[0.0666667 0.0784314 … 0.215686 0.286275; 0.282353 0.188235 … 0.270588 0.247059; … ; 0.301961 0.301961 … 0.105882 0.101961; 0.294118 0.301961 … 0.109804 0.113725]\n\n[0.0509804 0.0588235 … 0.160784 0.207843; 0.25098 0.172549 … 0.203922 0.184314; … ; 0.223529 0.223529 … 0.0941177 0.0941177; 0.215686 0.223529 … 0.101961 0.105882]\n\n[0.156863 0.180392 … 0.0862745 0.0823529; 0.184314 0.196078 … 0.0823529 0.0862745; … ; 0.0784314 0.117647 … 0.164706 0.160784; 0.0823529 0.0901961 … 0.14902 0.14902]\n\n[0.188235 0.211765 … 0.141176 0.141176; 0.2 0.223529 … 0.137255 0.133333; … ; 0.0980392 0.14902 … 0.2 0.203922; 0.101961 0.12549 … 0.188235 0.188235]\n\n[0.184314 0.215686 … 0.141176 0.129412; 0.192157 0.227451 … 0.137255 0.12549; … ; 0.0745098 0.109804 … 0.156863 0.156863; 0.0784314 0.0862745 … 0.145098 0.141176]\n\n[0.945098 0.913726 … 0.686275 0.662745; 0.94902 0.933333 … 0.619608 0.607843; … ; 0.482353 0.419608 … 0.247059 0.239216; 0.439216 0.388235 … 0.262745 0.235294]\n\n[0.956863 0.941177 … 0.670588 0.635294; 0.964706 0.941177 … 0.607843 0.584314; … ; 0.447059 0.392157 … 0.247059 0.235294; 0.403922 0.364706 … 0.262745 0.231373]\n\n[0.968628 0.952941 … 0.658824 0.623529; 0.968628 0.952941 … 0.592157 0.560784; … ; 0.419608 0.372549 … 0.258824 0.254902; 0.376471 0.345098 … 0.266667 0.243137]\n\n...\n\n[1.0 1.0 … 1.0 1.0; 1.0 0.992157 … 0.996078 0.996078; … ; 1.0 0.996078 … 1.0 1.0; 1.0 0.996078 … 1.0 1.0]\n\n[1.0 1.0 … 1.0 1.0; 1.0 0.992157 … 0.996078 0.996078; … ; 1.0 0.996078 … 1.0 1.0; 1.0 0.996078 … 1.0 1.0]\n\n[1.0 1.0 … 1.0 1.0; 1.0 0.992157 … 0.996078 0.996078; … ; 1.0 0.996078 … 1.0 1.0; 1.0 0.996078 … 1.0 1.0]\n\n[0.203922 0.294118 … 0.12549 0.117647; 0.254902 0.321569 … 0.105882 0.109804; … ; 0.337255 0.254902 … 0.203922 0.176471; 0.423529 0.298039 … 0.192157 0.180392]\n\n[0.262745 0.317647 … 0.168627 0.164706; 0.305882 0.352941 … 0.160784 0.168627; … ; 0.356863 0.294118 … 0.25098 0.227451; 0.396078 0.345098 … 0.235294 0.243137]\n\n[0.223529 0.258824 … 0.176471 0.168627; 0.235294 0.25098 … 0.172549 0.172549; … ; 0.247059 0.239216 … 0.223529 0.184314; 0.282353 0.266667 … 0.2 0.180392]\n\n[0.870588 0.858824 … 0.858824 0.862745; 0.870588 0.854902 … 0.858824 0.854902; … ; 0.87451 0.854902 … 0.858824 0.858824; 0.870588 0.858824 … 0.858824 0.854902]\n\n[0.611765 0.6 … 0.603922 0.607843; 0.607843 0.596078 … 0.6 0.6; … ; 0.611765 0.6 … 0.6 0.6; 0.611765 0.6 … 0.603922 0.603922]\n\n[0.992157 0.980392 … 0.980392 0.980392; 0.992157 0.988235 … 0.988235 0.976471; … ; 1.0 0.976471 … 0.984314 0.992157; 0.996078 0.992157 … 0.976471 0.972549], [false true … false false; false false … false false; … ; false false … true false; false false … false false])                                                                                                                                                                                                                                          \n ([0.384314 0.611765 … 0.376471 0.364706; 0.254902 0.337255 … 0.0705882 0.0156863; … ; 0.505882 0.545098 … 0.403922 0.396078; 0.505882 0.533333 … 0.384314 0.352941]\n\n[0.388235 0.596078 … 0.4 0.368627; 0.247059 0.321569 … 0.0588235 0.0196078; … ; 0.482353 0.513726 … 0.443137 0.435294; 0.482353 0.501961 … 0.423529 0.392157]\n\n[0.533333 0.729412 … 0.403922 0.352941; 0.392157 0.352941 … 0.0705882 0.0156863; … ; 0.407843 0.443137 … 0.388235 0.388235; 0.411765 0.431373 … 0.384314 0.352941]\n\n[0.803922 0.803922 … 0.807843 0.670588; 0.811765 0.819608 … 0.698039 0.52549; … ; 0.317647 0.313726 … 0.643137 0.843137; 0.294118 0.266667 … 0.694118 0.819608]\n\n[0.784314 0.776471 … 0.815686 0.67451; 0.788235 0.792157 … 0.682353 0.509804; … ; 0.196078 0.176471 … 0.647059 0.839216; 0.168627 0.141176 … 0.690196 0.815686]\n\n[0.686275 0.678431 … 0.698039 0.54902; 0.694118 0.694118 … 0.568627 0.403922; … ; 0.101961 0.0627451 … 0.537255 0.729412; 0.0705882 0.0509804 … 0.584314 0.713726]\n\n[0.454902 0.411765 … 0.258824 0.317647; 0.372549 0.329412 … 0.231373 0.278431; … ; 0.168627 0.180392 … 0.447059 0.298039; 0.180392 0.231373 … 0.352941 0.270588]\n\n[0.490196 0.458824 … 0.388235 0.431373; 0.466667 0.439216 … 0.407843 0.443137; … ; 0.188235 0.2 … 0.396078 0.27451; 0.215686 0.266667 … 0.32549 0.25098]\n\n[0.596078 0.588235 … 0.52549 0.576471; 0.568627 0.552941 … 0.513726 0.529412; … ; 0.137255 0.14902 … 0.352941 0.258824; 0.152941 0.2 … 0.282353 0.227451]\n\n...\n\n[0.172549 0.176471 … 0.164706 0.172549; 0.196078 0.188235 … 0.172549 0.180392; … ; 0.105882 0.105882 … 0.309804 0.301961; 0.0509804 0.0470588 … 0.313726 0.305882]\n\n[0.137255 0.141176 … 0.164706 0.168627; 0.168627 0.160784 … 0.160784 0.164706; … ; 0.113725 0.113725 … 0.317647 0.309804; 0.0705882 0.0666667 … 0.321569 0.313726]\n\n[0.105882 0.109804 … 0.129412 0.14902; 0.129412 0.121569 … 0.129412 0.145098; … ; 0.0980392 0.0980392 … 0.313726 0.305882; 0.0627451 0.054902 … 0.317647 0.309804]\n\n[0.8 0.788235 … 0.682353 0.662745; 0.803922 0.780392 … 0.670588 0.631373; … ; 0.423529 0.360784 … 0.376471 0.372549; 0.356863 0.337255 … 0.360784 0.4]\n\n[0.843137 0.831373 … 0.709804 0.690196; 0.847059 0.819608 … 0.694118 0.654902; … ; 0.345098 0.266667 … 0.298039 0.278431; 0.278431 0.25098 … 0.286275 0.317647]\n\n[0.67451 0.662745 … 0.545098 0.52549; 0.682353 0.658824 … 0.545098 0.505882; … ; 0.301961 0.219608 … 0.211765 0.196078; 0.215686 0.180392 … 0.203922 0.243137]\n\n[0.564706 0.568627 … 0.435294 0.466667; 0.529412 0.533333 … 0.407843 0.52549; … ; 0.368627 0.341176 … 0.482353 0.501961; 0.4 0.376471 … 0.470588 0.576471]\n\n[0.898039 0.886275 … 0.560784 0.603922; 0.890196 0.878431 … 0.529412 0.666667; … ; 0.470588 0.439216 … 0.572549 0.584314; 0.466667 0.431373 … 0.584314 0.682353]\n\n[0.533333 0.556863 … 0.443137 0.447059; 0.462745 0.454902 … 0.415686 0.505882; … ; 0.352941 0.333333 … 0.486275 0.498039; 0.364706 0.34902 … 0.482353 0.580392], [false false … false false; true false … false false; … ; false false … false false; false false … false false])                                  \n ([0.0666667 0.0666667 … 0.0823529 0.0784314; 0.0823529 0.0823529 … 0.0980392 0.0901961; … ; 0.32549 0.32549 … 0.356863 0.345098; 0.317647 0.317647 … 0.360784 0.345098]\n\n[0.0745098 0.0745098 … 0.0901961 0.0823529; 0.0941177 0.0901961 … 0.0980392 0.0901961; … ; 0.32549 0.32549 … 0.368627 0.356863; 0.317647 0.317647 … 0.376471 0.360784]\n\n[0.0235294 0.0235294 … 0.0235294 0.0196078; 0.0313726 0.027451 … 0.027451 0.0196078; … ; 0.188235 0.184314 … 0.215686 0.211765; 0.184314 0.176471 … 0.227451 0.219608]\n\n[0.388235 0.282353 … 0.0980392 0.0941177; 0.360784 0.258824 … 0.0745098 0.117647; … ; 0.905882 0.921569 … 0.584314 0.607843; 0.701961 0.831373 … 0.74902 0.752941]\n\n[0.384314 0.301961 … 0.12549 0.133333; 0.372549 0.301961 … 0.0941177 0.152941; … ; 0.85098 0.854902 … 0.501961 0.533333; 0.670588 0.788235 … 0.72549 0.72549]\n\n[0.364706 0.243137 … 0.0745098 0.054902; 0.337255 0.243137 … 0.0509804 0.0745098; … ; 0.788235 0.8 … 0.482353 0.509804; 0.576471 0.713726 … 0.682353 0.686275]\n\n[0.815686 0.780392 … 0.556863 0.498039; 0.764706 0.752941 … 0.372549 0.215686; … ; 0.811765 0.815686 … 0.74902 0.72549; 0.823529 0.780392 … 0.792157 0.776471]\n\n[0.811765 0.772549 … 0.505882 0.470588; 0.756863 0.741176 … 0.313726 0.207843; … ; 0.701961 0.686275 … 0.580392 0.568627; 0.701961 0.643137 … 0.619608 0.635294]\n\n[0.847059 0.811765 … 0.462745 0.45098; 0.784314 0.768628 … 0.298039 0.207843; … ; 0.662745 0.65098 … 0.529412 0.533333; 0.666667 0.611765 … 0.576471 0.603922]\n\n...\n\n[0.52549 0.509804 … 0.239216 0.282353; 0.694118 0.603922 … 0.152941 0.184314; … ; 0.384314 0.360784 … 0.584314 0.705882; 0.360784 0.341176 … 0.729412 0.803922]\n\n[0.490196 0.478431 … 0.262745 0.305882; 0.658824 0.568627 … 0.2 0.231373; … ; 0.533333 0.537255 … 0.576471 0.686275; 0.498039 0.505882 … 0.729412 0.803922]\n\n[0.458824 0.431373 … 0.176471 0.219608; 0.631373 0.533333 … 0.105882 0.137255; … ; 0.341176 0.34902 … 0.682353 0.780392; 0.32549 0.337255 … 0.780392 0.85098]\n\n[0.47451 0.447059 … 0.278431 0.294118; 0.447059 0.439216 … 0.239216 0.266667; … ; 0.756863 0.772549 … 0.215686 0.258824; 0.784314 0.811765 … 0.231373 0.254902]\n\n[0.435294 0.411765 … 0.27451 0.294118; 0.411765 0.403922 … 0.231373 0.266667; … ; 0.709804 0.72549 … 0.219608 0.258824; 0.737255 0.768628 … 0.235294 0.258824]\n\n[0.423529 0.388235 … 0.301961 0.329412; 0.4 0.380392 … 0.254902 0.294118; … ; 0.72549 0.741176 … 0.239216 0.290196; 0.737255 0.768628 … 0.25098 0.282353]\n\n[0.745098 0.737255 … 0.737255 0.745098; 0.72549 0.713726 … 0.717647 0.729412; … ; 0.431373 0.4 … 0.376471 0.392157; 0.462745 0.45098 … 0.407843 0.407843]\n\n[0.835294 0.811765 … 0.827451 0.839216; 0.835294 0.811765 … 0.827451 0.835294; … ; 0.388235 0.352941 … 0.34902 0.364706; 0.427451 0.415686 … 0.388235 0.388235]\n\n[0.905882 0.894118 … 0.898039 0.905882; 0.898039 0.890196 … 0.890196 0.901961; … ; 0.32549 0.286275 … 0.290196 0.301961; 0.388235 0.368627 … 0.345098 0.341176], [false false … false false; false true … false false; … ; false false … false false; false false … false true])                        \n ([0.478431 0.478431 … 0.564706 0.443137; 0.486275 0.462745 … 0.541176 0.45098; … ; 0.741176 0.733333 … 0.654902 0.631373; 0.698039 0.705882 … 0.67451 0.670588]\n\n[0.584314 0.556863 … 0.388235 0.329412; 0.596078 0.545098 … 0.372549 0.298039; … ; 0.74902 0.741176 … 0.65098 0.627451; 0.713726 0.717647 … 0.670588 0.666667]\n\n[0.717647 0.662745 … 0.329412 0.309804; 0.729412 0.635294 … 0.352941 0.298039; … ; 0.717647 0.694118 … 0.572549 0.54902; 0.690196 0.678431 … 0.592157 0.588235]\n\n[0.34902 0.219608 … 0.0745098 0.219608; 0.407843 0.196078 … 0.0392157 0.12549; … ; 0.541176 0.517647 … 0.266667 0.219608; 0.498039 0.529412 … 0.278431 0.262745]\n\n[0.243137 0.176471 … 0.0627451 0.207843; 0.25098 0.129412 … 0.0235294 0.109804; … ; 0.556863 0.560784 … 0.25098 0.219608; 0.529412 0.6 … 0.235294 0.239216]\n\n[0.235294 0.160784 … 0.0470588 0.188235; 0.243137 0.109804 … 0.0196078 0.105882; … ; 0.407843 0.384314 … 0.219608 0.180392; 0.372549 0.415686 … 0.196078 0.2]\n\n[0.890196 0.901961 … 0.905882 0.917647; 0.901961 0.913726 … 0.898039 0.917647; … ; 0.231373 0.247059 … 0.337255 0.309804; 0.2 0.207843 … 0.298039 0.282353]\n\n[0.878431 0.886275 … 0.87451 0.886275; 0.870588 0.878431 … 0.854902 0.870588; … ; 0.290196 0.305882 … 0.415686 0.388235; 0.258824 0.266667 … 0.360784 0.34902]\n\n[0.819608 0.843137 … 0.796079 0.827451; 0.776471 0.796079 … 0.74902 0.792157; … ; 0.313726 0.317647 … 0.407843 0.396078; 0.282353 0.278431 … 0.341176 0.352941]\n\n...\n\n[0.839216 0.847059 … 0.992157 0.988235; 0.862745 0.878431 … 1.0 1.0; … ; 0.745098 0.768628 … 0.443137 0.52549; 0.713726 0.737255 … 0.392157 0.501961]\n\n[0.87451 0.878431 … 0.992157 0.992157; 0.898039 0.909804 … 1.0 1.0; … ; 0.768628 0.796079 … 0.352941 0.454902; 0.733333 0.760784 … 0.321569 0.439216]\n\n[0.909804 0.913726 … 0.992157 0.988235; 0.933333 0.945098 … 1.0 1.0; … ; 0.796079 0.827451 … 0.266667 0.368627; 0.752941 0.784314 … 0.258824 0.372549]\n\n[0.0941177 0.105882 … 0.0901961 0.113725; 0.101961 0.0980392 … 0.0745098 0.101961; … ; 0.207843 0.286275 … 0.478431 0.470588; 0.384314 0.486275 … 0.498039 0.494118]\n\n[0.105882 0.117647 … 0.0666667 0.0941177; 0.113725 0.109804 … 0.0509804 0.0823529; … ; 0.192157 0.254902 … 0.407843 0.403922; 0.341176 0.427451 … 0.419608 0.419608]\n\n[0.141176 0.152941 … 0.113725 0.117647; 0.14902 0.145098 … 0.0980392 0.105882; … ; 0.192157 0.247059 … 0.380392 0.380392; 0.321569 0.396078 … 0.392157 0.392157]\n\n[0.462745 0.466667 … 0.556863 0.6; 0.447059 0.443137 … 0.54902 0.635294; … ; 0.329412 0.337255 … 0.313726 0.305882; 0.345098 0.329412 … 0.337255 0.329412]\n\n[0.411765 0.415686 … 0.25098 0.294118; 0.396078 0.396078 … 0.254902 0.356863; … ; 0.301961 0.309804 … 0.278431 0.266667; 0.329412 0.317647 … 0.305882 0.294118]\n\n[0.388235 0.392157 … 0.0745098 0.117647; 0.372549 0.372549 … 0.0666667 0.14902; … ; 0.301961 0.309804 … 0.25098 0.247059; 0.270588 0.258824 … 0.270588 0.262745], [false false … false false; false false … false true; … ; true false … false false; false false … false false])                                                           \n ([0.2 0.305882 … 0.258824 0.247059; 0.509804 0.776471 … 0.227451 0.215686; … ; 0.74902 0.764706 … 0.792157 0.772549; 0.8 0.792157 … 0.717647 0.776471]\n\n[0.254902 0.341176 … 0.25098 0.25098; 0.509804 0.768628 … 0.219608 0.223529; … ; 0.698039 0.713726 … 0.733333 0.717647; 0.729412 0.72549 … 0.654902 0.717647]\n\n[0.286275 0.376471 … 0.211765 0.207843; 0.494118 0.752941 … 0.180392 0.180392; … ; 0.6 0.615686 … 0.635294 0.619608; 0.596078 0.596078 … 0.568627 0.627451]\n\n[0.647059 0.545098 … 0.345098 0.490196; 0.670588 0.682353 … 0.47451 0.529412; … ; 0.282353 0.462745 … 0.258824 0.341176; 0.454902 0.454902 … 0.2 0.27451]\n\n[0.639216 0.545098 … 0.258824 0.415686; 0.639216 0.662745 … 0.392157 0.447059; … ; 0.32549 0.498039 … 0.270588 0.341176; 0.498039 0.490196 … 0.203922 0.262745]\n\n[0.454902 0.352941 … 0.188235 0.360784; 0.466667 0.478431 … 0.305882 0.372549; … ; 0.160784 0.309804 … 0.145098 0.247059; 0.313726 0.298039 … 0.105882 0.168627]\n\n[0.584314 0.584314 … 0.588235 0.584314; 0.588235 0.588235 … 0.592157 0.584314; … ; 0.129412 0.180392 … 0.0862745 0.0862745; 0.129412 0.129412 … 0.0980392 0.105882]\n\n[0.596078 0.596078 … 0.6 0.596078; 0.6 0.6 … 0.603922 0.596078; … ; 0.227451 0.290196 … 0.145098 0.172549; 0.231373 0.219608 … 0.14902 0.164706]\n\n[0.615686 0.615686 … 0.619608 0.615686; 0.619608 0.619608 … 0.623529 0.615686; … ; 0.341176 0.396078 … 0.282353 0.305882; 0.34902 0.345098 … 0.286275 0.309804]\n\n...\n\n[0.745098 0.737255 … 0.756863 0.74902; 0.756863 0.752941 … 0.760784 0.752941; … ; 0.811765 0.811765 … 0.847059 0.847059; 0.764706 0.764706 … 0.839216 0.835294]\n\n[0.72549 0.717647 … 0.764706 0.760784; 0.737255 0.733333 … 0.768628 0.760784; … ; 0.682353 0.682353 … 0.72549 0.721569; 0.643137 0.639216 … 0.717647 0.713726]\n\n[0.709804 0.701961 … 0.752941 0.745098; 0.721569 0.717647 … 0.752941 0.74902; … ; 0.52549 0.52549 … 0.556863 0.560784; 0.494118 0.494118 … 0.545098 0.545098]\n\n[0.227451 0.152941 … 0.207843 0.262745; 0.184314 0.160784 … 0.192157 0.282353; … ; 0.482353 0.505882 … 0.505882 0.494118; 0.501961 0.509804 … 0.505882 0.486275]\n\n[0.231373 0.168627 … 0.203922 0.231373; 0.2 0.184314 … 0.227451 0.290196; … ; 0.435294 0.45098 … 0.447059 0.447059; 0.458824 0.454902 … 0.447059 0.443137]\n\n[0.321569 0.266667 … 0.227451 0.227451; 0.313726 0.301961 … 0.270588 0.317647; … ; 0.45098 0.466667 … 0.466667 0.462745; 0.47451 0.47451 … 0.466667 0.458824]\n\n[0.309804 0.305882 … 0.298039 0.294118; 0.301961 0.301961 … 0.298039 0.294118; … ; 0.305882 0.360784 … 0.466667 0.427451; 0.262745 0.32549 … 0.498039 0.443137]\n\n[0.352941 0.34902 … 0.321569 0.321569; 0.345098 0.345098 … 0.321569 0.321569; … ; 0.309804 0.352941 … 0.494118 0.454902; 0.27451 0.329412 … 0.517647 0.478431]\n\n[0.443137 0.439216 … 0.4 0.396078; 0.435294 0.431373 … 0.4 0.396078; … ; 0.262745 0.305882 … 0.439216 0.411765; 0.223529 0.282353 … 0.443137 0.403922], [false false … false false; false false … false false; … ; false false … false false; false false … false false])                                                                          \n ([0.788235 0.827451 … 0.717647 0.737255; 0.917647 0.972549 … 0.772549 0.666667; … ; 0.0823529 0.0509804 … 0.219608 0.419608; 0.580392 0.509804 … 0.505882 0.670588]\n\n[0.788235 0.827451 … 0.701961 0.721569; 0.917647 0.972549 … 0.768628 0.662745; … ; 0.0901961 0.0588235 … 0.219608 0.423529; 0.584314 0.509804 … 0.505882 0.670588]\n\n[0.788235 0.827451 … 0.72549 0.737255; 0.92549 0.980392 … 0.803922 0.678431; … ; 0.0705882 0.0509804 … 0.219608 0.419608; 0.572549 0.509804 … 0.505882 0.670588]\n\n[0.482353 0.47451 … 0.588235 0.635294; 0.482353 0.47451 … 0.717647 0.662745; … ; 0.462745 0.458824 … 0.447059 0.435294; 0.454902 0.443137 … 0.427451 0.427451]\n\n[0.870588 0.862745 … 0.847059 0.854902; 0.890196 0.878431 … 0.905882 0.862745; … ; 0.482353 0.478431 … 0.470588 0.458824; 0.47451 0.462745 … 0.45098 0.45098]\n\n[1.0 0.996078 … 0.968628 0.980392; 0.988235 0.980392 … 0.976471 0.972549; … ; 0.458824 0.454902 … 0.454902 0.443137; 0.45098 0.439216 … 0.435294 0.435294]\n\n[0.976471 0.870588 … 1.0 1.0; 0.976471 0.862745 … 1.0 1.0; … ; 0.858824 0.870588 … 0.282353 0.568627; 0.854902 0.866667 … 0.823529 0.964706]\n\n[0.976471 0.870588 … 1.0 1.0; 0.976471 0.854902 … 1.0 1.0; … ; 0.796079 0.807843 … 0.25098 0.54902; 0.792157 0.803922 … 0.811765 0.952941]\n\n[0.972549 0.858824 … 1.0 1.0; 0.964706 0.827451 … 1.0 1.0; … ; 0.415686 0.427451 … 0.227451 0.521569; 0.415686 0.423529 … 0.803922 0.94902]\n\n...\n\n[1.0 0.988235 … 0.992157 0.992157; 1.0 1.0 … 1.0 1.0; … ; 1.0 0.992157 … 1.0 1.0; 1.0 0.996078 … 1.0 1.0]\n\n[1.0 0.988235 … 0.992157 0.992157; 1.0 1.0 … 1.0 1.0; … ; 1.0 0.992157 … 1.0 1.0; 1.0 0.996078 … 1.0 1.0]\n\n[1.0 0.988235 … 0.992157 0.992157; 1.0 1.0 … 1.0 1.0; … ; 1.0 0.992157 … 1.0 1.0; 1.0 0.996078 … 1.0 1.0]\n\n[0.376471 0.368627 … 0.27451 0.266667; 0.345098 0.345098 … 0.25098 0.247059; … ; 0.145098 0.137255 … 0.0980392 0.105882; 0.133333 0.133333 … 0.0862745 0.101961]\n\n[0.541176 0.529412 … 0.435294 0.427451; 0.509804 0.505882 … 0.415686 0.411765; … ; 0.231373 0.227451 … 0.203922 0.188235; 0.215686 0.215686 … 0.188235 0.180392]\n\n[0.752941 0.737255 … 0.67451 0.666667; 0.721569 0.717647 … 0.647059 0.643137; … ; 0.305882 0.294118 … 0.25098 0.239216; 0.282353 0.282353 … 0.235294 0.223529]\n\n[0.745098 0.74902 … 0.435294 0.403922; 0.752941 0.756863 … 0.415686 0.4; … ; 0.152941 0.133333 … 0.27451 0.27451; 0.109804 0.152941 … 0.2 0.211765]\n\n[0.815686 0.819608 … 0.572549 0.545098; 0.823529 0.831373 … 0.552941 0.537255; … ; 0.239216 0.223529 … 0.372549 0.372549; 0.203922 0.243137 … 0.298039 0.309804]\n\n[0.960784 0.964706 … 0.909804 0.890196; 0.952941 0.960784 … 0.901961 0.894118; … ; 0.439216 0.427451 … 0.623529 0.623529; 0.388235 0.435294 … 0.54902 0.560784], [false true … false false; false false … false false; … ; true false … true true; false false … false false])                                                                                                                                                                                                                                                                    \n ([0.454902 0.458824 … 0.396078 0.392157; 0.443137 0.415686 … 0.368627 0.356863; … ; 0.352941 0.356863 … 0.294118 0.282353; 0.32549 0.317647 … 0.301961 0.290196]\n\n[0.458824 0.462745 … 0.403922 0.396078; 0.454902 0.423529 … 0.376471 0.368627; … ; 0.356863 0.364706 … 0.309804 0.298039; 0.32549 0.317647 … 0.317647 0.301961]\n\n[0.470588 0.478431 … 0.4 0.392157; 0.486275 0.454902 … 0.4 0.392157; … ; 0.403922 0.407843 … 0.341176 0.329412; 0.364706 0.356863 … 0.364706 0.352941]\n\n[0.643137 0.556863 … 0.639216 0.427451; 0.533333 0.47451 … 0.752941 0.607843; … ; 0.592157 0.596078 … 0.580392 0.572549; 0.572549 0.576471 … 0.568627 0.560784]\n\n[0.654902 0.560784 … 0.662745 0.435294; 0.541176 0.482353 … 0.74902 0.588235; … ; 0.588235 0.588235 … 0.580392 0.572549; 0.568627 0.572549 … 0.568627 0.556863]\n\n[0.678431 0.572549 … 0.737255 0.403922; 0.572549 0.486275 … 0.796079 0.603922; … ; 0.611765 0.611765 … 0.592157 0.588235; 0.592157 0.596078 … 0.576471 0.572549]\n\n[0.270588 0.262745 … 0.976471 0.952941; 0.247059 0.270588 … 0.960784 0.980392; … ; 0.556863 0.47451 … 0.494118 0.466667; 0.643137 0.462745 … 0.580392 0.447059]\n\n[0.356863 0.356863 … 0.972549 0.945098; 0.329412 0.360784 … 0.972549 0.980392; … ; 0.666667 0.639216 … 0.611765 0.521569; 0.74902 0.615686 … 0.619608 0.580392]\n\n[0.192157 0.188235 … 0.937255 0.913726; 0.211765 0.192157 … 0.854902 0.933333; … ; 0.423529 0.34902 … 0.607843 0.380392; 0.501961 0.337255 … 0.560784 0.498039]\n\n...\n\n[0.705882 0.701961 … 0.815686 0.807843; 0.701961 0.690196 … 0.823529 0.8; … ; 0.619608 0.611765 … 0.403922 0.45098; 0.6 0.580392 … 0.411765 0.458824]\n\n[0.843137 0.835294 … 0.933333 0.933333; 0.843137 0.831373 … 0.945098 0.92549; … ; 0.603922 0.596078 … 0.458824 0.466667; 0.584314 0.564706 … 0.462745 0.466667]\n\n[0.980392 0.972549 … 0.988235 0.988235; 0.988235 0.972549 … 1.0 0.992157; … ; 0.6 0.592157 … 0.258824 0.282353; 0.580392 0.560784 … 0.27451 0.298039]\n\n[0.717647 0.772549 … 0.866667 0.862745; 0.666667 0.729412 … 0.858824 0.85098; … ; 0.968628 0.972549 … 0.945098 0.933333; 0.992157 0.996078 … 0.905882 0.901961]\n\n[0.560784 0.611765 … 0.678431 0.670588; 0.517647 0.572549 … 0.67451 0.666667; … ; 0.941177 0.945098 … 0.866667 0.866667; 0.956863 0.960784 … 0.823529 0.831373]\n\n[0.560784 0.6 … 0.631373 0.623529; 0.501961 0.552941 … 0.627451 0.619608; … ; 0.972549 0.976471 … 0.92549 0.921569; 0.988235 0.992157 … 0.882353 0.886275]\n\n[0.368627 0.466667 … 0.435294 0.486275; 0.372549 0.431373 … 0.47451 0.439216; … ; 0.439216 0.443137 … 0.572549 0.505882; 0.439216 0.454902 … 0.419608 0.462745]\n\n[0.360784 0.454902 … 0.415686 0.47451; 0.384314 0.435294 … 0.458824 0.423529; … ; 0.407843 0.419608 … 0.54902 0.486275; 0.415686 0.435294 … 0.392157 0.439216]\n\n[0.294118 0.34902 … 0.329412 0.352941; 0.305882 0.333333 … 0.356863 0.313726; … ; 0.32549 0.305882 … 0.454902 0.360784; 0.313726 0.321569 … 0.301961 0.317647], [false false … false false; false true … false false; … ; false false … false false; false false … false false])                                                           \n ([0.796079 0.792157 … 0.831373 0.823529; 0.811765 0.803922 … 0.843137 0.839216; … ; 0.839216 0.819608 … 0.788235 0.776471; 0.721569 0.717647 … 0.788235 0.776471]\n\n[0.819608 0.815686 … 0.839216 0.835294; 0.827451 0.819608 … 0.854902 0.847059; … ; 0.792157 0.784314 … 0.741176 0.729412; 0.678431 0.682353 … 0.741176 0.729412]\n\n[0.87451 0.870588 … 0.886275 0.882353; 0.882353 0.878431 … 0.890196 0.886275; … ; 0.713726 0.705882 … 0.67451 0.670588; 0.576471 0.588235 … 0.678431 0.666667]\n\n[0.352941 0.211765 … 0.215686 0.168627; 0.333333 0.247059 … 0.266667 0.172549; … ; 0.309804 0.313726 … 0.364706 0.407843; 0.305882 0.309804 … 0.376471 0.427451]\n\n[0.282353 0.133333 … 0.211765 0.164706; 0.235294 0.14902 … 0.262745 0.168627; … ; 0.329412 0.333333 … 0.368627 0.415686; 0.32549 0.329412 … 0.380392 0.435294]\n\n[0.219608 0.0901961 … 0.231373 0.180392; 0.168627 0.101961 … 0.282353 0.180392; … ; 0.305882 0.309804 … 0.345098 0.4; 0.301961 0.305882 … 0.360784 0.419608]\n\n[0.513726 0.764706 … 0.0 0.0; 0.709804 0.854902 … 0.00392157 0.0; … ; 0.792157 0.788235 … 0.0 0.0; 0.423529 0.690196 … 0.0 0.00392157]\n\n[0.396078 0.564706 … 0.0 0.0; 0.556863 0.643137 … 0.00392157 0.0; … ; 0.654902 0.666667 … 0.0 0.0; 0.427451 0.717647 … 0.0 0.00392157]\n\n[0.203922 0.392157 … 0.0 0.0; 0.380392 0.470588 … 0.0 0.0; … ; 0.65098 0.670588 … 0.0 0.0; 0.478431 0.8 … 0.0 0.00392157]\n\n...\n\n[0.752941 0.745098 … 0.784314 0.780392; 0.74902 0.701961 … 0.784314 0.768628; … ; 0.607843 0.572549 … 0.623529 0.54902; 0.596078 0.478431 … 0.623529 0.517647]\n\n[0.733333 0.698039 … 0.807843 0.8; 0.737255 0.662745 … 0.807843 0.788235; … ; 0.705882 0.67451 … 0.54902 0.47451; 0.690196 0.584314 … 0.556863 0.443137]\n\n[0.666667 0.623529 … 0.815686 0.811765; 0.678431 0.6 … 0.819608 0.8; … ; 0.796079 0.760784 … 0.427451 0.313726; 0.788235 0.67451 … 0.447059 0.290196]\n\n[0.862745 0.862745 … 0.890196 0.878431; 0.862745 0.862745 … 0.898039 0.890196; … ; 0.894118 0.913726 … 0.65098 0.67451; 0.866667 0.898039 … 0.541176 0.662745]\n\n[0.847059 0.847059 … 0.882353 0.870588; 0.847059 0.847059 … 0.890196 0.882353; … ; 0.764706 0.788235 … 0.607843 0.639216; 0.733333 0.768628 … 0.505882 0.631373]\n\n[0.913726 0.913726 … 0.937255 0.92549; 0.913726 0.913726 … 0.945098 0.937255; … ; 0.615686 0.631373 … 0.364706 0.384314; 0.576471 0.607843 … 0.270588 0.380392]\n\n[0.894118 0.882353 … 0.764706 0.764706; 0.87451 0.862745 … 0.772549 0.768628; … ; 0.784314 0.760784 … 0.321569 0.368627; 0.835294 0.819608 … 0.647059 0.627451]\n\n[0.886275 0.87451 … 0.690196 0.690196; 0.878431 0.866667 … 0.701961 0.705882; … ; 0.894118 0.870588 … 0.333333 0.380392; 0.94902 0.933333 … 0.737255 0.717647]\n\n[0.933333 0.913726 … 0.666667 0.670588; 0.92549 0.909804 … 0.686275 0.690196; … ; 0.686275 0.670588 … 0.294118 0.333333; 0.729412 0.705882 … 0.501961 0.486275], [false false … false false; false true … false false; … ; false false … false false; true false … true false])                                                                                                                                       \n ([0.313726 0.313726 … 0.345098 0.345098; 0.301961 0.301961 … 0.345098 0.345098; … ; 0.419608 0.27451 … 0.184314 0.168627; 0.443137 0.411765 … 0.137255 0.168627]\n\n[0.458824 0.458824 … 0.47451 0.470588; 0.466667 0.466667 … 0.47451 0.47451; … ; 0.45098 0.290196 … 0.278431 0.258824; 0.482353 0.443137 … 0.219608 0.25098]\n\n[0.690196 0.690196 … 0.686275 0.686275; 0.698039 0.698039 … 0.686275 0.686275; … ; 0.552941 0.376471 … 0.403922 0.388235; 0.6 0.54902 … 0.341176 0.380392]\n\n[0.262745 0.258824 … 0.384314 0.384314; 0.25098 0.243137 … 0.392157 0.392157; … ; 0.360784 0.392157 … 0.0980392 0.101961; 0.380392 0.376471 … 0.0980392 0.101961]\n\n[0.341176 0.341176 … 0.364706 0.360784; 0.278431 0.27451 … 0.376471 0.376471; … ; 0.356863 0.388235 … 0.105882 0.105882; 0.380392 0.376471 … 0.101961 0.105882]\n\n[0.290196 0.290196 … 0.298039 0.298039; 0.203922 0.2 … 0.313726 0.313726; … ; 0.341176 0.380392 … 0.117647 0.121569; 0.380392 0.380392 … 0.121569 0.12549]\n\n[0.403922 0.368627 … 0.278431 0.243137; 0.376471 0.32549 … 0.211765 0.164706; … ; 0.309804 0.317647 … 0.588235 0.584314; 0.396078 0.411765 … 0.533333 0.537255]\n\n[0.34902 0.321569 … 0.254902 0.227451; 0.333333 0.282353 … 0.196078 0.152941; … ; 0.286275 0.294118 … 0.529412 0.513726; 0.34902 0.364706 … 0.478431 0.47451]\n\n[0.258824 0.243137 … 0.180392 0.152941; 0.25098 0.215686 … 0.121569 0.0745098; … ; 0.160784 0.176471 … 0.380392 0.384314; 0.243137 0.239216 … 0.34902 0.356863]\n\n...\n\n[0.0784314 0.0745098 … 0.0470588 0.0509804; 0.0823529 0.0784314 … 0.0392157 0.0470588; … ; 0.129412 0.133333 … 0.105882 0.0980392; 0.121569 0.12549 … 0.101961 0.0980392]\n\n[0.0588235 0.054902 … 0.0431373 0.0470588; 0.0627451 0.0627451 … 0.0352941 0.0431373; … ; 0.0980392 0.101961 … 0.0941177 0.0862745; 0.0901961 0.0941177 … 0.0901961 0.0784314]\n\n[0.0470588 0.0431373 … 0.0352941 0.0392157; 0.0509804 0.0509804 … 0.027451 0.0352941; … ; 0.054902 0.0588235 … 0.219608 0.184314; 0.0470588 0.0509804 … 0.207843 0.184314]\n\n[0.0980392 0.0588235 … 0.360784 0.294118; 0.0470588 0.0784314 … 0.584314 0.407843; … ; 0.403922 0.407843 … 0.388235 0.360784; 0.372549 0.372549 … 0.372549 0.360784]\n\n[0.156863 0.141176 … 0.443137 0.34902; 0.0980392 0.145098 … 0.658824 0.458824; … ; 0.517647 0.513726 … 0.498039 0.47451; 0.494118 0.482353 … 0.482353 0.470588]\n\n[0.0470588 0.0117647 … 0.439216 0.360784; 0.0235294 0.027451 … 0.694118 0.513726; … ; 0.32549 0.32549 … 0.329412 0.309804; 0.305882 0.298039 … 0.317647 0.313726]\n\n[0.286275 0.384314 … 0.529412 0.796079; 0.270588 0.329412 … 0.278431 0.470588; … ; 0.45098 0.482353 … 0.258824 0.105882; 0.454902 0.47451 … 0.266667 0.105882]\n\n[0.305882 0.403922 … 0.584314 0.843137; 0.286275 0.34902 … 0.321569 0.521569; … ; 0.47451 0.486275 … 0.254902 0.105882; 0.470588 0.478431 … 0.254902 0.101961]\n\n[0.294118 0.443137 … 0.603922 0.87451; 0.27451 0.380392 … 0.313726 0.529412; … ; 0.356863 0.372549 … 0.231373 0.105882; 0.352941 0.368627 … 0.227451 0.101961], [false false … false false; false true … true false; … ; true false … false false; false false … false false])"
     },
     "metadata": {},
     "execution_count": 44
    }
   ],
   "cell_type": "code",
   "source": [
    "valset = valimgs(CIFAR10)\n",
    "valimg = [getarray(valset[i].img) for i in 1:10000]\n",
    "labels = onehotbatch([valset[i].ground_truth.class for i in 1:10000],1:10)\n",
    "test = gpu.([(cat(valimg[i]..., dims = 4), labels[:,i]) for i in partition(1:10000, 1000)])"
   ],
   "metadata": {},
   "execution_count": 44
  },
  {
   "outputs": [],
   "cell_type": "markdown",
   "source": [
    "Next, display some of the images from the test set."
   ],
   "metadata": {}
  },
  {
   "outputs": [
    {
     "output_type": "execute_result",
     "data": {
      "text/plain": "10-element Array{Array{ColorTypes.RGB{FixedPointNumbers.Normed{UInt8,8}},2},1}:\n [RGB{N0f8}(0.196,0.2,0.243) RGB{N0f8}(0.216,0.208,0.255) … RGB{N0f8}(0.698,0.718,0.867) RGB{N0f8}(0.702,0.722,0.871); RGB{N0f8}(0.176,0.18,0.212) RGB{N0f8}(0.196,0.192,0.224) … RGB{N0f8}(0.694,0.71,0.851) RGB{N0f8}(0.694,0.71,0.855); … ; RGB{N0f8}(0.475,0.384,0.349) RGB{N0f8}(0.51,0.431,0.369) … RGB{N0f8}(0.224,0.302,0.502) RGB{N0f8}(0.22,0.298,0.498); RGB{N0f8}(0.631,0.553,0.537) RGB{N0f8}(0.675,0.596,0.545) … RGB{N0f8}(0.224,0.29,0.471) RGB{N0f8}(0.227,0.294,0.478)]      \n [RGB{N0f8}(1.0,1.0,1.0) RGB{N0f8}(0.988,0.988,0.988) … RGB{N0f8}(0.988,0.988,0.988) RGB{N0f8}(1.0,1.0,1.0); RGB{N0f8}(1.0,1.0,1.0) RGB{N0f8}(1.0,1.0,1.0) … RGB{N0f8}(1.0,1.0,1.0) RGB{N0f8}(1.0,1.0,1.0); … ; RGB{N0f8}(1.0,1.0,1.0) RGB{N0f8}(1.0,1.0,1.0) … RGB{N0f8}(1.0,1.0,1.0) RGB{N0f8}(1.0,1.0,1.0); RGB{N0f8}(1.0,1.0,1.0) RGB{N0f8}(0.988,0.988,0.988) … RGB{N0f8}(0.988,0.988,0.988) RGB{N0f8}(1.0,1.0,1.0)]                                                                      \n [RGB{N0f8}(0.11,0.106,0.125) RGB{N0f8}(0.227,0.235,0.239) … RGB{N0f8}(0.106,0.133,0.141) RGB{N0f8}(0.098,0.129,0.125); RGB{N0f8}(0.078,0.075,0.094) RGB{N0f8}(0.133,0.137,0.141) … RGB{N0f8}(0.102,0.212,0.212) RGB{N0f8}(0.106,0.22,0.208); … ; RGB{N0f8}(0.051,0.047,0.067) RGB{N0f8}(0.094,0.078,0.094) … RGB{N0f8}(0.251,0.255,0.255) RGB{N0f8}(0.267,0.282,0.29); RGB{N0f8}(0.067,0.059,0.071) RGB{N0f8}(0.102,0.09,0.094) … RGB{N0f8}(0.306,0.31,0.31) RGB{N0f8}(0.31,0.318,0.329)]     \n [RGB{N0f8}(0.306,0.439,0.655) RGB{N0f8}(0.333,0.459,0.659) … RGB{N0f8}(0.333,0.475,0.569) RGB{N0f8}(0.38,0.502,0.596); RGB{N0f8}(0.388,0.494,0.624) RGB{N0f8}(0.412,0.514,0.624) … RGB{N0f8}(0.392,0.522,0.545) RGB{N0f8}(0.435,0.553,0.518); … ; RGB{N0f8}(0.494,0.541,0.604) RGB{N0f8}(0.482,0.529,0.592) … RGB{N0f8}(0.078,0.098,0.169) RGB{N0f8}(0.086,0.098,0.18); RGB{N0f8}(0.467,0.51,0.58) RGB{N0f8}(0.463,0.506,0.576) … RGB{N0f8}(0.38,0.42,0.471) RGB{N0f8}(0.388,0.424,0.482)]    \n [RGB{N0f8}(0.847,0.867,0.878) RGB{N0f8}(0.91,0.929,0.937) … RGB{N0f8}(0.906,0.937,0.945) RGB{N0f8}(0.863,0.89,0.906); RGB{N0f8}(0.835,0.855,0.871) RGB{N0f8}(0.882,0.906,0.914) … RGB{N0f8}(0.894,0.922,0.929) RGB{N0f8}(0.855,0.882,0.894); … ; RGB{N0f8}(0.133,0.227,0.145) RGB{N0f8}(0.18,0.271,0.18) … RGB{N0f8}(0.427,0.38,0.353) RGB{N0f8}(0.392,0.353,0.329); RGB{N0f8}(0.196,0.271,0.173) RGB{N0f8}(0.314,0.333,0.231) … RGB{N0f8}(0.424,0.376,0.349) RGB{N0f8}(0.384,0.341,0.329)]   \n [RGB{N0f8}(0.22,0.208,0.188) RGB{N0f8}(0.227,0.212,0.2) … RGB{N0f8}(0.329,0.349,0.333) RGB{N0f8}(0.396,0.427,0.42); RGB{N0f8}(0.224,0.208,0.192) RGB{N0f8}(0.224,0.212,0.2) … RGB{N0f8}(0.251,0.259,0.243) RGB{N0f8}(0.404,0.435,0.412); … ; RGB{N0f8}(0.365,0.392,0.388) RGB{N0f8}(0.408,0.447,0.451) … RGB{N0f8}(0.216,0.204,0.188) RGB{N0f8}(0.208,0.204,0.184); RGB{N0f8}(0.392,0.427,0.427) RGB{N0f8}(0.42,0.455,0.467) … RGB{N0f8}(0.22,0.208,0.188) RGB{N0f8}(0.216,0.204,0.184)]      \n [RGB{N0f8}(0.447,0.557,0.773) RGB{N0f8}(0.451,0.561,0.773) … RGB{N0f8}(0.471,0.576,0.788) RGB{N0f8}(0.467,0.573,0.784); RGB{N0f8}(0.463,0.569,0.776) RGB{N0f8}(0.467,0.573,0.78) … RGB{N0f8}(0.486,0.584,0.788) RGB{N0f8}(0.486,0.584,0.788); … ; RGB{N0f8}(0.443,0.42,0.427) RGB{N0f8}(0.467,0.439,0.451) … RGB{N0f8}(0.302,0.278,0.278) RGB{N0f8}(0.255,0.235,0.235); RGB{N0f8}(0.424,0.4,0.408) RGB{N0f8}(0.416,0.388,0.396) … RGB{N0f8}(0.2,0.184,0.18) RGB{N0f8}(0.043,0.031,0.024)]     \n [RGB{N0f8}(0.867,0.859,0.902) RGB{N0f8}(0.855,0.847,0.89) … RGB{N0f8}(0.933,0.925,0.961) RGB{N0f8}(0.925,0.918,0.953); RGB{N0f8}(0.851,0.843,0.886) RGB{N0f8}(0.843,0.835,0.875) … RGB{N0f8}(0.878,0.871,0.922) RGB{N0f8}(0.886,0.878,0.925); … ; RGB{N0f8}(0.506,0.545,0.553) RGB{N0f8}(0.502,0.541,0.549) … RGB{N0f8}(0.682,0.694,0.714) RGB{N0f8}(0.671,0.682,0.702); RGB{N0f8}(0.502,0.541,0.549) RGB{N0f8}(0.498,0.537,0.545) … RGB{N0f8}(0.659,0.671,0.69) RGB{N0f8}(0.651,0.663,0.682)]\n [RGB{N0f8}(0.604,0.604,0.604) RGB{N0f8}(0.62,0.62,0.62) … RGB{N0f8}(0.616,0.616,0.616) RGB{N0f8}(0.612,0.612,0.612); RGB{N0f8}(0.749,0.749,0.749) RGB{N0f8}(0.863,0.863,0.863) … RGB{N0f8}(0.816,0.816,0.812) RGB{N0f8}(0.796,0.796,0.792); … ; RGB{N0f8}(0.565,0.588,0.588) RGB{N0f8}(0.604,0.647,0.643) … RGB{N0f8}(0.455,0.478,0.51) RGB{N0f8}(0.459,0.486,0.502); RGB{N0f8}(0.545,0.561,0.565) RGB{N0f8}(0.592,0.631,0.627) … RGB{N0f8}(0.49,0.514,0.525) RGB{N0f8}(0.463,0.49,0.502)]    \n [RGB{N0f8}(0.643,0.8,0.839) RGB{N0f8}(0.651,0.808,0.847) … RGB{N0f8}(0.514,0.675,0.686) RGB{N0f8}(0.51,0.651,0.667); RGB{N0f8}(0.647,0.804,0.843) RGB{N0f8}(0.659,0.816,0.855) … RGB{N0f8}(0.525,0.671,0.698) RGB{N0f8}(0.518,0.651,0.675); … ; RGB{N0f8}(0.569,0.749,0.8) RGB{N0f8}(0.576,0.757,0.808) … RGB{N0f8}(0.494,0.604,0.616) RGB{N0f8}(0.482,0.592,0.604); RGB{N0f8}(0.58,0.761,0.812) RGB{N0f8}(0.588,0.769,0.82) … RGB{N0f8}(0.498,0.608,0.624) RGB{N0f8}(0.486,0.596,0.612)]     ",
      "text/html": [
       "<table><tbody><tr><td style='text-align:center;vertical-align:middle; margin: 0.5em;border:1px #90999f solid;border-collapse:collapse'><img style='max-width: 100px; max-height:100px;display:inline' src=\"data:image/png;base64,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\"></td><td style='text-align:center;vertical-align:middle; margin: 0.5em;border:1px #90999f solid;border-collapse:collapse'><img style='max-width: 100px; max-height:100px;display:inline' src=\"data:image/png;base64,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\"></td><td style='text-align:center;vertical-align:middle; margin: 0.5em;border:1px #90999f solid;border-collapse:collapse'><img style='max-width: 100px; max-height:100px;display:inline' src=\"data:image/png;base64,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\"></td><td style='text-align:center;vertical-align:middle; margin: 0.5em;border:1px #90999f solid;border-collapse:collapse'><img style='max-width: 100px; max-height:100px;display:inline' src=\"data:image/png;base64,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\"></td><td style='text-align:center;vertical-align:middle; margin: 0.5em;border:1px #90999f solid;border-collapse:collapse'><img style='max-width: 100px; max-height:100px;display:inline' src=\"data:image/png;base64,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\"></td><td style='text-align:center;vertical-align:middle; margin: 0.5em;border:1px #90999f solid;border-collapse:collapse'><img style='max-width: 100px; max-height:100px;display:inline' src=\"data:image/png;base64,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\"></td><td style='text-align:center;vertical-align:middle; margin: 0.5em;border:1px #90999f solid;border-collapse:collapse'><img style='max-width: 100px; max-height:100px;display:inline' src=\"data:image/png;base64,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\"></td><td style='text-align:center;vertical-align:middle; margin: 0.5em;border:1px #90999f solid;border-collapse:collapse'><img style='max-width: 100px; max-height:100px;display:inline' src=\"data:image/png;base64,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\"></td><td style='text-align:center;vertical-align:middle; margin: 0.5em;border:1px #90999f solid;border-collapse:collapse'><img style='max-width: 100px; max-height:100px;display:inline' src=\"data:image/png;base64,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\"></td><td style='text-align:center;vertical-align:middle; margin: 0.5em;border:1px #90999f solid;border-collapse:collapse'><img style='max-width: 100px; max-height:100px;display:inline' src=\"data:image/png;base64,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\"></td></tr></tbody></table><div><small>(a vector displayed as a row to save space)</small></div>"
      ]
     },
     "metadata": {},
     "execution_count": 45
    }
   ],
   "cell_type": "code",
   "source": [
    "ids = rand(1:10000, 10)\n",
    "image.(valset[ids])"
   ],
   "metadata": {},
   "execution_count": 45
  },
  {
   "outputs": [],
   "cell_type": "markdown",
   "source": [
    "The outputs are energies for the 10 classes. Higher the energy for a class, the more the\n",
    "network thinks that the image is of the particular class. Every column corresponds to the\n",
    "output of one image, with the 10 floats in the column being the energies."
   ],
   "metadata": {}
  },
  {
   "outputs": [],
   "cell_type": "markdown",
   "source": [
    "Let's see how the model fared."
   ],
   "metadata": {}
  },
  {
   "outputs": [
    {
     "output_type": "execute_result",
     "data": {
      "text/plain": "Tracked 10×10 CuArrays.CuArray{Float32,2}:\n 0.216391    0.00148046  0.010142    …  0.398581    0.379376    0.389975   \n 0.0594824   0.00220866  0.00426526     0.0114588   0.0724831   0.0778077  \n 0.0377306   0.0304957   0.11987        0.113931    0.0928419   0.0253539  \n 0.0143691   0.143692    0.242474       0.0347816   0.0174846   0.00640255 \n 0.0148713   0.069811    0.0716465      0.135167    0.0662434   0.00440407 \n 0.00944025  0.20174     0.279126    …  0.0443433   0.012111    0.0096757  \n 0.00504547  0.449163    0.188084       0.00959472  0.00825641  0.000422212\n 0.00168904  0.0777448   0.0549062      0.0836554   0.0155652   0.00183072 \n 0.609131    0.00122658  0.0123387      0.126563    0.260358    0.446175   \n 0.0318502   0.0224376   0.0171479      0.0419248   0.0752801   0.0379529  "
     },
     "metadata": {},
     "execution_count": 46
    }
   ],
   "cell_type": "code",
   "source": [
    "rand_test = getarray.(image.(valset[ids]))\n",
    "rand_test = cat(rand_test..., dims = 4) |> gpu\n",
    "rand_truth = ground_truth.(valset[ids])\n",
    "m(rand_test)"
   ],
   "metadata": {},
   "execution_count": 46
  },
  {
   "outputs": [],
   "cell_type": "markdown",
   "source": [
    "This looks similar to how we would expect the results to be. At this point, it's a good\n",
    "idea to see how our net actually performs on new data, that we have prepared."
   ],
   "metadata": {}
  },
  {
   "outputs": [
    {
     "output_type": "execute_result",
     "data": {
      "text/plain": "0.392"
     },
     "metadata": {},
     "execution_count": 47
    }
   ],
   "cell_type": "code",
   "source": [
    "accuracy(test[1]...)"
   ],
   "metadata": {},
   "execution_count": 47
  },
  {
   "outputs": [],
   "cell_type": "markdown",
   "source": [
    "This is much better than random chance set at 10% (since we only have 10 classes), and\n",
    "not bad at all for a small hand written network like ours."
   ],
   "metadata": {}
  },
  {
   "outputs": [],
   "cell_type": "markdown",
   "source": [
    "Let's take a look at how the net performed on all the classes performed individually."
   ],
   "metadata": {}
  },
  {
   "outputs": [
    {
     "output_type": "execute_result",
     "data": {
      "text/plain": "10-element Array{Float64,1}:\n 0.423\n 0.496\n 0.16 \n 0.095\n 0.312\n 0.446\n 0.603\n 0.419\n 0.494\n 0.457"
     },
     "metadata": {},
     "execution_count": 48
    }
   ],
   "cell_type": "code",
   "source": [
    "class_correct = zeros(10)\n",
    "class_total = zeros(10)\n",
    "for i in 1:10\n",
    "  preds = m(test[i][1])\n",
    "  lab = test[i][2]\n",
    "  for j = 1:1000\n",
    "    pred_class = findmax(preds[:, j])[2]\n",
    "    actual_class = findmax(lab[:, j])[2]\n",
    "    if pred_class == actual_class\n",
    "      class_correct[pred_class] += 1\n",
    "    end\n",
    "    class_total[actual_class] += 1\n",
    "  end\n",
    "end\n",
    "\n",
    "class_correct ./ class_total"
   ],
   "metadata": {},
   "execution_count": 48
  },
  {
   "outputs": [],
   "cell_type": "markdown",
   "source": [
    "The spread seems pretty good, with certain classes performing significantly better than the others.\n",
    "Why should that be?"
   ],
   "metadata": {}
  }
 ],
 "nbformat_minor": 3,
 "metadata": {
  "language_info": {
   "file_extension": ".jl",
   "mimetype": "application/julia",
   "name": "julia",
   "version": "1.1.0"
  },
  "kernelspec": {
   "name": "julia-1.1",
   "display_name": "Julia 1.1.0",
   "language": "julia"
  }
 },
 "nbformat": 4
}
