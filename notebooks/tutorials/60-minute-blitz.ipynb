{
 "cells": [
  {
   "outputs": [
    {
     "name": "stdout",
     "output_type": "stream",
     "text": [
      "  Updating registry at `~/.julia/registries/General`\n",
      "  Updating git-repo `https://github.com/JuliaRegistries/General.git`\n",
      "\u001b[?25l\u001b[2K\u001b[?25h Resolving package versions...\n",
      "  Updating `~/modelzoo/model-zoo/notebooks/tutorials/Project.toml`\n",
      " [no changes]\n",
      "  Updating `~/modelzoo/model-zoo/notebooks/tutorials/Manifest.toml`\n",
      "  [b4f34e82] ↑ Distances v0.7.3 ⇒ v0.7.4\n",
      "  [6fe1bfb0] ↑ OffsetArrays v0.9.0 ⇒ v0.9.1\n",
      "  [92933f4c] ↑ ProgressMeter v0.8.0 ⇒ v0.9.0\n"
     ]
    }
   ],
   "cell_type": "code",
   "source": [
    "using Pkg; Pkg.activate(\".\"); Pkg.instantiate(); Pkg.add(\"Flux\")"
   ],
   "metadata": {},
   "execution_count": 1
  },
  {
   "outputs": [],
   "cell_type": "markdown",
   "source": [
    "Deep Learning with Flux: A 60 Minute Blitz\n",
    "====================="
   ],
   "metadata": {}
  },
  {
   "outputs": [],
   "cell_type": "markdown",
   "source": [
    "This is a quick intro to [Flux](https://github.com/FluxML/Flux.jl) loosely\n",
    "based on [PyTorch's\n",
    "tutorial](https://pytorch.org/tutorials/beginner/deep_learning_60min_blitz.html).\n",
    "It introduces basic Julia programming, as well as Flux's automatic\n",
    "differentiation (AD), which we'll use to build machine learning models. We'll\n",
    "use this to build a very simple neural network."
   ],
   "metadata": {}
  },
  {
   "outputs": [],
   "cell_type": "markdown",
   "source": [
    "Arrays\n",
    "-------"
   ],
   "metadata": {}
  },
  {
   "outputs": [],
   "cell_type": "markdown",
   "source": [
    "The starting point for all of our models is the `Array` (sometimes referred to\n",
    "as a `Tensor` in other frameworks). This is really just a list of numbers,\n",
    "which might be arranged into a shape like a square. Let's write down an array\n",
    "with three elements."
   ],
   "metadata": {}
  },
  {
   "outputs": [
    {
     "output_type": "execute_result",
     "data": {
      "text/plain": "3-element Array{Int64,1}:\n 1\n 2\n 3"
     },
     "metadata": {},
     "execution_count": 2
    }
   ],
   "cell_type": "code",
   "source": [
    "x = [1, 2, 3]"
   ],
   "metadata": {},
   "execution_count": 2
  },
  {
   "outputs": [],
   "cell_type": "markdown",
   "source": [
    "Here's a matrix – a square array with four elements."
   ],
   "metadata": {}
  },
  {
   "outputs": [
    {
     "output_type": "execute_result",
     "data": {
      "text/plain": "2×2 Array{Int64,2}:\n 1  2\n 3  4"
     },
     "metadata": {},
     "execution_count": 3
    }
   ],
   "cell_type": "code",
   "source": [
    "x = [1 2; 3 4]"
   ],
   "metadata": {},
   "execution_count": 3
  },
  {
   "outputs": [],
   "cell_type": "markdown",
   "source": [
    "We often work with arrays of thousands of elements, and don't usually write\n",
    "them down by hand. Here's how we can create an array of 5×3 = 15 elements,\n",
    "each a random number from zero to one."
   ],
   "metadata": {}
  },
  {
   "outputs": [
    {
     "output_type": "execute_result",
     "data": {
      "text/plain": "5×3 Array{Float64,2}:\n 0.998702  0.0394119  0.239104 \n 0.420407  0.393847   0.948541 \n 0.410127  0.323206   0.0343261\n 0.547495  0.802109   0.970252 \n 0.604244  0.542671   0.828994 "
     },
     "metadata": {},
     "execution_count": 4
    }
   ],
   "cell_type": "code",
   "source": [
    "x = rand(5, 3)"
   ],
   "metadata": {},
   "execution_count": 4
  },
  {
   "outputs": [],
   "cell_type": "markdown",
   "source": [
    "There's a few functions like this; try replacing `rand` with `ones`, `zeros`,\n",
    "or `randn` to see what they do."
   ],
   "metadata": {}
  },
  {
   "outputs": [],
   "cell_type": "markdown",
   "source": [
    "By default, Julia works stores numbers is a high-precision format called\n",
    "`Float64`. In ML we often don't need all those digits, and can ask Julia to\n",
    "work with `Float32` instead. We can even ask for more digits using `BigFloat`."
   ],
   "metadata": {}
  },
  {
   "outputs": [
    {
     "output_type": "execute_result",
     "data": {
      "text/plain": "5×3 Array{BigFloat,2}:\n 5.0213e-01   1.56952e-02  3.60333e-01\n 5.71864e-01  6.06184e-01  4.08497e-01\n 2.04013e-01  3.26862e-01  2.61751e-01\n 3.25588e-01  9.09144e-01  7.22072e-01\n 5.43817e-01  3.2215e-01   2.59002e-01"
     },
     "metadata": {},
     "execution_count": 5
    }
   ],
   "cell_type": "code",
   "source": [
    "x = rand(BigFloat, 5, 3)"
   ],
   "metadata": {},
   "execution_count": 5
  },
  {
   "outputs": [
    {
     "output_type": "execute_result",
     "data": {
      "text/plain": "5×3 Array{Float32,2}:\n 0.725704  0.555171  0.994212\n 0.465167  0.311251  0.295114\n 0.115368  0.545709  0.283004\n 0.534475  0.736066  0.35011 \n 0.526305  0.899884  0.917461"
     },
     "metadata": {},
     "execution_count": 6
    }
   ],
   "cell_type": "code",
   "source": [
    "x = rand(Float32, 5, 3)"
   ],
   "metadata": {},
   "execution_count": 6
  },
  {
   "outputs": [],
   "cell_type": "markdown",
   "source": [
    "We can ask the array how many elements it has."
   ],
   "metadata": {}
  },
  {
   "outputs": [
    {
     "output_type": "execute_result",
     "data": {
      "text/plain": "15"
     },
     "metadata": {},
     "execution_count": 7
    }
   ],
   "cell_type": "code",
   "source": [
    "length(x)"
   ],
   "metadata": {},
   "execution_count": 7
  },
  {
   "outputs": [],
   "cell_type": "markdown",
   "source": [
    "Or, more specifically, what size it has."
   ],
   "metadata": {}
  },
  {
   "outputs": [
    {
     "output_type": "execute_result",
     "data": {
      "text/plain": "(5, 3)"
     },
     "metadata": {},
     "execution_count": 8
    }
   ],
   "cell_type": "code",
   "source": [
    "size(x)"
   ],
   "metadata": {},
   "execution_count": 8
  },
  {
   "outputs": [],
   "cell_type": "markdown",
   "source": [
    "We sometimes want to see some elements of the array on their own."
   ],
   "metadata": {}
  },
  {
   "outputs": [
    {
     "output_type": "execute_result",
     "data": {
      "text/plain": "5×3 Array{Float32,2}:\n 0.725704  0.555171  0.994212\n 0.465167  0.311251  0.295114\n 0.115368  0.545709  0.283004\n 0.534475  0.736066  0.35011 \n 0.526305  0.899884  0.917461"
     },
     "metadata": {},
     "execution_count": 9
    }
   ],
   "cell_type": "code",
   "source": [
    "x"
   ],
   "metadata": {},
   "execution_count": 9
  },
  {
   "outputs": [
    {
     "output_type": "execute_result",
     "data": {
      "text/plain": "0.2951138f0"
     },
     "metadata": {},
     "execution_count": 10
    }
   ],
   "cell_type": "code",
   "source": [
    "x[2, 3]"
   ],
   "metadata": {},
   "execution_count": 10
  },
  {
   "outputs": [],
   "cell_type": "markdown",
   "source": [
    "This means get the second row and the third column. We can also get every row\n",
    "of the third column."
   ],
   "metadata": {}
  },
  {
   "outputs": [
    {
     "output_type": "execute_result",
     "data": {
      "text/plain": "5-element Array{Float32,1}:\n 0.9942117 \n 0.2951138 \n 0.28300416\n 0.35011005\n 0.9174607 "
     },
     "metadata": {},
     "execution_count": 11
    }
   ],
   "cell_type": "code",
   "source": [
    "x[:, 3]"
   ],
   "metadata": {},
   "execution_count": 11
  },
  {
   "outputs": [],
   "cell_type": "markdown",
   "source": [
    "We can add arrays, and subtract them, which adds or subtracts each element of\n",
    "the array."
   ],
   "metadata": {}
  },
  {
   "outputs": [
    {
     "output_type": "execute_result",
     "data": {
      "text/plain": "5×3 Array{Float32,2}:\n 1.45141   1.11034   1.98842 \n 0.930333  0.622503  0.590228\n 0.230736  1.09142   0.566008\n 1.06895   1.47213   0.70022 \n 1.05261   1.79977   1.83492 "
     },
     "metadata": {},
     "execution_count": 12
    }
   ],
   "cell_type": "code",
   "source": [
    "x + x"
   ],
   "metadata": {},
   "execution_count": 12
  },
  {
   "outputs": [
    {
     "output_type": "execute_result",
     "data": {
      "text/plain": "5×3 Array{Float32,2}:\n 0.0  0.0  0.0\n 0.0  0.0  0.0\n 0.0  0.0  0.0\n 0.0  0.0  0.0\n 0.0  0.0  0.0"
     },
     "metadata": {},
     "execution_count": 13
    }
   ],
   "cell_type": "code",
   "source": [
    "x - x"
   ],
   "metadata": {},
   "execution_count": 13
  },
  {
   "outputs": [],
   "cell_type": "markdown",
   "source": [
    "Julia supports a feature called *broadcasting*, using the `.` syntax. This\n",
    "tiles small arrays (or single numbers) to fill bigger ones."
   ],
   "metadata": {}
  },
  {
   "outputs": [
    {
     "output_type": "execute_result",
     "data": {
      "text/plain": "5×3 Array{Float32,2}:\n 1.7257   1.55517  1.99421\n 1.46517  1.31125  1.29511\n 1.11537  1.54571  1.283  \n 1.53448  1.73607  1.35011\n 1.52631  1.89988  1.91746"
     },
     "metadata": {},
     "execution_count": 14
    }
   ],
   "cell_type": "code",
   "source": [
    "x .+ 1"
   ],
   "metadata": {},
   "execution_count": 14
  },
  {
   "outputs": [],
   "cell_type": "markdown",
   "source": [
    "We can see Julia tile the column vector `1:5` across all rows of the larger\n",
    "array."
   ],
   "metadata": {}
  },
  {
   "outputs": [
    {
     "output_type": "execute_result",
     "data": {
      "text/plain": "5×5 Array{Float64,2}:\n 1.0  1.0  1.0  1.0  1.0\n 2.0  2.0  2.0  2.0  2.0\n 3.0  3.0  3.0  3.0  3.0\n 4.0  4.0  4.0  4.0  4.0\n 5.0  5.0  5.0  5.0  5.0"
     },
     "metadata": {},
     "execution_count": 15
    }
   ],
   "cell_type": "code",
   "source": [
    "zeros(5,5) .+ (1:5)"
   ],
   "metadata": {},
   "execution_count": 15
  },
  {
   "outputs": [],
   "cell_type": "markdown",
   "source": [
    "The x' syntax is used to transpose a column `1:5` into an equivalent row, and\n",
    "Julia will tile that across columns."
   ],
   "metadata": {}
  },
  {
   "outputs": [
    {
     "output_type": "execute_result",
     "data": {
      "text/plain": "5×5 Array{Float64,2}:\n 1.0  2.0  3.0  4.0  5.0\n 1.0  2.0  3.0  4.0  5.0\n 1.0  2.0  3.0  4.0  5.0\n 1.0  2.0  3.0  4.0  5.0\n 1.0  2.0  3.0  4.0  5.0"
     },
     "metadata": {},
     "execution_count": 16
    }
   ],
   "cell_type": "code",
   "source": [
    "zeros(5,5) .+ (1:5)'"
   ],
   "metadata": {},
   "execution_count": 16
  },
  {
   "outputs": [],
   "cell_type": "markdown",
   "source": [
    "We can use this to make a times table."
   ],
   "metadata": {}
  },
  {
   "outputs": [
    {
     "output_type": "execute_result",
     "data": {
      "text/plain": "5×5 Array{Int64,2}:\n 1   2   3   4   5\n 2   4   6   8  10\n 3   6   9  12  15\n 4   8  12  16  20\n 5  10  15  20  25"
     },
     "metadata": {},
     "execution_count": 17
    }
   ],
   "cell_type": "code",
   "source": [
    "(1:5) .* (1:5)'"
   ],
   "metadata": {},
   "execution_count": 17
  },
  {
   "outputs": [],
   "cell_type": "markdown",
   "source": [
    "Finally, and importantly for machine learning, we can conveniently do things like\n",
    "matrix multiply."
   ],
   "metadata": {}
  },
  {
   "outputs": [
    {
     "output_type": "execute_result",
     "data": {
      "text/plain": "5-element Array{Float64,1}:\n  2.0820656213540745\n -2.8910541244426726\n -0.1546061054081137\n -0.5644233851346965\n -0.5908443929718722"
     },
     "metadata": {},
     "execution_count": 18
    }
   ],
   "cell_type": "code",
   "source": [
    "W = randn(5, 10)\n",
    "x = rand(10)\n",
    "W * x"
   ],
   "metadata": {},
   "execution_count": 18
  },
  {
   "outputs": [],
   "cell_type": "markdown",
   "source": [
    "Julia's arrays are very powerful, and you can learn more about what they can\n",
    "do [here](https://docs.julialang.org/en/v1/manual/arrays/)."
   ],
   "metadata": {}
  },
  {
   "outputs": [],
   "cell_type": "markdown",
   "source": [
    "### CUDA Arrays"
   ],
   "metadata": {}
  },
  {
   "outputs": [],
   "cell_type": "markdown",
   "source": [
    "CUDA functionality is provided separately by the [CuArrays\n",
    "package](https://github.com/JuliaGPU/CuArrays.jl). If you have a GPU and CUDA\n",
    "available, you can run `] add CuArrays` in a REPL or IJulia to get it."
   ],
   "metadata": {}
  },
  {
   "outputs": [],
   "cell_type": "markdown",
   "source": [
    "Once CuArrays is loaded you can move any array to the GPU with the `cu`\n",
    "function, and it supports all of the above operations with the same syntax."
   ],
   "metadata": {}
  },
  {
   "outputs": [],
   "cell_type": "code",
   "source": [
    "# using CuArrays\n",
    "# x = cu(rand(5, 3))"
   ],
   "metadata": {},
   "execution_count": 19
  },
  {
   "outputs": [],
   "cell_type": "markdown",
   "source": [
    "Automatic Differentiation\n",
    "-------------------------"
   ],
   "metadata": {}
  },
  {
   "outputs": [],
   "cell_type": "markdown",
   "source": [
    "You probably learned to take derivatives in school. We start with a simple\n",
    "mathematical function like"
   ],
   "metadata": {}
  },
  {
   "outputs": [
    {
     "output_type": "execute_result",
     "data": {
      "text/plain": "86"
     },
     "metadata": {},
     "execution_count": 20
    }
   ],
   "cell_type": "code",
   "source": [
    "f(x) = 3x^2 + 2x + 1\n",
    "\n",
    "f(5)"
   ],
   "metadata": {},
   "execution_count": 20
  },
  {
   "outputs": [],
   "cell_type": "markdown",
   "source": [
    "In simple cases it's pretty easy to work out the gradient by hand – here it's\n",
    "`6x+2`. But it's much easier to make Flux do the work for us!"
   ],
   "metadata": {}
  },
  {
   "outputs": [
    {
     "output_type": "execute_result",
     "data": {
      "text/plain": "32.0 (tracked)"
     },
     "metadata": {},
     "execution_count": 21
    }
   ],
   "cell_type": "code",
   "source": [
    "using Flux.Tracker: derivative\n",
    "\n",
    "df(x) = derivative(f, x)\n",
    "\n",
    "df(5)"
   ],
   "metadata": {},
   "execution_count": 21
  },
  {
   "outputs": [],
   "cell_type": "markdown",
   "source": [
    "You can try this with a few different inputs to make sure it's really the same\n",
    "as `6x+2`. We can even do this multiple times (but the second derivative is a\n",
    "fairly boring `6`)."
   ],
   "metadata": {}
  },
  {
   "outputs": [
    {
     "output_type": "execute_result",
     "data": {
      "text/plain": "6.0 (tracked)"
     },
     "metadata": {},
     "execution_count": 22
    }
   ],
   "cell_type": "code",
   "source": [
    "ddf(x) = derivative(df, x)\n",
    "\n",
    "ddf(5)"
   ],
   "metadata": {},
   "execution_count": 22
  },
  {
   "outputs": [],
   "cell_type": "markdown",
   "source": [
    "Flux's AD can handle any Julia code you throw at it, including loops,\n",
    "recursion and custom layers, so long as the mathematical functions you call\n",
    "are differentiable. For example, we can differentiate a Taylor approximation\n",
    "to the `sin` function."
   ],
   "metadata": {}
  },
  {
   "outputs": [
    {
     "output_type": "execute_result",
     "data": {
      "text/plain": "(0.4794255386041834, 0.8775825618898637 (tracked))"
     },
     "metadata": {},
     "execution_count": 23
    }
   ],
   "cell_type": "code",
   "source": [
    "mysin(x) = sum((-1)^k*x^(1+2k)/factorial(1+2k) for k in 0:5)\n",
    "\n",
    "x = 0.5\n",
    "\n",
    "mysin(x), derivative(mysin, x)"
   ],
   "metadata": {},
   "execution_count": 23
  },
  {
   "outputs": [
    {
     "output_type": "execute_result",
     "data": {
      "text/plain": "(0.479425538604203, 0.8775825618903728)"
     },
     "metadata": {},
     "execution_count": 24
    }
   ],
   "cell_type": "code",
   "source": [
    "sin(x), cos(x)"
   ],
   "metadata": {},
   "execution_count": 24
  },
  {
   "outputs": [],
   "cell_type": "markdown",
   "source": [
    "You can see that the derivative we calculated is very close to `cos(x)`, as we\n",
    "expect."
   ],
   "metadata": {}
  },
  {
   "outputs": [],
   "cell_type": "markdown",
   "source": [
    "This gets more interesting when we consider functions that take *arrays* as\n",
    "inputs, rather than just a single number. For example, here's a function that\n",
    "takes a matrix and two vectors (the definition itself is arbitrary)"
   ],
   "metadata": {}
  },
  {
   "outputs": [
    {
     "output_type": "execute_result",
     "data": {
      "text/plain": "(Flux.Tracker.TrackedReal{Float64}[0.82961 (tracked) 0.00307916 (tracked) … 0.4691 (tracked) 0.711986 (tracked); 0.82961 (tracked) 0.00307916 (tracked) … 0.4691 (tracked) 0.711986 (tracked); 0.82961 (tracked) 0.00307916 (tracked) … 0.4691 (tracked) 0.711986 (tracked)], Flux.Tracker.TrackedReal{Float64}[1.0 (tracked), 1.0 (tracked), 1.0 (tracked)], Flux.Tracker.TrackedReal{Float64}[0.849344 (tracked), -0.169444 (tracked), 1.65807 (tracked), -1.3162 (tracked), -1.9649 (tracked)])"
     },
     "metadata": {},
     "execution_count": 25
    }
   ],
   "cell_type": "code",
   "source": [
    "using Flux.Tracker: gradient\n",
    "\n",
    "myloss(W, b, x) = sum(W * x .+ b)\n",
    "\n",
    "W = randn(3, 5)\n",
    "b = zeros(3)\n",
    "x = rand(5)\n",
    "\n",
    "gradient(myloss, W, b, x)"
   ],
   "metadata": {},
   "execution_count": 25
  },
  {
   "outputs": [],
   "cell_type": "markdown",
   "source": [
    "Now we get gradients for each of the inputs `W`, `b` and `x`, which will come\n",
    "in handy when we want to train models."
   ],
   "metadata": {}
  },
  {
   "outputs": [],
   "cell_type": "markdown",
   "source": [
    "Because ML models can contain hundreds of parameters, Flux provides a slightly\n",
    "different way of writing `gradient`. We instead mark arrays with `param` to\n",
    "indicate that we want their derivatives."
   ],
   "metadata": {}
  },
  {
   "outputs": [
    {
     "output_type": "execute_result",
     "data": {
      "text/plain": "-1.3038671362425203 (tracked)"
     },
     "metadata": {},
     "execution_count": 26
    }
   ],
   "cell_type": "code",
   "source": [
    "using Flux.Tracker: param, back!, grad\n",
    "\n",
    "W = param(randn(3, 5))\n",
    "b = param(zeros(3))\n",
    "x = rand(5)\n",
    "\n",
    "y = sum(W * x .+ b)"
   ],
   "metadata": {},
   "execution_count": 26
  },
  {
   "outputs": [],
   "cell_type": "markdown",
   "source": [
    "Anything marked `param` becomes *tracked*, indicating that Flux keeping an eye\n",
    "on its gradient. We can now call"
   ],
   "metadata": {}
  },
  {
   "outputs": [
    {
     "output_type": "execute_result",
     "data": {
      "text/plain": "([0.317638 0.426668 … 0.864062 0.844238; 0.317638 0.426668 … 0.864062 0.844238; 0.317638 0.426668 … 0.864062 0.844238], [1.0, 1.0, 1.0])"
     },
     "metadata": {},
     "execution_count": 27
    }
   ],
   "cell_type": "code",
   "source": [
    "back!(y) # Run backpropagation\n",
    "\n",
    "grad(W), grad(b)"
   ],
   "metadata": {},
   "execution_count": 27
  },
  {
   "outputs": [],
   "cell_type": "markdown",
   "source": [
    "We can now grab the gradients of `W` and `b` directly from those parameters."
   ],
   "metadata": {}
  },
  {
   "outputs": [],
   "cell_type": "markdown",
   "source": [
    "This comes in handy when working with *layers*. A layer is just a handy\n",
    "container for some parameters. For example, `Dense` does a linear transform\n",
    "for you."
   ],
   "metadata": {}
  },
  {
   "outputs": [
    {
     "output_type": "execute_result",
     "data": {
      "text/plain": "Tracked 5-element Array{Float64,1}:\n  0.5751007736197906 \n  0.31323038583744967\n -0.4542263563672249 \n -0.1549370930085665 \n  0.7278120308854088 "
     },
     "metadata": {},
     "execution_count": 28
    }
   ],
   "cell_type": "code",
   "source": [
    "using Flux\n",
    "\n",
    "m = Dense(10, 5)\n",
    "\n",
    "x = rand(10)\n",
    "\n",
    "m(x)"
   ],
   "metadata": {},
   "execution_count": 28
  },
  {
   "outputs": [
    {
     "output_type": "execute_result",
     "data": {
      "text/plain": "true"
     },
     "metadata": {},
     "execution_count": 29
    }
   ],
   "cell_type": "code",
   "source": [
    "m(x) == m.W * x .+ m.b"
   ],
   "metadata": {},
   "execution_count": 29
  },
  {
   "outputs": [],
   "cell_type": "markdown",
   "source": [
    "We can easily get the parameters of any layer or model with params with\n",
    "`params`."
   ],
   "metadata": {}
  },
  {
   "outputs": [
    {
     "output_type": "execute_result",
     "data": {
      "text/plain": "2-element Array{Any,1}:\n Flux.Tracker.TrackedReal{Float64}[0.348215 (tracked) 0.113826 (tracked) … -0.263122 (tracked) 0.119504 (tracked); -0.286431 (tracked) 0.438798 (tracked) … -0.0725993 (tracked) 0.550167 (tracked); … ; -0.37563 (tracked) 0.162502 (tracked) … 0.55664 (tracked) -0.00180425 (tracked); 0.0616125 (tracked) 0.497789 (tracked) … 0.0704023 (tracked) 0.496629 (tracked)]\n Flux.Tracker.TrackedReal{Float64}[0.0 (tracked), 0.0 (tracked), 0.0 (tracked), 0.0 (tracked), 0.0 (tracked)]                                                                                                                                                                                                                                                             "
     },
     "metadata": {},
     "execution_count": 30
    }
   ],
   "cell_type": "code",
   "source": [
    "params(m)"
   ],
   "metadata": {},
   "execution_count": 30
  },
  {
   "outputs": [],
   "cell_type": "markdown",
   "source": [
    "This makes it very easy to do backpropagation and get the gradient for all\n",
    "parameters in a network, even if it has many parameters."
   ],
   "metadata": {}
  },
  {
   "outputs": [
    {
     "output_type": "execute_result",
     "data": {
      "text/plain": "4-element Array{Array{Float64,N} where N,1}:\n [-0.00297404 -0.00516993 … -0.00274195 -0.00200276; 0.197229 0.342854 … 0.181837 0.132817; … ; -0.0212686 -0.0369723 … -0.0196088 -0.0143226; 0.0 0.0 … 0.0 0.0]\n [-0.00525157, 0.348268, 0.329492, -0.0375561, 0.0]                                                                                                              \n [0.116203 0.19649 … 0.274022 0.0; -0.116203 -0.19649 … -0.274022 0.0]                                                                                           \n [0.33348, -0.33348]                                                                                                                                             "
     },
     "metadata": {},
     "execution_count": 31
    }
   ],
   "cell_type": "code",
   "source": [
    "m = Chain(Dense(10, 5, relu), Dense(5, 2), softmax)\n",
    "\n",
    "loss(x, y = [0.5, 0.5]) = sum(Flux.crossentropy(m(x), y))\n",
    "l = loss(x)\n",
    "back!(l)\n",
    "\n",
    "grad.(params(m))"
   ],
   "metadata": {},
   "execution_count": 31
  },
  {
   "outputs": [],
   "cell_type": "markdown",
   "source": [
    "You don't have to use layers, but they can be convient for many simple kinds\n",
    "of models and fast iteration."
   ],
   "metadata": {}
  },
  {
   "outputs": [],
   "cell_type": "markdown",
   "source": [
    "The next step is to update our weights and perform optimisation. As you might be\n",
    "familiar, *Gradient Descent* is a simple algorithm that takes the weights and steps\n",
    "using a learning rate and the gradients. `weights = weights - learning_rate * gradient`."
   ],
   "metadata": {}
  },
  {
   "outputs": [],
   "cell_type": "code",
   "source": [
    "using Flux.Tracker: update!\n",
    "\n",
    "η = 0.1\n",
    "for p in params(m)\n",
    "  update!(p, -η * grad(p))\n",
    "end"
   ],
   "metadata": {},
   "execution_count": 32
  },
  {
   "outputs": [],
   "cell_type": "markdown",
   "source": [
    "While this is a valid way of updating our weights, it can get more complicated as the\n",
    "algorithms we use get more involved."
   ],
   "metadata": {}
  },
  {
   "outputs": [],
   "cell_type": "markdown",
   "source": [
    "Flux comes with a bunch of pre-defined optimisers and makes writing our own really simple.\n",
    "We just give it the model parameters and any other parameters of the optimisers themselves."
   ],
   "metadata": {}
  },
  {
   "outputs": [],
   "cell_type": "code",
   "source": [
    "opt = SGD(params(m), 0.01)\n",
    "opt() # updates the weights"
   ],
   "metadata": {},
   "execution_count": 33
  },
  {
   "outputs": [],
   "cell_type": "markdown",
   "source": [
    "Combining all these steps put together, done many times is how we train Flux models.\n",
    "Flux comes with the `train!` to start our training loop."
   ],
   "metadata": {}
  },
  {
   "outputs": [],
   "cell_type": "code",
   "source": [
    "data, labels = rand(10, 100), fill(0.5, 2, 100)\n",
    "Flux.train!(loss, [(data, labels)], opt)"
   ],
   "metadata": {},
   "execution_count": 34
  },
  {
   "outputs": [],
   "cell_type": "markdown",
   "source": [
    "You don't have to use `train!`. In cases where aribtrary logic might be better suited,\n",
    "you could open up this training loop like so:"
   ],
   "metadata": {}
  },
  {
   "outputs": [],
   "cell_type": "markdown",
   "source": [
    "```julia\n",
    "  for d in training_set # assuming d looks like (data, labels)\n",
    "    # our super logic\n",
    "    l = loss(d...)\n",
    "    Tracker.back!(l)\n",
    "    opt()\n",
    "  end\n",
    "```"
   ],
   "metadata": {}
  },
  {
   "outputs": [],
   "cell_type": "markdown",
   "source": [
    "Training a Classifier\n",
    "---------------------"
   ],
   "metadata": {}
  },
  {
   "outputs": [],
   "cell_type": "markdown",
   "source": [
    "Getting a real classifier to work might help cement the workflow a bit more.\n",
    "[CIFAR10](url) is a dataset of 50k tiny training images split into 10 classes."
   ],
   "metadata": {}
  },
  {
   "outputs": [],
   "cell_type": "markdown",
   "source": [
    "We will do the following steps in order:"
   ],
   "metadata": {}
  },
  {
   "outputs": [],
   "cell_type": "markdown",
   "source": [
    "* Load CIFAR10 training and test datasets\n",
    "* Define a Convolution Neural Network\n",
    "* Define a loss function\n",
    "* Train the network on the training data\n",
    "* Test the network on the test data"
   ],
   "metadata": {}
  },
  {
   "outputs": [],
   "cell_type": "markdown",
   "source": [
    "Loading the Dataset"
   ],
   "metadata": {}
  },
  {
   "outputs": [],
   "cell_type": "markdown",
   "source": [
    "[Metalhead.jl](https://github.com/FluxML/Metalhead.jl) is an excellent package\n",
    "that has a number of predefined and pretrained computer vision models.\n",
    "It also has a number of dataloaders that come in handy to load datasets."
   ],
   "metadata": {}
  },
  {
   "outputs": [
    {
     "name": "stdout",
     "output_type": "stream",
     "text": [
      "┌ Warning: Error requiring CuArrays from Flux:\n",
      "│ LoadError: LoadError: UndefVarError: libcudnn_handle not defined\n",
      "│ Stacktrace:\n",
      "│  [1] include at ./boot.jl:317 [inlined]\n",
      "│  [2] include_relative(::Module, ::String) at ./loading.jl:1044\n",
      "│  [3] include at ./sysimg.jl:29 [inlined]\n",
      "│  [4] include(::String) at /home/dhairyagandhi96/.julia/packages/Flux/oN61x/src/cuda/cuda.jl:1\n",
      "│  [5] top-level scope at none:0\n",
      "│  [6] include at ./boot.jl:317 [inlined]\n",
      "│  [7] include_relative(::Module, ::String) at ./loading.jl:1044\n",
      "│  [8] include at ./sysimg.jl:29 [inlined]\n",
      "│  [9] include(::String) at /home/dhairyagandhi96/.julia/packages/Flux/oN61x/src/Flux.jl:1\n",
      "│  [10] top-level scope at none:0\n",
      "│  [11] eval at ./boot.jl:319 [inlined]\n",
      "│  [12] eval at /home/dhairyagandhi96/.julia/packages/Flux/oN61x/src/Flux.jl:1 [inlined]\n",
      "│  [13] (::getfield(Flux, Symbol(\"##99#103\")))() at /home/dhairyagandhi96/.julia/packages/Requires/9Jse8/src/require.jl:67\n",
      "│  [14] err(::getfield(Flux, Symbol(\"##99#103\")), ::Module, ::String) at /home/dhairyagandhi96/.julia/packages/Requires/9Jse8/src/require.jl:38\n",
      "│  [15] #98 at /home/dhairyagandhi96/.julia/packages/Requires/9Jse8/src/require.jl:66 [inlined]\n",
      "│  [16] withpath(::getfield(Flux, Symbol(\"##98#102\")), ::String) at /home/dhairyagandhi96/.julia/packages/Requires/9Jse8/src/require.jl:28\n",
      "│  [17] (::getfield(Flux, Symbol(\"##97#101\")))() at /home/dhairyagandhi96/.julia/packages/Requires/9Jse8/src/require.jl:65\n",
      "│  [18] #invokelatest#1 at ./essentials.jl:697 [inlined]\n",
      "│  [19] invokelatest at ./essentials.jl:696 [inlined]\n",
      "│  [20] #3 at /home/dhairyagandhi96/.julia/packages/Requires/9Jse8/src/require.jl:19 [inlined]\n",
      "│  [21] iterate at ./generator.jl:47 [inlined]\n",
      "│  [22] collect_to!(::Array{Function,1}, ::Base.Generator{Array{Function,1},getfield(Requires, Symbol(\"##3#4\"))}, ::Int64, ::Int64) at ./array.jl:656\n",
      "│  [23] collect_to!(::Array{typeof(CUDAnative.cudaconvert),1}, ::Base.Generator{Array{Function,1},getfield(Requires, Symbol(\"##3#4\"))}, ::Int64, ::Int64) at ./array.jl:667\n",
      "│  [24] collect_to_with_first!(::Array{typeof(CUDAnative.cudaconvert),1}, ::Function, ::Base.Generator{Array{Function,1},getfield(Requires, Symbol(\"##3#4\"))}, ::Int64) at ./array.jl:643\n",
      "│  [25] _collect(::Array{Function,1}, ::Base.Generator{Array{Function,1},getfield(Requires, Symbol(\"##3#4\"))}, ::Base.EltypeUnknown, ::Base.HasShape{1}) at ./array.jl:637\n",
      "│  [26] map at ./array.jl:561 [inlined]\n",
      "│  [27] loadpkg(::Base.PkgId) at /home/dhairyagandhi96/.julia/packages/Requires/9Jse8/src/require.jl:19\n",
      "│  [28] #invokelatest#1 at ./essentials.jl:697 [inlined]\n",
      "│  [29] invokelatest at ./essentials.jl:696 [inlined]\n",
      "│  [30] require(::Base.PkgId) at ./loading.jl:861\n",
      "│  [31] macro expansion at ./logging.jl:309 [inlined]\n",
      "│  [32] require(::Module, ::Symbol) at ./loading.jl:840\n",
      "│  [33] include_string(::Module, ::String, ::String) at ./loading.jl:1008\n",
      "│  [34] include_string(::Module, ::String) at ./loading.jl:1012\n",
      "│  [35] (::getfield(Literate, Symbol(\"##18#19\")){Module})() at /home/dhairyagandhi96/.julia/packages/Literate/OTyBa/src/Literate.jl:533\n",
      "│  [36] (::getfield(Literate.Documenter, Symbol(\"##1#2\")){getfield(Literate, Symbol(\"##18#19\")){Module},Base.TTY,Base.TTY,Pipe,Array{UInt8,1}})() at /home/dhairyagandhi96/.julia/packages/Literate/OTyBa/src/Documenter.jl:25\n",
      "│  [37] with_logstate(::getfield(Literate.Documenter, Symbol(\"##1#2\")){getfield(Literate, Symbol(\"##18#19\")){Module},Base.TTY,Base.TTY,Pipe,Array{UInt8,1}}, ::Base.CoreLogging.LogState) at ./logging.jl:395\n",
      "│  [38] with_logger(::Function, ::Base.CoreLogging.SimpleLogger) at ./logging.jl:491\n",
      "│  [39] execute_notebook(::Dict{Any,Any}) at /home/dhairyagandhi96/.julia/packages/Literate/OTyBa/src/Documenter.jl:23\n",
      "│  [40] (::getfield(Literate, Symbol(\"##14#17\")))() at /home/dhairyagandhi96/.julia/packages/Literate/OTyBa/src/Literate.jl:492\n",
      "│  [41] cd(::getfield(Literate, Symbol(\"##14#17\")), ::String) at ./file.jl:96\n",
      "│  [42] #notebook#11(::typeof(preprocess_nb), ::typeof(postprocess_nb), ::Bool, ::Bool, ::Bool, ::String, ::Base.Iterators.Pairs{Union{},Union{},Tuple{},NamedTuple{(),Tuple{}}}, ::Function, ::String, ::String) at /home/dhairyagandhi96/.julia/packages/Literate/OTyBa/src/Literate.jl:470\n",
      "│  [43] #notebook at ./none:0 [inlined]\n",
      "│  [44] top-level scope at /home/dhairyagandhi96/modelzoo/model-zoo/script/convert.jl:42 [inlined]\n",
      "│  [45] top-level scope at ./none:0\n",
      "│  [46] include at ./boot.jl:317 [inlined]\n",
      "│  [47] include_relative(::Module, ::String) at ./loading.jl:1044\n",
      "│  [48] include(::Module, ::String) at ./sysimg.jl:29\n",
      "│  [49] exec_options(::Base.JLOptions) at ./client.jl:231\n",
      "│ in expression starting at /home/dhairyagandhi96/.julia/packages/Flux/oN61x/src/cuda/cudnn.jl:1\n",
      "│ in expression starting at /home/dhairyagandhi96/.julia/packages/Flux/oN61x/src/cuda/cuda.jl:5\n",
      "└ @ Requires /home/dhairyagandhi96/.julia/packages/Requires/9Jse8/src/require.jl:40\n"
     ]
    }
   ],
   "cell_type": "code",
   "source": [
    "using Statistics\n",
    "using Flux, Flux.Tracker, Flux.Optimise\n",
    "using Metalhead, Images\n",
    "using Metalhead: trainimgs\n",
    "using Images.ImageCore\n",
    "using Flux: onehotbatch, onecold\n",
    "using Base.Iterators: partition\n",
    "using CuArrays"
   ],
   "metadata": {},
   "execution_count": 35
  },
  {
   "outputs": [],
   "cell_type": "markdown",
   "source": [
    "The image will give us an idea of what we are dealing with.\n",
    "![title](https://pytorch.org/tutorials/_images/cifar10.png)"
   ],
   "metadata": {}
  },
  {
   "outputs": [
    {
     "output_type": "execute_result",
     "data": {
      "text/plain": "10×50000 Flux.OneHotMatrix{Array{Flux.OneHotVector,1}}:\n false  false  false  false  false  …  false  false  false  false  false\n false  false  false  false   true     false  false  false   true   true\n false  false  false  false  false      true  false  false  false  false\n false  false  false  false  false     false  false  false  false  false\n false  false  false   true  false     false  false  false  false  false\n false  false  false  false  false  …  false  false  false  false  false\n  true  false  false  false  false     false   true  false  false  false\n false  false  false  false  false     false  false  false  false  false\n false  false  false  false  false     false  false  false  false  false\n false   true   true  false  false     false  false   true  false  false"
     },
     "metadata": {},
     "execution_count": 36
    }
   ],
   "cell_type": "code",
   "source": [
    "Metalhead.download(CIFAR10)\n",
    "X = trainimgs(CIFAR10)\n",
    "labels = onehotbatch([X[i].ground_truth.class for i in 1:50000],1:10)"
   ],
   "metadata": {},
   "execution_count": 36
  },
  {
   "outputs": [],
   "cell_type": "markdown",
   "source": [
    "Let's take a look at some random images from the dataset"
   ],
   "metadata": {}
  },
  {
   "outputs": [
    {
     "output_type": "execute_result",
     "data": {
      "text/plain": "10-element Array{Array{ColorTypes.RGB{FixedPointNumbers.Normed{UInt8,8}},2},1}:\n [RGB{N0f8}(0.765,0.333,0.184) RGB{N0f8}(0.737,0.361,0.306) … RGB{N0f8}(0.38,0.349,0.424) RGB{N0f8}(0.4,0.38,0.471); RGB{N0f8}(0.776,0.369,0.259) RGB{N0f8}(0.78,0.424,0.369) … RGB{N0f8}(0.42,0.412,0.51) RGB{N0f8}(0.427,0.435,0.549); … ; RGB{N0f8}(0.682,0.867,0.984) RGB{N0f8}(0.612,0.8,0.965) … RGB{N0f8}(0.996,0.996,0.988) RGB{N0f8}(1.0,0.996,0.988); RGB{N0f8}(0.757,0.875,0.941) RGB{N0f8}(0.694,0.875,0.965) … RGB{N0f8}(0.965,0.976,0.973) RGB{N0f8}(0.957,0.976,0.969)]         \n [RGB{N0f8}(0.251,0.31,0.329) RGB{N0f8}(0.247,0.294,0.318) … RGB{N0f8}(0.58,0.678,0.718) RGB{N0f8}(0.627,0.667,0.702); RGB{N0f8}(0.251,0.31,0.329) RGB{N0f8}(0.243,0.29,0.314) … RGB{N0f8}(0.557,0.643,0.682) RGB{N0f8}(0.639,0.659,0.682); … ; RGB{N0f8}(0.353,0.349,0.369) RGB{N0f8}(0.322,0.325,0.349) … RGB{N0f8}(0.333,0.455,0.475) RGB{N0f8}(0.325,0.447,0.467); RGB{N0f8}(0.271,0.333,0.353) RGB{N0f8}(0.267,0.325,0.357) … RGB{N0f8}(0.325,0.447,0.467) RGB{N0f8}(0.322,0.443,0.463)]  \n [RGB{N0f8}(0.671,0.675,0.655) RGB{N0f8}(0.663,0.663,0.647) … RGB{N0f8}(0.651,0.631,0.62) RGB{N0f8}(0.643,0.627,0.612); RGB{N0f8}(0.686,0.69,0.671) RGB{N0f8}(0.675,0.678,0.659) … RGB{N0f8}(0.651,0.639,0.627) RGB{N0f8}(0.639,0.631,0.616); … ; RGB{N0f8}(0.09,0.106,0.102) RGB{N0f8}(0.059,0.075,0.071) … RGB{N0f8}(0.094,0.122,0.153) RGB{N0f8}(0.098,0.125,0.145); RGB{N0f8}(0.086,0.102,0.098) RGB{N0f8}(0.067,0.082,0.078) … RGB{N0f8}(0.055,0.063,0.051) RGB{N0f8}(0.059,0.063,0.055)] \n [RGB{N0f8}(0.886,0.875,0.863) RGB{N0f8}(0.882,0.851,0.824) … RGB{N0f8}(0.894,0.851,0.831) RGB{N0f8}(0.839,0.824,0.82); RGB{N0f8}(0.827,0.8,0.769) RGB{N0f8}(0.816,0.761,0.722) … RGB{N0f8}(0.8,0.694,0.671) RGB{N0f8}(0.729,0.671,0.675); … ; RGB{N0f8}(0.659,0.659,0.659) RGB{N0f8}(0.498,0.498,0.498) … RGB{N0f8}(0.514,0.514,0.514) RGB{N0f8}(0.49,0.49,0.49); RGB{N0f8}(0.714,0.714,0.714) RGB{N0f8}(0.573,0.573,0.573) … RGB{N0f8}(0.573,0.573,0.573) RGB{N0f8}(0.616,0.616,0.616)]      \n [RGB{N0f8}(0.376,0.286,0.251) RGB{N0f8}(0.353,0.278,0.251) … RGB{N0f8}(0.541,0.404,0.235) RGB{N0f8}(0.565,0.435,0.278); RGB{N0f8}(0.4,0.314,0.282) RGB{N0f8}(0.396,0.322,0.286) … RGB{N0f8}(0.573,0.412,0.286) RGB{N0f8}(0.463,0.325,0.208); … ; RGB{N0f8}(0.361,0.318,0.255) RGB{N0f8}(0.337,0.294,0.247) … RGB{N0f8}(0.337,0.318,0.239) RGB{N0f8}(0.345,0.325,0.247); RGB{N0f8}(0.329,0.298,0.247) RGB{N0f8}(0.318,0.286,0.243) … RGB{N0f8}(0.298,0.294,0.247) RGB{N0f8}(0.302,0.294,0.247)]\n [RGB{N0f8}(0.09,0.157,0.082) RGB{N0f8}(0.173,0.259,0.129) … RGB{N0f8}(0.29,0.341,0.22) RGB{N0f8}(0.29,0.325,0.208); RGB{N0f8}(0.086,0.149,0.082) RGB{N0f8}(0.165,0.235,0.129) … RGB{N0f8}(0.282,0.322,0.247) RGB{N0f8}(0.278,0.31,0.239); … ; RGB{N0f8}(0.694,0.698,0.71) RGB{N0f8}(0.702,0.718,0.737) … RGB{N0f8}(0.604,0.616,0.624) RGB{N0f8}(0.608,0.616,0.631); RGB{N0f8}(0.686,0.694,0.71) RGB{N0f8}(0.694,0.706,0.725) … RGB{N0f8}(0.608,0.627,0.647) RGB{N0f8}(0.608,0.631,0.651)]     \n [RGB{N0f8}(0.588,0.565,0.525) RGB{N0f8}(0.537,0.533,0.459) … RGB{N0f8}(0.573,0.561,0.506) RGB{N0f8}(0.533,0.522,0.471); RGB{N0f8}(0.553,0.529,0.518) RGB{N0f8}(0.42,0.404,0.4) … RGB{N0f8}(0.545,0.529,0.482) RGB{N0f8}(0.49,0.482,0.424); … ; RGB{N0f8}(0.196,0.204,0.216) RGB{N0f8}(0.188,0.196,0.204) … RGB{N0f8}(0.439,0.447,0.392) RGB{N0f8}(0.396,0.404,0.373); RGB{N0f8}(0.192,0.208,0.204) RGB{N0f8}(0.251,0.263,0.247) … RGB{N0f8}(0.416,0.408,0.373) RGB{N0f8}(0.345,0.345,0.322)]  \n [RGB{N0f8}(1.0,1.0,1.0) RGB{N0f8}(1.0,1.0,1.0) … RGB{N0f8}(0.878,0.863,0.851) RGB{N0f8}(0.988,0.976,0.98); RGB{N0f8}(0.988,0.988,0.988) RGB{N0f8}(0.992,0.992,0.992) … RGB{N0f8}(0.51,0.467,0.455) RGB{N0f8}(0.914,0.894,0.894); … ; RGB{N0f8}(0.988,0.988,0.988) RGB{N0f8}(0.996,0.996,0.996) … RGB{N0f8}(0.996,0.996,0.996) RGB{N0f8}(0.992,0.992,0.992); RGB{N0f8}(0.992,0.992,0.992) RGB{N0f8}(0.996,0.996,0.996) … RGB{N0f8}(0.996,0.996,0.996) RGB{N0f8}(0.992,0.992,0.992)]            \n [RGB{N0f8}(0.169,0.204,0.188) RGB{N0f8}(0.227,0.255,0.267) … RGB{N0f8}(0.247,0.298,0.251) RGB{N0f8}(0.271,0.314,0.259); RGB{N0f8}(0.145,0.176,0.184) RGB{N0f8}(0.216,0.247,0.251) … RGB{N0f8}(0.294,0.337,0.275) RGB{N0f8}(0.345,0.396,0.322); … ; RGB{N0f8}(0.643,0.592,0.596) RGB{N0f8}(0.639,0.588,0.588) … RGB{N0f8}(0.714,0.643,0.624) RGB{N0f8}(0.686,0.612,0.584); RGB{N0f8}(0.647,0.596,0.604) RGB{N0f8}(0.651,0.596,0.6) … RGB{N0f8}(0.698,0.616,0.588) RGB{N0f8}(0.678,0.592,0.549)]\n [RGB{N0f8}(0.329,0.318,0.408) RGB{N0f8}(0.365,0.341,0.435) … RGB{N0f8}(0.408,0.325,0.306) RGB{N0f8}(0.322,0.263,0.239); RGB{N0f8}(0.353,0.329,0.424) RGB{N0f8}(0.38,0.345,0.443) … RGB{N0f8}(0.42,0.333,0.29) RGB{N0f8}(0.294,0.227,0.176); … ; RGB{N0f8}(0.443,0.369,0.114) RGB{N0f8}(0.533,0.431,0.133) … RGB{N0f8}(0.816,0.761,0.533) RGB{N0f8}(0.784,0.733,0.502); RGB{N0f8}(0.416,0.329,0.075) RGB{N0f8}(0.541,0.439,0.145) … RGB{N0f8}(0.847,0.792,0.573) RGB{N0f8}(0.863,0.788,0.573)] ",
      "text/html": [
       "<table><tbody><tr><td style='text-align:center;vertical-align:middle; margin: 0.5em;border:1px #90999f solid;border-collapse:collapse'><img style='max-width: 100px; max-height:100px;display:inline' src=\"data:image/png;base64,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\"></td><td style='text-align:center;vertical-align:middle; margin: 0.5em;border:1px #90999f solid;border-collapse:collapse'><img style='max-width: 100px; max-height:100px;display:inline' src=\"data:image/png;base64,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\"></td><td style='text-align:center;vertical-align:middle; margin: 0.5em;border:1px #90999f solid;border-collapse:collapse'><img style='max-width: 100px; max-height:100px;display:inline' src=\"data:image/png;base64,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\"></td><td style='text-align:center;vertical-align:middle; margin: 0.5em;border:1px #90999f solid;border-collapse:collapse'><img style='max-width: 100px; max-height:100px;display:inline' src=\"data:image/png;base64,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\"></td><td style='text-align:center;vertical-align:middle; margin: 0.5em;border:1px #90999f solid;border-collapse:collapse'><img style='max-width: 100px; max-height:100px;display:inline' src=\"data:image/png;base64,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\"></td><td style='text-align:center;vertical-align:middle; margin: 0.5em;border:1px #90999f solid;border-collapse:collapse'><img style='max-width: 100px; max-height:100px;display:inline' src=\"data:image/png;base64,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\"></td><td style='text-align:center;vertical-align:middle; margin: 0.5em;border:1px #90999f solid;border-collapse:collapse'><img style='max-width: 100px; max-height:100px;display:inline' src=\"data:image/png;base64,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\"></td><td style='text-align:center;vertical-align:middle; margin: 0.5em;border:1px #90999f solid;border-collapse:collapse'><img style='max-width: 100px; max-height:100px;display:inline' src=\"data:image/png;base64,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\"></td><td style='text-align:center;vertical-align:middle; margin: 0.5em;border:1px #90999f solid;border-collapse:collapse'><img style='max-width: 100px; max-height:100px;display:inline' src=\"data:image/png;base64,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\"></td><td style='text-align:center;vertical-align:middle; margin: 0.5em;border:1px #90999f solid;border-collapse:collapse'><img style='max-width: 100px; max-height:100px;display:inline' src=\"data:image/png;base64,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\"></td></tr></tbody></table><div><small>(a vector displayed as a row to save space)</small></div>"
      ]
     },
     "metadata": {},
     "execution_count": 37
    }
   ],
   "cell_type": "code",
   "source": [
    "image(x) = x.img\n",
    "image.(X[rand(1:end, 10)])"
   ],
   "metadata": {},
   "execution_count": 37
  },
  {
   "outputs": [],
   "cell_type": "markdown",
   "source": [
    "The images are simply 32 X 32 matrices of numbers in 3 channels (R,G,B). We can now\n",
    "arrange them in batches of say, 1000 and keep a validation set to track our progress."
   ],
   "metadata": {}
  },
  {
   "outputs": [],
   "cell_type": "markdown",
   "source": [
    "Defining a `getarray` function would help in converting the matrices to `Float` type."
   ],
   "metadata": {}
  },
  {
   "outputs": [],
   "cell_type": "code",
   "source": [
    "getarray(X) = float.(permutedims(channelview(X), (2, 3, 1)))\n",
    "imgs = [getarray(X[i].img) for i in 1:50000];"
   ],
   "metadata": {},
   "execution_count": 38
  },
  {
   "outputs": [],
   "cell_type": "markdown",
   "source": [
    "The first 49k images (in batches of 1000) will be our training set, and the rest is\n",
    "for validation. `partition` handily breaks down the set we give it in consecutive parts\n",
    "(1000 in this case). `cat` is a shorthand for concatentaing multi-dimensional arrays along\n",
    "any dimension."
   ],
   "metadata": {}
  },
  {
   "outputs": [
    {
     "output_type": "execute_result",
     "data": {
      "text/plain": "10×1000 Flux.OneHotMatrix{CuArrays.CuArray{Flux.OneHotVector,1}}:\n false  false  false  false   true  …  false  false  false  false  false\n false  false  false  false  false     false  false  false   true   true\n false  false  false  false  false      true  false  false  false  false\n false  false  false  false  false     false  false  false  false  false\n false  false   true  false  false     false  false  false  false  false\n false  false  false  false  false  …  false  false  false  false  false\n false  false  false  false  false     false   true  false  false  false\n false  false  false  false  false     false  false  false  false  false\n  true  false  false  false  false     false  false  false  false  false\n false   true  false   true  false     false  false   true  false  false"
     },
     "metadata": {},
     "execution_count": 39
    }
   ],
   "cell_type": "code",
   "source": [
    "train = gpu.([(cat(imgs[i]..., dims = 4), labels[:,i]) for i in partition(1:49000, 1000)])\n",
    "valset = 49001:50000\n",
    "valX = cat(imgs[valset]..., dims = 4) |> gpu\n",
    "valY = labels[:, valset] |> gpu"
   ],
   "metadata": {},
   "execution_count": 39
  },
  {
   "outputs": [],
   "cell_type": "markdown",
   "source": [
    "## Defining the Classifier\n",
    "--------------------------\n",
    "Now we can define our Convolutional Neural Network (CNN)."
   ],
   "metadata": {}
  },
  {
   "outputs": [
    {
     "output_type": "execute_result",
     "data": {
      "text/plain": "#43 (generic function with 1 method)"
     },
     "metadata": {},
     "execution_count": 40
    }
   ],
   "cell_type": "code",
   "source": [
    "m = Chain(\n",
    "  Conv((5,5), 3=>16, relu),\n",
    "  x -> maxpool(x, (2,2)),\n",
    "  Conv((5,5), 16=>8, relu),\n",
    "  x -> maxpool(x, (2,2)),\n",
    "  x -> reshape(x, :, size(x, 4)),\n",
    "  Dense(200, 120),\n",
    "  Dense(120, 84),\n",
    "  Dense(84, 10),\n",
    "  softmax) |> gpu\n",
    "# We will use a crossentropy loss and an Momentum optimiser here. Crossentropy will be a\n",
    "# good option when it comes to working with mulitple independent classes. Momentum gradually\n",
    "# lowers the learning rate as we proceed with the training. It helps maintain a bit of\n",
    "# adaptivity in our optimisation.\n",
    "using Flux: crossentropy, Momentum\n",
    "\n",
    "loss(x, y) = sum(crossentropy(m(x), y))\n",
    "opt = Momentum(params(m), 0.01)"
   ],
   "metadata": {},
   "execution_count": 40
  },
  {
   "outputs": [],
   "cell_type": "markdown",
   "source": [
    "We can start writing our train loop where we will keep track of some basic accuracy\n",
    "numbers about our model. We can define an `accuracy` function for it like so."
   ],
   "metadata": {}
  },
  {
   "outputs": [
    {
     "output_type": "execute_result",
     "data": {
      "text/plain": "accuracy (generic function with 1 method)"
     },
     "metadata": {},
     "execution_count": 41
    }
   ],
   "cell_type": "code",
   "source": [
    "accuracy(x, y) = mean(onecold(m(x), 1:10) .== onecold(y, 1:10))"
   ],
   "metadata": {},
   "execution_count": 41
  },
  {
   "outputs": [],
   "cell_type": "markdown",
   "source": [
    "## Training\n",
    "-----------"
   ],
   "metadata": {}
  },
  {
   "outputs": [],
   "cell_type": "markdown",
   "source": [
    "Training is where we do a bunch of the interesting operations we defined earlier,\n",
    "and see what our net is capable of. We will loop over the dataset 100 times and\n",
    "feed the inputs to the neural network and optimise."
   ],
   "metadata": {}
  },
  {
   "outputs": [
    {
     "name": "stdout",
     "output_type": "stream",
     "text": [
      "accuracy(valX, valY) = 0.114\n",
      "accuracy(valX, valY) = 0.113\n",
      "accuracy(valX, valY) = 0.115\n",
      "accuracy(valX, valY) = 0.116\n",
      "accuracy(valX, valY) = 0.113\n",
      "accuracy(valX, valY) = 0.114\n",
      "accuracy(valX, valY) = 0.114\n",
      "accuracy(valX, valY) = 0.114\n",
      "accuracy(valX, valY) = 0.114\n",
      "accuracy(valX, valY) = 0.114\n",
      "accuracy(valX, valY) = 0.114\n",
      "accuracy(valX, valY) = 0.115\n",
      "accuracy(valX, valY) = 0.115\n",
      "accuracy(valX, valY) = 0.122\n",
      "accuracy(valX, valY) = 0.123\n",
      "accuracy(valX, valY) = 0.135\n",
      "accuracy(valX, valY) = 0.144\n",
      "accuracy(valX, valY) = 0.153\n",
      "accuracy(valX, valY) = 0.163\n",
      "accuracy(valX, valY) = 0.174\n",
      "accuracy(valX, valY) = 0.174\n",
      "accuracy(valX, valY) = 0.171\n",
      "accuracy(valX, valY) = 0.168\n",
      "accuracy(valX, valY) = 0.169\n",
      "accuracy(valX, valY) = 0.167\n",
      "accuracy(valX, valY) = 0.169\n",
      "accuracy(valX, valY) = 0.167\n",
      "accuracy(valX, valY) = 0.166\n",
      "accuracy(valX, valY) = 0.166\n",
      "accuracy(valX, valY) = 0.166\n",
      "accuracy(valX, valY) = 0.165\n",
      "accuracy(valX, valY) = 0.163\n",
      "accuracy(valX, valY) = 0.165\n",
      "accuracy(valX, valY) = 0.16\n",
      "accuracy(valX, valY) = 0.158\n",
      "accuracy(valX, valY) = 0.148\n",
      "accuracy(valX, valY) = 0.145\n",
      "accuracy(valX, valY) = 0.148\n",
      "accuracy(valX, valY) = 0.146\n",
      "accuracy(valX, valY) = 0.143\n",
      "accuracy(valX, valY) = 0.139\n",
      "accuracy(valX, valY) = 0.136\n",
      "accuracy(valX, valY) = 0.129\n",
      "accuracy(valX, valY) = 0.13\n",
      "accuracy(valX, valY) = 0.133\n",
      "accuracy(valX, valY) = 0.135\n",
      "accuracy(valX, valY) = 0.138\n",
      "accuracy(valX, valY) = 0.126\n",
      "accuracy(valX, valY) = 0.124\n",
      "accuracy(valX, valY) = 0.124\n",
      "accuracy(valX, valY) = 0.122\n",
      "accuracy(valX, valY) = 0.124\n",
      "accuracy(valX, valY) = 0.124\n",
      "accuracy(valX, valY) = 0.125\n",
      "accuracy(valX, valY) = 0.123\n",
      "accuracy(valX, valY) = 0.121\n",
      "accuracy(valX, valY) = 0.12\n",
      "accuracy(valX, valY) = 0.125\n",
      "accuracy(valX, valY) = 0.124\n",
      "accuracy(valX, valY) = 0.127\n",
      "accuracy(valX, valY) = 0.133\n",
      "accuracy(valX, valY) = 0.136\n",
      "accuracy(valX, valY) = 0.136\n",
      "accuracy(valX, valY) = 0.143\n",
      "accuracy(valX, valY) = 0.153\n",
      "accuracy(valX, valY) = 0.155\n",
      "accuracy(valX, valY) = 0.159\n",
      "accuracy(valX, valY) = 0.156\n",
      "accuracy(valX, valY) = 0.165\n",
      "accuracy(valX, valY) = 0.173\n",
      "accuracy(valX, valY) = 0.178\n",
      "accuracy(valX, valY) = 0.189\n",
      "accuracy(valX, valY) = 0.195\n",
      "accuracy(valX, valY) = 0.194\n",
      "accuracy(valX, valY) = 0.203\n",
      "accuracy(valX, valY) = 0.201\n",
      "accuracy(valX, valY) = 0.201\n",
      "accuracy(valX, valY) = 0.228\n",
      "accuracy(valX, valY) = 0.227\n",
      "accuracy(valX, valY) = 0.24\n",
      "accuracy(valX, valY) = 0.241\n",
      "accuracy(valX, valY) = 0.241\n",
      "accuracy(valX, valY) = 0.229\n",
      "accuracy(valX, valY) = 0.228\n",
      "accuracy(valX, valY) = 0.252\n",
      "accuracy(valX, valY) = 0.251\n",
      "accuracy(valX, valY) = 0.239\n",
      "accuracy(valX, valY) = 0.258\n",
      "accuracy(valX, valY) = 0.254\n",
      "accuracy(valX, valY) = 0.26\n",
      "accuracy(valX, valY) = 0.272\n",
      "accuracy(valX, valY) = 0.263\n",
      "accuracy(valX, valY) = 0.271\n",
      "accuracy(valX, valY) = 0.272\n",
      "accuracy(valX, valY) = 0.274\n",
      "accuracy(valX, valY) = 0.273\n",
      "accuracy(valX, valY) = 0.274\n",
      "accuracy(valX, valY) = 0.29\n",
      "accuracy(valX, valY) = 0.284\n",
      "accuracy(valX, valY) = 0.296\n",
      "accuracy(valX, valY) = 0.297\n",
      "accuracy(valX, valY) = 0.289\n",
      "accuracy(valX, valY) = 0.289\n",
      "accuracy(valX, valY) = 0.289\n",
      "accuracy(valX, valY) = 0.279\n",
      "accuracy(valX, valY) = 0.286\n",
      "accuracy(valX, valY) = 0.288\n",
      "accuracy(valX, valY) = 0.279\n",
      "accuracy(valX, valY) = 0.317\n",
      "accuracy(valX, valY) = 0.315\n",
      "accuracy(valX, valY) = 0.319\n",
      "accuracy(valX, valY) = 0.316\n",
      "accuracy(valX, valY) = 0.323\n",
      "accuracy(valX, valY) = 0.328\n",
      "accuracy(valX, valY) = 0.318\n",
      "accuracy(valX, valY) = 0.311\n",
      "accuracy(valX, valY) = 0.312\n",
      "accuracy(valX, valY) = 0.316\n",
      "accuracy(valX, valY) = 0.294\n",
      "accuracy(valX, valY) = 0.316\n",
      "accuracy(valX, valY) = 0.303\n",
      "accuracy(valX, valY) = 0.313\n",
      "accuracy(valX, valY) = 0.333\n",
      "accuracy(valX, valY) = 0.288\n",
      "accuracy(valX, valY) = 0.324\n",
      "accuracy(valX, valY) = 0.323\n",
      "accuracy(valX, valY) = 0.282\n",
      "accuracy(valX, valY) = 0.325\n",
      "accuracy(valX, valY) = 0.311\n",
      "accuracy(valX, valY) = 0.306\n",
      "accuracy(valX, valY) = 0.332\n",
      "accuracy(valX, valY) = 0.314\n",
      "accuracy(valX, valY) = 0.331\n",
      "accuracy(valX, valY) = 0.325\n",
      "accuracy(valX, valY) = 0.325\n",
      "accuracy(valX, valY) = 0.312\n",
      "accuracy(valX, valY) = 0.309\n",
      "accuracy(valX, valY) = 0.321\n",
      "accuracy(valX, valY) = 0.326\n",
      "accuracy(valX, valY) = 0.332\n",
      "accuracy(valX, valY) = 0.342\n",
      "accuracy(valX, valY) = 0.331\n",
      "accuracy(valX, valY) = 0.329\n",
      "accuracy(valX, valY) = 0.336\n",
      "accuracy(valX, valY) = 0.343\n",
      "accuracy(valX, valY) = 0.343\n",
      "accuracy(valX, valY) = 0.348\n",
      "accuracy(valX, valY) = 0.338\n",
      "accuracy(valX, valY) = 0.335\n",
      "accuracy(valX, valY) = 0.339\n",
      "accuracy(valX, valY) = 0.344\n",
      "accuracy(valX, valY) = 0.344\n",
      "accuracy(valX, valY) = 0.334\n",
      "accuracy(valX, valY) = 0.328\n",
      "accuracy(valX, valY) = 0.338\n",
      "accuracy(valX, valY) = 0.336\n",
      "accuracy(valX, valY) = 0.339\n",
      "accuracy(valX, valY) = 0.348\n",
      "accuracy(valX, valY) = 0.349\n",
      "accuracy(valX, valY) = 0.361\n",
      "accuracy(valX, valY) = 0.328\n",
      "accuracy(valX, valY) = 0.349\n",
      "accuracy(valX, valY) = 0.333\n",
      "accuracy(valX, valY) = 0.329\n",
      "accuracy(valX, valY) = 0.318\n",
      "accuracy(valX, valY) = 0.338\n",
      "accuracy(valX, valY) = 0.337\n",
      "accuracy(valX, valY) = 0.338\n",
      "accuracy(valX, valY) = 0.343\n",
      "accuracy(valX, valY) = 0.354\n",
      "accuracy(valX, valY) = 0.347\n",
      "accuracy(valX, valY) = 0.347\n",
      "accuracy(valX, valY) = 0.335\n",
      "accuracy(valX, valY) = 0.359\n",
      "accuracy(valX, valY) = 0.352\n",
      "accuracy(valX, valY) = 0.339\n",
      "accuracy(valX, valY) = 0.348\n",
      "accuracy(valX, valY) = 0.341\n",
      "accuracy(valX, valY) = 0.329\n",
      "accuracy(valX, valY) = 0.355\n",
      "accuracy(valX, valY) = 0.357\n",
      "accuracy(valX, valY) = 0.348\n",
      "accuracy(valX, valY) = 0.358\n",
      "accuracy(valX, valY) = 0.361\n",
      "accuracy(valX, valY) = 0.343\n",
      "accuracy(valX, valY) = 0.361\n",
      "accuracy(valX, valY) = 0.383\n",
      "accuracy(valX, valY) = 0.366\n",
      "accuracy(valX, valY) = 0.368\n",
      "accuracy(valX, valY) = 0.37\n",
      "accuracy(valX, valY) = 0.34\n",
      "accuracy(valX, valY) = 0.341\n",
      "accuracy(valX, valY) = 0.344\n",
      "accuracy(valX, valY) = 0.348\n",
      "accuracy(valX, valY) = 0.372\n",
      "accuracy(valX, valY) = 0.367\n",
      "accuracy(valX, valY) = 0.37\n",
      "accuracy(valX, valY) = 0.365\n",
      "accuracy(valX, valY) = 0.376\n",
      "accuracy(valX, valY) = 0.368\n",
      "accuracy(valX, valY) = 0.345\n",
      "accuracy(valX, valY) = 0.367\n",
      "accuracy(valX, valY) = 0.359\n",
      "accuracy(valX, valY) = 0.358\n",
      "accuracy(valX, valY) = 0.382\n",
      "accuracy(valX, valY) = 0.376\n",
      "accuracy(valX, valY) = 0.361\n",
      "accuracy(valX, valY) = 0.386\n",
      "accuracy(valX, valY) = 0.387\n",
      "accuracy(valX, valY) = 0.332\n",
      "accuracy(valX, valY) = 0.378\n",
      "accuracy(valX, valY) = 0.377\n",
      "accuracy(valX, valY) = 0.377\n",
      "accuracy(valX, valY) = 0.357\n",
      "accuracy(valX, valY) = 0.379\n",
      "accuracy(valX, valY) = 0.376\n",
      "accuracy(valX, valY) = 0.374\n",
      "accuracy(valX, valY) = 0.372\n",
      "accuracy(valX, valY) = 0.376\n",
      "accuracy(valX, valY) = 0.384\n",
      "accuracy(valX, valY) = 0.388\n",
      "accuracy(valX, valY) = 0.384\n",
      "accuracy(valX, valY) = 0.394\n",
      "accuracy(valX, valY) = 0.384\n",
      "accuracy(valX, valY) = 0.385\n",
      "accuracy(valX, valY) = 0.387\n",
      "accuracy(valX, valY) = 0.329\n",
      "accuracy(valX, valY) = 0.388\n",
      "accuracy(valX, valY) = 0.385\n",
      "accuracy(valX, valY) = 0.334\n",
      "accuracy(valX, valY) = 0.394\n",
      "accuracy(valX, valY) = 0.402\n",
      "accuracy(valX, valY) = 0.364\n",
      "accuracy(valX, valY) = 0.384\n",
      "accuracy(valX, valY) = 0.39\n",
      "accuracy(valX, valY) = 0.387\n",
      "accuracy(valX, valY) = 0.377\n",
      "accuracy(valX, valY) = 0.393\n",
      "accuracy(valX, valY) = 0.407\n",
      "accuracy(valX, valY) = 0.368\n",
      "accuracy(valX, valY) = 0.391\n",
      "accuracy(valX, valY) = 0.389\n",
      "accuracy(valX, valY) = 0.391\n",
      "accuracy(valX, valY) = 0.381\n",
      "accuracy(valX, valY) = 0.402\n",
      "accuracy(valX, valY) = 0.398\n",
      "accuracy(valX, valY) = 0.382\n",
      "accuracy(valX, valY) = 0.404\n",
      "accuracy(valX, valY) = 0.398\n",
      "accuracy(valX, valY) = 0.375\n",
      "accuracy(valX, valY) = 0.372\n",
      "accuracy(valX, valY) = 0.388\n",
      "accuracy(valX, valY) = 0.38\n",
      "accuracy(valX, valY) = 0.393\n",
      "accuracy(valX, valY) = 0.39\n",
      "accuracy(valX, valY) = 0.401\n",
      "accuracy(valX, valY) = 0.394\n",
      "accuracy(valX, valY) = 0.422\n",
      "accuracy(valX, valY) = 0.393\n",
      "accuracy(valX, valY) = 0.376\n",
      "accuracy(valX, valY) = 0.424\n",
      "accuracy(valX, valY) = 0.401\n",
      "accuracy(valX, valY) = 0.405\n",
      "accuracy(valX, valY) = 0.38\n",
      "accuracy(valX, valY) = 0.412\n",
      "accuracy(valX, valY) = 0.414\n",
      "accuracy(valX, valY) = 0.396\n",
      "accuracy(valX, valY) = 0.397\n",
      "accuracy(valX, valY) = 0.41\n",
      "accuracy(valX, valY) = 0.414\n",
      "accuracy(valX, valY) = 0.387\n",
      "accuracy(valX, valY) = 0.427\n",
      "accuracy(valX, valY) = 0.426\n",
      "accuracy(valX, valY) = 0.4\n",
      "accuracy(valX, valY) = 0.414\n",
      "accuracy(valX, valY) = 0.407\n",
      "accuracy(valX, valY) = 0.395\n",
      "accuracy(valX, valY) = 0.423\n",
      "accuracy(valX, valY) = 0.42\n",
      "accuracy(valX, valY) = 0.414\n",
      "accuracy(valX, valY) = 0.423\n",
      "accuracy(valX, valY) = 0.418\n",
      "accuracy(valX, valY) = 0.413\n",
      "accuracy(valX, valY) = 0.41\n",
      "accuracy(valX, valY) = 0.419\n",
      "accuracy(valX, valY) = 0.414\n",
      "accuracy(valX, valY) = 0.423\n",
      "accuracy(valX, valY) = 0.43\n",
      "accuracy(valX, valY) = 0.416\n",
      "accuracy(valX, valY) = 0.415\n",
      "accuracy(valX, valY) = 0.411\n",
      "accuracy(valX, valY) = 0.427\n",
      "accuracy(valX, valY) = 0.419\n",
      "accuracy(valX, valY) = 0.416\n",
      "accuracy(valX, valY) = 0.433\n",
      "accuracy(valX, valY) = 0.411\n",
      "accuracy(valX, valY) = 0.419\n",
      "accuracy(valX, valY) = 0.427\n",
      "accuracy(valX, valY) = 0.42\n",
      "accuracy(valX, valY) = 0.419\n",
      "accuracy(valX, valY) = 0.428\n",
      "accuracy(valX, valY) = 0.418\n",
      "accuracy(valX, valY) = 0.439\n",
      "accuracy(valX, valY) = 0.442\n",
      "accuracy(valX, valY) = 0.433\n",
      "accuracy(valX, valY) = 0.442\n",
      "accuracy(valX, valY) = 0.436\n",
      "accuracy(valX, valY) = 0.426\n",
      "accuracy(valX, valY) = 0.43\n",
      "accuracy(valX, valY) = 0.432\n",
      "accuracy(valX, valY) = 0.437\n",
      "accuracy(valX, valY) = 0.43\n",
      "accuracy(valX, valY) = 0.439\n",
      "accuracy(valX, valY) = 0.446\n",
      "accuracy(valX, valY) = 0.438\n",
      "accuracy(valX, valY) = 0.44\n",
      "accuracy(valX, valY) = 0.437\n",
      "accuracy(valX, valY) = 0.436\n",
      "accuracy(valX, valY) = 0.444\n",
      "accuracy(valX, valY) = 0.443\n",
      "accuracy(valX, valY) = 0.441\n",
      "accuracy(valX, valY) = 0.43\n",
      "accuracy(valX, valY) = 0.438\n",
      "accuracy(valX, valY) = 0.438\n",
      "accuracy(valX, valY) = 0.414\n",
      "accuracy(valX, valY) = 0.44\n",
      "accuracy(valX, valY) = 0.437\n",
      "accuracy(valX, valY) = 0.439\n",
      "accuracy(valX, valY) = 0.43\n",
      "accuracy(valX, valY) = 0.443\n",
      "accuracy(valX, valY) = 0.412\n",
      "accuracy(valX, valY) = 0.427\n",
      "accuracy(valX, valY) = 0.44\n",
      "accuracy(valX, valY) = 0.442\n",
      "accuracy(valX, valY) = 0.432\n",
      "accuracy(valX, valY) = 0.434\n",
      "accuracy(valX, valY) = 0.436\n",
      "accuracy(valX, valY) = 0.446\n",
      "accuracy(valX, valY) = 0.437\n",
      "accuracy(valX, valY) = 0.432\n",
      "accuracy(valX, valY) = 0.442\n",
      "accuracy(valX, valY) = 0.437\n",
      "accuracy(valX, valY) = 0.429\n",
      "accuracy(valX, valY) = 0.435\n",
      "accuracy(valX, valY) = 0.433\n",
      "accuracy(valX, valY) = 0.434\n",
      "accuracy(valX, valY) = 0.432\n",
      "accuracy(valX, valY) = 0.439\n",
      "accuracy(valX, valY) = 0.441\n",
      "accuracy(valX, valY) = 0.455\n",
      "accuracy(valX, valY) = 0.436\n",
      "accuracy(valX, valY) = 0.449\n",
      "accuracy(valX, valY) = 0.438\n",
      "accuracy(valX, valY) = 0.442\n",
      "accuracy(valX, valY) = 0.453\n",
      "accuracy(valX, valY) = 0.451\n",
      "accuracy(valX, valY) = 0.416\n",
      "accuracy(valX, valY) = 0.46\n",
      "accuracy(valX, valY) = 0.437\n",
      "accuracy(valX, valY) = 0.427\n",
      "accuracy(valX, valY) = 0.443\n",
      "accuracy(valX, valY) = 0.445\n",
      "accuracy(valX, valY) = 0.449\n",
      "accuracy(valX, valY) = 0.445\n",
      "accuracy(valX, valY) = 0.442\n",
      "accuracy(valX, valY) = 0.45\n",
      "accuracy(valX, valY) = 0.445\n",
      "accuracy(valX, valY) = 0.448\n",
      "accuracy(valX, valY) = 0.453\n",
      "accuracy(valX, valY) = 0.454\n",
      "accuracy(valX, valY) = 0.452\n",
      "accuracy(valX, valY) = 0.454\n",
      "accuracy(valX, valY) = 0.451\n",
      "accuracy(valX, valY) = 0.443\n",
      "accuracy(valX, valY) = 0.443\n",
      "accuracy(valX, valY) = 0.452\n",
      "accuracy(valX, valY) = 0.445\n",
      "accuracy(valX, valY) = 0.445\n",
      "accuracy(valX, valY) = 0.442\n",
      "accuracy(valX, valY) = 0.425\n",
      "accuracy(valX, valY) = 0.444\n",
      "accuracy(valX, valY) = 0.451\n",
      "accuracy(valX, valY) = 0.446\n",
      "accuracy(valX, valY) = 0.447\n",
      "accuracy(valX, valY) = 0.441\n",
      "accuracy(valX, valY) = 0.463\n",
      "accuracy(valX, valY) = 0.449\n",
      "accuracy(valX, valY) = 0.453\n",
      "accuracy(valX, valY) = 0.457\n",
      "accuracy(valX, valY) = 0.461\n",
      "accuracy(valX, valY) = 0.461\n",
      "accuracy(valX, valY) = 0.449\n",
      "accuracy(valX, valY) = 0.462\n",
      "accuracy(valX, valY) = 0.45\n",
      "accuracy(valX, valY) = 0.446\n",
      "accuracy(valX, valY) = 0.447\n",
      "accuracy(valX, valY) = 0.461\n",
      "accuracy(valX, valY) = 0.453\n",
      "accuracy(valX, valY) = 0.453\n",
      "accuracy(valX, valY) = 0.45\n",
      "accuracy(valX, valY) = 0.46\n",
      "accuracy(valX, valY) = 0.462\n",
      "accuracy(valX, valY) = 0.456\n",
      "accuracy(valX, valY) = 0.476\n",
      "accuracy(valX, valY) = 0.454\n",
      "accuracy(valX, valY) = 0.408\n",
      "accuracy(valX, valY) = 0.466\n",
      "accuracy(valX, valY) = 0.434\n",
      "accuracy(valX, valY) = 0.429\n",
      "accuracy(valX, valY) = 0.429\n",
      "accuracy(valX, valY) = 0.461\n",
      "accuracy(valX, valY) = 0.444\n",
      "accuracy(valX, valY) = 0.459\n",
      "accuracy(valX, valY) = 0.457\n",
      "accuracy(valX, valY) = 0.461\n",
      "accuracy(valX, valY) = 0.458\n",
      "accuracy(valX, valY) = 0.458\n",
      "accuracy(valX, valY) = 0.454\n",
      "accuracy(valX, valY) = 0.465\n",
      "accuracy(valX, valY) = 0.463\n",
      "accuracy(valX, valY) = 0.457\n",
      "accuracy(valX, valY) = 0.459\n",
      "accuracy(valX, valY) = 0.469\n",
      "accuracy(valX, valY) = 0.46\n",
      "accuracy(valX, valY) = 0.454\n",
      "accuracy(valX, valY) = 0.454\n",
      "accuracy(valX, valY) = 0.463\n",
      "accuracy(valX, valY) = 0.461\n",
      "accuracy(valX, valY) = 0.442\n",
      "accuracy(valX, valY) = 0.432\n",
      "accuracy(valX, valY) = 0.457\n",
      "accuracy(valX, valY) = 0.453\n",
      "accuracy(valX, valY) = 0.457\n",
      "accuracy(valX, valY) = 0.459\n",
      "accuracy(valX, valY) = 0.472\n",
      "accuracy(valX, valY) = 0.471\n",
      "accuracy(valX, valY) = 0.459\n",
      "accuracy(valX, valY) = 0.466\n",
      "accuracy(valX, valY) = 0.481\n",
      "accuracy(valX, valY) = 0.463\n",
      "accuracy(valX, valY) = 0.469\n",
      "accuracy(valX, valY) = 0.476\n",
      "accuracy(valX, valY) = 0.455\n",
      "accuracy(valX, valY) = 0.46\n",
      "accuracy(valX, valY) = 0.469\n",
      "accuracy(valX, valY) = 0.469\n",
      "accuracy(valX, valY) = 0.465\n",
      "accuracy(valX, valY) = 0.449\n",
      "accuracy(valX, valY) = 0.474\n",
      "accuracy(valX, valY) = 0.475\n",
      "accuracy(valX, valY) = 0.475\n",
      "accuracy(valX, valY) = 0.476\n",
      "accuracy(valX, valY) = 0.483\n",
      "accuracy(valX, valY) = 0.476\n",
      "accuracy(valX, valY) = 0.463\n",
      "accuracy(valX, valY) = 0.475\n",
      "accuracy(valX, valY) = 0.463\n",
      "accuracy(valX, valY) = 0.472\n",
      "accuracy(valX, valY) = 0.46\n",
      "accuracy(valX, valY) = 0.486\n",
      "accuracy(valX, valY) = 0.474\n",
      "accuracy(valX, valY) = 0.475\n",
      "accuracy(valX, valY) = 0.488\n",
      "accuracy(valX, valY) = 0.496\n",
      "accuracy(valX, valY) = 0.49\n",
      "accuracy(valX, valY) = 0.482\n",
      "accuracy(valX, valY) = 0.481\n",
      "accuracy(valX, valY) = 0.479\n",
      "accuracy(valX, valY) = 0.475\n",
      "accuracy(valX, valY) = 0.479\n",
      "accuracy(valX, valY) = 0.488\n",
      "accuracy(valX, valY) = 0.468\n",
      "accuracy(valX, valY) = 0.468\n",
      "accuracy(valX, valY) = 0.463\n",
      "accuracy(valX, valY) = 0.475\n",
      "accuracy(valX, valY) = 0.466\n",
      "accuracy(valX, valY) = 0.445\n",
      "accuracy(valX, valY) = 0.443\n",
      "accuracy(valX, valY) = 0.459\n",
      "accuracy(valX, valY) = 0.467\n",
      "accuracy(valX, valY) = 0.468\n",
      "accuracy(valX, valY) = 0.471\n",
      "accuracy(valX, valY) = 0.471\n",
      "accuracy(valX, valY) = 0.479\n",
      "accuracy(valX, valY) = 0.465\n",
      "accuracy(valX, valY) = 0.482\n",
      "accuracy(valX, valY) = 0.48\n",
      "accuracy(valX, valY) = 0.478\n",
      "accuracy(valX, valY) = 0.464\n",
      "accuracy(valX, valY) = 0.477\n"
     ]
    }
   ],
   "cell_type": "code",
   "source": [
    "epochs = 10\n",
    "\n",
    "for epoch = 1:epochs\n",
    "  for d in train\n",
    "    l = loss(d...)\n",
    "    back!(l)\n",
    "    opt()\n",
    "    @show accuracy(valX, valY)\n",
    "  end\n",
    "end"
   ],
   "metadata": {},
   "execution_count": 42
  },
  {
   "outputs": [],
   "cell_type": "markdown",
   "source": [
    "Seeing our training routine unfold gives us an idea of how the network learnt in the\n",
    "period of time. This is not bad for a small hand-written network, trained for a limited\n",
    "time."
   ],
   "metadata": {}
  },
  {
   "outputs": [],
   "cell_type": "markdown",
   "source": [
    "Training on a GPU\n",
    "-----------------"
   ],
   "metadata": {}
  },
  {
   "outputs": [],
   "cell_type": "markdown",
   "source": [
    "The `gpu` functions you see sprinkled through this bit of the code tell Flux to move\n",
    "these entities to GPU if available, and subsequently train on them. No extra faffing\n",
    "about required! The same bit of code would work on any hardware with some small\n",
    "annotations like you saw here."
   ],
   "metadata": {}
  },
  {
   "outputs": [],
   "cell_type": "markdown",
   "source": [
    "## Testing the Network\n",
    "----------------------"
   ],
   "metadata": {}
  },
  {
   "outputs": [],
   "cell_type": "markdown",
   "source": [
    "We have trained the network for 100 passes over the training dataset. But we need to\n",
    "check if the network has learnt anything at all."
   ],
   "metadata": {}
  },
  {
   "outputs": [],
   "cell_type": "markdown",
   "source": [
    "We will check this by predicting the class label that the neural network outputs, and\n",
    "checking it against the ground-truth."
   ],
   "metadata": {}
  },
  {
   "outputs": [],
   "cell_type": "markdown",
   "source": [
    "Okay, first step. Let's set up the test set, exactly like we did our train set."
   ],
   "metadata": {}
  },
  {
   "outputs": [],
   "cell_type": "code",
   "source": [
    "valset = valimgs(CIFAR10)\n",
    "valimg = [getarray(valset[i].img) for i in 1:10000]\n",
    "labels = onehotbatch([valset[i].ground_truth.class for i in 1:10000],1:10)\n",
    "test = gpu.([(cat(valimg[i]..., dims = 4), labels[:,i]) for i in partition(1:10000, 1000)]);"
   ],
   "metadata": {},
   "execution_count": 43
  },
  {
   "outputs": [],
   "cell_type": "markdown",
   "source": [
    "We should take a look at some of the images from the test set."
   ],
   "metadata": {}
  },
  {
   "outputs": [
    {
     "output_type": "execute_result",
     "data": {
      "text/plain": "10-element Array{Array{ColorTypes.RGB{FixedPointNumbers.Normed{UInt8,8}},2},1}:\n [RGB{N0f8}(0.243,0.239,0.196) RGB{N0f8}(0.216,0.231,0.2) … RGB{N0f8}(0.145,0.161,0.141) RGB{N0f8}(0.141,0.157,0.137); RGB{N0f8}(0.322,0.298,0.224) RGB{N0f8}(0.286,0.286,0.239) … RGB{N0f8}(0.208,0.196,0.153) RGB{N0f8}(0.18,0.165,0.125); … ; RGB{N0f8}(0.514,0.439,0.302) RGB{N0f8}(0.518,0.443,0.306) … RGB{N0f8}(0.094,0.082,0.035) RGB{N0f8}(0.086,0.075,0.031); RGB{N0f8}(0.161,0.137,0.071) RGB{N0f8}(0.169,0.141,0.075) … RGB{N0f8}(0.075,0.082,0.039) RGB{N0f8}(0.067,0.075,0.035)] \n [RGB{N0f8}(0.725,0.792,0.788) RGB{N0f8}(0.557,0.635,0.6) … RGB{N0f8}(0.145,0.239,0.122) RGB{N0f8}(0.427,0.529,0.427); RGB{N0f8}(0.706,0.792,0.78) RGB{N0f8}(0.612,0.694,0.675) … RGB{N0f8}(0.188,0.243,0.149) RGB{N0f8}(0.278,0.373,0.267); … ; RGB{N0f8}(0.376,0.396,0.341) RGB{N0f8}(0.373,0.392,0.353) … RGB{N0f8}(0.455,0.455,0.392) RGB{N0f8}(0.471,0.467,0.427); RGB{N0f8}(0.373,0.396,0.341) RGB{N0f8}(0.369,0.384,0.333) … RGB{N0f8}(0.431,0.435,0.361) RGB{N0f8}(0.439,0.439,0.396)] \n [RGB{N0f8}(0.145,0.157,0.012) RGB{N0f8}(0.114,0.125,0.008) … RGB{N0f8}(0.043,0.059,0.012) RGB{N0f8}(0.035,0.047,0.012); RGB{N0f8}(0.133,0.137,0.02) RGB{N0f8}(0.102,0.114,0.016) … RGB{N0f8}(0.047,0.063,0.008) RGB{N0f8}(0.035,0.051,0.004); … ; RGB{N0f8}(0.047,0.09,0.016) RGB{N0f8}(0.047,0.086,0.016) … RGB{N0f8}(0.071,0.098,0.031) RGB{N0f8}(0.071,0.098,0.031); RGB{N0f8}(0.035,0.082,0.012) RGB{N0f8}(0.039,0.078,0.012) … RGB{N0f8}(0.078,0.106,0.035) RGB{N0f8}(0.075,0.106,0.031)]\n [RGB{N0f8}(0.996,0.996,0.996) RGB{N0f8}(1.0,1.0,0.996) … RGB{N0f8}(0.886,0.902,0.949) RGB{N0f8}(0.894,0.91,0.953); RGB{N0f8}(0.984,0.984,0.984) RGB{N0f8}(0.992,0.992,0.996) … RGB{N0f8}(0.89,0.906,0.945) RGB{N0f8}(0.898,0.914,0.953); … ; RGB{N0f8}(0.243,0.227,0.251) RGB{N0f8}(0.231,0.216,0.239) … RGB{N0f8}(0.239,0.227,0.231) RGB{N0f8}(0.243,0.235,0.239); RGB{N0f8}(0.259,0.235,0.255) RGB{N0f8}(0.251,0.231,0.251) … RGB{N0f8}(0.247,0.227,0.235) RGB{N0f8}(0.239,0.22,0.227)]     \n [RGB{N0f8}(0.635,0.749,0.835) RGB{N0f8}(0.643,0.753,0.839) … RGB{N0f8}(0.655,0.816,0.925) RGB{N0f8}(0.667,0.827,0.941); RGB{N0f8}(0.624,0.733,0.82) RGB{N0f8}(0.631,0.741,0.827) … RGB{N0f8}(0.663,0.824,0.925) RGB{N0f8}(0.663,0.827,0.933); … ; RGB{N0f8}(0.478,0.502,0.4) RGB{N0f8}(0.482,0.475,0.349) … RGB{N0f8}(0.482,0.451,0.337) RGB{N0f8}(0.478,0.447,0.333); RGB{N0f8}(0.573,0.604,0.518) RGB{N0f8}(0.482,0.471,0.353) … RGB{N0f8}(0.463,0.447,0.329) RGB{N0f8}(0.451,0.435,0.314)] \n [RGB{N0f8}(0.961,0.976,0.976) RGB{N0f8}(0.949,0.961,0.969) … RGB{N0f8}(0.933,0.961,0.973) RGB{N0f8}(0.918,0.953,0.965); RGB{N0f8}(0.929,0.957,0.961) RGB{N0f8}(0.894,0.929,0.945) … RGB{N0f8}(0.988,0.988,0.988) RGB{N0f8}(0.98,0.988,0.988); … ; RGB{N0f8}(0.592,0.604,0.588) RGB{N0f8}(0.627,0.639,0.62) … RGB{N0f8}(0.675,0.682,0.671) RGB{N0f8}(0.671,0.678,0.667); RGB{N0f8}(0.58,0.588,0.573) RGB{N0f8}(0.608,0.62,0.6) … RGB{N0f8}(0.655,0.663,0.651) RGB{N0f8}(0.655,0.663,0.651)]    \n [RGB{N0f8}(0.478,0.498,0.549) RGB{N0f8}(0.478,0.498,0.553) … RGB{N0f8}(0.427,0.459,0.533) RGB{N0f8}(0.424,0.455,0.529); RGB{N0f8}(0.514,0.529,0.576) RGB{N0f8}(0.506,0.522,0.576) … RGB{N0f8}(0.478,0.506,0.576) RGB{N0f8}(0.471,0.498,0.569); … ; RGB{N0f8}(0.243,0.286,0.329) RGB{N0f8}(0.204,0.22,0.227) … RGB{N0f8}(0.345,0.392,0.463) RGB{N0f8}(0.365,0.408,0.478); RGB{N0f8}(0.239,0.278,0.318) RGB{N0f8}(0.204,0.212,0.22) … RGB{N0f8}(0.353,0.388,0.459) RGB{N0f8}(0.329,0.373,0.439)]\n [RGB{N0f8}(0.047,0.043,0.027) RGB{N0f8}(0.047,0.043,0.027) … RGB{N0f8}(0.271,0.216,0.192) RGB{N0f8}(0.125,0.102,0.078); RGB{N0f8}(0.047,0.043,0.027) RGB{N0f8}(0.047,0.043,0.027) … RGB{N0f8}(0.275,0.216,0.208) RGB{N0f8}(0.125,0.082,0.063); … ; RGB{N0f8}(0.953,0.984,0.996) RGB{N0f8}(0.949,0.98,0.992) … RGB{N0f8}(0.71,0.769,0.82) RGB{N0f8}(0.682,0.757,0.808); RGB{N0f8}(0.973,1.0,1.0) RGB{N0f8}(0.969,1.0,1.0) … RGB{N0f8}(0.741,0.808,0.863) RGB{N0f8}(0.702,0.776,0.835)]         \n [RGB{N0f8}(0.337,0.376,0.188) RGB{N0f8}(0.376,0.431,0.216) … RGB{N0f8}(0.212,0.333,0.494) RGB{N0f8}(0.224,0.349,0.518); RGB{N0f8}(0.439,0.553,0.188) RGB{N0f8}(0.541,0.678,0.294) … RGB{N0f8}(0.255,0.416,0.588) RGB{N0f8}(0.224,0.38,0.549); … ; RGB{N0f8}(0.416,0.482,0.557) RGB{N0f8}(0.435,0.514,0.592) … RGB{N0f8}(0.094,0.11,0.141) RGB{N0f8}(0.075,0.082,0.122); RGB{N0f8}(0.388,0.443,0.498) RGB{N0f8}(0.4,0.463,0.525) … RGB{N0f8}(0.063,0.075,0.102) RGB{N0f8}(0.063,0.075,0.098)]  \n [RGB{N0f8}(0.471,0.404,0.439) RGB{N0f8}(0.369,0.267,0.278) … RGB{N0f8}(0.996,0.996,0.996) RGB{N0f8}(0.996,0.996,0.996); RGB{N0f8}(0.467,0.443,0.49) RGB{N0f8}(0.357,0.306,0.333) … RGB{N0f8}(0.988,0.996,0.992) RGB{N0f8}(0.988,0.996,0.992); … ; RGB{N0f8}(0.549,0.58,0.443) RGB{N0f8}(0.561,0.6,0.463) … RGB{N0f8}(0.584,0.588,0.459) RGB{N0f8}(0.573,0.592,0.459); RGB{N0f8}(0.561,0.592,0.455) RGB{N0f8}(0.569,0.604,0.467) … RGB{N0f8}(0.596,0.592,0.467) RGB{N0f8}(0.576,0.596,0.459)]  ",
      "text/html": [
       "<table><tbody><tr><td style='text-align:center;vertical-align:middle; margin: 0.5em;border:1px #90999f solid;border-collapse:collapse'><img style='max-width: 100px; max-height:100px;display:inline' src=\"data:image/png;base64,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\"></td><td style='text-align:center;vertical-align:middle; margin: 0.5em;border:1px #90999f solid;border-collapse:collapse'><img style='max-width: 100px; max-height:100px;display:inline' src=\"data:image/png;base64,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\"></td><td style='text-align:center;vertical-align:middle; margin: 0.5em;border:1px #90999f solid;border-collapse:collapse'><img style='max-width: 100px; max-height:100px;display:inline' src=\"data:image/png;base64,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\"></td><td style='text-align:center;vertical-align:middle; margin: 0.5em;border:1px #90999f solid;border-collapse:collapse'><img style='max-width: 100px; max-height:100px;display:inline' src=\"data:image/png;base64,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\"></td><td style='text-align:center;vertical-align:middle; margin: 0.5em;border:1px #90999f solid;border-collapse:collapse'><img style='max-width: 100px; max-height:100px;display:inline' src=\"data:image/png;base64,iVBORw0KGgoAAAANSUhEUgAAAIAAAACACAIAAABMXPacAAAABGdBTUEAALGPC/xhBQAAACBjSFJNAAB6JgAAgIQAAPoAAACA6AAAdTAAAOpgAAA6mAAAF3CculE8AAAABmJLR0QA/wD/AP+gvaeTAAAN/UlEQVR42u2dyZIbxxGGe6lu7MAAQ3I4I5KWTG20fJMj/AQ6+DX9Aj46HD7oKocVdoQWyqJsWZSo2TGDZQA0evXJ/X8dAYRPjppD/aecZnV1dSfxZ1ZmVpX/+0+/9v6LwPdrOQyDWvZ8U4uVh+uAj3uDINQ/GLOzTbM9+gx397/vWVEU7WxTVRW6VJ9BGO7sJwgkl2VZy1leSC7UZ4E2fFZZFri+e/xhqG/yv9/W4f8KpwDLcAqwDFPkef1HBa4kr/m47oMrqz0kV+65Ts719vUf7uZr2icf14l942nwNcfDMdMOoRW/T1Hy5n32LEQvuAFj43X3C7AMpwDLcAqwDENOzMF39Is9H638fX40eBx9Vl6xs02jPfrheMjpFccDFEWx8/q+OUdZiX/95sN298Mx+7vH4DW6wZygou0B7+Nd3C/AMpwCLMMpwDJMg0MbPIg5Af3ZffGiPWjweCNmUu5s7/u75yINlxqWovR290ME/u55jEffH8/iN6ka9mO3rWqMv/EXbQC+s+9swL2BU4BlOAVYhin3+dGUGZ8JxH4NOt1DrWFjPsE40u4B0Xf2dpuAxv+acE8/1Z6oT1hKNqXmNKW3xz5xCuQhBuU3Zzs7n4uJBsfse7uvO1iAU4BlOAVYhiEfNXifnF4hnlORv5B3bdgDxFv8HLLytxXzzKDNIIc/btRPwf8qoOiGiWEcH9dp5QLYAK9U+0zD8eDuN4JlZagHN22S/mKmwm88CzG0xr0OVuEUYBlOAZZhyL8Nl7rxD8xzSs4RY0lBnAZ6DYvU2/kE2BUTyjb45PeCMRP9Q6tkDhl2BbliULrXYF3aBvz3K3z68hhmQAO1wYfTeOIUNiBFHVHQruUyau38tu4XYBlOAZbhFGAZhjU8jehGuZsTPfB+Cf2lOXgQ/P785FBtNttaXsyW6rLKankTqc/C0K7ssTGe+uSYQ9RxBpQzPcvPZZ+6EWwbYzup2g+XK7VZJxonxrNYqY339i/V5nCi75bque4XYBlOAZbhFGAZpkju6j9oA/JGLhf8a+R3m1YsGfcm6DOeqP3bjx7W8nm2ruX59U0tD1LFjjiGAtxttrIx7Vy+eVjIHnio6/cyyWWh/tNSXGyQ84givc16o/7nc/V/u9W9q4OerseyJeNlR/eef1/LZ+c/17L7BViGU4BlOAVYhnn1xV/rP0ajUS2v1+K+yQP5sMlW12Po7xdHJ7V89f2/avlvr7+t5fT992q5XGsekE2va7mzFl+vF2pzenWpNoj/DPEy/lYcPcS7LO/Uz22q8d9hnsE8RFLI3qQyc9707raW55hzXODeBdbEHX7591qu8D3XG9lI9wuwDKcAy3AKsAxz1JPfOmghnt7v1/LRY/FatsUa2htx4gRx81VnUcvFSu2/+/y0loeDQS0fHChe9PI72Y/rVP2f3cEGeIqt90ONM0M9T7xRrCYeyx7cLGUnikRtvJV4eYE4T3T4QP0bPXc0kO9fzPW+0UpcP+7iWZHsSsetD7g/cAqwDKcAyzCHbfHmfDWt5dML+e/bKfzuWH56BzGWm43iHslWel3dKGYyv1X/D9/RnOCjT35Xy3959bqWp4niRd1D5Fcv9dzrTPF3P5Yd+vid57V88vzDWr5FLP6fX31ey28uX9XyZo4cwKNntRx1ZEsGQ9nFbl/fZ/rqH7WMdIM36uj7TG/1Xu4XYBlOAZbhFGAZ5uU34sFT7ouwkt9tpuJfbpiQICZeFOK4TaEAym0qjm635Ee3UJRzejuv5We/eVHLs88UN28l4v2zmXz2b85+quUjFBV9Mnpcy6tLxH+GGucW85iL1z/WcpXrfS+N4vhrJEzWY/UzOZRtmF3pWbeQf/3iXbXHvMf9AizDKcAynAIsw2xLxTFGiGsPruWrRhfi4qSjeNFNT1x/BoIsPMVJgo585DKQDZhd6bmf/+nPtfzbF/LfW91HtfwV8gozzD/GyN++ey1b8tMf/ii5r3GmH7+vsfV17wa1oWmuWNDdVPErvyvbcHAoG3O1kE26RT5jOFScaol8wKjlYkH3Bk4BluEUYBmm1RMPHs/FU9XLs1r2Z6rbqfrytY9fPKnl9lPx9RXKIx+25SN7mfTdvlJc6Ii1m58qPzzONC9J0GnWQ1x+Ib4+vpBfH6BW1e/J7zZdVLqCi2kDKiM714nVZngo29aBXXlzpe+zDTTmwYHGWeTKSy9zxZrcL8AynAIswynAMkyKWszNhXi5xELh1mPlRVsb+dr9c/HaELnZk7E4N8Iq3XZb8ZPHqMd/tNBz5+dXtfwDyjunqMOJKz1rjD3soli83+2Lf5+NVT0UtJC3iMTjvzp+Wx+lQswqUvvhQ71XiHqh3iPVTWWp8sAnE9nXkbrxPE83u1+AZTgFWIZTgGWYAPX+QSV93I0Oavn6sTj0+Eb82z7TXCE2iocMym4tZzO1ORpofUAXe+i/vlS85WymGNFZX7VD07Z88BDrljfg3FNsHvSgrfeKMc/wL2TDvKHe64Nj5X5jXxydYF1YtVJ8LM3U5+RAMaJnyBP0I7Xpd2RXSi499hyswinAMpwCLMNUgZxtH/nSMhFH/5wodvEg0HWe3jJAXXxxOavlp2txdDg7r+V/LxS3eZ3KfswrzEti1FNOxMuzpfITXoK6INiw5UJxrXaheYY/F4/nWPvWRy0s97VebxVrSjC3iJ/Inh0eP5U8kV1BSMmLMXHgOTPuF2AZTgGW4RRgGSbJxL93PTmoJlTNz0dg+8mN/PQe6vE7WIc1QU54DO6bd2VjzhaKof+IuJM5ke8/fE/rzuJHx7X8+rOvajn1xdEPThSz6iH/XMKG3UwVa5o8OKjlIJbtmS41V2iP1ab7RHng6FDXCzj2w4HyHz3kLdZYO51lbr+gewOnAMtwCrAM43nivm5bnDVYiQezG/nR5k7XRx3x+yH2RDtqyQb443Etfw1//wtw7lVPtiGE8zxaq010KRuzRizoFvuSZpXmBI/amK/A7y4eKk41+lC+fAFOTxZ6lyXs0wRrFPpD9dNr63ob3wFTJq/01MadIXOP4BRgGU4BlmE8rPttReLud55rv7OvV9rzAMtgvWHvoJZ7HXHcOhb5bZ8d1fJ3U8WFro7EoXeicS/fwB//Qban8mV7cvjROfb5eZMjXh+q/+FQturJSHMFA5u3xVqHUU9zkS3PM/DUpiyQJ8DeRHe5rgfIefjYjSmKXE743sApwDKcAizDmFw8dVYqZjLriNdW76se5uiUeyAr7pFgo/2pr3vfzGe1/CP2BzUD+f7HiDX5KCVdY7+HLeqXkhbPeBGf+jjEIMEepQa54vNbjWeFQwOGQ/F+HCN2DxtQFopfrRDbSZEL2SIHEMXKMXRgXwcD5B48B6twCrAMpwDLMK1I3PfDqdYG/3yh/O0K9TATkNy3lXi2k+j61Vo5g/m1+pm8q5j+86eS29hrqIIdygtx5d2d7MFihTzthudcYj0a97jO1OYaE5nzjZ4VYS/rfldzCMbHjobYr8LITqwT9VngXfxKtgEpCc8rcW6z52AVTgGW4RRgGWYwlOP9FmIyPHPxJlJ84wJru8634s0y4dnx6ueth6qdPzpGHCZS+y36CeB3D3ri4gPkFXzkA6ZzrB3DmDeoR9qA67OsBVltGmdq4uyaDO8VjmUDwkhyij02WPjJMw8io4/CNQTuF2AZTgGW4RRgGSZuyVcdT1jTIh/88VJ+boQc6RX2gEtLrgVTn28di7tjnMWYYg9nD/d22pqXdLuSfawFa8XiX9PieQbi92Sj2P12izgS7MEWdoL5gC7mAaORaj0Ph8h1Y+0bzxuoUNtqMFdg7WkFO+d+AZbhFGAZTgGWYZbLWf1HBf+62xFntRDv/vAD5YpH12qT4qzHbldcfDhAvJ7nDKOutB2jxqZ7UMv9vvh3izr9HH53gPUNVSG70sOarGFfuQfGZ3jkDDHAvtb9HnlfSLCnaV5o/CViWdtttrP/INB3dr8Ay3AKsAynAMswyVZcFkfkMsQ3cL7jwUPxcmsonuV5kx345twrosK5YOv1GtdRK+nLx08S+O8JzoxEPWsL85gMmzWX8Me5PitCrU7Ykdxu6bn063OcS9M4u7hk/hlnQyIfwLVmG5xHVpZuHnBv4BRgGU4BlmEC1FYijeplOEurQhwmxJwgZA0Mbu4jVtOKkKflefHV7rrM0OjebSrfn2cF91FX48HG5NhPtGK9KXg5DDkXwd7XiHGVsCUZ9q0rA71LwvXDyAm3sEcFYz5pynMr3Tzg3sApwDKcAizDBG3xqQ9vPke8Isb5WYbntiOG08E6qRB8mjFfimCKga/tc80U6jsN/PeqzZg7eB/7g3qFxsz96ULsiZSnPPOAcxSN04f/XvJMY6+RNNez+jhfAe0T1CAFjfUB2KPJc7AKpwDLcAqwDBPA7zbwqUvEPRrxk4I+tTiXOdsccaQK+V6CPj652GCewTp99p+m3NNC48x85mN1vYVc8XLLWiDkFbA+mWu+aMNS2EgTsX+cT4B1DJwzMZdQeW6viHsDpwDLcAqwDNPtqRbIZ40m1rKWWJdbcc9L+MvM0zb2REP7LGOtDuL76DTLsp3XaRvoR7MN5agRg8I6L677xZwjLVk7BP8d9m+BHAbtH20VnzscKHeS7Xlf9wuwDKcAy3AKsAzz+ER7Jl98/7KWA5wZWbLm3dA3l/4YHzeI7eTIK+zLi+7jUx8xJdobgmMg//JezjMCPCuHv7/F2Aju7dPv4xx5fJPA93fem8Lm5bA9ReHWiN0bOAVYhlOAZfwHjWhqeYP6vt0AAAAASUVORK5C\"></td><td style='text-align:center;vertical-align:middle; margin: 0.5em;border:1px #90999f solid;border-collapse:collapse'><img style='max-width: 100px; max-height:100px;display:inline' src=\"data:image/png;base64,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\"></td><td style='text-align:center;vertical-align:middle; margin: 0.5em;border:1px #90999f solid;border-collapse:collapse'><img style='max-width: 100px; max-height:100px;display:inline' src=\"data:image/png;base64,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\"></td><td style='text-align:center;vertical-align:middle; margin: 0.5em;border:1px #90999f solid;border-collapse:collapse'><img style='max-width: 100px; max-height:100px;display:inline' src=\"data:image/png;base64,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\"></td><td style='text-align:center;vertical-align:middle; margin: 0.5em;border:1px #90999f solid;border-collapse:collapse'><img style='max-width: 100px; max-height:100px;display:inline' src=\"data:image/png;base64,iVBORw0KGgoAAAANSUhEUgAAAIAAAACACAIAAABMXPacAAAABGdBTUEAALGPC/xhBQAAACBjSFJNAAB6JgAAgIQAAPoAAACA6AAAdTAAAOpgAAA6mAAAF3CculE8AAAABmJLR0QA/wD/AP+gvaeTAAAPsklEQVR42u1dS48jVxWux3WVXeX2o93unn73TPc86EzIhJAEkRBlgxBs2LFmzR9gwX9gwY9gBRJCLFiiSAgpRIEAmemZZNIvd7tffrts15sV9/ssDcoqur24Z/W5VK665eM659zzNH/28yfG/8iruBJbhidx56og8bPPOxIPuhOJF3xf4q3dbYnXt9ZwTbcicbFSl7ixvC5xrbmB9dRwTqlcltgpYm2TyUji7vWNxL2LS4mTIJG4XLsj8U3rSOLzZ59hzW+9LfHUwLNfXFxLnBq5xHESAUehxLPhQGIzw/m2cOh31qSUNAMUk2aAYhJrr+PD2s6SxNNRLHF2MJV4eQBZvLa6IvH2w8fAr38g8f0n+xIX/arEaSYkznP8D2YT3Kt/eSbx9csDnG9DLi9UsWbbwTX9zVUcT3B9K8RzbTzewdpqgcTj6Vd43p0PcR0P6784O5Y4DMcSm0aGNZAOM23I/dkUulO/AYpJM0AxaQYoJpGO35QfLo+vJM4LkFOOb0u8tQe5f3//hxI//sFPJC5VIH9TiEQjI1vYSlOJwxns6IS+4HjYN5iDvsQHn36Ee5EOMCtN4Bjr9wzI/SSGvC5XINPLS9iLTL+CPjj5y28lrj54D79PBF2Vp9hnFJwSHtg08ez0XJZJOsnQpJQ0AxSTZoBiEsXSh/LDuPuxxMPw3xJbxrLED9/8qcSP3v2RxIVSTeJoCpkLqW8YKclKk44XLHzyvCLOoeMrG7sSJwn8LcfP4cOxTewDSmSzD7tdiafDnsSjHta59RD+q8399yV2BPTf6KaF9SxtYp02fGgp6TmTZb2N69gVrFO/AYpJM0AxaQYoJvOXv/mj/GDlkImWBTm7vAEbef3+tyW2C5DXec62MGRiBnPfyE2c4zjgvSD5mGaQ+2mCL+dGQufgmoNL+P2DIWS97UIHTEJ8d9iHDjBN3Nf3secQRZ/OwTqjKWIPOWmx0QR7jvk9Afw/LsUwhKV1wK0hzQDFpBmgmETBgm/dsCHXlpqI5TbXtiTOyHefzuAP8XzItXQKf8uoD79K/Q78Ng7Jx4wUhWnCjnZcyGjDwPVnAe5brS9KXKkBR+T3dwLI7nQK/TSa4jqxCcUicCvDMLA2dwG6IUlmeHYLv0kcY/15Cj2a0nHDwnPpN0AxaQYoJs0AxSTSIcmyJcR7zRyyLw5gOyeU92KSn8SysCcYnCGW69dwTdeBjokmkNFs77OTKM8hl9M4olNwUjjF8WGfcpbOEdedjnDcsKB7Avru5THWUyjBZneKWL8toC8zk71ctHzaN9iEC5QLxA+p3wDFpBmgmDQDFJOo7t2XH+IB/Cpsp/falAMTQ1au7sIvZGWQjy7lia6sw28ekxMnDOA/mU2xV5hNgJMZcBzCZneK0DcG5QjFtD+YDi4kvjh8hmsmkN1Lm3sSNzbvSdwfY22TCfI7jQLuxbHfQoFyamkTYZOvyabjpqFjwreGNAMUk2aAYhLFJeTLk5vaGA5hy3dasKmzFDbs2qPvSFyswF4mUWmMR9g3jId9iU8Pv5T4i6fI+xQZzq+VSZ5SzuXp2TmuOYae2N5G3KJCfpvKYkPiGfuFKHdoqY74wcoqrtPtIcbQ60IfZBTDEAXKc6VcII57G+QvMk29D7g1pBmgmDQDFJMo+bBhZxCPxvHLQ4ltysNpbj+Q2KV8f6cIXmaU+9/vIjaQRJQDOoMPKqRaqjTD8dSEvZ9SzPn0+QuJL9qw9xds8uesQbc5RdjsVYpzeFXohmQ6lNhMsQa/AFl/OsA5Bvl5Nh/iN4lirJNShAxyaxmkzvQboJo0AxSTZoBiEuUKbNKrQ8p5NyD76huo86quwmfCOT9k2hrFMvzpNRM+pTgkP7sA75uLNYlPvsSeoH1yJLFLe5RH+8gT3X+EnM4S5ZVSeHsu76hYXKBzKOcnxJ4gpvjE088+l7i8gti4MHHOR7//ncTjAHpo9/U3JN7cxZpNS/uCbg1pBigmzQDFJPpX8KUIyvnZuY+6X7+OurCQfPfBALHWxWX4XiLSDRnbvJQPY9q412SCvcLzz59K/M+PUa/gl6AE3nn3icSr66hHMzLY4Dndy3YofkByP5zC3s/JZrcpHymJcc7FCXxiu9+C7b++hv3QzTX2NNMufFbZGurXLMoT1W+AYtIMUEyaAYpJXB0i3muTL94w4LeJziCXI8oRcu0difMUPhab4rQZCdc0gUIwqZ7LpgBCtQZ5Wq/XJK4swGflU+whpzoyS1C9Aj1JRp75jJwybPuHk77ETgn67O5d+JReHMA/1j78QuIC5wsl0JEVil0PWv8ADqhm2NCklDQDFJNmgGISU/K3BGPkBWU5ggOLS8i7b64hz6fRQL4/1/qSqW3kOY5PJrCpZ2PY/gb1jdi5tyNxvUqynmrEfB8yN09e3Wciow2IRfsbm2q4+Lsh5f9EM+gGrlXeXMPvkJFTn/v/uAZw9xzxZEFxhe4Ia9BvgGLSDFBMmgGKSey/gX5BIe0DpjP04KyQPV70Kd/fh08jyzgf5tW582kCX/l4gP1EMIL8zcmf41i4zmjI+TyQp65DSUgkl9nXb1nQMVmMmEdK+wCW++wXSqnOK6OaiSLVDQjSE80G9Vvt4JqDAQXcBWqS9RugmDQDFJNmgGIS3iP4090EskzcwCcTBdAH4zZ84t4C+mI61J+Hc+RDyv+JON+f+i4wnlA/n/4Ncn7SFPqjaEHOpiR/BdWs5bQPiCmGMSV9Mwv6EnMPorkeGHTfMApeeZyVRhzRXof2PZ0b3LfB/bS/jkOavlnSDFBMmgGKSXQvIJssyldhWTw8e4lzMtjRBuX8BCPy7VA8lnvsxBPkVkYB7huO+xInJGdLJdj4QiC/k/08HKPOCtSXn3o/5JTANJejSTGJnPZA3PPHpJwitwQ9l2XQAVN6loT8WjfXiJkHAfTBKuUm6TdAMWkGKCbNAMUkRl3EADyq7w0DstmpL1BOfeWe/e0Tie/RPJmdvV26BfeIploB8smEtD8ISWcUi4gDFxzuF0R1xaM+vks6rETP4lJ9gOtB/nKMekC/QzSF/mO9KEjHZAn0BO8DRmPI+psedINbwn1LFHPWb4Bi0gxQTJoBiknUqIb28hh5L60v0Ds6HmF+lkU5MJ1z+IjqFfhndu5iFphFOT8sl/Ma4skWxQ+GGGFgBAPcd0pxAvYpDftYg0e9P32P8i8pT2kuUkE1BCWfdQP2BNwbLqX7ZhTrjjPsFS4vEQeeUO+Kxh3UMdjUZ0K/AYpJM0AxaQYoJnH0d9RknZxC7nev4fe/OEHfiCXq/XlvD/Vijol9QP8K51dpNmREfps0RU4O91guliHH4xDnj3rItU9jHC9SD+oswT4jp/itSfVunKfE/eC8KnJAhY84x+UxasRM8kFF1Ae01cIe4vIcesul3nPVRdRYOLo+4PaQZoBi0gxQTGLmQq4l5LeZy7Ghmt7W0ZHEXz5DLzaP5NoHP4Z8fEDx4aDXltikewkBn49XxbwanhMwGiI+zP3sSh72FjH5l7hvj3Bhdzsl6mtExw3q61mi/YFHs8wmVAPc7cPeb7WwNs4pqi/jWcqkC3kN+g1QTJoBikkzQDGJs2P0buNezez75tz8myvYuTPK+bFN+Fv+/Ic/SdymOexvfe9diZdWIRN5lktCsYckhk/Gop7Pwn61LS8y6n1NcjykXkAW9XfjczKKVcxo/gHnIw2GWFu7TXM3qTEQzzNY3kBP1gXaB7iezg29NaQZoJg0AxSTEORnFxSrzGYsT2nuFc1GL1PtLtu2I5KVn/z1U4mbq/CJ11eAOYdnLlZMPSTYeR/CjWRYBfyHuL6X+0bEFOOdUS0YhYTnasFS+m6f+tm1WtjHTCjPx6V64Cb1oF5chw7wKoi7cE6tfgMUk2aAYtIMUEyiQDZpSsLVoR47e3t3Jd5YR267Q3k7CzTDa5ZCZ7hl5FNuPoBMFD7lepLf/+oMcekbmgNz04Utf/AUfUOrVaz/ze++hWtS7qaYq1vG8Yiel/XBkOrR2m34+icT6CeLLrq4gj3Nnd3X8Jsswfb3aX69V9Ix4VtDmgGKSTNAMYn6MmrEvAXIrE4LNQGD8/9IvPkAc1dq67B5q8v47uId9N8XtD9withDeD7s7vMDzIXvUo5muw27+8Uz+KwuKB8poHkvzVXEjW+ucJ2tDcR7q3XoDO4lNxpAD708PJWYe8aZVAtdaeB5t157W+LGBvJi/QrPuYTtX6LaZv0GKCbNAMWkGaCYRKWJfsjsz+Ghum6lJvFCFbhGM8IcH/I0ppz6nGZATinH9PQp5Hvr4F8Sd64QXx2NYXeXyX+ysgZdsr0Ln1Klgd6cNslZh3pKpzSXuEMzYc7Iz5OlPN8Yz1InP8/O43ckbpLcr9J+yKdeGg5lpQbXLYn1G6CYNAMUk2aAYhLjALWsFZoDk5o075fkV8IJ9hSbtS3qqUB58YMRzYyk2i6XbPAC5RQVqKf0/Qc7Eo9JH7x4Dn9RrQHdMBxRPn4VsphnxF93kc9zcgp7PyD/T6EAX83aLmYn7L7xfYnrq9B/CzSzrEj9KmYD7Fe6l9AxQZ9q0AxNSkkzQDFpBigm0T6EPD07oHkpVfiv5+aFUW99m+bLZxQrTnPC1Kehsoh9xuIK5Gavjfva3Aua4sAV8qe/8977WI+Ha4aUU8SzDVpHJxK3L+AjSun/t7wNWb+9jxmZW3s4zrLeolypaIhrXvUg9yfUFy+jGWoZzWTWb4Bi0gxQTJoBiknsv/2e/DDuQW7OSIamNEO4T7N8r0lnCPIRuVXY5vUmZPfiKscbnkt89gLxBkF1xcUF5NJwra9FdbZxDB0z6EHmnhwe4bkmkL937mG2193Xnki8vkN+/BJi3RH1OAoucc3JsEPnUP1wwr2JgFPqJTfsQk/oN0AxaQYoJs0AxSRECB/9SpNyhAhHIezW3hXkV5TC7nbLsJEby5Dd1WXog0kAmXj8ErXEqU31tJRDWaA+1RbVcFlUu5DMIN+9ZcQGHjaRy1Rv4JoLNYoJUz3ErA9fTbtFswSoViAJae4Y96Gj+EES4jcZj6CTOheoJ2ifUe+Nr+eRpm+SNAMUk2aAYjJ/8atfyw8F6q1WcCj3n/LfhcfnAM/1Y5ib7QV5bVJRFufbGJTHSWVbBnf34d4PKfVry6iGK6fjKflbeDZAHE1fec6cTM9ZvlNchOLb3K90NOhL3LmGrL+merpeh/qnhtoXdGtIM0AxaQYoJsHzs1guT/gsEsxcW8sDw3huu2VTT2Y632LdYM5Le3k+2eY8hzLj+V/Z//G3UHMJ7u3Dd+JZkizfuTdcRHGFyRi+oH4P8eRBry9xrwM8HnNvVO69wavAc+k3QDFpBigmzQDF9F8xleS28lFXZAAAAABJRU5ErkJg\"></td><td style='text-align:center;vertical-align:middle; margin: 0.5em;border:1px #90999f solid;border-collapse:collapse'><img style='max-width: 100px; max-height:100px;display:inline' src=\"data:image/png;base64,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\"></td></tr></tbody></table><div><small>(a vector displayed as a row to save space)</small></div>"
      ]
     },
     "metadata": {},
     "execution_count": 44
    }
   ],
   "cell_type": "code",
   "source": [
    "image.(valset[rand(1:end, 10)])"
   ],
   "metadata": {},
   "execution_count": 44
  },
  {
   "outputs": [],
   "cell_type": "markdown",
   "source": [
    "These images look similar to the ones we trained on.\n",
    "Let's see how the model fared."
   ],
   "metadata": {}
  },
  {
   "outputs": [
    {
     "output_type": "execute_result",
     "data": {
      "text/plain": "0.463"
     },
     "metadata": {},
     "execution_count": 45
    }
   ],
   "cell_type": "code",
   "source": [
    "accuracy(test[1]...)"
   ],
   "metadata": {},
   "execution_count": 45
  },
  {
   "outputs": [],
   "cell_type": "markdown",
   "source": [
    "This is much better than random chance set at 10% (since we only have 10 classes), and\n",
    "not bad at all for a small hand written network like ours."
   ],
   "metadata": {}
  },
  {
   "outputs": [],
   "cell_type": "markdown",
   "source": [
    "Let's take a look at how the net performed on all the classes performed individually."
   ],
   "metadata": {}
  },
  {
   "outputs": [
    {
     "output_type": "execute_result",
     "data": {
      "text/plain": "10-element Array{Float64,1}:\n 0.447\n 0.535\n 0.162\n 0.222\n 0.301\n 0.499\n 0.702\n 0.436\n 0.727\n 0.477"
     },
     "metadata": {},
     "execution_count": 46
    }
   ],
   "cell_type": "code",
   "source": [
    "class_correct = zeros(10)\n",
    "class_total = zeros(10)\n",
    "for i in 1:10\n",
    "  preds = m(test[i][1])\n",
    "  lab = test[i][2]\n",
    "  for j = 1:1000\n",
    "    pred_class = findmax(preds[:, j])[2]\n",
    "    actual_class = findmax(lab[:, j])[2]\n",
    "    if pred_class == actual_class\n",
    "      class_correct[pred_class] += 1\n",
    "    end\n",
    "    class_total[actual_class] += 1\n",
    "  end\n",
    "end\n",
    "\n",
    "class_correct ./ class_total"
   ],
   "metadata": {},
   "execution_count": 46
  },
  {
   "outputs": [],
   "cell_type": "markdown",
   "source": [
    "The spread seems pretty good, with certain classes performing significantly better than the others.\n",
    "Why should that be?"
   ],
   "metadata": {}
  }
 ],
 "nbformat_minor": 3,
 "metadata": {
  "language_info": {
   "file_extension": ".jl",
   "mimetype": "application/julia",
   "name": "julia",
   "version": "1.0.2"
  },
  "kernelspec": {
   "name": "julia-1.0",
   "display_name": "Julia 1.0.2",
   "language": "julia"
  }
 },
 "nbformat": 4
}
