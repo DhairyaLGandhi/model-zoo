{
 "cells": [
  {
   "outputs": [
    {
     "name": "stdout",
     "output_type": "stream",
     "text": [
      "    Status `~/temp/model-zoo/Project.toml`\n",
      "  [1520ce14]   AbstractTrees v0.2.1\n",
      "  [fbb218c0] ↑ BSON v0.2.3 ⇒ v0.2.4\n",
      "  [54eefc05]   Cascadia v0.4.0\n",
      "  [8f4d0f93]   Conda v1.3.0\n",
      "  [864edb3b] ↑ DataStructures v0.17.0 ⇒ v0.17.5\n",
      "  [31c24e10] ↑ Distributions v0.21.3 ⇒ v0.21.5\n",
      "  [587475ba]   Flux v0.9.0\n",
      "  [708ec375]   Gumbo v0.5.1\n",
      "  [b0807396]   Gym v1.1.3\n",
      "  [cd3eb016] ↑ HTTP v0.8.6 ⇒ v0.8.7\n",
      "  [6218d12a]   ImageMagick v0.7.5\n",
      "  [916415d5]   Images v0.18.0\n",
      "  [e5e0dc1b]   Juno v0.7.2\n",
      "  [ca7b5df7]   MFCC v0.3.1\n",
      "  [dbeba491] + Metalhead v0.4.0 #c4d1eba (https://github.com/FluxML/Metalhead.jl.git)\n",
      "  [91a5bcdd] ↑ Plots v0.26.3 ⇒ v0.27.0\n",
      "  [2913bbd2]   StatsBase v0.32.0\n",
      "  [98b73d46]   Trebuchet v0.1.0\n",
      "  [8149f6b0] ↑ WAV v1.0.2 ⇒ v1.0.3\n",
      "  [e88e6eb3] + Zygote v0.4.1\n",
      "  [10745b16]   Statistics \n",
      "  [4ec0a83e]   Unicode \n"
     ]
    }
   ],
   "cell_type": "code",
   "source": [
    "using Pkg; Pkg.activate(\"/home/dhairyagandhi96/temp/model-zoo/script/..\"); Pkg.status();"
   ],
   "metadata": {},
   "execution_count": 1
  },
  {
   "outputs": [],
   "cell_type": "markdown",
   "source": [
    "Inspired by \"Fizz Buzz in Tensorflow\" blog by Joel Grus\n",
    "http://joelgrus.com/2016/05/23/fizz-buzz-in-tensorflow/"
   ],
   "metadata": {}
  },
  {
   "outputs": [],
   "cell_type": "code",
   "source": [
    "using Flux: Chain, Dense, params, crossentropy, onehotbatch,\n",
    "            ADAM, train!, softmax\n",
    "using Test"
   ],
   "metadata": {},
   "execution_count": 2
  },
  {
   "outputs": [],
   "cell_type": "markdown",
   "source": [
    "Data preparation"
   ],
   "metadata": {}
  },
  {
   "outputs": [],
   "cell_type": "code",
   "source": [
    "function fizzbuzz(x::Int)\n",
    "    is_divisible_by_three = x % 3 == 0\n",
    "    is_divisible_by_five = x % 5 == 0\n",
    "\n",
    "    if is_divisible_by_three & is_divisible_by_five\n",
    "        return \"fizzbuzz\"\n",
    "    elseif is_divisible_by_three\n",
    "        return \"fizz\"\n",
    "    elseif is_divisible_by_five\n",
    "        return \"buzz\"\n",
    "    else\n",
    "        return \"else\"\n",
    "    end\n",
    "end\n",
    "\n",
    "const LABELS = [\"fizz\", \"buzz\", \"fizzbuzz\", \"else\"];\n",
    "\n",
    "@test fizzbuzz.([3, 5, 15, 98]) == LABELS\n",
    "\n",
    "raw_x = 1:100;\n",
    "raw_y = fizzbuzz.(raw_x);"
   ],
   "metadata": {},
   "execution_count": 3
  },
  {
   "outputs": [],
   "cell_type": "markdown",
   "source": [
    "Feature engineering"
   ],
   "metadata": {}
  },
  {
   "outputs": [],
   "cell_type": "code",
   "source": [
    "features(x) = float.([x % 3, x % 5, x % 15])\n",
    "features(x::AbstractArray) = hcat(features.(x)...)\n",
    "\n",
    "X = features(raw_x);\n",
    "y = onehotbatch(raw_y, LABELS);"
   ],
   "metadata": {},
   "execution_count": 4
  },
  {
   "outputs": [],
   "cell_type": "markdown",
   "source": [
    "Model"
   ],
   "metadata": {}
  },
  {
   "outputs": [
    {
     "output_type": "execute_result",
     "data": {
      "text/plain": "Flux.Optimise.ADAM(0.001, (0.9, 0.999), IdDict{Any,Any}())"
     },
     "metadata": {},
     "execution_count": 5
    }
   ],
   "cell_type": "code",
   "source": [
    "m = Chain(Dense(3, 10), Dense(10, 4), softmax)\n",
    "loss(x, y) = crossentropy(m(x), y)\n",
    "opt = ADAM()"
   ],
   "metadata": {},
   "execution_count": 5
  },
  {
   "outputs": [],
   "cell_type": "markdown",
   "source": [
    "Helpers"
   ],
   "metadata": {}
  },
  {
   "outputs": [
    {
     "output_type": "execute_result",
     "data": {
      "text/plain": "monitor (generic function with 1 method)"
     },
     "metadata": {},
     "execution_count": 6
    }
   ],
   "cell_type": "code",
   "source": [
    "deepbuzz(x) = (a = argmax(m(features(x))); a == 4 ? x : LABELS[a])\n",
    "\n",
    "function monitor(e)\n",
    "    print(\"epoch $(lpad(e, 4)): loss = $(round(loss(X,y).data; digits=4)) | \")\n",
    "    @show deepbuzz.([3, 5, 15, 98])\n",
    "end"
   ],
   "metadata": {},
   "execution_count": 6
  },
  {
   "outputs": [],
   "cell_type": "markdown",
   "source": [
    "Training"
   ],
   "metadata": {}
  },
  {
   "outputs": [
    {
     "name": "stdout",
     "output_type": "stream",
     "text": [
      "epoch    0: loss = 7.4925 | deepbuzz.([3, 5, 15, 98]) = [\"fizz\", \"buzz\", \"fizzbuzz\", \"buzz\"]\n",
      "epoch   50: loss = 4.6865 | deepbuzz.([3, 5, 15, 98]) = [\"fizz\", \"buzz\", \"fizzbuzz\", \"buzz\"]\n",
      "epoch  100: loss = 2.3992 | deepbuzz.([3, 5, 15, 98]) = [\"fizz\", \"buzz\", \"fizzbuzz\", \"buzz\"]\n",
      "epoch  150: loss = 0.8405 | deepbuzz.([3, 5, 15, 98]) = Any[\"fizz\", 5, \"fizzbuzz\", 98]\n",
      "epoch  200: loss = 0.6807 | deepbuzz.([3, 5, 15, 98]) = Any[\"fizz\", 5, \"fizzbuzz\", 98]\n",
      "epoch  250: loss = 0.6487 | deepbuzz.([3, 5, 15, 98]) = Any[\"fizz\", 5, \"fizzbuzz\", 98]\n",
      "epoch  300: loss = 0.618 | deepbuzz.([3, 5, 15, 98]) = Any[\"fizz\", 5, \"fizzbuzz\", 98]\n",
      "epoch  350: loss = 0.5882 | deepbuzz.([3, 5, 15, 98]) = Any[\"fizz\", 5, \"fizzbuzz\", 98]\n",
      "epoch  400: loss = 0.559 | deepbuzz.([3, 5, 15, 98]) = Any[\"fizz\", 5, \"fizzbuzz\", 98]\n",
      "epoch  450: loss = 0.5301 | deepbuzz.([3, 5, 15, 98]) = Any[\"fizz\", 5, \"fizzbuzz\", 98]\n",
      "epoch  500: loss = 0.5016 | deepbuzz.([3, 5, 15, 98]) = Any[\"fizz\", 5, \"fizzbuzz\", 98]\n",
      "epoch  550: loss = 0.4733 | deepbuzz.([3, 5, 15, 98]) = Any[\"fizz\", 5, \"fizzbuzz\", 98]\n",
      "epoch  600: loss = 0.4454 | deepbuzz.([3, 5, 15, 98]) = Any[\"fizz\", 5, \"fizzbuzz\", 98]\n",
      "epoch  650: loss = 0.4179 | deepbuzz.([3, 5, 15, 98]) = Any[\"fizz\", 5, \"fizzbuzz\", 98]\n",
      "epoch  700: loss = 0.3909 | deepbuzz.([3, 5, 15, 98]) = Any[\"fizz\", 5, \"fizzbuzz\", 98]\n",
      "epoch  750: loss = 0.3645 | deepbuzz.([3, 5, 15, 98]) = Any[\"fizz\", 5, \"fizzbuzz\", 98]\n",
      "epoch  800: loss = 0.339 | deepbuzz.([3, 5, 15, 98]) = Any[\"fizz\", 5, \"fizzbuzz\", 98]\n",
      "epoch  850: loss = 0.3143 | deepbuzz.([3, 5, 15, 98]) = Any[\"fizz\", 5, \"fizzbuzz\", 98]\n",
      "epoch  900: loss = 0.2908 | deepbuzz.([3, 5, 15, 98]) = Any[\"fizz\", 5, \"fizzbuzz\", 98]\n",
      "epoch  950: loss = 0.2685 | deepbuzz.([3, 5, 15, 98]) = Any[\"fizz\", 5, \"fizzbuzz\", 98]\n",
      "epoch 1000: loss = 0.2475 | deepbuzz.([3, 5, 15, 98]) = Any[\"fizz\", 5, \"fizzbuzz\", 98]\n"
     ]
    }
   ],
   "cell_type": "code",
   "source": [
    "for e in 0:1000\n",
    "    train!(loss, params(m), [(X, y)], opt)\n",
    "    if e % 50 == 0; monitor(e) end\n",
    "end"
   ],
   "metadata": {},
   "execution_count": 7
  }
 ],
 "nbformat_minor": 3,
 "metadata": {
  "language_info": {
   "file_extension": ".jl",
   "mimetype": "application/julia",
   "name": "julia",
   "version": "1.1.0"
  },
  "kernelspec": {
   "name": "julia-1.1",
   "display_name": "Julia 1.1.0",
   "language": "julia"
  }
 },
 "nbformat": 4
}
