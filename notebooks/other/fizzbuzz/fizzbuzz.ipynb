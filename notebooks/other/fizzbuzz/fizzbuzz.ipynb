{
 "cells": [
  {
   "cell_type": "code",
   "execution_count": 1,
   "metadata": {},
   "outputs": [
    {
     "name": "stdout",
     "output_type": "stream",
     "text": [
      "  Updating registry at `~/.julia/registries/General`\n",
      "  Updating git-repo `https://github.com/JuliaRegistries/General.git`\n",
      "\u001b[?25l\u001b[2K\u001b[?25h"
     ]
    }
   ],
   "source": [
    "using Pkg; Pkg.activate(\".\"); Pkg.instantiate();"
   ]
  },
  {
   "cell_type": "markdown",
   "metadata": {},
   "source": [
    "Inspired by \"Fizz Buzz in Tensorflow\" blog by Joel Grus\n",
    "http://joelgrus.com/2016/05/23/fizz-buzz-in-tensorflow/"
   ]
  },
  {
   "cell_type": "code",
   "execution_count": 2,
   "metadata": {},
   "outputs": [
    {
     "name": "stdout",
     "output_type": "stream",
     "text": [
      "WARNING: could not import NNlib.cudata into Tracker\n"
     ]
    }
   ],
   "source": [
    "using Flux: Chain, Dense, params, crossentropy, onehotbatch,\n",
    "            ADAM, train!, softmax\n",
    "using Test"
   ]
  },
  {
   "cell_type": "markdown",
   "metadata": {},
   "source": [
    "Data preparation"
   ]
  },
  {
   "cell_type": "code",
   "execution_count": 3,
   "metadata": {
    "collapsed": true
   },
   "outputs": [],
   "source": [
    "function fizzbuzz(x::Int)\n",
    "    is_divisible_by_three = x % 3 == 0\n",
    "    is_divisible_by_five = x % 5 == 0\n",
    "\n",
    "    if is_divisible_by_three & is_divisible_by_five\n",
    "        return \"fizzbuzz\"\n",
    "    elseif is_divisible_by_three\n",
    "        return \"fizz\"\n",
    "    elseif is_divisible_by_five\n",
    "        return \"buzz\"\n",
    "    else\n",
    "        return \"else\"\n",
    "    end\n",
    "end\n",
    "\n",
    "const LABELS = [\"fizz\", \"buzz\", \"fizzbuzz\", \"else\"];\n",
    "\n",
    "@test fizzbuzz.([3, 5, 15, 98]) == LABELS\n",
    "\n",
    "raw_x = 1:100;\n",
    "raw_y = fizzbuzz.(raw_x);"
   ]
  },
  {
   "cell_type": "markdown",
   "metadata": {},
   "source": [
    "Feature engineering"
   ]
  },
  {
   "cell_type": "code",
   "execution_count": 4,
   "metadata": {
    "collapsed": true
   },
   "outputs": [],
   "source": [
    "features(x) = float.([x % 3, x % 5, x % 15])\n",
    "features(x::AbstractArray) = hcat(features.(x)...)\n",
    "\n",
    "X = features(raw_x);\n",
    "y = onehotbatch(raw_y, LABELS);"
   ]
  },
  {
   "cell_type": "markdown",
   "metadata": {},
   "source": [
    "Model"
   ]
  },
  {
   "cell_type": "code",
   "execution_count": 5,
   "metadata": {},
   "outputs": [
    {
     "data": {
      "text/plain": [
       "#43 (generic function with 1 method)"
      ]
     },
     "execution_count": 5,
     "metadata": {},
     "output_type": "execute_result"
    }
   ],
   "source": [
    "m = Chain(Dense(3, 10), Dense(10, 4), softmax)\n",
    "loss(x, y) = crossentropy(m(X), y)\n",
    "opt = ADAM(params(m))"
   ]
  },
  {
   "cell_type": "markdown",
   "metadata": {},
   "source": [
    "Helpers"
   ]
  },
  {
   "cell_type": "code",
   "execution_count": 6,
   "metadata": {},
   "outputs": [
    {
     "data": {
      "text/plain": [
       "monitor (generic function with 1 method)"
      ]
     },
     "execution_count": 6,
     "metadata": {},
     "output_type": "execute_result"
    }
   ],
   "source": [
    "deepbuzz(x) = (a = argmax(m(features(x))); a == 4 ? x : LABELS[a])\n",
    "\n",
    "function monitor(e)\n",
    "    print(\"epoch $(lpad(e, 4)): loss = $(round(loss(X,y).data; digits=4)) | \")\n",
    "    @show deepbuzz.([3, 5, 15, 98])\n",
    "end"
   ]
  },
  {
   "cell_type": "markdown",
   "metadata": {},
   "source": [
    "Training"
   ]
  },
  {
   "cell_type": "code",
   "execution_count": 7,
   "metadata": {},
   "outputs": [
    {
     "name": "stdout",
     "output_type": "stream",
     "text": [
      "epoch    0: loss = 1.5041 | deepbuzz.([3, 5, 15, 98]) = Any[\"fizzbuzz\", 5, \"fizz\", 98]\n",
      "epoch   50: loss = 0.9277 | deepbuzz.([3, 5, 15, 98]) = Any[\"fizz\", 5, \"fizz\", 98]\n",
      "epoch  100: loss = 0.7661 | deepbuzz.([3, 5, 15, 98]) = Any[\"fizz\", 5, \"buzz\", 98]\n",
      "epoch  150: loss = 0.6563 | deepbuzz.([3, 5, 15, 98]) = Any[\"fizz\", 5, \"fizzbuzz\", 98]\n",
      "epoch  200: loss = 0.5688 | deepbuzz.([3, 5, 15, 98]) = Any[\"fizz\", 5, \"fizzbuzz\", 98]\n",
      "epoch  250: loss = 0.4946 | deepbuzz.([3, 5, 15, 98]) = Any[\"fizz\", 5, \"fizzbuzz\", 98]\n",
      "epoch  300: loss = 0.4305 | deepbuzz.([3, 5, 15, 98]) = Any[\"fizz\", 5, \"fizzbuzz\", 98]\n",
      "epoch  350: loss = 0.3748 | deepbuzz.([3, 5, 15, 98]) = Any[\"fizz\", \"buzz\", \"fizzbuzz\", 98]\n",
      "epoch  400: loss = 0.3263 | deepbuzz.([3, 5, 15, 98]) = Any[\"fizz\", \"buzz\", \"fizzbuzz\", 98]\n",
      "epoch  450: loss = 0.2842 | deepbuzz.([3, 5, 15, 98]) = Any[\"fizz\", \"buzz\", \"fizzbuzz\", 98]\n",
      "epoch  500: loss = 0.2475 | deepbuzz.([3, 5, 15, 98]) = Any[\"fizz\", \"buzz\", \"fizzbuzz\", 98]\n",
      "epoch  550: loss = 0.2157 | deepbuzz.([3, 5, 15, 98]) = Any[\"fizz\", \"buzz\", \"fizzbuzz\", 98]\n",
      "epoch  600: loss = 0.1882 | deepbuzz.([3, 5, 15, 98]) = Any[\"fizz\", \"buzz\", \"fizzbuzz\", 98]\n",
      "epoch  650: loss = 0.1645 | deepbuzz.([3, 5, 15, 98]) = Any[\"fizz\", \"buzz\", \"fizzbuzz\", 98]\n",
      "epoch  700: loss = 0.1441 | deepbuzz.([3, 5, 15, 98]) = Any[\"fizz\", \"buzz\", \"fizzbuzz\", 98]\n",
      "epoch  750: loss = 0.1265 | deepbuzz.([3, 5, 15, 98]) = Any[\"fizz\", \"buzz\", \"fizzbuzz\", 98]\n",
      "epoch  800: loss = 0.1114 | deepbuzz.([3, 5, 15, 98]) = Any[\"fizz\", \"buzz\", \"fizzbuzz\", 98]\n",
      "epoch  850: loss = 0.0984 | deepbuzz.([3, 5, 15, 98]) = Any[\"fizz\", \"buzz\", \"fizzbuzz\", 98]\n",
      "epoch  900: loss = 0.0872 | deepbuzz.([3, 5, 15, 98]) = Any[\"fizz\", \"buzz\", \"fizzbuzz\", 98]\n",
      "epoch  950: loss = 0.0775 | deepbuzz.([3, 5, 15, 98]) = Any[\"fizz\", \"buzz\", \"fizzbuzz\", 98]\n",
      "epoch 1000: loss = 0.0691 | deepbuzz.([3, 5, 15, 98]) = Any[\"fizz\", \"buzz\", \"fizzbuzz\", 98]\n"
     ]
    }
   ],
   "source": [
    "for e in 0:1000\n",
    "    train!(loss, [(X, y)], opt)\n",
    "    if e % 50 == 0; monitor(e) end\n",
    "end"
   ]
  }
 ],
 "metadata": {
  "kernelspec": {
   "display_name": "Julia 0.6.4",
   "language": "julia",
   "name": "julia-0.6"
  },
  "language_info": {
   "file_extension": ".jl",
   "mimetype": "application/julia",
   "name": "julia",
   "version": "0.6.4"
  }
 },
 "nbformat": 4,
 "nbformat_minor": 3
}
