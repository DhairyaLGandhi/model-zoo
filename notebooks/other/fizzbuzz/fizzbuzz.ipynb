{
 "cells": [
  {
   "outputs": [
    {
     "name": "stdout",
     "output_type": "stream",
     "text": [
      "  Updating registry at `~/.julia/registries/General`\n",
      "  Updating git-repo `https://github.com/JuliaRegistries/General.git`\n",
      "\u001b[?25l\u001b[2K\u001b[?25h  Updating git-repo `https://github.com/JuliaGPU/CUDAdrv.jl.git`\n",
      "\u001b[?25l\u001b[2K\u001b[?25h Resolving package versions...\n",
      "  Updating `~/modelzoo/model-zoo/other/fizzbuzz/Project.toml`\n",
      " [no changes]\n",
      "  Updating `~/modelzoo/model-zoo/other/fizzbuzz/Manifest.toml`\n",
      " [no changes]\n",
      "  Updating git-repo `https://github.com/JuliaGPU/CUDAnative.jl.git`\n",
      "\u001b[?25l\u001b[2K\u001b[?25h Resolving package versions...\n",
      "  Updating `~/modelzoo/model-zoo/other/fizzbuzz/Project.toml`\n",
      " [no changes]\n",
      "  Updating `~/modelzoo/model-zoo/other/fizzbuzz/Manifest.toml`\n",
      " [no changes]\n",
      "  Updating git-repo `https://github.com/JuliaGPU/CuArrays.jl.git`\n",
      "\u001b[?25l\u001b[2K\u001b[?25h Resolving package versions...\n",
      "  Updating `~/modelzoo/model-zoo/other/fizzbuzz/Project.toml`\n",
      " [no changes]\n",
      "  Updating `~/modelzoo/model-zoo/other/fizzbuzz/Manifest.toml`\n",
      " [no changes]\n",
      "  Updating git-repo `https://github.com/FluxML/Flux.jl.git`\n",
      "\u001b[?25l\u001b[2K\u001b[?25h Resolving package versions...\n",
      "  Updating `~/modelzoo/model-zoo/other/fizzbuzz/Project.toml`\n",
      "  [587475ba] ↑ Flux v0.6.7 ⇒ v0.6.10+ #master (https://github.com/FluxML/Flux.jl.git)\n",
      "  Updating `~/modelzoo/model-zoo/other/fizzbuzz/Manifest.toml`\n",
      "  [79e6a3ab] ↑ Adapt v0.3.1 ⇒ v0.4.1\n",
      "  [587475ba] ↑ Flux v0.6.7 ⇒ v0.6.10+ #master (https://github.com/FluxML/Flux.jl.git)\n",
      "  [0c68f7d7] ↑ GPUArrays v0.5.0 ⇒ v0.6.0\n"
     ]
    }
   ],
   "cell_type": "code",
   "source": [
    "using Pkg; Pkg.activate(\"/home/dhairyagandhi96/modelzoo/model-zoo/script/../other/fizzbuzz\"); Pkg.instantiate(); Pkg.add(PackageSpec(name=\"CUDAdrv\", rev = \"master\")); Pkg.add(PackageSpec(name=\"CUDAnative\", rev = \"master\")); Pkg.add(PackageSpec(name=\"CuArrays\", rev = \"master\")); Pkg.add(PackageSpec(name=\"Flux\", rev = \"master\"))"
   ],
   "metadata": {},
   "execution_count": 1
  },
  {
   "outputs": [],
   "cell_type": "markdown",
   "source": [
    "Inspired by \"Fizz Buzz in Tensorflow\" blog by Joel Grus\n",
    "http://joelgrus.com/2016/05/23/fizz-buzz-in-tensorflow/"
   ],
   "metadata": {}
  },
  {
   "outputs": [],
   "cell_type": "code",
   "source": [
    "using Flux: Chain, Dense, params, crossentropy, onehotbatch,\n",
    "            ADAM, train!, softmax\n",
    "using Test"
   ],
   "metadata": {},
   "execution_count": 2
  },
  {
   "outputs": [],
   "cell_type": "markdown",
   "source": [
    "Data preparation"
   ],
   "metadata": {}
  },
  {
   "outputs": [],
   "cell_type": "code",
   "source": [
    "function fizzbuzz(x::Int)\n",
    "    is_divisible_by_three = x % 3 == 0\n",
    "    is_divisible_by_five = x % 5 == 0\n",
    "\n",
    "    if is_divisible_by_three & is_divisible_by_five\n",
    "        return \"fizzbuzz\"\n",
    "    elseif is_divisible_by_three\n",
    "        return \"fizz\"\n",
    "    elseif is_divisible_by_five\n",
    "        return \"buzz\"\n",
    "    else\n",
    "        return \"else\"\n",
    "    end\n",
    "end\n",
    "\n",
    "const LABELS = [\"fizz\", \"buzz\", \"fizzbuzz\", \"else\"];\n",
    "\n",
    "@test fizzbuzz.([3, 5, 15, 98]) == LABELS\n",
    "\n",
    "raw_x = 1:100;\n",
    "raw_y = fizzbuzz.(raw_x);"
   ],
   "metadata": {},
   "execution_count": 3
  },
  {
   "outputs": [],
   "cell_type": "markdown",
   "source": [
    "Feature engineering"
   ],
   "metadata": {}
  },
  {
   "outputs": [],
   "cell_type": "code",
   "source": [
    "features(x) = float.([x % 3, x % 5, x % 15])\n",
    "features(x::AbstractArray) = hcat(features.(x)...)\n",
    "\n",
    "X = features(raw_x);\n",
    "y = onehotbatch(raw_y, LABELS);"
   ],
   "metadata": {},
   "execution_count": 4
  },
  {
   "outputs": [],
   "cell_type": "markdown",
   "source": [
    "Model"
   ],
   "metadata": {}
  },
  {
   "outputs": [
    {
     "name": "stdout",
     "output_type": "stream",
     "text": [
      "┌ Warning: ADAM(params) is deprecated; use ADAM(η::Float64) instead\n",
      "│   caller = top-level scope at none:0\n",
      "└ @ Core none:0\n"
     ]
    },
    {
     "output_type": "execute_result",
     "data": {
      "text/plain": "#13 (generic function with 1 method)"
     },
     "metadata": {},
     "execution_count": 5
    }
   ],
   "cell_type": "code",
   "source": [
    "m = Chain(Dense(3, 10), Dense(10, 4), softmax)\n",
    "loss(x, y) = crossentropy(m(X), y)\n",
    "opt = ADAM(params(m))"
   ],
   "metadata": {},
   "execution_count": 5
  },
  {
   "outputs": [],
   "cell_type": "markdown",
   "source": [
    "Helpers"
   ],
   "metadata": {}
  },
  {
   "outputs": [
    {
     "output_type": "execute_result",
     "data": {
      "text/plain": "monitor (generic function with 1 method)"
     },
     "metadata": {},
     "execution_count": 6
    }
   ],
   "cell_type": "code",
   "source": [
    "deepbuzz(x) = (a = argmax(m(features(x))); a == 4 ? x : LABELS[a])\n",
    "\n",
    "function monitor(e)\n",
    "    print(\"epoch $(lpad(e, 4)): loss = $(round(loss(X,y).data; digits=4)) | \")\n",
    "    @show deepbuzz.([3, 5, 15, 98])\n",
    "end"
   ],
   "metadata": {},
   "execution_count": 6
  },
  {
   "outputs": [],
   "cell_type": "markdown",
   "source": [
    "Training"
   ],
   "metadata": {}
  },
  {
   "outputs": [
    {
     "name": "stdout",
     "output_type": "stream",
     "text": [
      "┌ Warning: train!(loss, data, opt) is deprecated; use train!(loss, params, data, opt) instead\n",
      "│   caller = top-level scope at string:2 [inlined]\n",
      "└ @ Core ./string:2\n",
      "epoch    0: loss = 1.68 | deepbuzz.([3, 5, 15, 98]) = Any[3, 5, \"fizzbuzz\", 98]\n",
      "epoch   50: loss = 0.7885 | deepbuzz.([3, 5, 15, 98]) = Any[3, \"buzz\", \"fizzbuzz\", 98]\n",
      "epoch  100: loss = 0.6143 | deepbuzz.([3, 5, 15, 98]) = Any[3, \"buzz\", \"fizzbuzz\", 98]\n",
      "epoch  150: loss = 0.5202 | deepbuzz.([3, 5, 15, 98]) = Any[\"fizz\", \"buzz\", \"fizzbuzz\", 98]\n",
      "epoch  200: loss = 0.4486 | deepbuzz.([3, 5, 15, 98]) = Any[\"fizz\", \"buzz\", \"fizzbuzz\", 98]\n",
      "epoch  250: loss = 0.3885 | deepbuzz.([3, 5, 15, 98]) = Any[\"fizz\", \"buzz\", \"fizzbuzz\", 98]\n",
      "epoch  300: loss = 0.3366 | deepbuzz.([3, 5, 15, 98]) = Any[\"fizz\", \"buzz\", \"fizzbuzz\", 98]\n",
      "epoch  350: loss = 0.2916 | deepbuzz.([3, 5, 15, 98]) = Any[\"fizz\", \"buzz\", \"fizzbuzz\", 98]\n",
      "epoch  400: loss = 0.2527 | deepbuzz.([3, 5, 15, 98]) = Any[\"fizz\", \"buzz\", \"fizzbuzz\", 98]\n",
      "epoch  450: loss = 0.2192 | deepbuzz.([3, 5, 15, 98]) = Any[\"fizz\", \"buzz\", \"fizzbuzz\", 98]\n",
      "epoch  500: loss = 0.1905 | deepbuzz.([3, 5, 15, 98]) = Any[\"fizz\", \"buzz\", \"fizzbuzz\", 98]\n",
      "epoch  550: loss = 0.1659 | deepbuzz.([3, 5, 15, 98]) = Any[\"fizz\", \"buzz\", \"fizzbuzz\", 98]\n",
      "epoch  600: loss = 0.1448 | deepbuzz.([3, 5, 15, 98]) = Any[\"fizz\", \"buzz\", \"fizzbuzz\", 98]\n",
      "epoch  650: loss = 0.1268 | deepbuzz.([3, 5, 15, 98]) = Any[\"fizz\", \"buzz\", \"fizzbuzz\", 98]\n",
      "epoch  700: loss = 0.1113 | deepbuzz.([3, 5, 15, 98]) = Any[\"fizz\", \"buzz\", \"fizzbuzz\", 98]\n",
      "epoch  750: loss = 0.0981 | deepbuzz.([3, 5, 15, 98]) = Any[\"fizz\", \"buzz\", \"fizzbuzz\", 98]\n",
      "epoch  800: loss = 0.0867 | deepbuzz.([3, 5, 15, 98]) = Any[\"fizz\", \"buzz\", \"fizzbuzz\", 98]\n",
      "epoch  850: loss = 0.0769 | deepbuzz.([3, 5, 15, 98]) = Any[\"fizz\", \"buzz\", \"fizzbuzz\", 98]\n",
      "epoch  900: loss = 0.0684 | deepbuzz.([3, 5, 15, 98]) = Any[\"fizz\", \"buzz\", \"fizzbuzz\", 98]\n",
      "epoch  950: loss = 0.061 | deepbuzz.([3, 5, 15, 98]) = Any[\"fizz\", \"buzz\", \"fizzbuzz\", 98]\n",
      "epoch 1000: loss = 0.0547 | deepbuzz.([3, 5, 15, 98]) = Any[\"fizz\", \"buzz\", \"fizzbuzz\", 98]\n"
     ]
    }
   ],
   "cell_type": "code",
   "source": [
    "for e in 0:1000\n",
    "    train!(loss, [(X, y)], opt)\n",
    "    if e % 50 == 0; monitor(e) end\n",
    "end"
   ],
   "metadata": {},
   "execution_count": 7
  }
 ],
 "nbformat_minor": 3,
 "metadata": {
  "language_info": {
   "file_extension": ".jl",
   "mimetype": "application/julia",
   "name": "julia",
   "version": "1.0.2"
  },
  "kernelspec": {
   "name": "julia-1.0",
   "display_name": "Julia 1.0.2",
   "language": "julia"
  }
 },
 "nbformat": 4
}
