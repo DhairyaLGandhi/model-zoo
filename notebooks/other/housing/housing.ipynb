{
 "cells": [
  {
   "outputs": [
    {
     "name": "stdout",
     "output_type": "stream",
     "text": [
      "  Updating registry at `~/.julia/registries/General`\n",
      "  Updating git-repo `https://github.com/JuliaRegistries/General.git`\n",
      "\u001b[?25l\u001b[2K\u001b[?25hWARNING: could not import NNlib.cudata into Tracker\n"
     ]
    }
   ],
   "cell_type": "code",
   "source": [
    "using Pkg; Pkg.activate(\".\"); Pkg.instantiate();\n",
    "\n",
    "using Flux.Tracker, Statistics, DelimitedFiles\n",
    "using Flux.Tracker: Params, gradient, update!"
   ],
   "metadata": {},
   "execution_count": 1
  },
  {
   "outputs": [],
   "cell_type": "markdown",
   "source": [
    "This replicates the housing data example from the Knet.jl readme. Although we\n",
    "could have reused more of Flux (see the mnist example), the library's\n",
    "abstractions are very lightweight and don't force you into any particular\n",
    "strategy."
   ],
   "metadata": {}
  },
  {
   "outputs": [
    {
     "name": "stdout",
     "output_type": "stream",
     "text": [
      "  % Total    % Received % Xferd  Average Speed   Time    Time     Time  Current\n",
      "                                 Dload  Upload   Total   Spent    Left  Speed\n",
      "\r  0     0    0     0    0     0      0      0 --:--:-- --:--:-- --:--:--     0\r  0     0    0     0    0     0      0      0 --:--:-- --:--:-- --:--:--     0\r  0     0    0     0    0     0      0      0 --:--:--  0:00:01 --:--:--     0\r  0     0    0     0    0     0      0      0 --:--:--  0:00:02 --:--:--     0\r  0     0    0     0    0     0      0      0 --:--:--  0:00:03 --:--:--     0\r  0     0    0     0    0     0      0      0 --:--:--  0:00:04 --:--:--     0\r  0     0    0     0    0     0      0      0 --:--:--  0:00:05 --:--:--     0\r 59 48985   59 29337    0     0   4827      0  0:00:10  0:00:06  0:00:04  6429\r100 48985  100 48985    0     0   8059      0  0:00:06  0:00:06 --:--:-- 13752\n"
     ]
    },
    {
     "output_type": "execute_result",
     "data": {
      "text/plain": "14×505 LinearAlgebra.Adjoint{Float64,Array{Float64,2}}:\n   0.02731    0.02729    0.03237  …    0.06076    0.10959    0.04741\n   0.0        0.0        0.0           0.0        0.0        0.0    \n   7.07       7.07       2.18         11.93      11.93      11.93   \n   0.0        0.0        0.0           0.0        0.0        0.0    \n   0.469      0.469      0.458         0.573      0.573      0.573  \n   6.421      7.185      6.998    …    6.976      6.794      6.03   \n  78.9       61.1       45.8          91.0       89.3       80.8    \n   4.9671     4.9671     6.0622        2.1675     2.3889     2.505  \n   2.0        2.0        3.0           1.0        1.0        1.0    \n 242.0      242.0      222.0         273.0      273.0      273.0    \n  17.8       17.8       18.7      …   21.0       21.0       21.0    \n 396.9      392.83     394.63        396.9      393.45     396.9    \n   9.14       4.03       2.94          5.64       6.48       7.88   \n  21.6       34.7       33.4          23.9       22.0       11.9    "
     },
     "metadata": {},
     "execution_count": 2
    }
   ],
   "cell_type": "code",
   "source": [
    "cd(@__DIR__)\n",
    "\n",
    "isfile(\"housing.data\") ||\n",
    "  download(\"https://raw.githubusercontent.com/MikeInnes/notebooks/master/housing.data\",\n",
    "           \"housing.data\")\n",
    "\n",
    "rawdata = readdlm(\"housing.data\")'"
   ],
   "metadata": {},
   "execution_count": 2
  },
  {
   "outputs": [],
   "cell_type": "markdown",
   "source": [
    "The last feature is our target -- the price of the house."
   ],
   "metadata": {}
  },
  {
   "outputs": [
    {
     "output_type": "execute_result",
     "data": {
      "text/plain": "1×505 Array{Float64,2}:\n 21.6  34.7  33.4  36.2  28.7  22.9  …  16.8  22.4  20.6  23.9  22.0  11.9"
     },
     "metadata": {},
     "execution_count": 3
    }
   ],
   "cell_type": "code",
   "source": [
    "x = rawdata[1:13,:]\n",
    "y = rawdata[14:14,:]"
   ],
   "metadata": {},
   "execution_count": 3
  },
  {
   "outputs": [],
   "cell_type": "markdown",
   "source": [
    "Normalise the data"
   ],
   "metadata": {}
  },
  {
   "outputs": [
    {
     "output_type": "execute_result",
     "data": {
      "text/plain": "13×505 Array{Float64,2}:\n -0.417416  -0.417418  -0.416828  …  -0.41353   -0.407858  -0.415081\n -0.486234  -0.486234  -0.486234     -0.486234  -0.486234  -0.486234\n -0.595732  -0.595732  -1.30899       0.11315    0.11315    0.11315 \n -0.272618  -0.272618  -0.272618     -0.272618  -0.272618  -0.272618\n -0.739098  -0.739098  -0.833934      0.15753    0.15753    0.15753 \n  0.194741   1.28121    1.01528   …   0.983996   0.725177  -0.361293\n  0.366208  -0.265527  -0.808535      0.795646   0.735312   0.433641\n  0.556346   0.556346   1.0759       -0.771891  -0.66685   -0.611768\n -0.868939  -0.868939  -0.754097     -0.983782  -0.983782  -0.983782\n -0.987128  -0.987128  -1.10573      -0.803294  -0.803294  -0.803294\n -0.306024  -0.306024   0.110158  …   1.17373    1.17373    1.17373 \n  0.441136   0.396591   0.416291      0.441136   0.403377   0.441136\n -0.494157  -1.20985   -1.36251      -0.984357  -0.866709  -0.670629"
     },
     "metadata": {},
     "execution_count": 4
    }
   ],
   "cell_type": "code",
   "source": [
    "x = (x .- mean(x, dims = 2)) ./ std(x, dims = 2)"
   ],
   "metadata": {},
   "execution_count": 4
  },
  {
   "outputs": [],
   "cell_type": "markdown",
   "source": [
    "The model"
   ],
   "metadata": {}
  },
  {
   "outputs": [
    {
     "name": "stdout",
     "output_type": "stream",
     "text": [
      "┌ Warning: Error requiring CuArrays from Flux:\n",
      "│ LoadError: UndefVarError: cudnn_available not defined\n",
      "│ Stacktrace:\n",
      "│  [1] getproperty(::Module, ::Symbol) at ./sysimg.jl:13\n",
      "│  [2] top-level scope at none:0\n",
      "│  [3] include at ./boot.jl:317 [inlined]\n",
      "│  [4] include_relative(::Module, ::String) at ./loading.jl:1038\n",
      "│  [5] include at ./sysimg.jl:29 [inlined]\n",
      "│  [6] include(::String) at /home/dhairyagandhi96/.julia/packages/Flux/UHjNa/src/Flux.jl:1\n",
      "│  [7] top-level scope at none:0\n",
      "│  [8] eval at ./boot.jl:319 [inlined]\n",
      "│  [9] eval at /home/dhairyagandhi96/.julia/packages/Flux/UHjNa/src/Flux.jl:1 [inlined]\n",
      "│  [10] (::getfield(Flux, Symbol(\"##99#103\")))() at /home/dhairyagandhi96/.julia/packages/Requires/9Jse/src/require.jl:67\n",
      "│  [11] err(::getfield(Flux, Symbol(\"##99#103\")), ::Module, ::String) at /home/dhairyagandhi96/.julia/packages/Requires/9Jse/src/require.jl:38\n",
      "│  [12] #98 at /home/dhairyagandhi96/.julia/packages/Requires/9Jse/src/require.jl:66 [inlined]\n",
      "│  [13] withpath(::getfield(Flux, Symbol(\"##98#102\")), ::String) at /home/dhairyagandhi96/.julia/packages/Requires/9Jse/src/require.jl:28\n",
      "│  [14] (::getfield(Flux, Symbol(\"##97#101\")))() at /home/dhairyagandhi96/.julia/packages/Requires/9Jse/src/require.jl:65\n",
      "│  [15] #invokelatest#1 at ./essentials.jl:686 [inlined]\n",
      "│  [16] invokelatest at ./essentials.jl:685 [inlined]\n",
      "│  [17] #3 at /home/dhairyagandhi96/.julia/packages/Requires/9Jse/src/require.jl:19 [inlined]\n",
      "│  [18] iterate at ./generator.jl:47 [inlined]\n",
      "│  [19] collect_to!(::Array{Function,1}, ::Base.Generator{Array{Function,1},getfield(Requires, Symbol(\"##3#4\"))}, ::Int64, ::Int64) at ./array.jl:656\n",
      "│  [20] collect_to!(::Array{typeof(CUDAnative.cudaconvert),1}, ::Base.Generator{Array{Function,1},getfield(Requires, Symbol(\"##3#4\"))}, ::Int64, ::Int64) at ./array.jl:667\n",
      "│  [21] collect_to_with_first!(::Array{typeof(CUDAnative.cudaconvert),1}, ::Function, ::Base.Generator{Array{Function,1},getfield(Requires, Symbol(\"##3#4\"))}, ::Int64) at ./array.jl:643\n",
      "│  [22] _collect(::Array{Function,1}, ::Base.Generator{Array{Function,1},getfield(Requires, Symbol(\"##3#4\"))}, ::Base.EltypeUnknown, ::Base.HasShape{1}) at ./array.jl:637\n",
      "│  [23] map at ./array.jl:561 [inlined]\n",
      "│  [24] loadpkg(::Base.PkgId) at /home/dhairyagandhi96/.julia/packages/Requires/9Jse/src/require.jl:19\n",
      "│  [25] #invokelatest#1 at ./essentials.jl:686 [inlined]\n",
      "│  [26] invokelatest at ./essentials.jl:685 [inlined]\n",
      "│  [27] require(::Base.PkgId) at ./loading.jl:855\n",
      "│  [28] macro expansion at ./logging.jl:311 [inlined]\n",
      "│  [29] require(::Module, ::Symbol) at ./loading.jl:834\n",
      "│  [30] include_string(::Module, ::String, ::String) at ./loading.jl:1002\n",
      "│  [31] include_string(::Module, ::String) at ./loading.jl:1006\n",
      "│  [32] (::getfield(Literate, Symbol(\"##18#19\")){Module})() at /home/dhairyagandhi96/.julia/packages/Literate/OTyBa/src/Literate.jl:533\n",
      "│  [33] (::getfield(Literate.Documenter, Symbol(\"##1#2\")){getfield(Literate, Symbol(\"##18#19\")){Module},Base.PipeEndpoint,Base.PipeEndpoint,Pipe,Array{UInt8,1}})() at /home/dhairyagandhi96/.julia/packages/Literate/OTyBa/src/Documenter.jl:25\n",
      "│  [34] with_logstate(::getfield(Literate.Documenter, Symbol(\"##1#2\")){getfield(Literate, Symbol(\"##18#19\")){Module},Base.PipeEndpoint,Base.PipeEndpoint,Pipe,Array{UInt8,1}}, ::Base.CoreLogging.LogState) at ./logging.jl:397\n",
      "│  [35] with_logger(::Function, ::Base.CoreLogging.SimpleLogger) at ./logging.jl:493\n",
      "│  [36] execute_notebook(::Dict{Any,Any}) at /home/dhairyagandhi96/.julia/packages/Literate/OTyBa/src/Documenter.jl:23\n",
      "│  [37] (::getfield(Literate, Symbol(\"##14#17\")))() at /home/dhairyagandhi96/.julia/packages/Literate/OTyBa/src/Literate.jl:492\n",
      "│  [38] cd(::getfield(Literate, Symbol(\"##14#17\")), ::String) at ./file.jl:96\n",
      "│  [39] #notebook#11(::typeof(preprocess_nb), ::typeof(postprocess_nb), ::Bool, ::Bool, ::Bool, ::String, ::Base.Iterators.Pairs{Union{},Union{},Tuple{},NamedTuple{(),Tuple{}}}, ::Function, ::String, ::String) at /home/dhairyagandhi96/.julia/packages/Literate/OTyBa/src/Literate.jl:470\n",
      "│  [40] #notebook at ./none:0 [inlined]\n",
      "│  [41] top-level scope at /home/dhairyagandhi96/modelzoo/model-zoo/script/convert.jl:41 [inlined]\n",
      "│  [42] top-level scope at ./none:0\n",
      "│  [43] include at ./boot.jl:317 [inlined]\n",
      "│  [44] include_relative(::Module, ::String) at ./loading.jl:1038\n",
      "│  [45] include(::Module, ::String) at ./sysimg.jl:29\n",
      "│  [46] exec_options(::Base.JLOptions) at ./client.jl:229\n",
      "│  [47] _start() at ./client.jl:421\n",
      "│ in expression starting at /home/dhairyagandhi96/.julia/packages/Flux/UHjNa/src/cuda/cuda.jl:5\n",
      "└ @ Requires /home/dhairyagandhi96/.julia/packages/Requires/9Jse/src/require.jl:40\n"
     ]
    }
   ],
   "cell_type": "code",
   "source": [
    "W = param(randn(1,13)/10)\n",
    "b = param([0.])\n",
    "\n",
    "using CuArrays"
   ],
   "metadata": {},
   "execution_count": 5
  },
  {
   "outputs": [],
   "cell_type": "markdown",
   "source": [
    "W, b, x, y = cu.((W, b, x, y))"
   ],
   "metadata": {}
  },
  {
   "outputs": [
    {
     "name": "stdout",
     "output_type": "stream",
     "text": [
      "loss(x, y) = 367.02649966316216 (tracked)\n",
      "loss(x, y) = 241.89901642031327 (tracked)\n",
      "loss(x, y) = 163.0698209536154 (tracked)\n",
      "loss(x, y) = 112.8282687204366 (tracked)\n",
      "loss(x, y) = 80.73707646364092 (tracked)\n",
      "loss(x, y) = 60.20762863234208 (tracked)\n",
      "loss(x, y) = 47.05218834938934 (tracked)\n",
      "loss(x, y) = 38.60470676963889 (tracked)\n",
      "loss(x, y) = 33.1660676591927 (tracked)\n",
      "loss(x, y) = 29.652392358624034 (tracked)\n"
     ]
    },
    {
     "output_type": "execute_result",
     "data": {
      "text/plain": "Tracked 1-element Array{Float64,1}:\n 1.056439428103095"
     },
     "metadata": {},
     "execution_count": 6
    }
   ],
   "cell_type": "code",
   "source": [
    "predict(x) = W*x .+ b\n",
    "meansquarederror(ŷ, y) = sum((ŷ .- y).^2)/size(y, 2)\n",
    "loss(x, y) = meansquarederror(predict(x), y)\n",
    "\n",
    "η = 0.1\n",
    "θ = Params([W, b])\n",
    "\n",
    "for i = 1:10\n",
    "  g = gradient(() -> loss(x, y), θ)\n",
    "  for x in θ\n",
    "    update!(x, -g[x]*η)\n",
    "  end\n",
    "  @show loss(x, y)\n",
    "end\n",
    "\n",
    "predict(x[:,1]) / y[1]"
   ],
   "metadata": {},
   "execution_count": 6
  }
 ],
 "nbformat_minor": 3,
 "metadata": {
  "language_info": {
   "file_extension": ".jl",
   "mimetype": "application/julia",
   "name": "julia",
   "version": "1.0.0"
  },
  "kernelspec": {
   "name": "julia-1.0",
   "display_name": "Julia 1.0.0",
   "language": "julia"
  }
 },
 "nbformat": 4
}
