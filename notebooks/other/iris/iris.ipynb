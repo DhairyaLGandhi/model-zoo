{
 "cells": [
  {
   "outputs": [
    {
     "name": "stdout",
     "output_type": "stream",
     "text": [
      "    Status `~/temp/model-zoo/Project.toml`\n",
      "  [1520ce14]   AbstractTrees v0.2.1\n",
      "  [fbb218c0] ↑ BSON v0.2.3 ⇒ v0.2.4\n",
      "  [54eefc05]   Cascadia v0.4.0\n",
      "  [8f4d0f93]   Conda v1.3.0\n",
      "  [864edb3b] ↑ DataStructures v0.17.0 ⇒ v0.17.5\n",
      "  [31c24e10] ↑ Distributions v0.21.3 ⇒ v0.21.5\n",
      "  [587475ba]   Flux v0.9.0\n",
      "  [708ec375]   Gumbo v0.5.1\n",
      "  [b0807396]   Gym v1.1.3\n",
      "  [cd3eb016] ↑ HTTP v0.8.6 ⇒ v0.8.7\n",
      "  [6218d12a]   ImageMagick v0.7.5\n",
      "  [916415d5]   Images v0.18.0\n",
      "  [e5e0dc1b]   Juno v0.7.2\n",
      "  [ca7b5df7]   MFCC v0.3.1\n",
      "  [dbeba491] + Metalhead v0.4.0 #c4d1eba (https://github.com/FluxML/Metalhead.jl.git)\n",
      "  [91a5bcdd] ↑ Plots v0.26.3 ⇒ v0.27.0\n",
      "  [2913bbd2]   StatsBase v0.32.0\n",
      "  [98b73d46]   Trebuchet v0.1.0\n",
      "  [8149f6b0] ↑ WAV v1.0.2 ⇒ v1.0.3\n",
      "  [e88e6eb3] + Zygote v0.4.1\n",
      "  [10745b16]   Statistics \n",
      "  [4ec0a83e]   Unicode \n",
      "┌ Info: Downloading iris dataset.\n",
      "└ @ Flux.Data.Iris /home/dhairyagandhi96/.julia/packages/Flux/dkJUV/src/data/iris.jl:28\n",
      "  % Total    % Received % Xferd  Average Speed   Time    Time     Time  Current\n",
      "                                 Dload  Upload   Total   Spent    Left  Speed\n",
      "\r  0     0    0     0    0     0      0      0 --:--:-- --:--:-- --:--:--     0\r100   435  100   435    0     0    780      0 --:--:-- --:--:-- --:--:--   779\r100   435  100   435    0     0    780      0 --:--:-- --:--:-- --:--:--   779\n",
      "\r100  4551  100  4551    0     0   6437      0 --:--:-- --:--:-- --:--:--  6437\n"
     ]
    },
    {
     "output_type": "execute_result",
     "data": {
      "text/plain": "4×150 Array{Float64,2}:\n 5.1  4.9  4.7  4.6  5.0  5.4  4.6  5.0  …  6.8  6.7  6.7  6.3  6.5  6.2  5.9\n 3.5  3.0  3.2  3.1  3.6  3.9  3.4  3.4     3.2  3.3  3.0  2.5  3.0  3.4  3.0\n 1.4  1.4  1.3  1.5  1.4  1.7  1.4  1.5     5.9  5.7  5.2  5.0  5.2  5.4  5.1\n 0.2  0.2  0.2  0.2  0.2  0.4  0.3  0.2     2.3  2.5  2.3  1.9  2.0  2.3  1.8"
     },
     "metadata": {},
     "execution_count": 1
    }
   ],
   "cell_type": "code",
   "source": [
    "using Pkg; Pkg.activate(\"/home/dhairyagandhi96/temp/model-zoo/script/..\"); Pkg.status();\n",
    "\n",
    "\n",
    "\n",
    "using Flux\n",
    "using Flux: crossentropy, normalise, onecold, onehotbatch\n",
    "using Statistics: mean\n",
    "\n",
    "\n",
    "labels = Flux.Data.Iris.labels()\n",
    "features = Flux.Data.Iris.features()"
   ],
   "metadata": {},
   "execution_count": 1
  },
  {
   "outputs": [],
   "cell_type": "markdown",
   "source": [
    "Subract mean, divide by std dev for normed mean of 0 and std dev of 1."
   ],
   "metadata": {}
  },
  {
   "outputs": [
    {
     "output_type": "execute_result",
     "data": {
      "text/plain": "3×150 Flux.OneHotMatrix{Array{Flux.OneHotVector,1}}:\n  true   true   true   true   true  …  false  false  false  false  false\n false  false  false  false  false     false  false  false  false  false\n false  false  false  false  false      true   true   true   true   true"
     },
     "metadata": {},
     "execution_count": 2
    }
   ],
   "cell_type": "code",
   "source": [
    "normed_features = normalise(features, dims=2)\n",
    "\n",
    "\n",
    "klasses = sort(unique(labels))\n",
    "onehot_labels = onehotbatch(labels, klasses)"
   ],
   "metadata": {},
   "execution_count": 2
  },
  {
   "outputs": [],
   "cell_type": "markdown",
   "source": [
    "Split into training and test sets, 2/3 for training, 1/3 for test."
   ],
   "metadata": {}
  },
  {
   "outputs": [
    {
     "output_type": "execute_result",
     "data": {
      "text/plain": "3×50 Flux.OneHotMatrix{Array{Flux.OneHotVector,1}}:\n  true   true   true   true   true  …  false  false  false  false  false\n false  false  false  false  false     false  false  false  false  false\n false  false  false  false  false      true   true   true   true   true"
     },
     "metadata": {},
     "execution_count": 3
    }
   ],
   "cell_type": "code",
   "source": [
    "train_indices = [1:3:150 ; 2:3:150]\n",
    "\n",
    "X_train = normed_features[:, train_indices]\n",
    "y_train = onehot_labels[:, train_indices]\n",
    "\n",
    "X_test = normed_features[:, 3:3:150]\n",
    "y_test = onehot_labels[:, 3:3:150]"
   ],
   "metadata": {},
   "execution_count": 3
  },
  {
   "outputs": [],
   "cell_type": "markdown",
   "source": [
    "Declare model taking 4 features as inputs and outputting 3 probabiltiies,\n",
    "one for each species of iris."
   ],
   "metadata": {}
  },
  {
   "outputs": [
    {
     "output_type": "execute_result",
     "data": {
      "text/plain": "loss (generic function with 1 method)"
     },
     "metadata": {},
     "execution_count": 4
    }
   ],
   "cell_type": "code",
   "source": [
    "model = Chain(\n",
    "    Dense(4, 3),\n",
    "    softmax\n",
    ")\n",
    "\n",
    "loss(x, y) = crossentropy(model(x), y)"
   ],
   "metadata": {},
   "execution_count": 4
  },
  {
   "outputs": [],
   "cell_type": "markdown",
   "source": [
    "Gradient descent optimiser with learning rate 0.5."
   ],
   "metadata": {}
  },
  {
   "outputs": [
    {
     "output_type": "execute_result",
     "data": {
      "text/plain": "Flux.Optimise.Descent(0.5)"
     },
     "metadata": {},
     "execution_count": 5
    }
   ],
   "cell_type": "code",
   "source": [
    "optimiser = Descent(0.5)"
   ],
   "metadata": {},
   "execution_count": 5
  },
  {
   "outputs": [],
   "cell_type": "markdown",
   "source": [
    "Create iterator to train model over 110 epochs."
   ],
   "metadata": {}
  },
  {
   "outputs": [
    {
     "name": "stdout",
     "output_type": "stream",
     "text": [
      "Starting training.\n"
     ]
    }
   ],
   "cell_type": "code",
   "source": [
    "data_iterator = Iterators.repeated((X_train, y_train), 110)\n",
    "\n",
    "println(\"Starting training.\")\n",
    "Flux.train!(loss, params(model), data_iterator, optimiser)"
   ],
   "metadata": {},
   "execution_count": 6
  },
  {
   "outputs": [],
   "cell_type": "markdown",
   "source": [
    "Evaluate trained model against test set."
   ],
   "metadata": {}
  },
  {
   "outputs": [
    {
     "name": "stdout",
     "output_type": "stream",
     "text": [
      "\n",
      "Accuracy: 0.94\n"
     ]
    }
   ],
   "cell_type": "code",
   "source": [
    "accuracy(x, y) = mean(onecold(model(x)) .== onecold(y))\n",
    "\n",
    "accuracy_score = accuracy(X_test, y_test)\n",
    "\n",
    "println(\"\\nAccuracy: $accuracy_score\")"
   ],
   "metadata": {},
   "execution_count": 7
  },
  {
   "outputs": [],
   "cell_type": "markdown",
   "source": [
    "Sanity check."
   ],
   "metadata": {}
  },
  {
   "outputs": [
    {
     "name": "stdout",
     "output_type": "stream",
     "text": [
      "\n",
      "Confusion Matrix:\n",
      "\n"
     ]
    }
   ],
   "cell_type": "code",
   "source": [
    "@assert accuracy_score > 0.8\n",
    "\n",
    "\n",
    "function confusion_matrix(X, y)\n",
    "    ŷ = onehotbatch(onecold(model(X)), 1:3)\n",
    "    y * ŷ'\n",
    "end\n",
    "\n",
    "#To avoid confusion, here is the definition of a Confusion Matrix: https://en.wikipedia.org/wiki/Confusion_matrix\n",
    "println(\"\\nConfusion Matrix:\\n\")\n",
    "display(confusion_matrix(X_test, y_test))"
   ],
   "metadata": {},
   "execution_count": 8
  }
 ],
 "nbformat_minor": 3,
 "metadata": {
  "language_info": {
   "file_extension": ".jl",
   "mimetype": "application/julia",
   "name": "julia",
   "version": "1.1.0"
  },
  "kernelspec": {
   "name": "julia-1.1",
   "display_name": "Julia 1.1.0",
   "language": "julia"
  }
 },
 "nbformat": 4
}
