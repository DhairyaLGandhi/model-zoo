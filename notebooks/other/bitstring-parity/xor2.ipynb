{
 "cells": [
  {
   "outputs": [
    {
     "name": "stdout",
     "output_type": "stream",
     "text": [
      "  Updating registry at `~/.julia/registries/General`\n",
      "  Updating git-repo `https://github.com/JuliaRegistries/General.git`\n",
      "\u001b[?25l\u001b[2K\u001b[?25h"
     ]
    },
    {
     "output_type": "execute_result",
     "data": {
      "text/plain": "30"
     },
     "metadata": {},
     "execution_count": 1
    }
   ],
   "cell_type": "code",
   "source": [
    "using Pkg; Pkg.activate(\".\"); Pkg.instantiate();\n",
    "\n",
    "include(\"data.jl\")\n",
    "using Flux, Statistics\n",
    "using Flux: onehot, onehotbatch, throttle, crossentropy, reset!, onecold\n",
    "\n",
    "const epochs = 30"
   ],
   "metadata": {},
   "execution_count": 1
  },
  {
   "outputs": [],
   "cell_type": "markdown",
   "source": [
    "training data of bit strings from length 2 to 10"
   ],
   "metadata": {}
  },
  {
   "outputs": [
    {
     "output_type": "execute_result",
     "data": {
      "text/plain": "2000-element Array{Tuple{Flux.OneHotMatrix{Array{Flux.OneHotVector,1}},Flux.OneHotVector},1}:\n ([true true true; false false false], [true, false])               \n ([false false … false false; true true … true true], [true, false])\n ([false true … false false; true false … true true], [false, true])\n ([false false … true true; true true … false false], [false, true])\n ([true true false false; false false true true], [true, false])    \n ([false true true; true false false], [false, true])               \n ([false true … true false; true false … false true], [false, true])\n ([false true … true true; true false … false false], [true, false])\n ([true false true; false true false], [false, true])               \n ([false true true; true false false], [false, true])               \n ⋮                                                                  \n ([true false … true true; false true … false false], [false, true])\n ([true false … true true; false true … false false], [true, false])\n ([false false … true false; true true … false true], [false, true])\n ([true true; false false], [true, false])                          \n ([true true; false false], [true, false])                          \n ([false true … false false; true false … true true], [false, true])\n ([false true false false; true false true true], [false, true])    \n ([true true; false false], [true, false])                          \n ([true; false], [true, false])                                     "
     },
     "metadata": {},
     "execution_count": 2
    }
   ],
   "cell_type": "code",
   "source": [
    "train = gendata(2000, 1:10)"
   ],
   "metadata": {},
   "execution_count": 2
  },
  {
   "outputs": [],
   "cell_type": "markdown",
   "source": [
    "validation data of bit strings of length 10"
   ],
   "metadata": {}
  },
  {
   "outputs": [
    {
     "name": "stdout",
     "output_type": "stream",
     "text": [
      "batch_loss(val) = 0.6871599098689828 (tracked)\n",
      "batch_loss(val) = 0.7002026310439651 (tracked)\n",
      "batch_loss(val) = 0.6874719728519736 (tracked)\n",
      "batch_loss(val) = 0.009798888544586878 (tracked)\n",
      "batch_loss(val) = 0.001895060548922749 (tracked)\n",
      "batch_loss(val) = 0.000517225228707835 (tracked)\n",
      "batch_loss(val) = 0.00016453305926205405 (tracked)\n",
      "batch_loss(val) = 5.7364294768629984e-5 (tracked)\n",
      "batch_loss(val) = 2.2129669923218578e-5 (tracked)\n",
      "batch_loss(val) = 1.0106233631218707e-5 (tracked)\n",
      "batch_loss(val) = 5.772983184652725e-6 (tracked)\n",
      "batch_loss(val) = 3.911234098793093e-6 (tracked)\n",
      "batch_loss(val) = 2.9351815482314347e-6 (tracked)\n",
      "batch_loss(val) = 2.343941333543809e-6 (tracked)\n",
      "batch_loss(val) = 1.9492278471146982e-6 (tracked)\n",
      "batch_loss(val) = 1.6674064694721478e-6 (tracked)\n",
      "batch_loss(val) = 1.4562214619133842e-6 (tracked)\n",
      "batch_loss(val) = 1.2921252775063072e-6 (tracked)\n",
      "batch_loss(val) = 1.1609777029838474e-6 (tracked)\n",
      "batch_loss(val) = 1.0537798727942274e-6 (tracked)\n",
      "batch_loss(val) = 9.645338952803076e-7 (tracked)\n",
      "batch_loss(val) = 8.890887878955593e-7 (tracked)\n",
      "batch_loss(val) = 8.244807008944315e-7 (tracked)\n",
      "batch_loss(val) = 7.685370198625774e-7 (tracked)\n",
      "batch_loss(val) = 7.196289538999594e-7 (tracked)\n",
      "batch_loss(val) = 6.765114741488781e-7 (tracked)\n",
      "batch_loss(val) = 6.382166293573483e-7 (tracked)\n",
      "batch_loss(val) = 6.039805680338501e-7 (tracked)\n",
      "batch_loss(val) = 5.731924659813875e-7 (tracked)\n",
      "batch_loss(val) = 5.45358055125747e-7 (tracked)\n"
     ]
    }
   ],
   "cell_type": "code",
   "source": [
    "val = gendata(100, 10)\n",
    "\n",
    "scanner = LSTM(length(alphabet), 20)\n",
    "encoder = Dense(20, length(alphabet))\n",
    "\n",
    "function model(x)\n",
    "    state = scanner.(x.data)[end]\n",
    "    reset!(scanner)\n",
    "    softmax(encoder(state))\n",
    "end\n",
    "\n",
    "loss(x, y) = crossentropy(model(x), y)\n",
    "batch_loss(data) = mean(loss(d...) for d in data)\n",
    "\n",
    "opt = ADAM(params(scanner, encoder))\n",
    "evalcb = () -> @show batch_loss(val)\n",
    "\n",
    "for i=1:epochs\n",
    "    Flux.train!(loss, train, opt, cb=throttle(evalcb, 10))\n",
    "end"
   ],
   "metadata": {},
   "execution_count": 3
  },
  {
   "outputs": [],
   "cell_type": "markdown",
   "source": [
    "sanity test"
   ],
   "metadata": {}
  },
  {
   "outputs": [
    {
     "name": "stdout",
     "output_type": "stream",
     "text": [
      "[1, 1, 0, 0]\n"
     ]
    }
   ],
   "cell_type": "code",
   "source": [
    "tx = map(c -> onehotbatch(c, alphabet), [\n",
    "    [false, true], # 01 -> 1\n",
    "    [true, false], # 10 -> 1\n",
    "    [false, false], # 00 -> 0\n",
    "    [true, true]]) # 11 -> 0\n",
    "[onecold(model(x)) - 1 for x in tx] |> println"
   ],
   "metadata": {},
   "execution_count": 4
  },
  {
   "outputs": [],
   "cell_type": "markdown",
   "source": [
    "Try running the model on strings of length 50.\n",
    "\n",
    "Even though the model has only been trained with\n",
    "much shorter strings, it has learned the\n",
    "parity function and will accurate on longer strings."
   ],
   "metadata": {}
  },
  {
   "outputs": [
    {
     "output_type": "execute_result",
     "data": {
      "text/plain": "t50 (generic function with 1 method)"
     },
     "metadata": {},
     "execution_count": 5
    }
   ],
   "cell_type": "code",
   "source": [
    "function t50()\n",
    "    l = batch_loss(gendata(1000, 50))\n",
    "    println(l)\n",
    "end"
   ],
   "metadata": {},
   "execution_count": 5
  }
 ],
 "nbformat_minor": 3,
 "metadata": {
  "language_info": {
   "file_extension": ".jl",
   "mimetype": "application/julia",
   "name": "julia",
   "version": "1.0.0"
  },
  "kernelspec": {
   "name": "julia-1.0",
   "display_name": "Julia 1.0.0",
   "language": "julia"
  }
 },
 "nbformat": 4
}
