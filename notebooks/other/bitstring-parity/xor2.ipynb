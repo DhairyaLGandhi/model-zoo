{
 "cells": [
  {
   "outputs": [
    {
     "name": "stdout",
     "output_type": "stream",
     "text": [
      "    Status `~/temp/model-zoo/Project.toml`\n",
      "  [1520ce14]   AbstractTrees v0.2.1\n",
      "  [fbb218c0] ↑ BSON v0.2.3 ⇒ v0.2.4\n",
      "  [54eefc05]   Cascadia v0.4.0\n",
      "  [8f4d0f93]   Conda v1.3.0\n",
      "  [864edb3b] ↑ DataStructures v0.17.0 ⇒ v0.17.5\n",
      "  [31c24e10] ↑ Distributions v0.21.3 ⇒ v0.21.5\n",
      "  [587475ba]   Flux v0.9.0\n",
      "  [708ec375]   Gumbo v0.5.1\n",
      "  [b0807396]   Gym v1.1.3\n",
      "  [cd3eb016] ↑ HTTP v0.8.6 ⇒ v0.8.7\n",
      "  [6218d12a]   ImageMagick v0.7.5\n",
      "  [916415d5]   Images v0.18.0\n",
      "  [e5e0dc1b]   Juno v0.7.2\n",
      "  [ca7b5df7]   MFCC v0.3.1\n",
      "  [dbeba491] + Metalhead v0.4.0 #c4d1eba (https://github.com/FluxML/Metalhead.jl.git)\n",
      "  [91a5bcdd] ↑ Plots v0.26.3 ⇒ v0.27.0\n",
      "  [2913bbd2]   StatsBase v0.32.0\n",
      "  [98b73d46]   Trebuchet v0.1.0\n",
      "  [8149f6b0] ↑ WAV v1.0.2 ⇒ v1.0.3\n",
      "  [e88e6eb3] + Zygote v0.4.1\n",
      "  [10745b16]   Statistics \n",
      "  [4ec0a83e]   Unicode \n"
     ]
    },
    {
     "output_type": "execute_result",
     "data": {
      "text/plain": "30"
     },
     "metadata": {},
     "execution_count": 1
    }
   ],
   "cell_type": "code",
   "source": [
    "using Pkg; Pkg.activate(\"/home/dhairyagandhi96/temp/model-zoo/script/..\"); Pkg.status();\n",
    "\n",
    "include(\"data.jl\")\n",
    "using Flux, Statistics\n",
    "using Flux: onehot, onehotbatch, throttle, crossentropy, reset!, onecold\n",
    "\n",
    "const epochs = 30"
   ],
   "metadata": {},
   "execution_count": 1
  },
  {
   "outputs": [],
   "cell_type": "markdown",
   "source": [
    "training data of bit strings from length 2 to 10"
   ],
   "metadata": {}
  },
  {
   "outputs": [
    {
     "output_type": "execute_result",
     "data": {
      "text/plain": "2000-element Array{Tuple{Flux.OneHotMatrix{Array{Flux.OneHotVector,1}},Flux.OneHotVector},1}:\n ([false true true false; true false false true], [true, false])    \n ([true false … true false; false true … false true], [true, false])\n ([true false true; false true false], [false, true])               \n ([false true … true false; true false … false true], [true, false])\n ([true true false; false false true], [false, true])               \n ([true true … true false; false false … false true], [false, true])\n ([false true … false false; true false … true true], [true, false])\n ([true true … true false; false false … false true], [false, true])\n ([false; true], [false, true])                                     \n ([true false … false false; false true … true true], [true, false])\n ⋮                                                                  \n ([true false … false false; false true … true true], [false, true])\n ([true false … true true; false true … false false], [false, true])\n ([false true … false true; true false … true false], [true, false])\n ([false false … true false; true true … false true], [false, true])\n ([true true … true false; false false … false true], [false, true])\n ([false true; true false], [false, true])                          \n ([false false … true true; true true … false false], [true, false])\n ([true true false; false false true], [false, true])               \n ([false false … false true; true true … true false], [false, true])"
     },
     "metadata": {},
     "execution_count": 2
    }
   ],
   "cell_type": "code",
   "source": [
    "train = gendata(2000, 1:10)"
   ],
   "metadata": {},
   "execution_count": 2
  },
  {
   "outputs": [],
   "cell_type": "markdown",
   "source": [
    "validation data of bit strings of length 10"
   ],
   "metadata": {}
  },
  {
   "outputs": [
    {
     "name": "stdout",
     "output_type": "stream",
     "text": [
      "batch_loss(val) = 0.71469086f0 (tracked)\n",
      "batch_loss(val) = 0.6927051f0 (tracked)\n",
      "batch_loss(val) = 0.69424677f0 (tracked)\n",
      "batch_loss(val) = 0.43826458f0 (tracked)\n",
      "batch_loss(val) = 0.0069964584f0 (tracked)\n",
      "batch_loss(val) = 0.001525304f0 (tracked)\n",
      "batch_loss(val) = 0.00042881002f0 (tracked)\n",
      "batch_loss(val) = 0.0001355765f0 (tracked)\n",
      "batch_loss(val) = 4.522074f-5 (tracked)\n",
      "batch_loss(val) = 1.5424232f-5 (tracked)\n",
      "batch_loss(val) = 5.322735f-6 (tracked)\n",
      "batch_loss(val) = 1.8441721f-6 (tracked)\n",
      "batch_loss(val) = 6.425387f-7 (tracked)\n",
      "batch_loss(val) = 2.2292144f-7 (tracked)\n",
      "batch_loss(val) = 5.960465f-8 (tracked)\n",
      "batch_loss(val) = 1.0728838f-8 (tracked)\n",
      "batch_loss(val) = 3.5762793f-9 (tracked)\n",
      "batch_loss(val) = 1.1920931f-9 (tracked)\n",
      "batch_loss(val) = -0.0f0 (tracked)\n",
      "batch_loss(val) = -0.0f0 (tracked)\n",
      "batch_loss(val) = -0.0f0 (tracked)\n",
      "batch_loss(val) = -0.0f0 (tracked)\n",
      "batch_loss(val) = -0.0f0 (tracked)\n",
      "batch_loss(val) = -0.0f0 (tracked)\n",
      "batch_loss(val) = -0.0f0 (tracked)\n",
      "batch_loss(val) = -0.0f0 (tracked)\n",
      "batch_loss(val) = -0.0f0 (tracked)\n",
      "batch_loss(val) = -0.0f0 (tracked)\n",
      "batch_loss(val) = -0.0f0 (tracked)\n",
      "batch_loss(val) = -0.0f0 (tracked)\n"
     ]
    }
   ],
   "cell_type": "code",
   "source": [
    "val = gendata(100, 10)\n",
    "\n",
    "scanner = LSTM(length(alphabet), 20)\n",
    "encoder = Dense(20, length(alphabet))\n",
    "\n",
    "function model(x)\n",
    "    state = scanner.(x.data)[end]\n",
    "    reset!(scanner)\n",
    "    softmax(encoder(state))\n",
    "end\n",
    "\n",
    "loss(x, y) = crossentropy(model(x), y)\n",
    "batch_loss(data) = mean(loss(d...) for d in data)\n",
    "\n",
    "opt = ADAM()\n",
    "ps = params(scanner, encoder)\n",
    "evalcb = () -> @show batch_loss(val)\n",
    "\n",
    "for i=1:epochs\n",
    "    Flux.train!(loss, ps, train, opt, cb=throttle(evalcb, 10))\n",
    "end"
   ],
   "metadata": {},
   "execution_count": 3
  },
  {
   "outputs": [],
   "cell_type": "markdown",
   "source": [
    "sanity test"
   ],
   "metadata": {}
  },
  {
   "outputs": [
    {
     "name": "stdout",
     "output_type": "stream",
     "text": [
      "[1, 1, 0, 0]\n"
     ]
    }
   ],
   "cell_type": "code",
   "source": [
    "tx = map(c -> onehotbatch(c, alphabet), [\n",
    "    [false, true], # 01 -> 1\n",
    "    [true, false], # 10 -> 1\n",
    "    [false, false], # 00 -> 0\n",
    "    [true, true]]) # 11 -> 0\n",
    "[onecold(model(x)) - 1 for x in tx] |> println"
   ],
   "metadata": {},
   "execution_count": 4
  },
  {
   "outputs": [],
   "cell_type": "markdown",
   "source": [
    "Try running the model on strings of length 50.\n",
    "\n",
    "Even though the model has only been trained with\n",
    "much shorter strings, it has learned the\n",
    "parity function and will accurate on longer strings."
   ],
   "metadata": {}
  },
  {
   "outputs": [
    {
     "output_type": "execute_result",
     "data": {
      "text/plain": "t50 (generic function with 1 method)"
     },
     "metadata": {},
     "execution_count": 5
    }
   ],
   "cell_type": "code",
   "source": [
    "function t50()\n",
    "    l = batch_loss(gendata(1000, 50))\n",
    "    println(l)\n",
    "end"
   ],
   "metadata": {},
   "execution_count": 5
  }
 ],
 "nbformat_minor": 3,
 "metadata": {
  "language_info": {
   "file_extension": ".jl",
   "mimetype": "application/julia",
   "name": "julia",
   "version": "1.1.0"
  },
  "kernelspec": {
   "name": "julia-1.1",
   "display_name": "Julia 1.1.0",
   "language": "julia"
  }
 },
 "nbformat": 4
}
