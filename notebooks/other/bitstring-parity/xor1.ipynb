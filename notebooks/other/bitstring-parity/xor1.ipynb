{
 "cells": [
  {
   "outputs": [
    {
     "name": "stdout",
     "output_type": "stream",
     "text": [
      "  Updating registry at `~/.julia/registries/General`\n",
      "  Updating git-repo `https://github.com/JuliaRegistries/General.git`\n",
      "\u001b[?25l\u001b[2K\u001b[?25hWARNING: could not import NNlib.cudata into Tracker\n",
      "batch_loss(val) = 0.6624844602398227 (tracked)\n",
      "batch_loss(val) = 0.6407505889089489 (tracked)\n",
      "batch_loss(val) = 0.6342658306804951 (tracked)\n",
      "batch_loss(val) = 0.6310193242577828 (tracked)\n",
      "batch_loss(val) = 0.6271901792243808 (tracked)\n",
      "batch_loss(val) = 0.6185420803166053 (tracked)\n",
      "batch_loss(val) = 0.5933091082566672 (tracked)\n",
      "batch_loss(val) = 0.5253520432801917 (tracked)\n",
      "batch_loss(val) = 0.4074461278583274 (tracked)\n",
      "batch_loss(val) = 0.2764286361075904 (tracked)\n",
      "batch_loss(val) = 0.16950319391141405 (tracked)\n",
      "batch_loss(val) = 0.10237784032698341 (tracked)\n",
      "batch_loss(val) = 0.06592752710060654 (tracked)\n",
      "batch_loss(val) = 0.04566967877719173 (tracked)\n",
      "batch_loss(val) = 0.03354856982984823 (tracked)\n",
      "batch_loss(val) = 0.025748384580454496 (tracked)\n",
      "batch_loss(val) = 0.020418843410227178 (tracked)\n",
      "batch_loss(val) = 0.016602271569123205 (tracked)\n",
      "batch_loss(val) = 0.013766544785987189 (tracked)\n",
      "batch_loss(val) = 0.011596725617810133 (tracked)\n"
     ]
    }
   ],
   "cell_type": "code",
   "source": [
    "using Pkg; Pkg.activate(\".\"); Pkg.instantiate();\n",
    "\n",
    "include(\"data.jl\")\n",
    "using Flux, Statistics\n",
    "using Flux: onehot, onehotbatch, throttle, crossentropy, reset!, onecold\n",
    "\n",
    "const epochs = 20\n",
    "\n",
    "train = gendata(100, 2)\n",
    "val = gendata(10, 2)\n",
    "\n",
    "scanner = LSTM(length(alphabet), 20)\n",
    "encoder = Dense(20, length(alphabet))\n",
    "\n",
    "function model(x)\n",
    "    state = scanner.(x.data)[end]\n",
    "    reset!(scanner)\n",
    "    softmax(encoder(state))\n",
    "end\n",
    "\n",
    "loss(x, y) = crossentropy(model(x), y)\n",
    "batch_loss(data) = mean(loss(d...) for d in data)\n",
    "\n",
    "opt = ADAM(params(scanner, encoder))\n",
    "evalcb = () -> @show batch_loss(val)\n",
    "\n",
    "for i=1:epochs\n",
    "    Flux.train!(loss, train, opt, cb=throttle(evalcb, 10))\n",
    "end"
   ],
   "metadata": {},
   "execution_count": 1
  },
  {
   "outputs": [],
   "cell_type": "markdown",
   "source": [
    "sanity test"
   ],
   "metadata": {}
  },
  {
   "outputs": [
    {
     "name": "stdout",
     "output_type": "stream",
     "text": [
      "[1, 1, 0, 0]\n"
     ]
    }
   ],
   "cell_type": "code",
   "source": [
    "tx = map(c -> onehotbatch(c, alphabet), [\n",
    "    [false, true], # 01 -> 1\n",
    "    [true, false], # 10 -> 1\n",
    "    [false, false], # 00 -> 0\n",
    "    [true, true]]) # 11 -> 0\n",
    "[onecold(model(x)) - 1 for x in tx] |> println"
   ],
   "metadata": {},
   "execution_count": 2
  }
 ],
 "nbformat_minor": 3,
 "metadata": {
  "language_info": {
   "file_extension": ".jl",
   "mimetype": "application/julia",
   "name": "julia",
   "version": "1.0.0"
  },
  "kernelspec": {
   "name": "julia-1.0",
   "display_name": "Julia 1.0.0",
   "language": "julia"
  }
 },
 "nbformat": 4
}
