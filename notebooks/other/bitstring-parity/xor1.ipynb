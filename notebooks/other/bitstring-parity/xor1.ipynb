{
 "cells": [
  {
   "outputs": [
    {
     "name": "stdout",
     "output_type": "stream",
     "text": [
      "    Status `~/temp/model-zoo/Project.toml`\n",
      "  [1520ce14]   AbstractTrees v0.2.1\n",
      "  [fbb218c0] ↑ BSON v0.2.3 ⇒ v0.2.4\n",
      "  [54eefc05]   Cascadia v0.4.0\n",
      "  [8f4d0f93]   Conda v1.3.0\n",
      "  [864edb3b] ↑ DataStructures v0.17.0 ⇒ v0.17.5\n",
      "  [31c24e10] ↑ Distributions v0.21.3 ⇒ v0.21.5\n",
      "  [587475ba]   Flux v0.9.0\n",
      "  [708ec375]   Gumbo v0.5.1\n",
      "  [b0807396]   Gym v1.1.3\n",
      "  [cd3eb016] ↑ HTTP v0.8.6 ⇒ v0.8.7\n",
      "  [6218d12a]   ImageMagick v0.7.5\n",
      "  [916415d5]   Images v0.18.0\n",
      "  [e5e0dc1b]   Juno v0.7.2\n",
      "  [ca7b5df7]   MFCC v0.3.1\n",
      "  [dbeba491] + Metalhead v0.4.0 #c4d1eba (https://github.com/FluxML/Metalhead.jl.git)\n",
      "  [91a5bcdd] ↑ Plots v0.26.3 ⇒ v0.27.0\n",
      "  [2913bbd2]   StatsBase v0.32.0\n",
      "  [98b73d46]   Trebuchet v0.1.0\n",
      "  [8149f6b0] ↑ WAV v1.0.2 ⇒ v1.0.3\n",
      "  [e88e6eb3] + Zygote v0.4.1\n",
      "  [10745b16]   Statistics \n",
      "  [4ec0a83e]   Unicode \n",
      "batch_loss(val) = 0.70203197f0 (tracked)\n",
      "batch_loss(val) = 0.693175f0 (tracked)\n",
      "batch_loss(val) = 0.68771935f0 (tracked)\n",
      "batch_loss(val) = 0.67918956f0 (tracked)\n",
      "batch_loss(val) = 0.6567117f0 (tracked)\n",
      "batch_loss(val) = 0.5914213f0 (tracked)\n",
      "batch_loss(val) = 0.45153683f0 (tracked)\n",
      "batch_loss(val) = 0.2807543f0 (tracked)\n",
      "batch_loss(val) = 0.15787761f0 (tracked)\n",
      "batch_loss(val) = 0.09231651f0 (tracked)\n",
      "batch_loss(val) = 0.058679312f0 (tracked)\n",
      "batch_loss(val) = 0.04022926f0 (tracked)\n",
      "batch_loss(val) = 0.029191002f0 (tracked)\n",
      "batch_loss(val) = 0.022093693f0 (tracked)\n",
      "batch_loss(val) = 0.017272769f0 (tracked)\n",
      "batch_loss(val) = 0.0138549805f0 (tracked)\n",
      "batch_loss(val) = 0.011346526f0 (tracked)\n",
      "batch_loss(val) = 0.009451649f0 (tracked)\n",
      "batch_loss(val) = 0.007984982f0 (tracked)\n",
      "batch_loss(val) = 0.006826001f0 (tracked)\n"
     ]
    }
   ],
   "cell_type": "code",
   "source": [
    "using Pkg; Pkg.activate(\"/home/dhairyagandhi96/temp/model-zoo/script/..\"); Pkg.status();\n",
    "\n",
    "include(\"data.jl\")\n",
    "using Flux, Statistics\n",
    "using Flux: onehot, onehotbatch, throttle, crossentropy, reset!, onecold\n",
    "\n",
    "const epochs = 20\n",
    "\n",
    "train = gendata(100, 2)\n",
    "val = gendata(10, 2)\n",
    "\n",
    "scanner = LSTM(length(alphabet), 20)\n",
    "encoder = Dense(20, length(alphabet))\n",
    "\n",
    "function model(x)\n",
    "    state = scanner.(x.data)[end]\n",
    "    reset!(scanner)\n",
    "    softmax(encoder(state))\n",
    "end\n",
    "\n",
    "loss(x, y) = crossentropy(model(x), y)\n",
    "batch_loss(data) = mean(loss(d...) for d in data)\n",
    "\n",
    "opt = ADAM()\n",
    "ps = params(scanner, encoder)\n",
    "evalcb = () -> @show batch_loss(val)\n",
    "\n",
    "for i=1:epochs\n",
    "    Flux.train!(loss, ps, train, opt, cb=throttle(evalcb, 10))\n",
    "end"
   ],
   "metadata": {},
   "execution_count": 1
  },
  {
   "outputs": [],
   "cell_type": "markdown",
   "source": [
    "sanity test"
   ],
   "metadata": {}
  },
  {
   "outputs": [
    {
     "name": "stdout",
     "output_type": "stream",
     "text": [
      "[1, 1, 0, 0]\n"
     ]
    }
   ],
   "cell_type": "code",
   "source": [
    "tx = map(c -> onehotbatch(c, alphabet), [\n",
    "    [false, true], # 01 -> 1\n",
    "    [true, false], # 10 -> 1\n",
    "    [false, false], # 00 -> 0\n",
    "    [true, true]]) # 11 -> 0\n",
    "[onecold(model(x)) - 1 for x in tx] |> println"
   ],
   "metadata": {},
   "execution_count": 2
  }
 ],
 "nbformat_minor": 3,
 "metadata": {
  "language_info": {
   "file_extension": ".jl",
   "mimetype": "application/julia",
   "name": "julia",
   "version": "1.1.0"
  },
  "kernelspec": {
   "name": "julia-1.1",
   "display_name": "Julia 1.1.0",
   "language": "julia"
  }
 },
 "nbformat": 4
}
