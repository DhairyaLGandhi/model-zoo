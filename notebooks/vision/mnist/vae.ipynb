{
 "cells": [
  {
   "outputs": [
    {
     "name": "stdout",
     "output_type": "stream",
     "text": [
      "    Status `~/temp/model-zoo/Project.toml`\n",
      "  [1520ce14]   AbstractTrees v0.2.1\n",
      "  [fbb218c0] ↑ BSON v0.2.3 ⇒ v0.2.4\n",
      "  [54eefc05]   Cascadia v0.4.0\n",
      "  [8f4d0f93]   Conda v1.3.0\n",
      "  [864edb3b] ↑ DataStructures v0.17.0 ⇒ v0.17.5\n",
      "  [31c24e10] ↑ Distributions v0.21.3 ⇒ v0.21.5\n",
      "  [587475ba]   Flux v0.9.0\n",
      "  [708ec375]   Gumbo v0.5.1\n",
      "  [b0807396]   Gym v1.1.3\n",
      "  [cd3eb016] ↑ HTTP v0.8.6 ⇒ v0.8.7\n",
      "  [6218d12a]   ImageMagick v0.7.5\n",
      "  [916415d5]   Images v0.18.0\n",
      "  [e5e0dc1b]   Juno v0.7.2\n",
      "  [ca7b5df7]   MFCC v0.3.1\n",
      "  [dbeba491] + Metalhead v0.4.0 #c4d1eba (https://github.com/FluxML/Metalhead.jl.git)\n",
      "  [91a5bcdd] ↑ Plots v0.26.3 ⇒ v0.27.0\n",
      "  [2913bbd2]   StatsBase v0.32.0\n",
      "  [98b73d46]   Trebuchet v0.1.0\n",
      "  [8149f6b0] ↑ WAV v1.0.2 ⇒ v1.0.3\n",
      "  [10745b16]   Statistics \n",
      "  [4ec0a83e]   Unicode \n"
     ]
    }
   ],
   "cell_type": "code",
   "source": [
    "using Pkg; Pkg.activate(\"/home/dhairyagandhi96/temp/model-zoo/script/..\"); Pkg.status();\n",
    "\n",
    "using Flux, Flux.Data.MNIST, Statistics\n",
    "using Flux: throttle, params\n",
    "using Juno: @progress"
   ],
   "metadata": {},
   "execution_count": 1
  },
  {
   "outputs": [],
   "cell_type": "markdown",
   "source": [
    "Extend distributions slightly to have a numerically stable logpdf for `p` close to 1 or 0."
   ],
   "metadata": {}
  },
  {
   "outputs": [
    {
     "name": "stdout",
     "output_type": "stream",
     "text": [
      "WARNING: using Distributions.params in module ##1175 conflicts with an existing identifier.\n"
     ]
    },
    {
     "output_type": "execute_result",
     "data": {
      "text/plain": "logpdf (generic function with 66 methods)"
     },
     "metadata": {},
     "execution_count": 2
    }
   ],
   "cell_type": "code",
   "source": [
    "using Distributions\n",
    "import Distributions: logpdf\n",
    "logpdf(b::Bernoulli, y::Bool) = y * log(b.p + eps(Float32)) + (1f0 - y) * log(1 - b.p + eps(Float32))"
   ],
   "metadata": {},
   "execution_count": 2
  },
  {
   "outputs": [],
   "cell_type": "markdown",
   "source": [
    "Load data, binarise it, and partition into mini-batches of M."
   ],
   "metadata": {}
  },
  {
   "outputs": [
    {
     "output_type": "execute_result",
     "data": {
      "text/plain": "600-element Array{BitArray{2},1}:\n [false false … false false; false false … false false; … ; false false … false false; false false … false false]\n [false false … false false; false false … false false; … ; false false … false false; false false … false false]\n [false false … false false; false false … false false; … ; false false … false false; false false … false false]\n [false false … false false; false false … false false; … ; false false … false false; false false … false false]\n [false false … false false; false false … false false; … ; false false … false false; false false … false false]\n [false false … false false; false false … false false; … ; false false … false false; false false … false false]\n [false false … false false; false false … false false; … ; false false … false false; false false … false false]\n [false false … false false; false false … false false; … ; false false … false false; false false … false false]\n [false false … false false; false false … false false; … ; false false … false false; false false … false false]\n [false false … false false; false false … false false; … ; false false … false false; false false … false false]\n ⋮                                                                                                               \n [false false … false false; false false … false false; … ; false false … false false; false false … false false]\n [false false … false false; false false … false false; … ; false false … false false; false false … false false]\n [false false … false false; false false … false false; … ; false false … false false; false false … false false]\n [false false … false false; false false … false false; … ; false false … false false; false false … false false]\n [false false … false false; false false … false false; … ; false false … false false; false false … false false]\n [false false … false false; false false … false false; … ; false false … false false; false false … false false]\n [false false … false false; false false … false false; … ; false false … false false; false false … false false]\n [false false … false false; false false … false false; … ; false false … false false; false false … false false]\n [false false … false false; false false … false false; … ; false false … false false; false false … false false]"
     },
     "metadata": {},
     "execution_count": 3
    }
   ],
   "cell_type": "code",
   "source": [
    "X = float.(hcat(vec.(MNIST.images())...)) .> 0.5\n",
    "N, M = size(X, 2), 100\n",
    "data = [X[:,i] for i in Iterators.partition(1:N,M)]\n",
    "\n",
    "\n",
    "################################# Define Model #################################"
   ],
   "metadata": {},
   "execution_count": 3
  },
  {
   "outputs": [],
   "cell_type": "markdown",
   "source": [
    "Latent dimensionality, # hidden units."
   ],
   "metadata": {}
  },
  {
   "outputs": [
    {
     "output_type": "execute_result",
     "data": {
      "text/plain": "(5, 500)"
     },
     "metadata": {},
     "execution_count": 4
    }
   ],
   "cell_type": "code",
   "source": [
    "Dz, Dh = 5, 500"
   ],
   "metadata": {},
   "execution_count": 4
  },
  {
   "outputs": [],
   "cell_type": "markdown",
   "source": [
    "Components of recognition model / \"encoder\" MLP."
   ],
   "metadata": {}
  },
  {
   "outputs": [
    {
     "output_type": "execute_result",
     "data": {
      "text/plain": "z (generic function with 1 method)"
     },
     "metadata": {},
     "execution_count": 5
    }
   ],
   "cell_type": "code",
   "source": [
    "A, μ, logσ = Dense(28^2, Dh, tanh), Dense(Dh, Dz), Dense(Dh, Dz)\n",
    "g(X) = (h = A(X); (μ(h), logσ(h)))\n",
    "z(μ, logσ) = μ + exp(logσ) * randn(Float32)"
   ],
   "metadata": {},
   "execution_count": 5
  },
  {
   "outputs": [],
   "cell_type": "markdown",
   "source": [
    "Generative model / \"decoder\" MLP."
   ],
   "metadata": {}
  },
  {
   "outputs": [
    {
     "output_type": "execute_result",
     "data": {
      "text/plain": "Chain(Dense(5, 500, tanh), Dense(500, 784, NNlib.σ))"
     },
     "metadata": {},
     "execution_count": 6
    }
   ],
   "cell_type": "code",
   "source": [
    "f = Chain(Dense(Dz, Dh, tanh), Dense(Dh, 28^2, σ))\n",
    "\n",
    "\n",
    "####################### Define ways of doing things with the model. #######################"
   ],
   "metadata": {},
   "execution_count": 6
  },
  {
   "outputs": [],
   "cell_type": "markdown",
   "source": [
    "KL-divergence between approximation posterior and N(0, 1) prior."
   ],
   "metadata": {}
  },
  {
   "outputs": [
    {
     "output_type": "execute_result",
     "data": {
      "text/plain": "kl_q_p (generic function with 1 method)"
     },
     "metadata": {},
     "execution_count": 7
    }
   ],
   "cell_type": "code",
   "source": [
    "kl_q_p(μ, logσ) = 0.5f0 * sum(exp.(2f0 .* logσ) + μ.^2 .- 1f0 .- (2 .* logσ))"
   ],
   "metadata": {},
   "execution_count": 7
  },
  {
   "outputs": [],
   "cell_type": "markdown",
   "source": [
    "logp(x|z) - conditional probability of data given latents."
   ],
   "metadata": {}
  },
  {
   "outputs": [
    {
     "output_type": "execute_result",
     "data": {
      "text/plain": "logp_x_z (generic function with 1 method)"
     },
     "metadata": {},
     "execution_count": 8
    }
   ],
   "cell_type": "code",
   "source": [
    "logp_x_z(x, z) = sum(logpdf.(Bernoulli.(f(z)), x))"
   ],
   "metadata": {},
   "execution_count": 8
  },
  {
   "outputs": [],
   "cell_type": "markdown",
   "source": [
    "Monte Carlo estimator of mean ELBO using M samples."
   ],
   "metadata": {}
  },
  {
   "outputs": [
    {
     "output_type": "execute_result",
     "data": {
      "text/plain": "loss (generic function with 1 method)"
     },
     "metadata": {},
     "execution_count": 9
    }
   ],
   "cell_type": "code",
   "source": [
    "L̄(X) = ((μ̂, logσ̂) = g(X); (logp_x_z(X, z.(μ̂, logσ̂)) - kl_q_p(μ̂, logσ̂)) * 1 // M)\n",
    "\n",
    "loss(X) = -L̄(X) + 0.01f0 * sum(x->sum(x.^2), params(f))"
   ],
   "metadata": {},
   "execution_count": 9
  },
  {
   "outputs": [],
   "cell_type": "markdown",
   "source": [
    "Sample from the learned model."
   ],
   "metadata": {}
  },
  {
   "outputs": [
    {
     "name": "stdout",
     "output_type": "stream",
     "text": [
      "┌ Info: Epoch 1\n",
      "└ @ Main.##1175 string:11\n",
      "-(L̄(X[:, rand(1:N, M)])) = 557.39294f0 (tracked)\n",
      "-(L̄(X[:, rand(1:N, M)])) = 204.6174f0 (tracked)\n",
      "-(L̄(X[:, rand(1:N, M)])) = 202.80965f0 (tracked)\n",
      "-(L̄(X[:, rand(1:N, M)])) = 178.3148f0 (tracked)\n",
      "-(L̄(X[:, rand(1:N, M)])) = 192.90036f0 (tracked)\n",
      "-(L̄(X[:, rand(1:N, M)])) = 170.90718f0 (tracked)\n",
      "-(L̄(X[:, rand(1:N, M)])) = 176.84448f0 (tracked)\n",
      "-(L̄(X[:, rand(1:N, M)])) = 179.97359f0 (tracked)\n",
      "┌ Info: Epoch 2\n",
      "└ @ Main.##1175 string:11\n",
      "-(L̄(X[:, rand(1:N, M)])) = 176.46544f0 (tracked)\n",
      "-(L̄(X[:, rand(1:N, M)])) = 159.39726f0 (tracked)\n",
      "-(L̄(X[:, rand(1:N, M)])) = 174.87422f0 (tracked)\n",
      "-(L̄(X[:, rand(1:N, M)])) = 173.93828f0 (tracked)\n",
      "-(L̄(X[:, rand(1:N, M)])) = 164.67564f0 (tracked)\n",
      "-(L̄(X[:, rand(1:N, M)])) = 163.99402f0 (tracked)\n",
      "┌ Info: Epoch 3\n",
      "└ @ Main.##1175 string:11\n",
      "-(L̄(X[:, rand(1:N, M)])) = 161.5583f0 (tracked)\n",
      "-(L̄(X[:, rand(1:N, M)])) = 164.52103f0 (tracked)\n",
      "-(L̄(X[:, rand(1:N, M)])) = 164.51729f0 (tracked)\n",
      "-(L̄(X[:, rand(1:N, M)])) = 160.87442f0 (tracked)\n",
      "-(L̄(X[:, rand(1:N, M)])) = 157.74297f0 (tracked)\n",
      "-(L̄(X[:, rand(1:N, M)])) = 158.30545f0 (tracked)\n",
      "┌ Info: Epoch 4\n",
      "└ @ Main.##1175 string:11\n",
      "-(L̄(X[:, rand(1:N, M)])) = 157.4839f0 (tracked)\n",
      "-(L̄(X[:, rand(1:N, M)])) = 154.88452f0 (tracked)\n",
      "-(L̄(X[:, rand(1:N, M)])) = 158.45801f0 (tracked)\n",
      "-(L̄(X[:, rand(1:N, M)])) = 161.8054f0 (tracked)\n",
      "-(L̄(X[:, rand(1:N, M)])) = 158.70705f0 (tracked)\n",
      "-(L̄(X[:, rand(1:N, M)])) = 159.45001f0 (tracked)\n",
      "-(L̄(X[:, rand(1:N, M)])) = 159.89273f0 (tracked)\n",
      "┌ Info: Epoch 5\n",
      "└ @ Main.##1175 string:11\n",
      "-(L̄(X[:, rand(1:N, M)])) = 155.42223f0 (tracked)\n",
      "-(L̄(X[:, rand(1:N, M)])) = 159.7141f0 (tracked)\n",
      "-(L̄(X[:, rand(1:N, M)])) = 152.71317f0 (tracked)\n",
      "-(L̄(X[:, rand(1:N, M)])) = 154.85841f0 (tracked)\n",
      "-(L̄(X[:, rand(1:N, M)])) = 153.92029f0 (tracked)\n",
      "-(L̄(X[:, rand(1:N, M)])) = 154.05534f0 (tracked)\n",
      "┌ Info: Epoch 6\n",
      "└ @ Main.##1175 string:11\n",
      "-(L̄(X[:, rand(1:N, M)])) = 156.47917f0 (tracked)\n",
      "-(L̄(X[:, rand(1:N, M)])) = 154.4917f0 (tracked)\n",
      "-(L̄(X[:, rand(1:N, M)])) = 165.49554f0 (tracked)\n",
      "-(L̄(X[:, rand(1:N, M)])) = 150.36966f0 (tracked)\n",
      "-(L̄(X[:, rand(1:N, M)])) = 147.87593f0 (tracked)\n",
      "-(L̄(X[:, rand(1:N, M)])) = 156.78072f0 (tracked)\n",
      "-(L̄(X[:, rand(1:N, M)])) = 159.00801f0 (tracked)\n",
      "┌ Info: Epoch 7\n",
      "└ @ Main.##1175 string:11\n",
      "-(L̄(X[:, rand(1:N, M)])) = 150.95668f0 (tracked)\n",
      "-(L̄(X[:, rand(1:N, M)])) = 156.75383f0 (tracked)\n",
      "-(L̄(X[:, rand(1:N, M)])) = 161.0587f0 (tracked)\n",
      "-(L̄(X[:, rand(1:N, M)])) = 150.02579f0 (tracked)\n",
      "-(L̄(X[:, rand(1:N, M)])) = 154.6299f0 (tracked)\n",
      "-(L̄(X[:, rand(1:N, M)])) = 164.70012f0 (tracked)\n",
      "┌ Info: Epoch 8\n",
      "└ @ Main.##1175 string:11\n",
      "-(L̄(X[:, rand(1:N, M)])) = 154.06139f0 (tracked)\n",
      "-(L̄(X[:, rand(1:N, M)])) = 156.82062f0 (tracked)\n",
      "-(L̄(X[:, rand(1:N, M)])) = 151.55922f0 (tracked)\n",
      "-(L̄(X[:, rand(1:N, M)])) = 155.27695f0 (tracked)\n",
      "-(L̄(X[:, rand(1:N, M)])) = 155.0911f0 (tracked)\n",
      "-(L̄(X[:, rand(1:N, M)])) = 157.85278f0 (tracked)\n",
      "-(L̄(X[:, rand(1:N, M)])) = 148.68796f0 (tracked)\n",
      "┌ Info: Epoch 9\n",
      "└ @ Main.##1175 string:11\n",
      "-(L̄(X[:, rand(1:N, M)])) = 157.03198f0 (tracked)\n",
      "-(L̄(X[:, rand(1:N, M)])) = 150.95988f0 (tracked)\n",
      "-(L̄(X[:, rand(1:N, M)])) = 151.94133f0 (tracked)\n",
      "-(L̄(X[:, rand(1:N, M)])) = 155.03075f0 (tracked)\n",
      "-(L̄(X[:, rand(1:N, M)])) = 156.5653f0 (tracked)\n",
      "-(L̄(X[:, rand(1:N, M)])) = 159.00638f0 (tracked)\n",
      "┌ Info: Epoch 10\n",
      "└ @ Main.##1175 string:11\n",
      "-(L̄(X[:, rand(1:N, M)])) = 148.17047f0 (tracked)\n",
      "-(L̄(X[:, rand(1:N, M)])) = 157.37033f0 (tracked)\n",
      "-(L̄(X[:, rand(1:N, M)])) = 144.18875f0 (tracked)\n",
      "-(L̄(X[:, rand(1:N, M)])) = 152.70436f0 (tracked)\n",
      "-(L̄(X[:, rand(1:N, M)])) = 153.92654f0 (tracked)\n",
      "-(L̄(X[:, rand(1:N, M)])) = 149.97255f0 (tracked)\n",
      "┌ Info: Epoch 11\n",
      "└ @ Main.##1175 string:11\n",
      "-(L̄(X[:, rand(1:N, M)])) = 149.95906f0 (tracked)\n",
      "-(L̄(X[:, rand(1:N, M)])) = 157.85094f0 (tracked)\n",
      "-(L̄(X[:, rand(1:N, M)])) = 147.7263f0 (tracked)\n",
      "-(L̄(X[:, rand(1:N, M)])) = 153.35168f0 (tracked)\n",
      "-(L̄(X[:, rand(1:N, M)])) = 154.43942f0 (tracked)\n",
      "-(L̄(X[:, rand(1:N, M)])) = 152.06381f0 (tracked)\n",
      "-(L̄(X[:, rand(1:N, M)])) = 156.03204f0 (tracked)\n",
      "┌ Info: Epoch 12\n",
      "└ @ Main.##1175 string:11\n",
      "-(L̄(X[:, rand(1:N, M)])) = 153.0985f0 (tracked)\n",
      "-(L̄(X[:, rand(1:N, M)])) = 149.0465f0 (tracked)\n",
      "-(L̄(X[:, rand(1:N, M)])) = 150.25888f0 (tracked)\n",
      "-(L̄(X[:, rand(1:N, M)])) = 156.5433f0 (tracked)\n",
      "-(L̄(X[:, rand(1:N, M)])) = 146.74312f0 (tracked)\n",
      "-(L̄(X[:, rand(1:N, M)])) = 154.93726f0 (tracked)\n",
      "┌ Info: Epoch 13\n",
      "└ @ Main.##1175 string:11\n",
      "-(L̄(X[:, rand(1:N, M)])) = 148.2262f0 (tracked)\n",
      "-(L̄(X[:, rand(1:N, M)])) = 155.74936f0 (tracked)\n",
      "-(L̄(X[:, rand(1:N, M)])) = 157.37314f0 (tracked)\n",
      "-(L̄(X[:, rand(1:N, M)])) = 146.60303f0 (tracked)\n",
      "-(L̄(X[:, rand(1:N, M)])) = 152.58983f0 (tracked)\n",
      "-(L̄(X[:, rand(1:N, M)])) = 163.78036f0 (tracked)\n",
      "-(L̄(X[:, rand(1:N, M)])) = 154.71458f0 (tracked)\n",
      "┌ Info: Epoch 14\n",
      "└ @ Main.##1175 string:11\n",
      "-(L̄(X[:, rand(1:N, M)])) = 150.76768f0 (tracked)\n",
      "-(L̄(X[:, rand(1:N, M)])) = 158.63445f0 (tracked)\n",
      "-(L̄(X[:, rand(1:N, M)])) = 135.61334f0 (tracked)\n",
      "-(L̄(X[:, rand(1:N, M)])) = 152.2401f0 (tracked)\n",
      "-(L̄(X[:, rand(1:N, M)])) = 153.91379f0 (tracked)\n",
      "-(L̄(X[:, rand(1:N, M)])) = 157.84583f0 (tracked)\n",
      "┌ Info: Epoch 15\n",
      "└ @ Main.##1175 string:11\n",
      "-(L̄(X[:, rand(1:N, M)])) = 148.66684f0 (tracked)\n",
      "-(L̄(X[:, rand(1:N, M)])) = 154.68103f0 (tracked)\n",
      "-(L̄(X[:, rand(1:N, M)])) = 148.2122f0 (tracked)\n",
      "-(L̄(X[:, rand(1:N, M)])) = 156.74823f0 (tracked)\n",
      "-(L̄(X[:, rand(1:N, M)])) = 153.65489f0 (tracked)\n",
      "-(L̄(X[:, rand(1:N, M)])) = 160.85559f0 (tracked)\n",
      "┌ Info: Epoch 16\n",
      "└ @ Main.##1175 string:11\n",
      "-(L̄(X[:, rand(1:N, M)])) = 154.89919f0 (tracked)\n",
      "-(L̄(X[:, rand(1:N, M)])) = 160.90085f0 (tracked)\n",
      "-(L̄(X[:, rand(1:N, M)])) = 143.60953f0 (tracked)\n",
      "-(L̄(X[:, rand(1:N, M)])) = 146.548f0 (tracked)\n",
      "-(L̄(X[:, rand(1:N, M)])) = 154.12047f0 (tracked)\n",
      "-(L̄(X[:, rand(1:N, M)])) = 165.30513f0 (tracked)\n",
      "-(L̄(X[:, rand(1:N, M)])) = 158.26123f0 (tracked)\n",
      "┌ Info: Epoch 17\n",
      "└ @ Main.##1175 string:11\n",
      "-(L̄(X[:, rand(1:N, M)])) = 148.229f0 (tracked)\n",
      "-(L̄(X[:, rand(1:N, M)])) = 147.29536f0 (tracked)\n",
      "-(L̄(X[:, rand(1:N, M)])) = 155.07498f0 (tracked)\n",
      "-(L̄(X[:, rand(1:N, M)])) = 148.15047f0 (tracked)\n",
      "-(L̄(X[:, rand(1:N, M)])) = 160.88242f0 (tracked)\n",
      "-(L̄(X[:, rand(1:N, M)])) = 146.60612f0 (tracked)\n",
      "┌ Info: Epoch 18\n",
      "└ @ Main.##1175 string:11\n",
      "-(L̄(X[:, rand(1:N, M)])) = 159.48676f0 (tracked)\n",
      "-(L̄(X[:, rand(1:N, M)])) = 148.81593f0 (tracked)\n",
      "-(L̄(X[:, rand(1:N, M)])) = 144.48535f0 (tracked)\n",
      "-(L̄(X[:, rand(1:N, M)])) = 157.0191f0 (tracked)\n",
      "-(L̄(X[:, rand(1:N, M)])) = 152.92955f0 (tracked)\n",
      "-(L̄(X[:, rand(1:N, M)])) = 154.1363f0 (tracked)\n",
      "-(L̄(X[:, rand(1:N, M)])) = 148.37764f0 (tracked)\n",
      "┌ Info: Epoch 19\n",
      "└ @ Main.##1175 string:11\n",
      "-(L̄(X[:, rand(1:N, M)])) = 149.00363f0 (tracked)\n",
      "-(L̄(X[:, rand(1:N, M)])) = 150.5106f0 (tracked)\n",
      "-(L̄(X[:, rand(1:N, M)])) = 157.28218f0 (tracked)\n",
      "-(L̄(X[:, rand(1:N, M)])) = 152.76003f0 (tracked)\n",
      "-(L̄(X[:, rand(1:N, M)])) = 159.4303f0 (tracked)\n",
      "-(L̄(X[:, rand(1:N, M)])) = 160.4458f0 (tracked)\n",
      "┌ Info: Epoch 20\n",
      "└ @ Main.##1175 string:11\n",
      "-(L̄(X[:, rand(1:N, M)])) = 162.32114f0 (tracked)\n",
      "-(L̄(X[:, rand(1:N, M)])) = 155.04712f0 (tracked)\n",
      "-(L̄(X[:, rand(1:N, M)])) = 161.3083f0 (tracked)\n",
      "-(L̄(X[:, rand(1:N, M)])) = 158.16086f0 (tracked)\n",
      "-(L̄(X[:, rand(1:N, M)])) = 141.4569f0 (tracked)\n",
      "-(L̄(X[:, rand(1:N, M)])) = 151.47571f0 (tracked)\n"
     ]
    }
   ],
   "cell_type": "code",
   "source": [
    "modelsample() = rand.(Bernoulli.(f(z.(zeros(Dz), zeros(Dz)))))\n",
    "\n",
    "\n",
    "################################# Learn Parameters ##############################\n",
    "\n",
    "evalcb = throttle(() -> @show(-L̄(X[:, rand(1:N, M)])), 30)\n",
    "opt = ADAM()\n",
    "ps = params(A, μ, logσ, f)\n",
    "\n",
    "@progress for i = 1:20\n",
    "  @info \"Epoch $i\"\n",
    "  Flux.train!(loss, ps, zip(data), opt, cb=evalcb)\n",
    "end\n",
    "\n",
    "\n",
    "################################# Sample Output ##############################\n",
    "\n",
    "using Images\n",
    "\n",
    "img(x) = Gray.(reshape(x, 28, 28))\n",
    "\n",
    "cd(@__DIR__)\n",
    "sample = hcat(img.([modelsample() for i = 1:10])...)\n",
    "save(\"sample.png\", sample)"
   ],
   "metadata": {},
   "execution_count": 10
  }
 ],
 "nbformat_minor": 3,
 "metadata": {
  "language_info": {
   "file_extension": ".jl",
   "mimetype": "application/julia",
   "name": "julia",
   "version": "1.1.0"
  },
  "kernelspec": {
   "name": "julia-1.1",
   "display_name": "Julia 1.1.0",
   "language": "julia"
  }
 },
 "nbformat": 4
}
