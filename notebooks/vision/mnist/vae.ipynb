{
 "cells": [
  {
   "outputs": [
    {
     "name": "stdout",
     "output_type": "stream",
     "text": [
      "  Updating registry at `~/.julia/registries/General`\n",
      "  Updating git-repo `https://github.com/JuliaRegistries/General.git`\n",
      "\u001b[?25l\u001b[2K\u001b[?25h  Updating git-repo `https://github.com/JuliaGPU/CUDAdrv.jl.git`\n",
      "\u001b[?25l\u001b[2K\u001b[?25h Resolving package versions...\n",
      "  Updating `~/modelzoo/model-zoo/vision/mnist/Project.toml`\n",
      " [no changes]\n",
      "  Updating `~/modelzoo/model-zoo/vision/mnist/Manifest.toml`\n",
      " [no changes]\n",
      "  Updating git-repo `https://github.com/JuliaGPU/CUDAnative.jl.git`\n",
      "\u001b[?25l    Fetching: [>                                        ]  0.0 %\r\u001b[2K\u001b[?25h Resolving package versions...\n",
      "  Updating `~/modelzoo/model-zoo/vision/mnist/Project.toml`\n",
      " [no changes]\n",
      "  Updating `~/modelzoo/model-zoo/vision/mnist/Manifest.toml`\n",
      " [no changes]\n",
      "  Updating git-repo `https://github.com/JuliaGPU/CuArrays.jl.git`\n",
      "\u001b[?25l\u001b[2K\u001b[?25h Resolving package versions...\n",
      "  Updating `~/modelzoo/model-zoo/vision/mnist/Project.toml`\n",
      " [no changes]\n",
      "  Updating `~/modelzoo/model-zoo/vision/mnist/Manifest.toml`\n",
      " [no changes]\n",
      "  Updating git-repo `https://github.com/FluxML/Flux.jl.git`\n",
      "\u001b[?25l\u001b[2K\u001b[?25h Resolving package versions...\n",
      "  Updating `~/modelzoo/model-zoo/vision/mnist/Project.toml`\n",
      " [no changes]\n",
      "  Updating `~/modelzoo/model-zoo/vision/mnist/Manifest.toml`\n",
      " [no changes]\n"
     ]
    }
   ],
   "cell_type": "code",
   "source": [
    "using Pkg; Pkg.activate(\"/home/dhairyagandhi96/modelzoo/model-zoo/script/../vision/mnist\"); Pkg.instantiate(); Pkg.add(PackageSpec(name=\"CUDAdrv\", rev = \"master\")); Pkg.add(PackageSpec(name=\"CUDAnative\", rev = \"master\")); Pkg.add(PackageSpec(name=\"CuArrays\", rev = \"master\")); Pkg.add(PackageSpec(name=\"Flux\", rev = \"master\"))\n",
    "\n",
    "using Flux, Flux.Data.MNIST, Statistics\n",
    "using Flux: throttle, params\n",
    "using Juno: @progress"
   ],
   "metadata": {},
   "execution_count": 1
  },
  {
   "outputs": [],
   "cell_type": "markdown",
   "source": [
    "Extend distributions slightly to have a numerically stable logpdf for `p` close to 1 or 0."
   ],
   "metadata": {}
  },
  {
   "outputs": [
    {
     "name": "stdout",
     "output_type": "stream",
     "text": [
      "WARNING: using Distributions.params in module ##360 conflicts with an existing identifier.\n"
     ]
    },
    {
     "output_type": "execute_result",
     "data": {
      "text/plain": "logpdf (generic function with 62 methods)"
     },
     "metadata": {},
     "execution_count": 2
    }
   ],
   "cell_type": "code",
   "source": [
    "using Distributions\n",
    "import Distributions: logpdf\n",
    "logpdf(b::Bernoulli, y::Bool) = y * log(b.p + eps(Float32)) + (1f0 - y) * log(1 - b.p + eps(Float32))"
   ],
   "metadata": {},
   "execution_count": 2
  },
  {
   "outputs": [],
   "cell_type": "markdown",
   "source": [
    "Load data, binarise it, and partition into mini-batches of M."
   ],
   "metadata": {}
  },
  {
   "outputs": [
    {
     "output_type": "execute_result",
     "data": {
      "text/plain": "600-element Array{BitArray{2},1}:\n [false false … false false; false false … false false; … ; false false … false false; false false … false false]\n [false false … false false; false false … false false; … ; false false … false false; false false … false false]\n [false false … false false; false false … false false; … ; false false … false false; false false … false false]\n [false false … false false; false false … false false; … ; false false … false false; false false … false false]\n [false false … false false; false false … false false; … ; false false … false false; false false … false false]\n [false false … false false; false false … false false; … ; false false … false false; false false … false false]\n [false false … false false; false false … false false; … ; false false … false false; false false … false false]\n [false false … false false; false false … false false; … ; false false … false false; false false … false false]\n [false false … false false; false false … false false; … ; false false … false false; false false … false false]\n [false false … false false; false false … false false; … ; false false … false false; false false … false false]\n ⋮                                                                                                               \n [false false … false false; false false … false false; … ; false false … false false; false false … false false]\n [false false … false false; false false … false false; … ; false false … false false; false false … false false]\n [false false … false false; false false … false false; … ; false false … false false; false false … false false]\n [false false … false false; false false … false false; … ; false false … false false; false false … false false]\n [false false … false false; false false … false false; … ; false false … false false; false false … false false]\n [false false … false false; false false … false false; … ; false false … false false; false false … false false]\n [false false … false false; false false … false false; … ; false false … false false; false false … false false]\n [false false … false false; false false … false false; … ; false false … false false; false false … false false]\n [false false … false false; false false … false false; … ; false false … false false; false false … false false]"
     },
     "metadata": {},
     "execution_count": 3
    }
   ],
   "cell_type": "code",
   "source": [
    "X = float.(hcat(vec.(MNIST.images())...)) .> 0.5\n",
    "N, M = size(X, 2), 100\n",
    "data = [X[:,i] for i in Iterators.partition(1:N,M)]\n",
    "\n",
    "\n",
    "################################# Define Model #################################"
   ],
   "metadata": {},
   "execution_count": 3
  },
  {
   "outputs": [],
   "cell_type": "markdown",
   "source": [
    "Latent dimensionality, # hidden units."
   ],
   "metadata": {}
  },
  {
   "outputs": [
    {
     "output_type": "execute_result",
     "data": {
      "text/plain": "(5, 500)"
     },
     "metadata": {},
     "execution_count": 4
    }
   ],
   "cell_type": "code",
   "source": [
    "Dz, Dh = 5, 500"
   ],
   "metadata": {},
   "execution_count": 4
  },
  {
   "outputs": [],
   "cell_type": "markdown",
   "source": [
    "Components of recognition model / \"encoder\" MLP."
   ],
   "metadata": {}
  },
  {
   "outputs": [
    {
     "output_type": "execute_result",
     "data": {
      "text/plain": "z (generic function with 1 method)"
     },
     "metadata": {},
     "execution_count": 5
    }
   ],
   "cell_type": "code",
   "source": [
    "A, μ, logσ = Dense(28^2, Dh, tanh), Dense(Dh, Dz), Dense(Dh, Dz)\n",
    "g(X) = (h = A(X); (μ(h), logσ(h)))\n",
    "z(μ, logσ) = μ + exp(logσ) * randn(Float32)"
   ],
   "metadata": {},
   "execution_count": 5
  },
  {
   "outputs": [],
   "cell_type": "markdown",
   "source": [
    "Generative model / \"decoder\" MLP."
   ],
   "metadata": {}
  },
  {
   "outputs": [
    {
     "output_type": "execute_result",
     "data": {
      "text/plain": "Chain(Dense(5, 500, tanh), Dense(500, 784, NNlib.σ))"
     },
     "metadata": {},
     "execution_count": 6
    }
   ],
   "cell_type": "code",
   "source": [
    "f = Chain(Dense(Dz, Dh, tanh), Dense(Dh, 28^2, σ))\n",
    "\n",
    "\n",
    "####################### Define ways of doing things with the model. #######################"
   ],
   "metadata": {},
   "execution_count": 6
  },
  {
   "outputs": [],
   "cell_type": "markdown",
   "source": [
    "KL-divergence between approximation posterior and N(0, 1) prior."
   ],
   "metadata": {}
  },
  {
   "outputs": [
    {
     "output_type": "execute_result",
     "data": {
      "text/plain": "kl_q_p (generic function with 1 method)"
     },
     "metadata": {},
     "execution_count": 7
    }
   ],
   "cell_type": "code",
   "source": [
    "kl_q_p(μ, logσ) = 0.5f0 * sum(exp.(2f0 .* logσ) + μ.^2 .- 1f0 .+ logσ.^2)"
   ],
   "metadata": {},
   "execution_count": 7
  },
  {
   "outputs": [],
   "cell_type": "markdown",
   "source": [
    "logp(x|z) - conditional probability of data given latents."
   ],
   "metadata": {}
  },
  {
   "outputs": [
    {
     "output_type": "execute_result",
     "data": {
      "text/plain": "logp_x_z (generic function with 1 method)"
     },
     "metadata": {},
     "execution_count": 8
    }
   ],
   "cell_type": "code",
   "source": [
    "logp_x_z(x, z) = sum(logpdf.(Bernoulli.(f(z)), x))"
   ],
   "metadata": {},
   "execution_count": 8
  },
  {
   "outputs": [],
   "cell_type": "markdown",
   "source": [
    "Monte Carlo estimator of mean ELBO using M samples."
   ],
   "metadata": {}
  },
  {
   "outputs": [
    {
     "output_type": "execute_result",
     "data": {
      "text/plain": "loss (generic function with 1 method)"
     },
     "metadata": {},
     "execution_count": 9
    }
   ],
   "cell_type": "code",
   "source": [
    "L̄(X) = ((μ̂, logσ̂) = g(X); (logp_x_z(X, z.(μ̂, logσ̂)) - kl_q_p(μ̂, logσ̂)) * 1 // M)\n",
    "\n",
    "loss(X) = -L̄(X) + 0.01f0 * sum(x->sum(x.^2), params(f))"
   ],
   "metadata": {},
   "execution_count": 9
  },
  {
   "outputs": [],
   "cell_type": "markdown",
   "source": [
    "Sample from the learned model."
   ],
   "metadata": {}
  },
  {
   "outputs": [
    {
     "name": "stdout",
     "output_type": "stream",
     "text": [
      "┌ Warning: ADAM(params) is deprecated; use ADAM(η::Float64) instead\n",
      "│   caller = top-level scope at none:0\n",
      "└ @ Core none:0\n",
      "┌ Info: Epoch 1\n",
      "└ @ Main.##360 string:9\n",
      "┌ Warning: train!(loss, data, opt) is deprecated; use train!(loss, params, data, opt) instead\n",
      "│   caller = ip:0x0\n",
      "└ @ Core :-1\n",
      "-(L̄(X[:, rand(1:N, M)])) = 542.5721f0 (tracked)\n",
      "-(L̄(X[:, rand(1:N, M)])) = 180.3149f0 (tracked)\n",
      "-(L̄(X[:, rand(1:N, M)])) = 180.8608f0 (tracked)\n",
      "-(L̄(X[:, rand(1:N, M)])) = 181.59308f0 (tracked)\n",
      "┌ Info: Epoch 2\n",
      "└ @ Main.##360 string:9\n",
      "-(L̄(X[:, rand(1:N, M)])) = 169.0182f0 (tracked)\n",
      "-(L̄(X[:, rand(1:N, M)])) = 165.75212f0 (tracked)\n",
      "-(L̄(X[:, rand(1:N, M)])) = 162.6349f0 (tracked)\n",
      "┌ Info: Epoch 3\n",
      "└ @ Main.##360 string:9\n",
      "-(L̄(X[:, rand(1:N, M)])) = 154.15788f0 (tracked)\n",
      "-(L̄(X[:, rand(1:N, M)])) = 158.55838f0 (tracked)\n",
      "-(L̄(X[:, rand(1:N, M)])) = 155.69676f0 (tracked)\n",
      "-(L̄(X[:, rand(1:N, M)])) = 157.82607f0 (tracked)\n",
      "┌ Info: Epoch 4\n",
      "└ @ Main.##360 string:9\n",
      "-(L̄(X[:, rand(1:N, M)])) = 143.8975f0 (tracked)\n",
      "-(L̄(X[:, rand(1:N, M)])) = 152.89684f0 (tracked)\n",
      "-(L̄(X[:, rand(1:N, M)])) = 145.1495f0 (tracked)\n",
      "┌ Info: Epoch 5\n",
      "└ @ Main.##360 string:9\n",
      "-(L̄(X[:, rand(1:N, M)])) = 143.65848f0 (tracked)\n",
      "-(L̄(X[:, rand(1:N, M)])) = 151.28876f0 (tracked)\n",
      "-(L̄(X[:, rand(1:N, M)])) = 143.01164f0 (tracked)\n",
      "-(L̄(X[:, rand(1:N, M)])) = 140.73412f0 (tracked)\n",
      "┌ Info: Epoch 6\n",
      "└ @ Main.##360 string:9\n",
      "-(L̄(X[:, rand(1:N, M)])) = 143.4973f0 (tracked)\n",
      "-(L̄(X[:, rand(1:N, M)])) = 140.658f0 (tracked)\n",
      "-(L̄(X[:, rand(1:N, M)])) = 143.75327f0 (tracked)\n",
      "┌ Info: Epoch 7\n",
      "└ @ Main.##360 string:9\n",
      "-(L̄(X[:, rand(1:N, M)])) = 145.98013f0 (tracked)\n",
      "-(L̄(X[:, rand(1:N, M)])) = 142.85059f0 (tracked)\n",
      "-(L̄(X[:, rand(1:N, M)])) = 143.14435f0 (tracked)\n",
      "-(L̄(X[:, rand(1:N, M)])) = 145.5623f0 (tracked)\n",
      "┌ Info: Epoch 8\n",
      "└ @ Main.##360 string:9\n",
      "-(L̄(X[:, rand(1:N, M)])) = 140.01656f0 (tracked)\n",
      "-(L̄(X[:, rand(1:N, M)])) = 141.75739f0 (tracked)\n",
      "-(L̄(X[:, rand(1:N, M)])) = 134.54506f0 (tracked)\n",
      "┌ Info: Epoch 9\n",
      "└ @ Main.##360 string:9\n",
      "-(L̄(X[:, rand(1:N, M)])) = 147.38176f0 (tracked)\n",
      "-(L̄(X[:, rand(1:N, M)])) = 137.93181f0 (tracked)\n",
      "-(L̄(X[:, rand(1:N, M)])) = 146.57259f0 (tracked)\n",
      "-(L̄(X[:, rand(1:N, M)])) = 139.54585f0 (tracked)\n",
      "┌ Info: Epoch 10\n",
      "└ @ Main.##360 string:9\n",
      "-(L̄(X[:, rand(1:N, M)])) = 136.63516f0 (tracked)\n",
      "-(L̄(X[:, rand(1:N, M)])) = 145.26865f0 (tracked)\n",
      "-(L̄(X[:, rand(1:N, M)])) = 139.06126f0 (tracked)\n",
      "┌ Info: Epoch 11\n",
      "└ @ Main.##360 string:9\n",
      "-(L̄(X[:, rand(1:N, M)])) = 139.69035f0 (tracked)\n",
      "-(L̄(X[:, rand(1:N, M)])) = 136.58763f0 (tracked)\n",
      "-(L̄(X[:, rand(1:N, M)])) = 144.24097f0 (tracked)\n",
      "-(L̄(X[:, rand(1:N, M)])) = 142.54192f0 (tracked)\n",
      "┌ Info: Epoch 12\n",
      "└ @ Main.##360 string:9\n",
      "-(L̄(X[:, rand(1:N, M)])) = 140.50708f0 (tracked)\n",
      "-(L̄(X[:, rand(1:N, M)])) = 148.16576f0 (tracked)\n",
      "-(L̄(X[:, rand(1:N, M)])) = 134.95627f0 (tracked)\n",
      "┌ Info: Epoch 13\n",
      "└ @ Main.##360 string:9\n",
      "-(L̄(X[:, rand(1:N, M)])) = 142.17049f0 (tracked)\n",
      "-(L̄(X[:, rand(1:N, M)])) = 143.04254f0 (tracked)\n",
      "-(L̄(X[:, rand(1:N, M)])) = 140.70134f0 (tracked)\n",
      "┌ Info: Epoch 14\n",
      "└ @ Main.##360 string:9\n",
      "-(L̄(X[:, rand(1:N, M)])) = 142.09357f0 (tracked)\n",
      "-(L̄(X[:, rand(1:N, M)])) = 137.68594f0 (tracked)\n",
      "-(L̄(X[:, rand(1:N, M)])) = 141.86838f0 (tracked)\n",
      "-(L̄(X[:, rand(1:N, M)])) = 138.7382f0 (tracked)\n",
      "┌ Info: Epoch 15\n",
      "└ @ Main.##360 string:9\n",
      "-(L̄(X[:, rand(1:N, M)])) = 142.84055f0 (tracked)\n",
      "-(L̄(X[:, rand(1:N, M)])) = 142.389f0 (tracked)\n",
      "-(L̄(X[:, rand(1:N, M)])) = 146.0884f0 (tracked)\n",
      "┌ Info: Epoch 16\n",
      "└ @ Main.##360 string:9\n",
      "-(L̄(X[:, rand(1:N, M)])) = 140.65012f0 (tracked)\n",
      "-(L̄(X[:, rand(1:N, M)])) = 141.84457f0 (tracked)\n",
      "-(L̄(X[:, rand(1:N, M)])) = 140.70319f0 (tracked)\n",
      "-(L̄(X[:, rand(1:N, M)])) = 137.50746f0 (tracked)\n",
      "┌ Info: Epoch 17\n",
      "└ @ Main.##360 string:9\n",
      "-(L̄(X[:, rand(1:N, M)])) = 136.43507f0 (tracked)\n",
      "-(L̄(X[:, rand(1:N, M)])) = 141.8515f0 (tracked)\n",
      "-(L̄(X[:, rand(1:N, M)])) = 142.16959f0 (tracked)\n",
      "┌ Info: Epoch 18\n",
      "└ @ Main.##360 string:9\n",
      "-(L̄(X[:, rand(1:N, M)])) = 133.76823f0 (tracked)\n",
      "-(L̄(X[:, rand(1:N, M)])) = 142.39038f0 (tracked)\n",
      "-(L̄(X[:, rand(1:N, M)])) = 142.44632f0 (tracked)\n",
      "-(L̄(X[:, rand(1:N, M)])) = 145.78497f0 (tracked)\n",
      "┌ Info: Epoch 19\n",
      "└ @ Main.##360 string:9\n",
      "-(L̄(X[:, rand(1:N, M)])) = 134.83928f0 (tracked)\n",
      "-(L̄(X[:, rand(1:N, M)])) = 141.54822f0 (tracked)\n",
      "-(L̄(X[:, rand(1:N, M)])) = 141.18f0 (tracked)\n",
      "┌ Info: Epoch 20\n",
      "└ @ Main.##360 string:9\n",
      "-(L̄(X[:, rand(1:N, M)])) = 140.47464f0 (tracked)\n",
      "-(L̄(X[:, rand(1:N, M)])) = 143.95845f0 (tracked)\n",
      "-(L̄(X[:, rand(1:N, M)])) = 145.96973f0 (tracked)\n",
      "-(L̄(X[:, rand(1:N, M)])) = 140.00427f0 (tracked)\n"
     ]
    }
   ],
   "cell_type": "code",
   "source": [
    "modelsample() = rand.(Bernoulli.(f(z.(zeros(Dz), zeros(Dz)))))\n",
    "\n",
    "\n",
    "################################# Learn Parameters ##############################\n",
    "\n",
    "evalcb = throttle(() -> @show(-L̄(X[:, rand(1:N, M)])), 30)\n",
    "opt = ADAM(params(A, μ, logσ, f))\n",
    "@progress for i = 1:20\n",
    "  @info \"Epoch $i\"\n",
    "  Flux.train!(loss, zip(data), opt, cb=evalcb)\n",
    "end\n",
    "\n",
    "\n",
    "################################# Sample Output ##############################\n",
    "\n",
    "#using Images\n",
    "\n",
    "#img(x) = Gray.(reshape(x, 28, 28))\n",
    "\n",
    "#cd(@__DIR__)\n",
    "#sample = hcat(img.([modelsample() for i = 1:10])...)\n",
    "#save(\"sample.png\", sample)"
   ],
   "metadata": {},
   "execution_count": 10
  }
 ],
 "nbformat_minor": 3,
 "metadata": {
  "language_info": {
   "file_extension": ".jl",
   "mimetype": "application/julia",
   "name": "julia",
   "version": "1.0.2"
  },
  "kernelspec": {
   "name": "julia-1.0",
   "display_name": "Julia 1.0.2",
   "language": "julia"
  }
 },
 "nbformat": 4
}
