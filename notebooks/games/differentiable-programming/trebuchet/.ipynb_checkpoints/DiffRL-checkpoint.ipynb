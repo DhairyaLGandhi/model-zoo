{
 "cells": [
  {
   "cell_type": "code",
   "execution_count": null,
   "metadata": {},
   "outputs": [
    {
     "name": "stdout",
     "output_type": "stream",
     "text": [
      "\u001b[32m\u001b[1m    Status\u001b[22m\u001b[39m `~/temp/model-zoo/Project.toml`\n",
      " \u001b[90m [1520ce14]\u001b[39m\u001b[37m   AbstractTrees v0.2.1\u001b[39m\n",
      " \u001b[90m [fbb218c0]\u001b[39m\u001b[93m ↑ BSON v0.2.3 ⇒ v0.2.4\u001b[39m\n",
      " \u001b[90m [54eefc05]\u001b[39m\u001b[37m   Cascadia v0.4.0\u001b[39m\n",
      " \u001b[90m [8f4d0f93]\u001b[39m\u001b[37m   Conda v1.3.0\u001b[39m\n",
      " \u001b[90m [864edb3b]\u001b[39m\u001b[93m ↑ DataStructures v0.17.0 ⇒ v0.17.5\u001b[39m\n",
      " \u001b[90m [31c24e10]\u001b[39m\u001b[93m ↑ Distributions v0.21.3 ⇒ v0.21.5\u001b[39m\n",
      " \u001b[90m [587475ba]\u001b[39m\u001b[37m   Flux v0.9.0\u001b[39m\n",
      " \u001b[90m [708ec375]\u001b[39m\u001b[37m   Gumbo v0.5.1\u001b[39m\n",
      " \u001b[90m [b0807396]\u001b[39m\u001b[37m   Gym v1.1.3\u001b[39m\n",
      " \u001b[90m [cd3eb016]\u001b[39m\u001b[93m ↑ HTTP v0.8.6 ⇒ v0.8.7\u001b[39m\n",
      " \u001b[90m [6218d12a]\u001b[39m\u001b[37m   ImageMagick v0.7.5\u001b[39m\n",
      " \u001b[90m [916415d5]\u001b[39m\u001b[37m   Images v0.18.0\u001b[39m\n",
      " \u001b[90m [e5e0dc1b]\u001b[39m\u001b[37m   Juno v0.7.2\u001b[39m\n",
      " \u001b[90m [ca7b5df7]\u001b[39m\u001b[37m   MFCC v0.3.1\u001b[39m\n",
      " \u001b[90m [dbeba491]\u001b[39m\u001b[92m + Metalhead v0.4.0 #c4d1eba (https://github.com/FluxML/Metalhead.jl.git)\u001b[39m\n",
      " \u001b[90m [91a5bcdd]\u001b[39m\u001b[93m ↑ Plots v0.26.3 ⇒ v0.27.0\u001b[39m\n",
      " \u001b[90m [2913bbd2]\u001b[39m\u001b[37m   StatsBase v0.32.0\u001b[39m\n",
      " \u001b[90m [98b73d46]\u001b[39m\u001b[37m   Trebuchet v0.1.0\u001b[39m\n",
      " \u001b[90m [8149f6b0]\u001b[39m\u001b[93m ↑ WAV v1.0.2 ⇒ v1.0.3\u001b[39m\n",
      " \u001b[90m [e88e6eb3]\u001b[39m\u001b[92m + Zygote v0.4.1\u001b[39m\n",
      " \u001b[90m [10745b16]\u001b[39m\u001b[37m   Statistics \u001b[39m\n",
      " \u001b[90m [4ec0a83e]\u001b[39m\u001b[37m   Unicode \u001b[39m\n"
     ]
    },
    {
     "name": "stderr",
     "output_type": "stream",
     "text": [
      "┌ Info: Recompiling stale cache file /home/dhairyagandhi96/.julia/compiled/v1.1/Flux/QdkVy.ji for Flux [587475ba-b771-5e3f-ad9e-33799f191a9c]\n",
      "└ @ Base loading.jl:1184\n"
     ]
    }
   ],
   "source": [
    "using Pkg; Pkg.activate(\"/home/dhairyagandhi96/temp/model-zoo/script/..\"); Pkg.status();\n",
    "\n",
    "using Flux, Trebuchet\n",
    "using Zygote: forwarddiff\n",
    "using Statistics: mean\n",
    "using Random\n",
    "\n",
    "lerp(x, lo, hi) = x*(hi-lo)+lo\n",
    "\n",
    "function shoot(wind, angle, weight)\n",
    "  Trebuchet.shoot((wind, Trebuchet.deg2rad(angle), weight))[2]\n",
    "end\n",
    "\n",
    "shoot(ps) = forwarddiff(p -> shoot(p...), ps)\n",
    "\n",
    "Random.seed!(0)\n",
    "\n",
    "model = Chain(Dense(2, 16, σ),\n",
    "              Dense(16, 64, σ),\n",
    "              Dense(64, 16, σ),\n",
    "              Dense(16, 2)) |> f64\n",
    "\n",
    "θ = params(model)\n",
    "\n",
    "function aim(wind, target)\n",
    "  angle, weight = model([wind, target])\n",
    "  angle = σ(angle)*90\n",
    "  weight = weight + 200\n",
    "  angle, weight\n",
    "end\n",
    "\n",
    "distance(wind, target) =\n",
    "  shoot(Tracker.collect([wind, aim(wind, target)...]))\n",
    "\n",
    "function loss(wind, target)\n",
    "  try\n",
    "    (distance(wind, target) - target)^2\n",
    "  catch e\n",
    "    # Roots.jl sometimes give convergence errors, ignore them\n",
    "    param(0)\n",
    "  end\n",
    "end\n",
    "\n",
    "DIST  = (20, 100)\t# Maximum target distance\n",
    "SPEED =   5 # Maximum wind speed\n",
    "\n",
    "target() = (randn() * SPEED, lerp(rand(), DIST...))\n",
    "\n",
    "meanloss() = mean(sqrt(loss(target()...)) for i = 1:100)\n",
    "\n",
    "opt = ADAM()\n",
    "\n",
    "dataset = (target() for i = 1:100_000)\n",
    "cb = Flux.throttle(() -> @show(meanloss()), 10)\n",
    "\n",
    "Flux.train!(loss, θ, dataset, opt, cb = cb)"
   ]
  },
  {
   "cell_type": "code",
   "execution_count": null,
   "metadata": {},
   "outputs": [],
   "source": []
  }
 ],
 "metadata": {
  "kernelspec": {
   "display_name": "Julia 1.1.0",
   "language": "julia",
   "name": "julia-1.1"
  },
  "language_info": {
   "file_extension": ".jl",
   "mimetype": "application/julia",
   "name": "julia",
   "version": "1.1.0"
  }
 },
 "nbformat": 4,
 "nbformat_minor": 3
}
