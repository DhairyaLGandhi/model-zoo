{
 "cells": [
  {
   "cell_type": "code",
   "execution_count": 1,
   "metadata": {},
   "outputs": [
    {
     "name": "stdout",
     "output_type": "stream",
     "text": [
      "\u001b[32m\u001b[1m    Status\u001b[22m\u001b[39m `~/temp/model-zoo/Project.toml`\n",
      " \u001b[90m [1520ce14]\u001b[39m\u001b[37m   AbstractTrees v0.2.1\u001b[39m\n",
      " \u001b[90m [fbb218c0]\u001b[39m\u001b[93m ↑ BSON v0.2.3 ⇒ v0.2.4\u001b[39m\n",
      " \u001b[90m [54eefc05]\u001b[39m\u001b[37m   Cascadia v0.4.0\u001b[39m\n",
      " \u001b[90m [8f4d0f93]\u001b[39m\u001b[37m   Conda v1.3.0\u001b[39m\n",
      " \u001b[90m [864edb3b]\u001b[39m\u001b[93m ↑ DataStructures v0.17.0 ⇒ v0.17.5\u001b[39m\n",
      " \u001b[90m [31c24e10]\u001b[39m\u001b[93m ↑ Distributions v0.21.3 ⇒ v0.21.5\u001b[39m\n",
      " \u001b[90m [587475ba]\u001b[39m\u001b[37m   Flux v0.9.0\u001b[39m\n",
      " \u001b[90m [708ec375]\u001b[39m\u001b[37m   Gumbo v0.5.1\u001b[39m\n",
      " \u001b[90m [b0807396]\u001b[39m\u001b[37m   Gym v1.1.3\u001b[39m\n",
      " \u001b[90m [cd3eb016]\u001b[39m\u001b[93m ↑ HTTP v0.8.6 ⇒ v0.8.7\u001b[39m\n",
      " \u001b[90m [6218d12a]\u001b[39m\u001b[37m   ImageMagick v0.7.5\u001b[39m\n",
      " \u001b[90m [916415d5]\u001b[39m\u001b[37m   Images v0.18.0\u001b[39m\n",
      " \u001b[90m [e5e0dc1b]\u001b[39m\u001b[37m   Juno v0.7.2\u001b[39m\n",
      " \u001b[90m [ca7b5df7]\u001b[39m\u001b[37m   MFCC v0.3.1\u001b[39m\n",
      " \u001b[90m [dbeba491]\u001b[39m\u001b[92m + Metalhead v0.4.0 #c4d1eba (https://github.com/FluxML/Metalhead.jl.git)\u001b[39m\n",
      " \u001b[90m [91a5bcdd]\u001b[39m\u001b[93m ↑ Plots v0.26.3 ⇒ v0.27.0\u001b[39m\n",
      " \u001b[90m [2913bbd2]\u001b[39m\u001b[37m   StatsBase v0.32.0\u001b[39m\n",
      " \u001b[90m [98b73d46]\u001b[39m\u001b[37m   Trebuchet v0.1.0\u001b[39m\n",
      " \u001b[90m [8149f6b0]\u001b[39m\u001b[93m ↑ WAV v1.0.2 ⇒ v1.0.3\u001b[39m\n",
      " \u001b[90m [e88e6eb3]\u001b[39m\u001b[92m + Zygote v0.4.1\u001b[39m\n",
      " \u001b[90m [10745b16]\u001b[39m\u001b[37m   Statistics \u001b[39m\n",
      " \u001b[90m [4ec0a83e]\u001b[39m\u001b[37m   Unicode \u001b[39m\n"
     ]
    },
    {
     "name": "stderr",
     "output_type": "stream",
     "text": [
      "┌ Info: Recompiling stale cache file /home/dhairyagandhi96/.julia/compiled/v1.1/Flux/QdkVy.ji for Flux [587475ba-b771-5e3f-ad9e-33799f191a9c]\n",
      "└ @ Base loading.jl:1184\n",
      "┌ Info: Precompiling Trebuchet [98b73d46-197d-11e9-11eb-69a6ff759d3a]\n",
      "└ @ Base loading.jl:1186\n"
     ]
    },
    {
     "data": {
      "text/html": [
       "<script>\n",
       "// Immediately-invoked-function-expression to avoid global variables.\n",
       "(function() {\n",
       "    var warning_div = document.getElementById(\"webio-warning-4798037102571948385\");\n",
       "    var hide = function () {\n",
       "        var script = document.getElementById(\"webio-setup-6480404827622291729\");\n",
       "        var parent = script && script.parentElement;\n",
       "        var grandparent = parent && parent.parentElement;\n",
       "        if (grandparent) {\n",
       "            grandparent.style.display = \"none\";\n",
       "        }\n",
       "        warning_div.style.display = \"none\";\n",
       "    };\n",
       "    if (typeof Jupyter !== \"undefined\") {\n",
       "        console.log(\"WebIO detected Jupyter notebook environment.\");\n",
       "        // Jupyter notebook.\n",
       "        var extensions = (\n",
       "            Jupyter\n",
       "            && Jupyter.notebook.config.data\n",
       "            && Jupyter.notebook.config.data.load_extensions\n",
       "        );\n",
       "        if (extensions && extensions[\"webio-jupyter-notebook\"]) {\n",
       "            // Extension already loaded.\n",
       "            console.log(\"Jupyter WebIO nbextension detected; not loading ad-hoc.\");\n",
       "            hide();\n",
       "            return;\n",
       "        }\n",
       "    } else if (window.location.pathname.includes(\"/lab\")) {\n",
       "        // Guessing JupyterLa\n",
       "        console.log(\"Jupyter Lab detected; make sure the @webio/jupyter-lab-provider labextension is installed.\");\n",
       "        hide();\n",
       "        return;\n",
       "    }\n",
       "})();\n",
       "\n",
       "</script>\n",
       "<p\n",
       "    id=\"webio-warning-4798037102571948385\"\n",
       "    class=\"output_text output_stderr\"\n",
       "    style=\"padding: 1em; font-weight: bold;\"\n",
       ">\n",
       "    Unable to load WebIO. Please make sure WebIO works for your Jupyter client.\n",
       "    For troubleshooting, please see <a href=\"https://juliagizmos.github.io/WebIO.jl/latest/providers/ijulia/\">\n",
       "    the WebIO/IJulia documentation</a>.\n",
       "    <!-- TODO: link to installation docs. -->\n",
       "</p>\n"
      ],
      "text/plain": [
       "HTML{String}(\"<script>\\n// Immediately-invoked-function-expression to avoid global variables.\\n(function() {\\n    var warning_div = document.getElementById(\\\"webio-warning-4798037102571948385\\\");\\n    var hide = function () {\\n        var script = document.getElementById(\\\"webio-setup-6480404827622291729\\\");\\n        var parent = script && script.parentElement;\\n        var grandparent = parent && parent.parentElement;\\n        if (grandparent) {\\n            grandparent.style.display = \\\"none\\\";\\n        }\\n        warning_div.style.display = \\\"none\\\";\\n    };\\n    if (typeof Jupyter !== \\\"undefined\\\") {\\n        console.log(\\\"WebIO detected Jupyter notebook environment.\\\");\\n        // Jupyter notebook.\\n        var extensions = (\\n            Jupyter\\n            && Jupyter.notebook.config.data\\n            && Jupyter.notebook.config.data.load_extensions\\n        );\\n        if (extensions && extensions[\\\"webio-jupyter-notebook\\\"]) {\\n            // Extension already loaded.\\n            console.log(\\\"Jupyter WebIO nbextension detected; not loading ad-hoc.\\\");\\n            hide();\\n            return;\\n        }\\n    } else if (window.location.pathname.includes(\\\"/lab\\\")) {\\n        // Guessing JupyterLa\\n        console.log(\\\"Jupyter Lab detected; make sure the @webio/jupyter-lab-provider labextension is installed.\\\");\\n        hide();\\n        return;\\n    }\\n})();\\n\\n</script>\\n<p\\n    id=\\\"webio-warning-4798037102571948385\\\"\\n    class=\\\"output_text output_stderr\\\"\\n    style=\\\"padding: 1em; font-weight: bold;\\\"\\n>\\n    Unable to load WebIO. Please make sure WebIO works for your Jupyter client.\\n    For troubleshooting, please see <a href=\\\"https://juliagizmos.github.io/WebIO.jl/latest/providers/ijulia/\\\">\\n    the WebIO/IJulia documentation</a>.\\n    <!-- TODO: link to installation docs. -->\\n</p>\\n\")"
      ]
     },
     "metadata": {},
     "output_type": "display_data"
    },
    {
     "name": "stderr",
     "output_type": "stream",
     "text": [
      "┌ Info: Recompiling stale cache file /home/dhairyagandhi96/.julia/compiled/v1.1/Zygote/4kbLI.ji for Zygote [e88e6eb3-aa80-5325-afca-941959d7151f]\n",
      "└ @ Base loading.jl:1184\n"
     ]
    },
    {
     "name": "stdout",
     "output_type": "stream",
     "text": [
      "meanloss() = 0.0 (tracked)\n",
      "meanloss() = 0.0 (tracked)\n",
      "meanloss() = 0.0 (tracked)\n",
      "meanloss() = 0.0 (tracked)\n",
      "meanloss() = 0.0 (tracked)\n",
      "meanloss() = 0.0 (tracked)\n",
      "meanloss() = 0.0 (tracked)\n",
      "meanloss() = 0.0 (tracked)\n",
      "meanloss() = 0.0 (tracked)\n"
     ]
    }
   ],
   "source": [
    "using Pkg; Pkg.activate(\"/home/dhairyagandhi96/temp/model-zoo/script/..\"); Pkg.status();\n",
    "\n",
    "using Flux, Trebuchet\n",
    "using Zygote: forwarddiff\n",
    "using Statistics: mean\n",
    "using Random\n",
    "\n",
    "lerp(x, lo, hi) = x*(hi-lo)+lo\n",
    "\n",
    "function shoot(wind, angle, weight)\n",
    "  Trebuchet.shoot((wind, Trebuchet.deg2rad(angle), weight))[2]\n",
    "end\n",
    "\n",
    "shoot(ps) = forwarddiff(p -> shoot(p...), ps)\n",
    "\n",
    "Random.seed!(0)\n",
    "\n",
    "model = Chain(Dense(2, 16, σ),\n",
    "              Dense(16, 64, σ),\n",
    "              Dense(64, 16, σ),\n",
    "              Dense(16, 2)) |> f64\n",
    "\n",
    "θ = params(model)\n",
    "\n",
    "function aim(wind, target)\n",
    "  angle, weight = model([wind, target])\n",
    "  angle = σ(angle)*90\n",
    "  weight = weight + 200\n",
    "  angle, weight\n",
    "end\n",
    "\n",
    "distance(wind, target) =\n",
    "  shoot(Tracker.collect([wind, aim(wind, target)...]))\n",
    "\n",
    "function loss(wind, target)\n",
    "  try\n",
    "    (distance(wind, target) - target)^2\n",
    "  catch e\n",
    "    # Roots.jl sometimes give convergence errors, ignore them\n",
    "    param(0)\n",
    "  end\n",
    "end\n",
    "\n",
    "DIST  = (20, 100)\t# Maximum target distance\n",
    "SPEED =   5 # Maximum wind speed\n",
    "\n",
    "target() = (randn() * SPEED, lerp(rand(), DIST...))\n",
    "\n",
    "meanloss() = mean(sqrt(loss(target()...)) for i = 1:100)\n",
    "\n",
    "opt = ADAM()\n",
    "\n",
    "dataset = (target() for i = 1:100_000)\n",
    "cb = Flux.throttle(() -> @show(meanloss()), 10)\n",
    "\n",
    "Flux.train!(loss, θ, dataset, opt, cb = cb)"
   ]
  },
  {
   "cell_type": "code",
   "execution_count": 2,
   "metadata": {},
   "outputs": [
    {
     "data": {
      "text/plain": [
       "0.0 (tracked)"
      ]
     },
     "execution_count": 2,
     "metadata": {},
     "output_type": "execute_result"
    }
   ],
   "source": [
    "loss(first(dataset)...)"
   ]
  },
  {
   "cell_type": "code",
   "execution_count": 10,
   "metadata": {},
   "outputs": [
    {
     "ename": "MethodError",
     "evalue": "MethodError: no method matching *(::Float64, ::Tuple{Float64,Float64})\nClosest candidates are:\n  *(::Any, ::Any, !Matched::Any, !Matched::Any...) at operators.jl:502\n  *(::Float64, !Matched::Float64) at float.jl:399\n  *(!Matched::LightGraphs.LinAlg.Noop, ::Any) at /home/dhairyagandhi96/.julia/packages/LightGraphs/HsNig/src/linalg/graphmatrices.jl:226\n  ...",
     "output_type": "error",
     "traceback": [
      "MethodError: no method matching *(::Float64, ::Tuple{Float64,Float64})\nClosest candidates are:\n  *(::Any, ::Any, !Matched::Any, !Matched::Any...) at operators.jl:502\n  *(::Float64, !Matched::Float64) at float.jl:399\n  *(!Matched::LightGraphs.LinAlg.Noop, ::Any) at /home/dhairyagandhi96/.julia/packages/LightGraphs/HsNig/src/linalg/graphmatrices.jl:226\n  ...",
      "",
      "Stacktrace:",
      " [1] generic_matvecmul!(::Array{Any,1}, ::Char, ::Array{Float64,2}, ::Array{Any,1}) at /buildworker/worker/package_linux64/build/usr/share/julia/stdlib/v1.1/LinearAlgebra/src/matmul.jl:549",
      " [2] * at /buildworker/worker/package_linux64/build/usr/share/julia/stdlib/v1.1/LinearAlgebra/src/matmul.jl:76 [inlined]",
      " [3] _forward at /home/dhairyagandhi96/.julia/packages/Tracker/m6d46/src/lib/array.jl:415 [inlined]",
      " [4] #track#1 at /home/dhairyagandhi96/.julia/packages/Tracker/m6d46/src/Tracker.jl:52 [inlined]",
      " [5] track at /home/dhairyagandhi96/.julia/packages/Tracker/m6d46/src/Tracker.jl:52 [inlined]",
      " [6] * at /home/dhairyagandhi96/.julia/packages/Tracker/m6d46/src/lib/array.jl:382 [inlined]",
      " [7] Dense at /home/dhairyagandhi96/.julia/packages/Flux/dkJUV/src/layers/basic.jl:99 [inlined]",
      " [8] applychain(::Tuple{Dense{typeof(σ),TrackedArray{…,Array{Float64,2}},TrackedArray{…,Array{Float64,1}}},Dense{typeof(σ),TrackedArray{…,Array{Float64,2}},TrackedArray{…,Array{Float64,1}}},Dense{typeof(σ),TrackedArray{…,Array{Float64,2}},TrackedArray{…,Array{Float64,1}}},Dense{typeof(identity),TrackedArray{…,Array{Float64,2}},TrackedArray{…,Array{Float64,1}}}}, ::Array{Any,1}) at /home/dhairyagandhi96/.julia/packages/Flux/dkJUV/src/layers/basic.jl:31",
      " [9] (::Chain{Tuple{Dense{typeof(σ),TrackedArray{…,Array{Float64,2}},TrackedArray{…,Array{Float64,1}}},Dense{typeof(σ),TrackedArray{…,Array{Float64,2}},TrackedArray{…,Array{Float64,1}}},Dense{typeof(σ),TrackedArray{…,Array{Float64,2}},TrackedArray{…,Array{Float64,1}}},Dense{typeof(identity),TrackedArray{…,Array{Float64,2}},TrackedArray{…,Array{Float64,1}}}}})(::Array{Any,1}) at /home/dhairyagandhi96/.julia/packages/Flux/dkJUV/src/layers/basic.jl:33",
      " [10] aim(::Float64, ::Tuple{Float64,Float64}) at ./In[1]:26",
      " [11] top-level scope at In[10]:1"
     ]
    }
   ],
   "source": [
    "aim(3., target())"
   ]
  },
  {
   "cell_type": "code",
   "execution_count": null,
   "metadata": {},
   "outputs": [],
   "source": []
  }
 ],
 "metadata": {
  "kernelspec": {
   "display_name": "Julia 1.1.0",
   "language": "julia",
   "name": "julia-1.1"
  },
  "language_info": {
   "file_extension": ".jl",
   "mimetype": "application/julia",
   "name": "julia",
   "version": "1.1.0"
  }
 },
 "nbformat": 4,
 "nbformat_minor": 3
}
