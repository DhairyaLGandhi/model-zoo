{
 "cells": [
  {
   "cell_type": "code",
   "execution_count": 1,
   "metadata": {},
   "outputs": [
    {
     "name": "stdout",
     "output_type": "stream",
     "text": [
      "  Updating registry at `~/.julia/registries/General`\n",
      "  Updating git-repo `https://github.com/JuliaRegistries/General.git`\n",
      "\u001b[?25l\u001b[2K\u001b[?25h"
     ]
    }
   ],
   "source": [
    "using Pkg; Pkg.activate(\".\"); Pkg.instantiate();"
   ]
  },
  {
   "cell_type": "markdown",
   "metadata": {},
   "source": [
    "Based on https://arxiv.org/abs/1409.0473"
   ]
  },
  {
   "cell_type": "code",
   "execution_count": 2,
   "metadata": {},
   "outputs": [
    {
     "name": "stdout",
     "output_type": "stream",
     "text": [
      "WARNING: could not import NNlib.cudata into Tracker\n"
     ]
    },
    {
     "data": {
      "text/plain": [
       "30"
      ]
     },
     "execution_count": 2,
     "metadata": {},
     "output_type": "execute_result"
    }
   ],
   "source": [
    "using Flux: flip, crossentropy, reset!, throttle\n",
    "\n",
    "include(\"0-data.jl\")\n",
    "\n",
    "Nin = length(alphabet)\n",
    "Nh = 30 # size of hidden layer"
   ]
  },
  {
   "cell_type": "markdown",
   "metadata": {},
   "source": [
    "A recurrent model which takes a token and returns a context-dependent\n",
    "annotation."
   ]
  },
  {
   "cell_type": "code",
   "execution_count": 3,
   "metadata": {},
   "outputs": [
    {
     "data": {
      "text/plain": [
       "align (generic function with 1 method)"
      ]
     },
     "execution_count": 3,
     "metadata": {},
     "output_type": "execute_result"
    }
   ],
   "source": [
    "forward  = LSTM(Nin, Nh÷2)\n",
    "backward = LSTM(Nin, Nh÷2)\n",
    "encode(tokens) = vcat.(forward.(tokens), flip(backward, tokens))\n",
    "\n",
    "alignnet = Dense(2Nh, 1)\n",
    "align(s, t) = alignnet(vcat(t, s .* trues(1, size(t, 2))))"
   ]
  },
  {
   "cell_type": "markdown",
   "metadata": {},
   "source": [
    "A recurrent model which takes a sequence of annotations, attends, and returns\n",
    "a predicted output token."
   ]
  },
  {
   "cell_type": "code",
   "execution_count": 4,
   "metadata": {},
   "outputs": [
    {
     "data": {
      "text/plain": [
       "decode (generic function with 1 method)"
      ]
     },
     "execution_count": 4,
     "metadata": {},
     "output_type": "execute_result"
    }
   ],
   "source": [
    "recur   = LSTM(Nh+length(phones), Nh)\n",
    "toalpha = Dense(Nh, length(phones))\n",
    "\n",
    "function asoftmax(xs)\n",
    "  xs = [exp.(x) for x in xs]\n",
    "  s = sum(xs)\n",
    "  return [x ./ s for x in xs]\n",
    "end\n",
    "\n",
    "function decode1(tokens, phone)\n",
    "  weights = asoftmax([align(recur.state[2], t) for t in tokens])\n",
    "  context = sum(map((a, b) -> a .* b, weights, tokens))\n",
    "  y = recur(vcat(float(phone), context))\n",
    "  return softmax(toalpha(y))\n",
    "end\n",
    "\n",
    "decode(tokens, phones) = [decode1(tokens, phone) for phone in phones]"
   ]
  },
  {
   "cell_type": "markdown",
   "metadata": {},
   "source": [
    "The full model"
   ]
  },
  {
   "cell_type": "code",
   "execution_count": 5,
   "metadata": {},
   "outputs": [
    {
     "name": "stdout",
     "output_type": "stream",
     "text": [
      "loss(data[500]...) = 31.130797001386394 (tracked)\n",
      "loss(data[500]...) = 19.542230529488833 (tracked)\n",
      "loss(data[500]...) = 17.789988431246474 (tracked)\n",
      "loss(data[500]...) = 16.552711488292868 (tracked)\n",
      "loss(data[500]...) = 15.749679743532923 (tracked)\n",
      "loss(data[500]...) = 15.051589664736781 (tracked)\n",
      "loss(data[500]...) = 14.296520490145966 (tracked)\n",
      "loss(data[500]...) = 14.5884759363154 (tracked)\n",
      "loss(data[500]...) = 14.076095235362706 (tracked)\n",
      "loss(data[500]...) = 13.570025356069744 (tracked)\n",
      "loss(data[500]...) = 12.99752185470236 (tracked)\n",
      "loss(data[500]...) = 12.641269158867225 (tracked)\n",
      "loss(data[500]...) = 13.571412206376001 (tracked)\n",
      "loss(data[500]...) = 13.627850846252963 (tracked)\n",
      "loss(data[500]...) = 12.991679974109383 (tracked)\n",
      "loss(data[500]...) = 12.70220467164414 (tracked)\n",
      "loss(data[500]...) = 12.990818785153746 (tracked)\n",
      "loss(data[500]...) = 15.265261599610595 (tracked)\n",
      "loss(data[500]...) = 13.866875815496153 (tracked)\n",
      "loss(data[500]...) = 14.363912225025175 (tracked)\n",
      "loss(data[500]...) = 14.738322409176362 (tracked)\n",
      "loss(data[500]...) = 15.599223305162624 (tracked)\n",
      "loss(data[500]...) = 15.990790520719571 (tracked)\n",
      "loss(data[500]...) = 15.795743742874945 (tracked)\n",
      "loss(data[500]...) = 16.85186338680284 (tracked)\n",
      "loss(data[500]...) = 17.0617771831342 (tracked)\n",
      "loss(data[500]...) = 18.4993889453268 (tracked)\n",
      "loss(data[500]...) = 19.21246444072866 (tracked)\n",
      "loss(data[500]...) = 20.81176822388872 (tracked)\n"
     ]
    }
   ],
   "source": [
    "state = (forward, backward, alignnet, recur, toalpha)\n",
    "\n",
    "function model(x, y)\n",
    "  ŷ = decode(encode(x), y)\n",
    "  reset!(state)\n",
    "  return ŷ\n",
    "end\n",
    "\n",
    "loss(x, yo, y) = sum(crossentropy.(model(x, yo), y))\n",
    "\n",
    "evalcb = () -> @show loss(data[500]...)\n",
    "opt = ADAM(params(state))\n",
    "\n",
    "Flux.train!(loss, data, opt, cb = throttle(evalcb, 10))"
   ]
  },
  {
   "cell_type": "markdown",
   "metadata": {},
   "source": [
    "Prediction"
   ]
  },
  {
   "cell_type": "code",
   "execution_count": 6,
   "metadata": {},
   "outputs": [
    {
     "data": {
      "text/plain": [
       "12-element Array{Any,1}:\n",
       " :TH \n",
       " :ER1\n",
       " :L  \n",
       " :AE2\n",
       " :Z  \n",
       " :AH0\n",
       " :N  \n",
       " :OW1\n",
       " :D  \n",
       " :IH0\n",
       " :N  \n",
       " :G  "
      ]
     },
     "execution_count": 6,
     "metadata": {},
     "output_type": "execute_result"
    }
   ],
   "source": [
    "using StatsBase: wsample\n",
    "\n",
    "function predict(s)\n",
    "  ts = encode(tokenise(s, alphabet))\n",
    "  ps = Any[:start]\n",
    "  for i = 1:50\n",
    "    dist = decode1(ts, onehot(ps[end], phones))\n",
    "    next = wsample(phones, vec(Tracker.data(dist)))\n",
    "    next == :end && break\n",
    "    push!(ps, next)\n",
    "  end\n",
    "  return ps[2:end]\n",
    "end\n",
    "\n",
    "predict(\"PHYLOGENY\")"
   ]
  }
 ],
 "metadata": {
  "kernelspec": {
   "display_name": "Julia 0.6.4",
   "language": "julia",
   "name": "julia-0.6"
  },
  "language_info": {
   "file_extension": ".jl",
   "mimetype": "application/julia",
   "name": "julia",
   "version": "0.6.4"
  }
 },
 "nbformat": 4,
 "nbformat_minor": 3
}
