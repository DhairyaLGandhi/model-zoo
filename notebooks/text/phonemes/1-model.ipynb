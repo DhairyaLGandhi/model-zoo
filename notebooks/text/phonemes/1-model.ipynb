{
 "cells": [
  {
   "outputs": [
    {
     "name": "stdout",
     "output_type": "stream",
     "text": [
      "    Status `~/temp/model-zoo/Project.toml`\n",
      "  [1520ce14]   AbstractTrees v0.2.1\n",
      "  [fbb218c0] ↑ BSON v0.2.3 ⇒ v0.2.4\n",
      "  [54eefc05]   Cascadia v0.4.0\n",
      "  [8f4d0f93]   Conda v1.3.0\n",
      "  [864edb3b] ↑ DataStructures v0.17.0 ⇒ v0.17.5\n",
      "  [31c24e10] ↑ Distributions v0.21.3 ⇒ v0.21.5\n",
      "  [587475ba]   Flux v0.9.0\n",
      "  [708ec375]   Gumbo v0.5.1\n",
      "  [b0807396]   Gym v1.1.3\n",
      "  [cd3eb016] ↑ HTTP v0.8.6 ⇒ v0.8.7\n",
      "  [6218d12a]   ImageMagick v0.7.5\n",
      "  [916415d5]   Images v0.18.0\n",
      "  [e5e0dc1b]   Juno v0.7.2\n",
      "  [ca7b5df7]   MFCC v0.3.1\n",
      "  [dbeba491] + Metalhead v0.4.0 #c4d1eba (https://github.com/FluxML/Metalhead.jl.git)\n",
      "  [91a5bcdd] ↑ Plots v0.26.3 ⇒ v0.27.0\n",
      "  [2913bbd2]   StatsBase v0.32.0\n",
      "  [98b73d46]   Trebuchet v0.1.0\n",
      "  [8149f6b0] ↑ WAV v1.0.2 ⇒ v1.0.3\n",
      "  [10745b16]   Statistics \n",
      "  [4ec0a83e]   Unicode \n"
     ]
    }
   ],
   "cell_type": "code",
   "source": [
    "using Pkg; Pkg.activate(\"/home/dhairyagandhi96/temp/model-zoo/script/..\"); Pkg.status();"
   ],
   "metadata": {},
   "execution_count": 1
  },
  {
   "outputs": [],
   "cell_type": "markdown",
   "source": [
    "Based on https://arxiv.org/abs/1409.0473"
   ],
   "metadata": {}
  },
  {
   "outputs": [
    {
     "output_type": "execute_result",
     "data": {
      "text/plain": "30"
     },
     "metadata": {},
     "execution_count": 2
    }
   ],
   "cell_type": "code",
   "source": [
    "using Flux: flip, crossentropy, reset!, throttle\n",
    "\n",
    "include(\"0-data.jl\")\n",
    "\n",
    "Nin = length(alphabet)\n",
    "Nh = 30 # size of hidden layer"
   ],
   "metadata": {},
   "execution_count": 2
  },
  {
   "outputs": [],
   "cell_type": "markdown",
   "source": [
    "A recurrent model which takes a token and returns a context-dependent\n",
    "annotation."
   ],
   "metadata": {}
  },
  {
   "outputs": [
    {
     "output_type": "execute_result",
     "data": {
      "text/plain": "align (generic function with 1 method)"
     },
     "metadata": {},
     "execution_count": 3
    }
   ],
   "cell_type": "code",
   "source": [
    "forward  = LSTM(Nin, Nh÷2)\n",
    "backward = LSTM(Nin, Nh÷2)\n",
    "encode(tokens) = vcat.(forward.(tokens), flip(backward, tokens))\n",
    "\n",
    "alignnet = Dense(2Nh, 1)\n",
    "align(s, t) = alignnet(vcat(t, s .* trues(1, size(t, 2))))"
   ],
   "metadata": {},
   "execution_count": 3
  },
  {
   "outputs": [],
   "cell_type": "markdown",
   "source": [
    "A recurrent model which takes a sequence of annotations, attends, and returns\n",
    "a predicted output token."
   ],
   "metadata": {}
  },
  {
   "outputs": [
    {
     "output_type": "execute_result",
     "data": {
      "text/plain": "decode (generic function with 1 method)"
     },
     "metadata": {},
     "execution_count": 4
    }
   ],
   "cell_type": "code",
   "source": [
    "recur   = LSTM(Nh+length(phones), Nh)\n",
    "toalpha = Dense(Nh, length(phones))\n",
    "\n",
    "function asoftmax(xs)\n",
    "  xs = [exp.(x) for x in xs]\n",
    "  s = sum(xs)\n",
    "  return [x ./ s for x in xs]\n",
    "end\n",
    "\n",
    "function decode1(tokens, phone)\n",
    "  weights = asoftmax([align(recur.state[2], t) for t in tokens])\n",
    "  context = sum(map((a, b) -> a .* b, weights, tokens))\n",
    "  y = recur(vcat(Float32.(phone), context))\n",
    "  return softmax(toalpha(y))\n",
    "end\n",
    "\n",
    "decode(tokens, phones) = [decode1(tokens, phone) for phone in phones]"
   ],
   "metadata": {},
   "execution_count": 4
  },
  {
   "outputs": [],
   "cell_type": "markdown",
   "source": [
    "The full model"
   ],
   "metadata": {}
  },
  {
   "outputs": [
    {
     "name": "stdout",
     "output_type": "stream",
     "text": [
      "loss(data[500]...) = 30.819227f0 (tracked)\n",
      "loss(data[500]...) = 18.678741f0 (tracked)\n",
      "loss(data[500]...) = 16.73465f0 (tracked)\n",
      "loss(data[500]...) = 15.124601f0 (tracked)\n",
      "loss(data[500]...) = 14.582631f0 (tracked)\n",
      "loss(data[500]...) = 13.131728f0 (tracked)\n",
      "loss(data[500]...) = 13.291695f0 (tracked)\n",
      "loss(data[500]...) = 12.551632f0 (tracked)\n",
      "loss(data[500]...) = 13.084431f0 (tracked)\n",
      "loss(data[500]...) = 13.316135f0 (tracked)\n",
      "loss(data[500]...) = 14.365998f0 (tracked)\n",
      "loss(data[500]...) = 14.262397f0 (tracked)\n",
      "loss(data[500]...) = 15.117974f0 (tracked)\n",
      "loss(data[500]...) = 17.314672f0 (tracked)\n"
     ]
    }
   ],
   "cell_type": "code",
   "source": [
    "state = (forward, backward, alignnet, recur, toalpha)\n",
    "\n",
    "function model(x, y)\n",
    "  ŷ = decode(encode(x), y)\n",
    "  reset!(state)\n",
    "  return ŷ\n",
    "end\n",
    "\n",
    "loss(x, yo, y) = sum(crossentropy.(model(x, yo), y))\n",
    "\n",
    "evalcb = () -> @show loss(data[500]...)\n",
    "opt = ADAM()\n",
    "\n",
    "Flux.train!(loss, params(state), data, opt, cb = throttle(evalcb, 10))"
   ],
   "metadata": {},
   "execution_count": 5
  },
  {
   "outputs": [],
   "cell_type": "markdown",
   "source": [
    "Prediction"
   ],
   "metadata": {}
  },
  {
   "outputs": [
    {
     "output_type": "execute_result",
     "data": {
      "text/plain": "14-element Array{Any,1}:\n :OW1\n :K  \n :AH0\n :L  \n :OW0\n :IH0\n :V  \n :AH0\n :L  \n :IH0\n :N  \n :IY0\n :IY2\n :N  "
     },
     "metadata": {},
     "execution_count": 6
    }
   ],
   "cell_type": "code",
   "source": [
    "using StatsBase: wsample\n",
    "\n",
    "function predict(s)\n",
    "  ts = encode(tokenise(s, alphabet))\n",
    "  ps = Any[:start]\n",
    "  for i = 1:50\n",
    "    dist = decode1(ts, onehot(ps[end], phones))\n",
    "    next = wsample(phones, vec(Tracker.data(dist)))\n",
    "    next == :end && break\n",
    "    push!(ps, next)\n",
    "  end\n",
    "  return ps[2:end]\n",
    "end\n",
    "\n",
    "predict(\"PHYLOGENY\")"
   ],
   "metadata": {},
   "execution_count": 6
  }
 ],
 "nbformat_minor": 3,
 "metadata": {
  "language_info": {
   "file_extension": ".jl",
   "mimetype": "application/julia",
   "name": "julia",
   "version": "1.1.0"
  },
  "kernelspec": {
   "name": "julia-1.1",
   "display_name": "Julia 1.1.0",
   "language": "julia"
  }
 },
 "nbformat": 4
}
