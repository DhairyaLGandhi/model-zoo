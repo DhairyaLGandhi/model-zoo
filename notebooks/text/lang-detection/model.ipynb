{
 "cells": [
  {
   "outputs": [
    {
     "name": "stdout",
     "output_type": "stream",
     "text": [
      "    Status `~/temp/model-zoo/Project.toml`\n",
      "  [1520ce14]   AbstractTrees v0.2.1\n",
      "  [fbb218c0] ↑ BSON v0.2.3 ⇒ v0.2.4\n",
      "  [54eefc05]   Cascadia v0.4.0\n",
      "  [8f4d0f93]   Conda v1.3.0\n",
      "  [864edb3b] ↑ DataStructures v0.17.0 ⇒ v0.17.5\n",
      "  [31c24e10] ↑ Distributions v0.21.3 ⇒ v0.21.5\n",
      "  [587475ba]   Flux v0.9.0\n",
      "  [708ec375]   Gumbo v0.5.1\n",
      "  [b0807396]   Gym v1.1.3\n",
      "  [cd3eb016] ↑ HTTP v0.8.6 ⇒ v0.8.7\n",
      "  [6218d12a]   ImageMagick v0.7.5\n",
      "  [916415d5]   Images v0.18.0\n",
      "  [e5e0dc1b]   Juno v0.7.2\n",
      "  [ca7b5df7]   MFCC v0.3.1\n",
      "  [dbeba491] + Metalhead v0.4.0 #c4d1eba (https://github.com/FluxML/Metalhead.jl.git)\n",
      "  [91a5bcdd] ↑ Plots v0.26.3 ⇒ v0.27.0\n",
      "  [2913bbd2]   StatsBase v0.32.0\n",
      "  [98b73d46]   Trebuchet v0.1.0\n",
      "  [8149f6b0] ↑ WAV v1.0.2 ⇒ v1.0.3\n",
      "  [10745b16]   Statistics \n",
      "  [4ec0a83e]   Unicode \n"
     ]
    },
    {
     "output_type": "execute_result",
     "data": {
      "text/plain": "39-element Array{Char,1}:\n 'a' \n 'b' \n 'c' \n 'd' \n 'e' \n 'f' \n 'g' \n 'h' \n 'i' \n 'j' \n ⋮   \n '4' \n '5' \n '6' \n '7' \n '8' \n '9' \n ' ' \n '\\n'\n '_' "
     },
     "metadata": {},
     "execution_count": 1
    }
   ],
   "cell_type": "code",
   "source": [
    "using Pkg; Pkg.activate(\"/home/dhairyagandhi96/temp/model-zoo/script/..\"); Pkg.status();\n",
    "\n",
    "using Flux\n",
    "using Flux: onehot, onehotbatch, crossentropy, reset!, throttle\n",
    "using Statistics: mean\n",
    "using Random\n",
    "using Unicode\n",
    "include(\"scrape.jl\")\n",
    "corpora = Dict()\n",
    "\n",
    "cd(@__DIR__)\n",
    "for file in readdir(\"corpus\")\n",
    "    lang = Symbol(match(r\"(.*)\\.txt\", file).captures[1])\n",
    "    corpus = split(String(read(\"corpus/$file\")), \".\")\n",
    "    corpus = strip.(Unicode.normalize.(corpus, casefold=true, stripmark=true))\n",
    "    corpus = filter(!isempty, corpus)\n",
    "    corpora[lang] = corpus\n",
    "end\n",
    "\n",
    "langs = collect(keys(corpora))\n",
    "alphabet = ['a':'z'; '0':'9'; ' '; '\\n'; '_']"
   ],
   "metadata": {},
   "execution_count": 1
  },
  {
   "outputs": [],
   "cell_type": "markdown",
   "source": [
    "See which chars will be represented as \"unknown\""
   ],
   "metadata": {}
  },
  {
   "outputs": [
    {
     "name": "stdout",
     "output_type": "stream",
     "text": [
      "testloss() = 1.6321858f0 (tracked)\n",
      "testloss() = 1.5675306f0 (tracked)\n",
      "testloss() = 1.5592979f0 (tracked)\n",
      "testloss() = 1.5649234f0 (tracked)\n",
      "testloss() = 1.5684868f0 (tracked)\n",
      "testloss() = 1.5389409f0 (tracked)\n",
      "testloss() = 1.5401595f0 (tracked)\n",
      "testloss() = 1.5568221f0 (tracked)\n",
      "testloss() = 1.5433629f0 (tracked)\n",
      "testloss() = 1.5213215f0 (tracked)\n",
      "testloss() = 1.5453626f0 (tracked)\n",
      "testloss() = 1.4517982f0 (tracked)\n",
      "testloss() = 1.4952666f0 (tracked)\n",
      "testloss() = 1.4635943f0 (tracked)\n",
      "testloss() = 1.4445903f0 (tracked)\n",
      "testloss() = 1.410103f0 (tracked)\n",
      "testloss() = 1.4697593f0 (tracked)\n",
      "testloss() = 1.3583783f0 (tracked)\n",
      "testloss() = 1.2699927f0 (tracked)\n",
      "testloss() = 1.3471761f0 (tracked)\n",
      "testloss() = 1.4361632f0 (tracked)\n",
      "testloss() = 1.3016007f0 (tracked)\n",
      "testloss() = 1.3721728f0 (tracked)\n",
      "testloss() = 1.3477708f0 (tracked)\n",
      "testloss() = 1.4562292f0 (tracked)\n",
      "testloss() = 1.4022727f0 (tracked)\n",
      "testloss() = 1.353598f0 (tracked)\n",
      "testloss() = 1.3427544f0 (tracked)\n",
      "testloss() = 1.3287576f0 (tracked)\n",
      "testloss() = 1.3340932f0 (tracked)\n",
      "testloss() = 1.3244469f0 (tracked)\n",
      "testloss() = 1.2980027f0 (tracked)\n",
      "testloss() = 1.2451016f0 (tracked)\n"
     ]
    }
   ],
   "cell_type": "code",
   "source": [
    "unique(filter(x -> x ∉ alphabet, join(vcat(values(corpora)...))))\n",
    "\n",
    "dataset = [(onehotbatch(s, alphabet, '_'), onehot(l, langs))\n",
    "           for l in langs for s in corpora[l]] |> shuffle\n",
    "\n",
    "train, test = dataset[1:end-100], dataset[end-99:end]\n",
    "\n",
    "N = 15\n",
    "\n",
    "scanner = Chain(Dense(length(alphabet), N, σ), LSTM(N, N))\n",
    "encoder = Dense(N, length(langs))\n",
    "\n",
    "function model(x)\n",
    "    state = scanner.(x.data)[end]\n",
    "    reset!(scanner)\n",
    "    softmax(encoder(state))\n",
    "end\n",
    "\n",
    "loss(x, y) = crossentropy(model(x), y)\n",
    "\n",
    "testloss() = mean(loss(t...) for t in test)\n",
    "\n",
    "opt = ADAM()\n",
    "ps = params(scanner, encoder)\n",
    "evalcb = () -> @show testloss()\n",
    "\n",
    "Flux.train!(loss, ps, train, opt, cb = throttle(evalcb, 10))"
   ],
   "metadata": {},
   "execution_count": 2
  }
 ],
 "nbformat_minor": 3,
 "metadata": {
  "language_info": {
   "file_extension": ".jl",
   "mimetype": "application/julia",
   "name": "julia",
   "version": "1.1.0"
  },
  "kernelspec": {
   "name": "julia-1.1",
   "display_name": "Julia 1.1.0",
   "language": "julia"
  }
 },
 "nbformat": 4
}
