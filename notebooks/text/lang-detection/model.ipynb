{
 "cells": [
  {
   "outputs": [
    {
     "name": "stdout",
     "output_type": "stream",
     "text": [
      "  Updating registry at `~/.julia/registries/General`\n",
      "  Updating git-repo `https://github.com/JuliaRegistries/General.git`\n",
      "\u001b[?25l\u001b[2K\u001b[?25h  Updating git-repo `https://github.com/JuliaGPU/CUDAdrv.jl.git`\n",
      "\u001b[?25l\u001b[2K\u001b[?25h Resolving package versions...\n",
      "  Updating `~/modelzoo/model-zoo/text/lang-detection/Project.toml`\n",
      " [no changes]\n",
      "  Updating `~/modelzoo/model-zoo/text/lang-detection/Manifest.toml`\n",
      " [no changes]\n",
      "  Updating git-repo `https://github.com/JuliaGPU/CUDAnative.jl.git`\n",
      "\u001b[?25l\u001b[2K\u001b[?25h Resolving package versions...\n",
      "  Updating `~/modelzoo/model-zoo/text/lang-detection/Project.toml`\n",
      " [no changes]\n",
      "  Updating `~/modelzoo/model-zoo/text/lang-detection/Manifest.toml`\n",
      " [no changes]\n",
      "  Updating git-repo `https://github.com/JuliaGPU/CuArrays.jl.git`\n",
      "\u001b[?25l\u001b[2K\u001b[?25h Resolving package versions...\n",
      "  Updating `~/modelzoo/model-zoo/text/lang-detection/Project.toml`\n",
      " [no changes]\n",
      "  Updating `~/modelzoo/model-zoo/text/lang-detection/Manifest.toml`\n",
      " [no changes]\n",
      "  Updating git-repo `https://github.com/FluxML/Flux.jl.git`\n",
      "\u001b[?25l\u001b[2K\u001b[?25h Resolving package versions...\n",
      "  Updating `~/modelzoo/model-zoo/text/lang-detection/Project.toml`\n",
      " [no changes]\n",
      "  Updating `~/modelzoo/model-zoo/text/lang-detection/Manifest.toml`\n",
      " [no changes]\n"
     ]
    },
    {
     "output_type": "execute_result",
     "data": {
      "text/plain": "39-element Array{Char,1}:\n 'a' \n 'b' \n 'c' \n 'd' \n 'e' \n 'f' \n 'g' \n 'h' \n 'i' \n 'j' \n ⋮   \n '4' \n '5' \n '6' \n '7' \n '8' \n '9' \n ' ' \n '\\n'\n '_' "
     },
     "metadata": {},
     "execution_count": 1
    }
   ],
   "cell_type": "code",
   "source": [
    "using Pkg; Pkg.activate(\"/home/dhairyagandhi96/modelzoo/model-zoo/script/../text/lang-detection\"); Pkg.instantiate(); Pkg.add(PackageSpec(name=\"CUDAdrv\", rev = \"master\")); Pkg.add(PackageSpec(name=\"CUDAnative\", rev = \"master\")); Pkg.add(PackageSpec(name=\"CuArrays\", rev = \"master\")); Pkg.add(PackageSpec(name=\"Flux\", rev = \"master\"))\n",
    "\n",
    "using Flux\n",
    "using Flux: onehot, onehotbatch, crossentropy, reset!, throttle\n",
    "using Unicode\n",
    "using Random     # for 'shuffle'\n",
    "using Statistics # for 'mean'\n",
    "\n",
    "include(\"scrape.jl\")\n",
    "corpora = Dict()\n",
    "\n",
    "cd(@__DIR__)\n",
    "for file in readdir(\"corpus\")\n",
    "  lang = Symbol(match(r\"(.*)\\.txt\", file).captures[1])\n",
    "  corpus = split(String(read(\"corpus/$file\")), \".\")\n",
    "  corpus = strip.(Unicode.normalize.(corpus, casefold=true, stripmark=true))\n",
    "  corpus = filter(!isempty, corpus)\n",
    "  corpora[lang] = corpus\n",
    "end\n",
    "\n",
    "langs = collect(keys(corpora))\n",
    "alphabet = ['a':'z'; '0':'9'; ' '; '\\n'; '_']"
   ],
   "metadata": {},
   "execution_count": 1
  },
  {
   "outputs": [],
   "cell_type": "markdown",
   "source": [
    "See which chars will be represented as \"unknown\""
   ],
   "metadata": {}
  },
  {
   "outputs": [
    {
     "name": "stdout",
     "output_type": "stream",
     "text": [
      "┌ Warning: ADAM(params) is deprecated; use ADAM(η::Float64) instead\n",
      "│   caller = top-level scope at none:0\n",
      "└ @ Core none:0\n",
      "┌ Warning: train!(loss, data, opt) is deprecated; use train!(loss, params, data, opt) instead\n",
      "│   caller = ip:0x0\n",
      "└ @ Core :-1\n",
      "testloss() = 1.7248776f0 (tracked)\n",
      "testloss() = 1.5436935f0 (tracked)\n",
      "testloss() = 1.5439239f0 (tracked)\n",
      "testloss() = 1.5181676f0 (tracked)\n",
      "testloss() = 1.5167382f0 (tracked)\n",
      "testloss() = 1.501078f0 (tracked)\n",
      "testloss() = 1.4949843f0 (tracked)\n",
      "testloss() = 1.4911517f0 (tracked)\n",
      "testloss() = 1.4671066f0 (tracked)\n",
      "testloss() = 1.4569464f0 (tracked)\n",
      "testloss() = 1.44892f0 (tracked)\n",
      "testloss() = 1.4186455f0 (tracked)\n",
      "testloss() = 1.3899051f0 (tracked)\n",
      "testloss() = 1.2792935f0 (tracked)\n",
      "testloss() = 1.4331985f0 (tracked)\n",
      "testloss() = 1.3875095f0 (tracked)\n",
      "testloss() = 1.210101f0 (tracked)\n",
      "testloss() = 1.1922368f0 (tracked)\n",
      "testloss() = 1.1642448f0 (tracked)\n",
      "testloss() = 1.099103f0 (tracked)\n",
      "testloss() = 1.4442871f0 (tracked)\n",
      "testloss() = 1.1590316f0 (tracked)\n",
      "testloss() = 1.4690797f0 (tracked)\n",
      "testloss() = 1.4341756f0 (tracked)\n",
      "testloss() = 1.9397589f0 (tracked)\n",
      "testloss() = 1.1134105f0 (tracked)\n",
      "testloss() = 1.159167f0 (tracked)\n",
      "testloss() = 1.1264732f0 (tracked)\n",
      "testloss() = 1.1013709f0 (tracked)\n"
     ]
    }
   ],
   "cell_type": "code",
   "source": [
    "unique(filter(x -> x ∉ alphabet, join(vcat(values(corpora)...))))\n",
    "\n",
    "dataset = [(onehotbatch(s, alphabet, '_'), onehot(l, langs))\n",
    "           for l in langs for s in corpora[l]] |> shuffle\n",
    "\n",
    "train, test = dataset[1:end-100], dataset[end-99:end]\n",
    "\n",
    "N = 15\n",
    "\n",
    "scanner = Chain(Dense(length(alphabet), N, σ), LSTM(N, N))\n",
    "encoder = Dense(N, length(langs))\n",
    "\n",
    "function model(x)\n",
    "  state = scanner.(x.data)[end]\n",
    "  reset!(scanner)\n",
    "  softmax(encoder(state))\n",
    "end\n",
    "\n",
    "loss(x, y) = crossentropy(model(x), y)\n",
    "\n",
    "testloss() = mean(loss(t...) for t in test)\n",
    "\n",
    "opt = ADAM(params(scanner, encoder))\n",
    "evalcb = () -> @show testloss()\n",
    "\n",
    "Flux.train!(loss, train, opt, cb = throttle(evalcb, 10))"
   ],
   "metadata": {},
   "execution_count": 2
  }
 ],
 "nbformat_minor": 3,
 "metadata": {
  "language_info": {
   "file_extension": ".jl",
   "mimetype": "application/julia",
   "name": "julia",
   "version": "1.0.2"
  },
  "kernelspec": {
   "name": "julia-1.0",
   "display_name": "Julia 1.0.2",
   "language": "julia"
  }
 },
 "nbformat": 4
}
