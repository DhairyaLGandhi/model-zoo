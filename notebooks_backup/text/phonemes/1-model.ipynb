{
 "cells": [
  {
   "outputs": [
    {
     "name": "stdout",
     "output_type": "stream",
     "text": [
      "  Updating registry at `~/.julia/registries/General`\n",
      "  Updating git-repo `https://github.com/JuliaRegistries/General.git`\n",
      "\u001b[?25l\u001b[2K\u001b[?25h Installed Compat ─────────── v1.1.0\n",
      " Installed ZipFile ────────── v0.7.0\n",
      " Installed Missings ───────── v0.3.0\n",
      " Installed Media ──────────── v0.4.1\n",
      " Installed CodecZlib ──────── v0.5.0\n",
      " Installed DataStructures ─── v0.12.0\n",
      " Installed SpecialFunctions ─ v0.7.0\n",
      " Installed ForwardDiff ────── v0.9.0\n",
      " Installed NNlib ──────────── v0.4.2\n",
      " Installed Flux ───────────── v0.6.7\n",
      " Installed ColorTypes ─────── v0.7.4\n",
      " Installed BinaryProvider ─── v0.4.2\n",
      " Installed StaticArrays ───── v0.8.3\n",
      " Installed Colors ─────────── v0.9.4\n",
      "  Building SpecialFunctions → `~/.julia/packages/SpecialFunctions/KvXoO/deps/build.log`\n",
      "  Building CodecZlib ───────→ `~/.julia/packages/CodecZlib/wwgbh/deps/build.log`\n"
     ]
    }
   ],
   "cell_type": "code",
   "source": [
    "using Pkg; Pkg.activate(\".\"); Pkg.instantiate();"
   ],
   "metadata": {},
   "execution_count": 1
  },
  {
   "outputs": [],
   "cell_type": "markdown",
   "source": [
    "Based on https://arxiv.org/abs/1409.0473"
   ],
   "metadata": {}
  },
  {
   "outputs": [
    {
     "name": "stdout",
     "output_type": "stream",
     "text": [
      "WARNING: could not import NNlib.cudata into Tracker\n",
      "┌ Info: Downloading CMUDict dataset\n",
      "└ @ Flux.Data.CMUDict /home/dhairyagandhi96/.julia/packages/Flux/UHjNa/src/data/cmudict.jl:17\n",
      "  % Total    % Received % Xferd  Average Speed   Time    Time     Time  Current\n",
      "                                 Dload  Upload   Total   Spent    Left  Speed\n",
      "\r  0     0    0     0    0     0      0      0 --:--:-- --:--:-- --:--:--     0\r  0     0    0     0    0     0      0      0 --:--:-- --:--:-- --:--:--     0\r100   441  100   441    0     0    930      0 --:--:-- --:--:-- --:--:--   928\n",
      "\r100 3629k  100 3629k    0     0  4295k      0 --:--:-- --:--:-- --:--:-- 4295k\n",
      "  % Total    % Received % Xferd  Average Speed   Time    Time     Time  Current\n",
      "                                 Dload  Upload   Total   Spent    Left  Speed\n",
      "\r  0     0    0     0    0     0      0      0 --:--:-- --:--:-- --:--:--     0\r100   455  100   455    0     0   2049      0 --:--:-- --:--:-- --:--:--  2049\n",
      "\r100   382  100   382    0     0   1140      0 --:--:-- --:--:-- --:--:--  1140\n",
      "  % Total    % Received % Xferd  Average Speed   Time    Time     Time  Current\n",
      "                                 Dload  Upload   Total   Spent    Left  Speed\n",
      "\r  0     0    0     0    0     0      0      0 --:--:-- --:--:-- --:--:--     0\r  0     0    0     0    0     0      0      0 --:--:-- --:--:-- --:--:--     0\r100   457  100   457    0     0   2115      0 --:--:-- --:--:-- --:--:--  2105\n",
      "\r100   281  100   281    0     0    814      0 --:--:-- --:--:-- --:--:--   814\n"
     ]
    },
    {
     "output_type": "execute_result",
     "data": {
      "text/plain": "30"
     },
     "metadata": {},
     "execution_count": 2
    }
   ],
   "cell_type": "code",
   "source": [
    "using Flux: flip, crossentropy, reset!, throttle\n",
    "\n",
    "include(\"0-data.jl\")\n",
    "\n",
    "Nin = length(alphabet)\n",
    "Nh = 30 # size of hidden layer"
   ],
   "metadata": {},
   "execution_count": 2
  },
  {
   "outputs": [],
   "cell_type": "markdown",
   "source": [
    "A recurrent model which takes a token and returns a context-dependent\n",
    "annotation."
   ],
   "metadata": {}
  },
  {
   "outputs": [
    {
     "output_type": "execute_result",
     "data": {
      "text/plain": "align (generic function with 1 method)"
     },
     "metadata": {},
     "execution_count": 3
    }
   ],
   "cell_type": "code",
   "source": [
    "forward  = LSTM(Nin, Nh÷2)\n",
    "backward = LSTM(Nin, Nh÷2)\n",
    "encode(tokens) = vcat.(forward.(tokens), flip(backward, tokens))\n",
    "\n",
    "alignnet = Dense(2Nh, 1)\n",
    "align(s, t) = alignnet(vcat(t, s .* trues(1, size(t, 2))))"
   ],
   "metadata": {},
   "execution_count": 3
  },
  {
   "outputs": [],
   "cell_type": "markdown",
   "source": [
    "A recurrent model which takes a sequence of annotations, attends, and returns\n",
    "a predicted output token."
   ],
   "metadata": {}
  },
  {
   "outputs": [
    {
     "output_type": "execute_result",
     "data": {
      "text/plain": "decode (generic function with 1 method)"
     },
     "metadata": {},
     "execution_count": 4
    }
   ],
   "cell_type": "code",
   "source": [
    "recur   = LSTM(Nh+length(phones), Nh)\n",
    "toalpha = Dense(Nh, length(phones))\n",
    "\n",
    "function asoftmax(xs)\n",
    "  xs = [exp.(x) for x in xs]\n",
    "  s = sum(xs)\n",
    "  return [x ./ s for x in xs]\n",
    "end\n",
    "\n",
    "function decode1(tokens, phone)\n",
    "  weights = asoftmax([align(recur.state[2], t) for t in tokens])\n",
    "  context = sum(map((a, b) -> a .* b, weights, tokens))\n",
    "  y = recur(vcat(float(phone), context))\n",
    "  return softmax(toalpha(y))\n",
    "end\n",
    "\n",
    "decode(tokens, phones) = [decode1(tokens, phone) for phone in phones]"
   ],
   "metadata": {},
   "execution_count": 4
  },
  {
   "outputs": [],
   "cell_type": "markdown",
   "source": [
    "The full model"
   ],
   "metadata": {}
  },
  {
   "outputs": [
    {
     "name": "stdout",
     "output_type": "stream",
     "text": [
      "loss(data[500]...) = 31.196248911316175 (tracked)\n",
      "loss(data[500]...) = 18.972686562093664 (tracked)\n",
      "loss(data[500]...) = 17.24633769361914 (tracked)\n",
      "loss(data[500]...) = 15.78869506280649 (tracked)\n",
      "loss(data[500]...) = 14.450438156943573 (tracked)\n",
      "loss(data[500]...) = 14.519718743800802 (tracked)\n",
      "loss(data[500]...) = 13.432460058485816 (tracked)\n",
      "loss(data[500]...) = 12.655016075722912 (tracked)\n",
      "loss(data[500]...) = 12.993700013880023 (tracked)\n",
      "loss(data[500]...) = 12.513409757003476 (tracked)\n",
      "loss(data[500]...) = 13.116094984540927 (tracked)\n",
      "loss(data[500]...) = 13.25861052566218 (tracked)\n",
      "loss(data[500]...) = 13.238037142798877 (tracked)\n",
      "loss(data[500]...) = 13.906508968288195 (tracked)\n",
      "loss(data[500]...) = 14.279464243950542 (tracked)\n",
      "loss(data[500]...) = 15.443783676540672 (tracked)\n",
      "loss(data[500]...) = 14.768633821443984 (tracked)\n",
      "loss(data[500]...) = 15.163692827457256 (tracked)\n",
      "loss(data[500]...) = 16.34684358955311 (tracked)\n",
      "loss(data[500]...) = 18.429544301313356 (tracked)\n"
     ]
    }
   ],
   "cell_type": "code",
   "source": [
    "state = (forward, backward, alignnet, recur, toalpha)\n",
    "\n",
    "function model(x, y)\n",
    "  ŷ = decode(encode(x), y)\n",
    "  reset!(state)\n",
    "  return ŷ\n",
    "end\n",
    "\n",
    "loss(x, yo, y) = sum(crossentropy.(model(x, yo), y))\n",
    "\n",
    "evalcb = () -> @show loss(data[500]...)\n",
    "opt = ADAM(params(state))\n",
    "\n",
    "Flux.train!(loss, data, opt, cb = throttle(evalcb, 10))"
   ],
   "metadata": {},
   "execution_count": 5
  },
  {
   "outputs": [],
   "cell_type": "markdown",
   "source": [
    "Prediction"
   ],
   "metadata": {}
  },
  {
   "outputs": [
    {
     "output_type": "execute_result",
     "data": {
      "text/plain": "15-element Array{Any,1}:\n :OW1\n :L  \n :AH0\n :JH \n :AE1\n :N  \n :T  \n :R  \n :B  \n :Y  \n :EY2\n :L  \n :AH0\n :D  \n :IY0"
     },
     "metadata": {},
     "execution_count": 6
    }
   ],
   "cell_type": "code",
   "source": [
    "using StatsBase: wsample\n",
    "\n",
    "function predict(s)\n",
    "  ts = encode(tokenise(s, alphabet))\n",
    "  ps = Any[:start]\n",
    "  for i = 1:50\n",
    "    dist = decode1(ts, onehot(ps[end], phones))\n",
    "    next = wsample(phones, vec(Tracker.data(dist)))\n",
    "    next == :end && break\n",
    "    push!(ps, next)\n",
    "  end\n",
    "  return ps[2:end]\n",
    "end\n",
    "\n",
    "predict(\"PHYLOGENY\")"
   ],
   "metadata": {},
   "execution_count": 6
  }
 ],
 "nbformat_minor": 3,
 "metadata": {
  "language_info": {
   "file_extension": ".jl",
   "mimetype": "application/julia",
   "name": "julia",
   "version": "1.0.2"
  },
  "kernelspec": {
   "name": "julia-1.0",
   "display_name": "Julia 1.0.2",
   "language": "julia"
  }
 },
 "nbformat": 4
}
