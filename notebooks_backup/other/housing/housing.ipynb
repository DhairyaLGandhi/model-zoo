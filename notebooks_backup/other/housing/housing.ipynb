{
 "cells": [
  {
   "outputs": [
    {
     "name": "stdout",
     "output_type": "stream",
     "text": [
      "  Updating registry at `~/.julia/registries/General`\n",
      "  Updating git-repo `https://github.com/JuliaRegistries/General.git`\n",
      "\u001b[?25l\u001b[2K\u001b[?25h Resolving package versions...\n",
      "  Updating `~/modelzoo/model-zoo/notebooks/other/housing/Project.toml`\n",
      " [no changes]\n",
      "  Updating `~/modelzoo/model-zoo/notebooks/other/housing/Manifest.toml`\n",
      "  [1520ce14] ↑ AbstractTrees v0.2.0 ⇒ v0.2.1\n",
      "  [b99e7846] ↑ BinaryProvider v0.4.2 ⇒ v0.5.3\n",
      "  [944b1d66] ↑ CodecZlib v0.5.0 ⇒ v0.5.1\n",
      "  [3da002f7] ↑ ColorTypes v0.7.4 ⇒ v0.7.5\n",
      "  [5ae59095] ↑ Colors v0.9.4 ⇒ v0.9.5\n",
      "  [34da2185] ↑ Compat v1.1.0 ⇒ v1.4.0\n",
      "  [864edb3b] ↑ DataStructures v0.12.0 ⇒ v0.14.0\n",
      "  [f6369f11] ↑ ForwardDiff v0.9.0 ⇒ v0.10.1\n",
      "  [e89f7d12] ↑ Media v0.4.1 ⇒ v0.5.0\n",
      "  [e1d29d7a] ↑ Missings v0.3.0 ⇒ v0.3.1\n",
      "  [872c559c] ↑ NNlib v0.4.2 ⇒ v0.4.3\n",
      "  [bac558e1] + OrderedCollections v1.0.2\n",
      "  [276daf66] ↑ SpecialFunctions v0.7.0 ⇒ v0.7.2\n",
      "  [90137ffa] ↑ StaticArrays v0.8.3 ⇒ v0.10.0\n",
      "  [2913bbd2] ↑ StatsBase v0.25.0 ⇒ v0.26.0\n",
      "  [a5390f91] ↑ ZipFile v0.7.0 ⇒ v0.8.0\n"
     ]
    }
   ],
   "cell_type": "code",
   "source": [
    "using Pkg; Pkg.activate(\".\"); Pkg.instantiate(); Pkg.add(\"Flux\")\n",
    "\n",
    "using Flux.Tracker, Statistics, DelimitedFiles\n",
    "using Flux.Tracker: Params, gradient, update!"
   ],
   "metadata": {},
   "execution_count": 1
  },
  {
   "outputs": [],
   "cell_type": "markdown",
   "source": [
    "This replicates the housing data example from the Knet.jl readme. Although we\n",
    "could have reused more of Flux (see the mnist example), the library's\n",
    "abstractions are very lightweight and don't force you into any particular\n",
    "strategy."
   ],
   "metadata": {}
  },
  {
   "outputs": [
    {
     "name": "stdout",
     "output_type": "stream",
     "text": [
      "  % Total    % Received % Xferd  Average Speed   Time    Time     Time  Current\n",
      "                                 Dload  Upload   Total   Spent    Left  Speed\n",
      "\r  0     0    0     0    0     0      0      0 --:--:-- --:--:-- --:--:--     0\r100 48985  100 48985    0     0   349k      0 --:--:-- --:--:-- --:--:--  349k\n"
     ]
    },
    {
     "output_type": "execute_result",
     "data": {
      "text/plain": "14×505 LinearAlgebra.Adjoint{Float64,Array{Float64,2}}:\n   0.02731    0.02729    0.03237  …    0.06076    0.10959    0.04741\n   0.0        0.0        0.0           0.0        0.0        0.0    \n   7.07       7.07       2.18         11.93      11.93      11.93   \n   0.0        0.0        0.0           0.0        0.0        0.0    \n   0.469      0.469      0.458         0.573      0.573      0.573  \n   6.421      7.185      6.998    …    6.976      6.794      6.03   \n  78.9       61.1       45.8          91.0       89.3       80.8    \n   4.9671     4.9671     6.0622        2.1675     2.3889     2.505  \n   2.0        2.0        3.0           1.0        1.0        1.0    \n 242.0      242.0      222.0         273.0      273.0      273.0    \n  17.8       17.8       18.7      …   21.0       21.0       21.0    \n 396.9      392.83     394.63        396.9      393.45     396.9    \n   9.14       4.03       2.94          5.64       6.48       7.88   \n  21.6       34.7       33.4          23.9       22.0       11.9    "
     },
     "metadata": {},
     "execution_count": 2
    }
   ],
   "cell_type": "code",
   "source": [
    "cd(@__DIR__)\n",
    "\n",
    "isfile(\"housing.data\") ||\n",
    "  download(\"https://raw.githubusercontent.com/MikeInnes/notebooks/master/housing.data\",\n",
    "           \"housing.data\")\n",
    "\n",
    "rawdata = readdlm(\"housing.data\")'"
   ],
   "metadata": {},
   "execution_count": 2
  },
  {
   "outputs": [],
   "cell_type": "markdown",
   "source": [
    "The last feature is our target -- the price of the house."
   ],
   "metadata": {}
  },
  {
   "outputs": [
    {
     "output_type": "execute_result",
     "data": {
      "text/plain": "1×505 Array{Float64,2}:\n 21.6  34.7  33.4  36.2  28.7  22.9  …  16.8  22.4  20.6  23.9  22.0  11.9"
     },
     "metadata": {},
     "execution_count": 3
    }
   ],
   "cell_type": "code",
   "source": [
    "x = rawdata[1:13,:]\n",
    "y = rawdata[14:14,:]"
   ],
   "metadata": {},
   "execution_count": 3
  },
  {
   "outputs": [],
   "cell_type": "markdown",
   "source": [
    "Normalise the data"
   ],
   "metadata": {}
  },
  {
   "outputs": [
    {
     "output_type": "execute_result",
     "data": {
      "text/plain": "13×505 Array{Float64,2}:\n -0.417416  -0.417418  -0.416828  …  -0.41353   -0.407858  -0.415081\n -0.486234  -0.486234  -0.486234     -0.486234  -0.486234  -0.486234\n -0.595732  -0.595732  -1.30899       0.11315    0.11315    0.11315 \n -0.272618  -0.272618  -0.272618     -0.272618  -0.272618  -0.272618\n -0.739098  -0.739098  -0.833934      0.15753    0.15753    0.15753 \n  0.194741   1.28121    1.01528   …   0.983996   0.725177  -0.361293\n  0.366208  -0.265527  -0.808535      0.795646   0.735312   0.433641\n  0.556346   0.556346   1.0759       -0.771891  -0.66685   -0.611768\n -0.868939  -0.868939  -0.754097     -0.983782  -0.983782  -0.983782\n -0.987128  -0.987128  -1.10573      -0.803294  -0.803294  -0.803294\n -0.306024  -0.306024   0.110158  …   1.17373    1.17373    1.17373 \n  0.441136   0.396591   0.416291      0.441136   0.403377   0.441136\n -0.494157  -1.20985   -1.36251      -0.984357  -0.866709  -0.670629"
     },
     "metadata": {},
     "execution_count": 4
    }
   ],
   "cell_type": "code",
   "source": [
    "x = (x .- mean(x, dims = 2)) ./ std(x, dims = 2)"
   ],
   "metadata": {},
   "execution_count": 4
  },
  {
   "outputs": [],
   "cell_type": "markdown",
   "source": [
    "The model"
   ],
   "metadata": {}
  },
  {
   "outputs": [
    {
     "output_type": "execute_result",
     "data": {
      "text/plain": "Tracked 1-element Array{Float64,1}:\n 0.0"
     },
     "metadata": {},
     "execution_count": 5
    }
   ],
   "cell_type": "code",
   "source": [
    "W = param(randn(1,13)/10)\n",
    "b = param([0.])"
   ],
   "metadata": {},
   "execution_count": 5
  },
  {
   "outputs": [],
   "cell_type": "markdown",
   "source": [
    "using CuArrays\n",
    "W, b, x, y = cu.((W, b, x, y))"
   ],
   "metadata": {}
  },
  {
   "outputs": [
    {
     "name": "stdout",
     "output_type": "stream",
     "text": [
      "loss(x, y) = 367.2818703136513 (tracked)\n",
      "loss(x, y) = 242.00358836680243 (tracked)\n",
      "loss(x, y) = 163.10915159227505 (tracked)\n",
      "loss(x, y) = 112.83224080945294 (tracked)\n",
      "loss(x, y) = 80.72250651347507 (tracked)\n",
      "loss(x, y) = 60.18435464121343 (tracked)\n",
      "loss(x, y) = 47.02585643472023 (tracked)\n",
      "loss(x, y) = 38.578445205395504 (tracked)\n",
      "loss(x, y) = 33.141510547752965 (tracked)\n",
      "loss(x, y) = 29.630301742513243 (tracked)\n"
     ]
    },
    {
     "output_type": "execute_result",
     "data": {
      "text/plain": "Tracked 1-element Array{Float64,1}:\n 1.0565988408749545"
     },
     "metadata": {},
     "execution_count": 6
    }
   ],
   "cell_type": "code",
   "source": [
    "predict(x) = W*x .+ b\n",
    "meansquarederror(ŷ, y) = sum((ŷ .- y).^2)/size(y, 2)\n",
    "loss(x, y) = meansquarederror(predict(x), y)\n",
    "\n",
    "η = 0.1\n",
    "θ = Params([W, b])\n",
    "\n",
    "for i = 1:10\n",
    "  g = gradient(() -> loss(x, y), θ)\n",
    "  for x in θ\n",
    "    update!(x, -g[x]*η)\n",
    "  end\n",
    "  @show loss(x, y)\n",
    "end\n",
    "\n",
    "predict(x[:,1]) / y[1]"
   ],
   "metadata": {},
   "execution_count": 6
  }
 ],
 "nbformat_minor": 3,
 "metadata": {
  "language_info": {
   "file_extension": ".jl",
   "mimetype": "application/julia",
   "name": "julia",
   "version": "1.0.2"
  },
  "kernelspec": {
   "name": "julia-1.0",
   "display_name": "Julia 1.0.2",
   "language": "julia"
  }
 },
 "nbformat": 4
}
