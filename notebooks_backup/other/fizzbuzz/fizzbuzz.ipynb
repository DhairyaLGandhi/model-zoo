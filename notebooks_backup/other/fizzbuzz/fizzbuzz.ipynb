{
 "cells": [
  {
   "outputs": [
    {
     "name": "stdout",
     "output_type": "stream",
     "text": [
      "  Updating registry at `~/.julia/registries/General`\n",
      "  Updating git-repo `https://github.com/JuliaRegistries/General.git`\n",
      "\u001b[?25l\u001b[2K\u001b[?25h Installed Flux ─ v0.6.7\n",
      " Resolving package versions...\n",
      "  Updating `~/modelzoo/model-zoo/notebooks/other/fizzbuzz/Project.toml`\n",
      " [no changes]\n",
      "  Updating `~/modelzoo/model-zoo/notebooks/other/fizzbuzz/Manifest.toml`\n",
      "  [1520ce14] ↑ AbstractTrees v0.2.0 ⇒ v0.2.1\n",
      "  [b99e7846] ↑ BinaryProvider v0.4.2 ⇒ v0.5.3\n",
      "  [944b1d66] ↑ CodecZlib v0.5.0 ⇒ v0.5.1\n",
      "  [3da002f7] ↑ ColorTypes v0.7.4 ⇒ v0.7.5\n",
      "  [5ae59095] ↑ Colors v0.9.4 ⇒ v0.9.5\n",
      "  [34da2185] ↑ Compat v1.1.0 ⇒ v1.4.0\n",
      "  [864edb3b] ↑ DataStructures v0.12.0 ⇒ v0.14.0\n",
      "  [f6369f11] ↑ ForwardDiff v0.9.0 ⇒ v0.10.1\n",
      "  [e89f7d12] ↑ Media v0.4.1 ⇒ v0.5.0\n",
      "  [e1d29d7a] ↑ Missings v0.3.0 ⇒ v0.3.1\n",
      "  [872c559c] ↑ NNlib v0.4.2 ⇒ v0.4.3\n",
      "  [bac558e1] + OrderedCollections v1.0.2\n",
      "  [276daf66] ↑ SpecialFunctions v0.7.0 ⇒ v0.7.2\n",
      "  [90137ffa] ↑ StaticArrays v0.8.3 ⇒ v0.10.0\n",
      "  [2913bbd2] ↑ StatsBase v0.25.0 ⇒ v0.26.0\n",
      "  [a5390f91] ↑ ZipFile v0.7.0 ⇒ v0.8.0\n"
     ]
    }
   ],
   "cell_type": "code",
   "source": [
    "using Pkg; Pkg.activate(\".\"); Pkg.instantiate(); Pkg.add(\"Flux\")"
   ],
   "metadata": {},
   "execution_count": 1
  },
  {
   "outputs": [],
   "cell_type": "markdown",
   "source": [
    "Inspired by \"Fizz Buzz in Tensorflow\" blog by Joel Grus\n",
    "http://joelgrus.com/2016/05/23/fizz-buzz-in-tensorflow/"
   ],
   "metadata": {}
  },
  {
   "outputs": [
    {
     "name": "stdout",
     "output_type": "stream",
     "text": [
      "WARNING: could not import NNlib.cudata into Tracker\n"
     ]
    }
   ],
   "cell_type": "code",
   "source": [
    "using Flux: Chain, Dense, params, crossentropy, onehotbatch,\n",
    "            ADAM, train!, softmax\n",
    "using Test"
   ],
   "metadata": {},
   "execution_count": 2
  },
  {
   "outputs": [],
   "cell_type": "markdown",
   "source": [
    "Data preparation"
   ],
   "metadata": {}
  },
  {
   "outputs": [],
   "cell_type": "code",
   "source": [
    "function fizzbuzz(x::Int)\n",
    "    is_divisible_by_three = x % 3 == 0\n",
    "    is_divisible_by_five = x % 5 == 0\n",
    "\n",
    "    if is_divisible_by_three & is_divisible_by_five\n",
    "        return \"fizzbuzz\"\n",
    "    elseif is_divisible_by_three\n",
    "        return \"fizz\"\n",
    "    elseif is_divisible_by_five\n",
    "        return \"buzz\"\n",
    "    else\n",
    "        return \"else\"\n",
    "    end\n",
    "end\n",
    "\n",
    "const LABELS = [\"fizz\", \"buzz\", \"fizzbuzz\", \"else\"];\n",
    "\n",
    "@test fizzbuzz.([3, 5, 15, 98]) == LABELS\n",
    "\n",
    "raw_x = 1:100;\n",
    "raw_y = fizzbuzz.(raw_x);"
   ],
   "metadata": {},
   "execution_count": 3
  },
  {
   "outputs": [],
   "cell_type": "markdown",
   "source": [
    "Feature engineering"
   ],
   "metadata": {}
  },
  {
   "outputs": [],
   "cell_type": "code",
   "source": [
    "features(x) = float.([x % 3, x % 5, x % 15])\n",
    "features(x::AbstractArray) = hcat(features.(x)...)\n",
    "\n",
    "X = features(raw_x);\n",
    "y = onehotbatch(raw_y, LABELS);"
   ],
   "metadata": {},
   "execution_count": 4
  },
  {
   "outputs": [],
   "cell_type": "markdown",
   "source": [
    "Model"
   ],
   "metadata": {}
  },
  {
   "outputs": [
    {
     "output_type": "execute_result",
     "data": {
      "text/plain": "#43 (generic function with 1 method)"
     },
     "metadata": {},
     "execution_count": 5
    }
   ],
   "cell_type": "code",
   "source": [
    "m = Chain(Dense(3, 10), Dense(10, 4), softmax)\n",
    "loss(x, y) = crossentropy(m(X), y)\n",
    "opt = ADAM(params(m))"
   ],
   "metadata": {},
   "execution_count": 5
  },
  {
   "outputs": [],
   "cell_type": "markdown",
   "source": [
    "Helpers"
   ],
   "metadata": {}
  },
  {
   "outputs": [
    {
     "output_type": "execute_result",
     "data": {
      "text/plain": "monitor (generic function with 1 method)"
     },
     "metadata": {},
     "execution_count": 6
    }
   ],
   "cell_type": "code",
   "source": [
    "deepbuzz(x) = (a = argmax(m(features(x))); a == 4 ? x : LABELS[a])\n",
    "\n",
    "function monitor(e)\n",
    "    print(\"epoch $(lpad(e, 4)): loss = $(round(loss(X,y).data; digits=4)) | \")\n",
    "    @show deepbuzz.([3, 5, 15, 98])\n",
    "end"
   ],
   "metadata": {},
   "execution_count": 6
  },
  {
   "outputs": [],
   "cell_type": "markdown",
   "source": [
    "Training"
   ],
   "metadata": {}
  },
  {
   "outputs": [
    {
     "name": "stdout",
     "output_type": "stream",
     "text": [
      "epoch    0: loss = 6.1662 | deepbuzz.([3, 5, 15, 98]) = Any[\"buzz\", \"buzz\", 15, \"buzz\"]\n",
      "epoch   50: loss = 2.4324 | deepbuzz.([3, 5, 15, 98]) = Any[3, \"buzz\", 15, \"buzz\"]\n",
      "epoch  100: loss = 1.0155 | deepbuzz.([3, 5, 15, 98]) = Any[3, \"fizz\", 15, 98]\n",
      "epoch  150: loss = 0.8911 | deepbuzz.([3, 5, 15, 98]) = Any[3, \"fizz\", 15, 98]\n",
      "epoch  200: loss = 0.7953 | deepbuzz.([3, 5, 15, 98]) = Any[3, 5, \"fizzbuzz\", 98]\n",
      "epoch  250: loss = 0.7132 | deepbuzz.([3, 5, 15, 98]) = Any[3, 5, \"fizzbuzz\", 98]\n",
      "epoch  300: loss = 0.6447 | deepbuzz.([3, 5, 15, 98]) = Any[3, 5, \"fizzbuzz\", 98]\n",
      "epoch  350: loss = 0.5871 | deepbuzz.([3, 5, 15, 98]) = Any[3, 5, \"fizzbuzz\", 98]\n",
      "epoch  400: loss = 0.5372 | deepbuzz.([3, 5, 15, 98]) = Any[3, 5, \"fizzbuzz\", 98]\n",
      "epoch  450: loss = 0.4929 | deepbuzz.([3, 5, 15, 98]) = Any[\"fizz\", 5, \"fizzbuzz\", 98]\n",
      "epoch  500: loss = 0.453 | deepbuzz.([3, 5, 15, 98]) = Any[\"fizz\", 5, \"fizzbuzz\", 98]\n",
      "epoch  550: loss = 0.4167 | deepbuzz.([3, 5, 15, 98]) = Any[\"fizz\", 5, \"fizzbuzz\", 98]\n",
      "epoch  600: loss = 0.3837 | deepbuzz.([3, 5, 15, 98]) = Any[\"fizz\", 5, \"fizzbuzz\", 98]\n",
      "epoch  650: loss = 0.3534 | deepbuzz.([3, 5, 15, 98]) = Any[\"fizz\", 5, \"fizzbuzz\", 98]\n",
      "epoch  700: loss = 0.3257 | deepbuzz.([3, 5, 15, 98]) = Any[\"fizz\", 5, \"fizzbuzz\", 98]\n",
      "epoch  750: loss = 0.3004 | deepbuzz.([3, 5, 15, 98]) = Any[\"fizz\", 5, \"fizzbuzz\", 98]\n",
      "epoch  800: loss = 0.2772 | deepbuzz.([3, 5, 15, 98]) = Any[\"fizz\", 5, \"fizzbuzz\", 98]\n",
      "epoch  850: loss = 0.256 | deepbuzz.([3, 5, 15, 98]) = Any[\"fizz\", \"buzz\", \"fizzbuzz\", 98]\n",
      "epoch  900: loss = 0.2366 | deepbuzz.([3, 5, 15, 98]) = Any[\"fizz\", \"buzz\", \"fizzbuzz\", 98]\n",
      "epoch  950: loss = 0.2188 | deepbuzz.([3, 5, 15, 98]) = Any[\"fizz\", \"buzz\", \"fizzbuzz\", 98]\n",
      "epoch 1000: loss = 0.2024 | deepbuzz.([3, 5, 15, 98]) = Any[\"fizz\", \"buzz\", \"fizzbuzz\", 98]\n"
     ]
    }
   ],
   "cell_type": "code",
   "source": [
    "for e in 0:1000\n",
    "    train!(loss, [(X, y)], opt)\n",
    "    if e % 50 == 0; monitor(e) end\n",
    "end"
   ],
   "metadata": {},
   "execution_count": 7
  }
 ],
 "nbformat_minor": 3,
 "metadata": {
  "language_info": {
   "file_extension": ".jl",
   "mimetype": "application/julia",
   "name": "julia",
   "version": "1.0.2"
  },
  "kernelspec": {
   "name": "julia-1.0",
   "display_name": "Julia 1.0.2",
   "language": "julia"
  }
 },
 "nbformat": 4
}
