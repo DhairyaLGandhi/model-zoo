{
 "cells": [
  {
   "outputs": [
    {
     "name": "stdout",
     "output_type": "stream",
     "text": [
      "  Updating registry at `~/.julia/registries/General`\n",
      "  Updating git-repo `https://github.com/JuliaRegistries/General.git`\n",
      "\u001b[?25l\u001b[2K\u001b[?25h"
     ]
    }
   ],
   "cell_type": "code",
   "source": [
    "using Pkg; Pkg.activate(\".\"); Pkg.instantiate();\n",
    "\n",
    "using Flux, Flux.Data.MNIST, Statistics\n",
    "using Flux: throttle, params\n",
    "using Juno: @progress"
   ],
   "metadata": {},
   "execution_count": 1
  },
  {
   "outputs": [],
   "cell_type": "markdown",
   "source": [
    "Extend distributions slightly to have a numerically stable logpdf for `p` close to 1 or 0."
   ],
   "metadata": {}
  },
  {
   "outputs": [
    {
     "name": "stdout",
     "output_type": "stream",
     "text": [
      "┌ Warning: Module StatsBase with build ID 1459188128752384 is missing from the cache.\n",
      "│ This may mean StatsBase [2913bbd2-ae8a-5f71-8c99-4fb6c76f3a91] does not support precompilation but is imported by a module that does.\n",
      "└ @ Base loading.jl:947\n",
      "┌ Warning: Module SpecialFunctions with build ID 1450108083806226 is missing from the cache.\n",
      "│ This may mean SpecialFunctions [276daf66-3868-5448-9aa4-cd146d93841b] does not support precompilation but is imported by a module that does.\n",
      "└ @ Base loading.jl:947\n",
      "┌ Warning: Module DataStructures with build ID 1459191013855216 is missing from the cache.\n",
      "│ This may mean DataStructures [864edb3b-99cc-5e75-8d2d-829cb0a9cfe8] does not support precompilation but is imported by a module that does.\n",
      "└ @ Base loading.jl:947\n",
      "WARNING: using Distributions.params in module ##738 conflicts with an existing identifier.\n"
     ]
    },
    {
     "output_type": "execute_result",
     "data": {
      "text/plain": "logpdf (generic function with 62 methods)"
     },
     "metadata": {},
     "execution_count": 2
    }
   ],
   "cell_type": "code",
   "source": [
    "using Distributions\n",
    "import Distributions: logpdf\n",
    "logpdf(b::Bernoulli, y::Bool) = y * log(b.p + eps()) + (1 - y) * log(1 - b.p + eps())"
   ],
   "metadata": {},
   "execution_count": 2
  },
  {
   "outputs": [],
   "cell_type": "markdown",
   "source": [
    "Load data, binarise it, and partition into mini-batches of M."
   ],
   "metadata": {}
  },
  {
   "outputs": [
    {
     "output_type": "execute_result",
     "data": {
      "text/plain": "600-element Array{BitArray{2},1}:\n [false false … false false; false false … false false; … ; false false … false false; false false … false false]\n [false false … false false; false false … false false; … ; false false … false false; false false … false false]\n [false false … false false; false false … false false; … ; false false … false false; false false … false false]\n [false false … false false; false false … false false; … ; false false … false false; false false … false false]\n [false false … false false; false false … false false; … ; false false … false false; false false … false false]\n [false false … false false; false false … false false; … ; false false … false false; false false … false false]\n [false false … false false; false false … false false; … ; false false … false false; false false … false false]\n [false false … false false; false false … false false; … ; false false … false false; false false … false false]\n [false false … false false; false false … false false; … ; false false … false false; false false … false false]\n [false false … false false; false false … false false; … ; false false … false false; false false … false false]\n ⋮                                                                                                               \n [false false … false false; false false … false false; … ; false false … false false; false false … false false]\n [false false … false false; false false … false false; … ; false false … false false; false false … false false]\n [false false … false false; false false … false false; … ; false false … false false; false false … false false]\n [false false … false false; false false … false false; … ; false false … false false; false false … false false]\n [false false … false false; false false … false false; … ; false false … false false; false false … false false]\n [false false … false false; false false … false false; … ; false false … false false; false false … false false]\n [false false … false false; false false … false false; … ; false false … false false; false false … false false]\n [false false … false false; false false … false false; … ; false false … false false; false false … false false]\n [false false … false false; false false … false false; … ; false false … false false; false false … false false]"
     },
     "metadata": {},
     "execution_count": 3
    }
   ],
   "cell_type": "code",
   "source": [
    "X = float.(hcat(vec.(MNIST.images())...)) .> 0.5\n",
    "N, M = size(X, 2), 100\n",
    "data = [X[:,i] for i in Iterators.partition(1:N,M)]\n",
    "\n",
    "\n",
    "################################# Define Model #################################"
   ],
   "metadata": {},
   "execution_count": 3
  },
  {
   "outputs": [],
   "cell_type": "markdown",
   "source": [
    "Latent dimensionality, # hidden units."
   ],
   "metadata": {}
  },
  {
   "outputs": [
    {
     "output_type": "execute_result",
     "data": {
      "text/plain": "(5, 500)"
     },
     "metadata": {},
     "execution_count": 4
    }
   ],
   "cell_type": "code",
   "source": [
    "Dz, Dh = 5, 500"
   ],
   "metadata": {},
   "execution_count": 4
  },
  {
   "outputs": [],
   "cell_type": "markdown",
   "source": [
    "Components of recognition model / \"encoder\" MLP."
   ],
   "metadata": {}
  },
  {
   "outputs": [
    {
     "output_type": "execute_result",
     "data": {
      "text/plain": "z (generic function with 1 method)"
     },
     "metadata": {},
     "execution_count": 5
    }
   ],
   "cell_type": "code",
   "source": [
    "A, μ, logσ = Dense(28^2, Dh, tanh), Dense(Dh, Dz), Dense(Dh, Dz)\n",
    "g(X) = (h = A(X); (μ(h), logσ(h)))\n",
    "z(μ, logσ) = μ + exp(logσ) * randn()"
   ],
   "metadata": {},
   "execution_count": 5
  },
  {
   "outputs": [],
   "cell_type": "markdown",
   "source": [
    "Generative model / \"decoder\" MLP."
   ],
   "metadata": {}
  },
  {
   "outputs": [
    {
     "output_type": "execute_result",
     "data": {
      "text/plain": "Chain(Dense(5, 500, tanh), Dense(500, 784, NNlib.σ))"
     },
     "metadata": {},
     "execution_count": 6
    }
   ],
   "cell_type": "code",
   "source": [
    "f = Chain(Dense(Dz, Dh, tanh), Dense(Dh, 28^2, σ))\n",
    "\n",
    "\n",
    "####################### Define ways of doing things with the model. #######################"
   ],
   "metadata": {},
   "execution_count": 6
  },
  {
   "outputs": [],
   "cell_type": "markdown",
   "source": [
    "KL-divergence between approximation posterior and N(0, 1) prior."
   ],
   "metadata": {}
  },
  {
   "outputs": [
    {
     "output_type": "execute_result",
     "data": {
      "text/plain": "kl_q_p (generic function with 1 method)"
     },
     "metadata": {},
     "execution_count": 7
    }
   ],
   "cell_type": "code",
   "source": [
    "kl_q_p(μ, logσ) = 0.5 * sum(exp.(2 .* logσ) + μ.^2 .- 1 .+ logσ.^2)"
   ],
   "metadata": {},
   "execution_count": 7
  },
  {
   "outputs": [],
   "cell_type": "markdown",
   "source": [
    "logp(x|z) - conditional probability of data given latents."
   ],
   "metadata": {}
  },
  {
   "outputs": [
    {
     "output_type": "execute_result",
     "data": {
      "text/plain": "logp_x_z (generic function with 1 method)"
     },
     "metadata": {},
     "execution_count": 8
    }
   ],
   "cell_type": "code",
   "source": [
    "logp_x_z(x, z) = sum(logpdf.(Bernoulli.(f(z)), x))"
   ],
   "metadata": {},
   "execution_count": 8
  },
  {
   "outputs": [],
   "cell_type": "markdown",
   "source": [
    "Monte Carlo estimator of mean ELBO using M samples."
   ],
   "metadata": {}
  },
  {
   "outputs": [
    {
     "output_type": "execute_result",
     "data": {
      "text/plain": "loss (generic function with 1 method)"
     },
     "metadata": {},
     "execution_count": 9
    }
   ],
   "cell_type": "code",
   "source": [
    "L̄(X) = ((μ̂, logσ̂) = g(X); (logp_x_z(X, z.(μ̂, logσ̂)) - kl_q_p(μ̂, logσ̂)) / M)\n",
    "\n",
    "loss(X) = -L̄(X) + 0.01 * sum(x->sum(x.^2), params(f))"
   ],
   "metadata": {},
   "execution_count": 9
  },
  {
   "outputs": [],
   "cell_type": "markdown",
   "source": [
    "Sample from the learned model."
   ],
   "metadata": {}
  },
  {
   "outputs": [
    {
     "name": "stdout",
     "output_type": "stream",
     "text": [
      "┌ Info: Epoch 1\n",
      "└ @ Main.##738 string:9\n",
      "-(L̄(X[:, rand(1:N, M)])) = 551.0339316170952 (tracked)\n",
      "-(L̄(X[:, rand(1:N, M)])) = 197.36916138186595 (tracked)\n",
      "-(L̄(X[:, rand(1:N, M)])) = 175.6337985107018 (tracked)\n",
      "-(L̄(X[:, rand(1:N, M)])) = 167.03643765859331 (tracked)\n",
      "-(L̄(X[:, rand(1:N, M)])) = 171.57124888549475 (tracked)\n",
      "-(L̄(X[:, rand(1:N, M)])) = 180.4850619905305 (tracked)\n",
      "-(L̄(X[:, rand(1:N, M)])) = 170.97635744531388 (tracked)\n",
      "-(L̄(X[:, rand(1:N, M)])) = 168.35696497746406 (tracked)\n",
      "┌ Info: Epoch 2\n",
      "└ @ Main.##738 string:9\n",
      "-(L̄(X[:, rand(1:N, M)])) = 172.2982575002878 (tracked)\n",
      "-(L̄(X[:, rand(1:N, M)])) = 170.99741622490492 (tracked)\n",
      "-(L̄(X[:, rand(1:N, M)])) = 166.96967988360845 (tracked)\n",
      "-(L̄(X[:, rand(1:N, M)])) = 161.38892883793972 (tracked)\n",
      "-(L̄(X[:, rand(1:N, M)])) = 159.28501341334854 (tracked)\n",
      "-(L̄(X[:, rand(1:N, M)])) = 162.0019334718976 (tracked)\n",
      "-(L̄(X[:, rand(1:N, M)])) = 154.2080511727885 (tracked)\n",
      "┌ Info: Epoch 3\n",
      "└ @ Main.##738 string:9\n",
      "-(L̄(X[:, rand(1:N, M)])) = 158.7928787345222 (tracked)\n",
      "-(L̄(X[:, rand(1:N, M)])) = 156.44409961744714 (tracked)\n",
      "-(L̄(X[:, rand(1:N, M)])) = 147.71211682345174 (tracked)\n",
      "-(L̄(X[:, rand(1:N, M)])) = 153.9342455155256 (tracked)\n",
      "-(L̄(X[:, rand(1:N, M)])) = 155.72353308786202 (tracked)\n",
      "-(L̄(X[:, rand(1:N, M)])) = 147.00435235721795 (tracked)\n",
      "-(L̄(X[:, rand(1:N, M)])) = 150.26259473565787 (tracked)\n",
      "-(L̄(X[:, rand(1:N, M)])) = 141.71871938669025 (tracked)\n",
      "┌ Info: Epoch 4\n",
      "└ @ Main.##738 string:9\n",
      "-(L̄(X[:, rand(1:N, M)])) = 153.71063039894597 (tracked)\n",
      "-(L̄(X[:, rand(1:N, M)])) = 152.50307826517883 (tracked)\n",
      "-(L̄(X[:, rand(1:N, M)])) = 151.6625388632194 (tracked)\n",
      "-(L̄(X[:, rand(1:N, M)])) = 148.3697602092172 (tracked)\n",
      "-(L̄(X[:, rand(1:N, M)])) = 148.54984971425935 (tracked)\n",
      "-(L̄(X[:, rand(1:N, M)])) = 153.6389781804821 (tracked)\n",
      "-(L̄(X[:, rand(1:N, M)])) = 146.63637239948466 (tracked)\n",
      "┌ Info: Epoch 5\n",
      "└ @ Main.##738 string:9\n",
      "-(L̄(X[:, rand(1:N, M)])) = 144.30158349382242 (tracked)\n",
      "-(L̄(X[:, rand(1:N, M)])) = 146.275930532124 (tracked)\n",
      "-(L̄(X[:, rand(1:N, M)])) = 148.4150623422413 (tracked)\n",
      "-(L̄(X[:, rand(1:N, M)])) = 142.8497739142316 (tracked)\n",
      "-(L̄(X[:, rand(1:N, M)])) = 141.98198283943196 (tracked)\n",
      "-(L̄(X[:, rand(1:N, M)])) = 144.27826306012065 (tracked)\n",
      "-(L̄(X[:, rand(1:N, M)])) = 147.1159959105813 (tracked)\n",
      "-(L̄(X[:, rand(1:N, M)])) = 147.11449315069876 (tracked)\n",
      "┌ Info: Epoch 6\n",
      "└ @ Main.##738 string:9\n",
      "-(L̄(X[:, rand(1:N, M)])) = 145.4586139227684 (tracked)\n",
      "-(L̄(X[:, rand(1:N, M)])) = 153.06900148045932 (tracked)\n",
      "-(L̄(X[:, rand(1:N, M)])) = 137.43352980010076 (tracked)\n",
      "-(L̄(X[:, rand(1:N, M)])) = 148.23913667886995 (tracked)\n",
      "-(L̄(X[:, rand(1:N, M)])) = 141.48499234574405 (tracked)\n",
      "-(L̄(X[:, rand(1:N, M)])) = 146.24447182477257 (tracked)\n",
      "-(L̄(X[:, rand(1:N, M)])) = 141.60467878419212 (tracked)\n",
      "┌ Info: Epoch 7\n",
      "└ @ Main.##738 string:9\n",
      "-(L̄(X[:, rand(1:N, M)])) = 146.22401099120827 (tracked)\n",
      "-(L̄(X[:, rand(1:N, M)])) = 145.5436364514768 (tracked)\n",
      "-(L̄(X[:, rand(1:N, M)])) = 136.6860975606495 (tracked)\n",
      "-(L̄(X[:, rand(1:N, M)])) = 141.56835056503624 (tracked)\n",
      "-(L̄(X[:, rand(1:N, M)])) = 152.4741628782193 (tracked)\n",
      "-(L̄(X[:, rand(1:N, M)])) = 142.47991884963875 (tracked)\n",
      "-(L̄(X[:, rand(1:N, M)])) = 146.9166447601864 (tracked)\n",
      "-(L̄(X[:, rand(1:N, M)])) = 140.22875840854482 (tracked)\n",
      "┌ Info: Epoch 8\n",
      "└ @ Main.##738 string:9\n",
      "-(L̄(X[:, rand(1:N, M)])) = 142.37458470108643 (tracked)\n",
      "-(L̄(X[:, rand(1:N, M)])) = 145.69664195138165 (tracked)\n",
      "-(L̄(X[:, rand(1:N, M)])) = 150.67039009811182 (tracked)\n",
      "-(L̄(X[:, rand(1:N, M)])) = 144.15900028974397 (tracked)\n",
      "-(L̄(X[:, rand(1:N, M)])) = 140.45162343029483 (tracked)\n",
      "-(L̄(X[:, rand(1:N, M)])) = 142.91964864644885 (tracked)\n",
      "-(L̄(X[:, rand(1:N, M)])) = 145.61023301309083 (tracked)\n",
      "┌ Info: Epoch 9\n",
      "└ @ Main.##738 string:9\n",
      "-(L̄(X[:, rand(1:N, M)])) = 142.04342640487104 (tracked)\n",
      "-(L̄(X[:, rand(1:N, M)])) = 140.49439684525757 (tracked)\n",
      "-(L̄(X[:, rand(1:N, M)])) = 143.2189689913066 (tracked)\n",
      "-(L̄(X[:, rand(1:N, M)])) = 147.62077702921763 (tracked)\n",
      "-(L̄(X[:, rand(1:N, M)])) = 144.02414037545202 (tracked)\n",
      "-(L̄(X[:, rand(1:N, M)])) = 139.5524882703429 (tracked)\n",
      "-(L̄(X[:, rand(1:N, M)])) = 143.07208898167193 (tracked)\n",
      "┌ Info: Epoch 10\n",
      "└ @ Main.##738 string:9\n",
      "-(L̄(X[:, rand(1:N, M)])) = 139.105958648869 (tracked)\n",
      "-(L̄(X[:, rand(1:N, M)])) = 142.51654717824 (tracked)\n",
      "-(L̄(X[:, rand(1:N, M)])) = 153.53191422747574 (tracked)\n",
      "-(L̄(X[:, rand(1:N, M)])) = 137.1424030956657 (tracked)\n",
      "-(L̄(X[:, rand(1:N, M)])) = 138.10978655174407 (tracked)\n",
      "-(L̄(X[:, rand(1:N, M)])) = 140.30146327689883 (tracked)\n",
      "-(L̄(X[:, rand(1:N, M)])) = 140.8743978104169 (tracked)\n",
      "-(L̄(X[:, rand(1:N, M)])) = 136.68493938115654 (tracked)\n",
      "┌ Info: Epoch 11\n",
      "└ @ Main.##738 string:9\n",
      "-(L̄(X[:, rand(1:N, M)])) = 138.01165801249383 (tracked)\n",
      "-(L̄(X[:, rand(1:N, M)])) = 144.47951133687278 (tracked)\n",
      "-(L̄(X[:, rand(1:N, M)])) = 136.06344311229665 (tracked)\n",
      "-(L̄(X[:, rand(1:N, M)])) = 155.86316368592995 (tracked)\n",
      "-(L̄(X[:, rand(1:N, M)])) = 144.09227964944867 (tracked)\n",
      "-(L̄(X[:, rand(1:N, M)])) = 139.0969836987623 (tracked)\n",
      "-(L̄(X[:, rand(1:N, M)])) = 138.9258072743801 (tracked)\n",
      "┌ Info: Epoch 12\n",
      "└ @ Main.##738 string:9\n",
      "-(L̄(X[:, rand(1:N, M)])) = 137.34758721403267 (tracked)\n",
      "-(L̄(X[:, rand(1:N, M)])) = 139.16632436900508 (tracked)\n",
      "-(L̄(X[:, rand(1:N, M)])) = 141.77645588641687 (tracked)\n",
      "-(L̄(X[:, rand(1:N, M)])) = 145.83725548992905 (tracked)\n",
      "-(L̄(X[:, rand(1:N, M)])) = 139.93456020291364 (tracked)\n",
      "-(L̄(X[:, rand(1:N, M)])) = 135.1711854283886 (tracked)\n",
      "-(L̄(X[:, rand(1:N, M)])) = 137.51204720908933 (tracked)\n",
      "-(L̄(X[:, rand(1:N, M)])) = 133.06789033383174 (tracked)\n",
      "┌ Info: Epoch 13\n",
      "└ @ Main.##738 string:9\n",
      "-(L̄(X[:, rand(1:N, M)])) = 134.63083282906325 (tracked)\n",
      "-(L̄(X[:, rand(1:N, M)])) = 141.00309036046383 (tracked)\n",
      "-(L̄(X[:, rand(1:N, M)])) = 138.9780713533666 (tracked)\n",
      "-(L̄(X[:, rand(1:N, M)])) = 146.955509543964 (tracked)\n",
      "-(L̄(X[:, rand(1:N, M)])) = 143.54720839662212 (tracked)\n",
      "-(L̄(X[:, rand(1:N, M)])) = 135.56856434505735 (tracked)\n",
      "-(L̄(X[:, rand(1:N, M)])) = 145.33327984876374 (tracked)\n",
      "┌ Info: Epoch 14\n",
      "└ @ Main.##738 string:9\n",
      "-(L̄(X[:, rand(1:N, M)])) = 139.89616163633644 (tracked)\n",
      "-(L̄(X[:, rand(1:N, M)])) = 140.62367340304002 (tracked)\n",
      "-(L̄(X[:, rand(1:N, M)])) = 135.3422215115942 (tracked)\n",
      "-(L̄(X[:, rand(1:N, M)])) = 136.3533315981118 (tracked)\n",
      "-(L̄(X[:, rand(1:N, M)])) = 136.64620640793157 (tracked)\n",
      "-(L̄(X[:, rand(1:N, M)])) = 133.57083293084105 (tracked)\n",
      "-(L̄(X[:, rand(1:N, M)])) = 152.51773234972686 (tracked)\n",
      "-(L̄(X[:, rand(1:N, M)])) = 143.4250416482989 (tracked)\n",
      "┌ Info: Epoch 15\n",
      "└ @ Main.##738 string:9\n",
      "-(L̄(X[:, rand(1:N, M)])) = 136.48461329804346 (tracked)\n",
      "-(L̄(X[:, rand(1:N, M)])) = 137.2816203231865 (tracked)\n",
      "-(L̄(X[:, rand(1:N, M)])) = 149.095806397051 (tracked)\n",
      "-(L̄(X[:, rand(1:N, M)])) = 140.8909846074905 (tracked)\n",
      "-(L̄(X[:, rand(1:N, M)])) = 141.83908725403916 (tracked)\n",
      "-(L̄(X[:, rand(1:N, M)])) = 133.37899047050433 (tracked)\n",
      "-(L̄(X[:, rand(1:N, M)])) = 139.34282540164858 (tracked)\n",
      "┌ Info: Epoch 16\n",
      "└ @ Main.##738 string:9\n",
      "-(L̄(X[:, rand(1:N, M)])) = 147.70233635004902 (tracked)\n",
      "-(L̄(X[:, rand(1:N, M)])) = 134.65587619083655 (tracked)\n",
      "-(L̄(X[:, rand(1:N, M)])) = 139.8723303400183 (tracked)\n",
      "-(L̄(X[:, rand(1:N, M)])) = 139.4343808244136 (tracked)\n",
      "-(L̄(X[:, rand(1:N, M)])) = 134.75521820124592 (tracked)\n",
      "-(L̄(X[:, rand(1:N, M)])) = 134.64387363391964 (tracked)\n",
      "-(L̄(X[:, rand(1:N, M)])) = 133.27611839749696 (tracked)\n",
      "-(L̄(X[:, rand(1:N, M)])) = 143.18557567200762 (tracked)\n",
      "┌ Info: Epoch 17\n",
      "└ @ Main.##738 string:9\n",
      "-(L̄(X[:, rand(1:N, M)])) = 133.1220799587465 (tracked)\n",
      "-(L̄(X[:, rand(1:N, M)])) = 138.2563714883209 (tracked)\n",
      "-(L̄(X[:, rand(1:N, M)])) = 138.51645572909135 (tracked)\n",
      "-(L̄(X[:, rand(1:N, M)])) = 141.09333967930195 (tracked)\n",
      "-(L̄(X[:, rand(1:N, M)])) = 141.75016274439923 (tracked)\n",
      "-(L̄(X[:, rand(1:N, M)])) = 130.95392918567407 (tracked)\n",
      "-(L̄(X[:, rand(1:N, M)])) = 131.95264061251945 (tracked)\n",
      "┌ Info: Epoch 18\n",
      "└ @ Main.##738 string:9\n",
      "-(L̄(X[:, rand(1:N, M)])) = 143.389825346432 (tracked)\n",
      "-(L̄(X[:, rand(1:N, M)])) = 140.57589953957645 (tracked)\n",
      "-(L̄(X[:, rand(1:N, M)])) = 134.7632447860984 (tracked)\n",
      "-(L̄(X[:, rand(1:N, M)])) = 140.8374176343503 (tracked)\n",
      "-(L̄(X[:, rand(1:N, M)])) = 135.144467296483 (tracked)\n",
      "-(L̄(X[:, rand(1:N, M)])) = 141.91912971782693 (tracked)\n",
      "-(L̄(X[:, rand(1:N, M)])) = 136.70636307236884 (tracked)\n",
      "-(L̄(X[:, rand(1:N, M)])) = 139.92217919176485 (tracked)\n",
      "┌ Info: Epoch 19\n",
      "└ @ Main.##738 string:9\n",
      "-(L̄(X[:, rand(1:N, M)])) = 148.56957418137915 (tracked)\n",
      "-(L̄(X[:, rand(1:N, M)])) = 140.95164274065573 (tracked)\n",
      "-(L̄(X[:, rand(1:N, M)])) = 134.17885723115597 (tracked)\n",
      "-(L̄(X[:, rand(1:N, M)])) = 132.63401857309626 (tracked)\n",
      "-(L̄(X[:, rand(1:N, M)])) = 139.04015491294757 (tracked)\n",
      "-(L̄(X[:, rand(1:N, M)])) = 139.79974650104649 (tracked)\n",
      "-(L̄(X[:, rand(1:N, M)])) = 139.7071997236408 (tracked)\n",
      "┌ Info: Epoch 20\n",
      "└ @ Main.##738 string:9\n",
      "-(L̄(X[:, rand(1:N, M)])) = 136.264408925852 (tracked)\n",
      "-(L̄(X[:, rand(1:N, M)])) = 135.58517153125348 (tracked)\n",
      "-(L̄(X[:, rand(1:N, M)])) = 135.11217866428007 (tracked)\n",
      "-(L̄(X[:, rand(1:N, M)])) = 141.67751562934484 (tracked)\n",
      "-(L̄(X[:, rand(1:N, M)])) = 139.56532818285055 (tracked)\n",
      "-(L̄(X[:, rand(1:N, M)])) = 131.5186235420543 (tracked)\n",
      "-(L̄(X[:, rand(1:N, M)])) = 142.35633643283037 (tracked)\n"
     ]
    }
   ],
   "cell_type": "code",
   "source": [
    "modelsample() = rand.(Bernoulli.(f(z.(zeros(Dz), zeros(Dz)))))\n",
    "\n",
    "\n",
    "################################# Learn Parameters ##############################\n",
    "\n",
    "evalcb = throttle(() -> @show(-L̄(X[:, rand(1:N, M)])), 30)\n",
    "opt = ADAM(params(A, μ, logσ, f))\n",
    "@progress for i = 1:20\n",
    "  @info \"Epoch $i\"\n",
    "  Flux.train!(loss, zip(data), opt, cb=evalcb)\n",
    "end\n",
    "\n",
    "\n",
    "################################# Sample Output ##############################\n",
    "\n",
    "using Images\n",
    "\n",
    "img(x) = Gray.(reshape(x, 28, 28))\n",
    "\n",
    "cd(@__DIR__)\n",
    "sample = hcat(img.([modelsample() for i = 1:10])...)\n",
    "save(\"sample.png\", sample)"
   ],
   "metadata": {},
   "execution_count": 10
  }
 ],
 "nbformat_minor": 3,
 "metadata": {
  "language_info": {
   "file_extension": ".jl",
   "mimetype": "application/julia",
   "name": "julia",
   "version": "1.0.2"
  },
  "kernelspec": {
   "name": "julia-1.0",
   "display_name": "Julia 1.0.2",
   "language": "julia"
  }
 },
 "nbformat": 4
}
